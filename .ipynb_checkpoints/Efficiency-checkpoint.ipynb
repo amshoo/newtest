{
 "cells": [
  {
   "cell_type": "code",
   "execution_count": 1,
   "metadata": {},
   "outputs": [],
   "source": [
    "from __future__ import division\n",
    "\n",
    "from itertools import permutations\n",
    "\n",
    "import networkx as nx\n",
    "import numpy as np\n",
    "import matplotlib.pyplot as plt\n",
    "import pandas as pd\n",
    "import networkx as nx\n",
    "from networkx.exception import NetworkXNoPath"
   ]
  },
  {
   "cell_type": "code",
   "execution_count": null,
   "metadata": {},
   "outputs": [],
   "source": [
    "import Selection_Algorithm"
   ]
  },
  {
   "cell_type": "code",
   "execution_count": null,
   "metadata": {},
   "outputs": [],
   "source": [
    "def graph():    \n",
    "    import graph\n",
    "    Graph = graph.H\n",
    "    return Graph\n",
    "G = graph()"
   ]
  },
  {
   "cell_type": "code",
   "execution_count": null,
   "metadata": {},
   "outputs": [],
   "source": [
    "__all__ = ['efficiency', 'local_efficiency', 'global_efficiency']\n",
    "\n",
    "def efficiency(G, u, v):\n",
    "    try:\n",
    "        eff = 1 / nx.shortest_path_length(G, u, v)\n",
    "    except NetworkXNoPath:\n",
    "        eff = 0\n",
    "    return eff"
   ]
  },
  {
   "cell_type": "code",
   "execution_count": null,
   "metadata": {},
   "outputs": [],
   "source": [
    "def global_efficiency(G):\n",
    "    n = len(G)\n",
    "    denom = n * (n - 1)\n",
    "    if denom != 0:\n",
    "        g_eff = sum(efficiency(G, u, v) for u, v in permutations(G, 2)) / denom\n",
    "    else:\n",
    "        g_eff = 0\n",
    "    # TODO This can be made more efficient by computing all pairs shortest\n",
    "    # path lengths in parallel.\n",
    "    # TODO This summation can be trivially parallelized.\n",
    "    return g_eff"
   ]
  },
  {
   "cell_type": "code",
   "execution_count": null,
   "metadata": {},
   "outputs": [],
   "source": [
    "def local_efficiency(G):\n",
    "    # TODO This summation can be trivially parallelized.\n",
    "    efficiency_list = (global_efficiency(G.subgraph(G[v])) for v in G)\n",
    "    return sum(efficiency_list) / len(G)"
   ]
  },
  {
   "cell_type": "code",
   "execution_count": null,
   "metadata": {},
   "outputs": [],
   "source": [
    "def eff():\n",
    "    i=0\n",
    "    eff_list=[]\n",
    "    nodes =  G.nodes\n",
    "    if nodes!= 0:\n",
    "        H = G.copy()\n",
    "        #H = nx.karate_club_graph()\n",
    "        for i in G:  \n",
    "            ebunch =list(Selection_Algorithm.subgraph_of(i).nodes)\n",
    "            H.remove_nodes_from(ebunch)\n",
    "            #H.remove_node(i)\n",
    "            geff = global_efficiency(H)            \n",
    "            EF = (i, geff)       \n",
    "            eff_list.append(EF)\n",
    "            \n",
    "    return  eff_list"
   ]
  },
  {
   "cell_type": "code",
   "execution_count": null,
   "metadata": {},
   "outputs": [],
   "source": [
    "#eff()"
   ]
  },
  {
   "cell_type": "code",
   "execution_count": null,
   "metadata": {},
   "outputs": [],
   "source": [
    "eff_table = pd.DataFrame(eff(), columns = ('nodes','global_efficiency'))"
   ]
  },
  {
   "cell_type": "code",
   "execution_count": null,
   "metadata": {
    "scrolled": true
   },
   "outputs": [],
   "source": [
    "eff_table.index = eff_table.index + 1\n",
    "#print(eff_table)"
   ]
  },
  {
   "cell_type": "code",
   "execution_count": null,
   "metadata": {},
   "outputs": [],
   "source": [
    "plt.plot(eff_table.global_efficiency, 'r-o')\n",
    "plt.legend([\"Efficiency\"])\n",
    "plt.xlabel(\"nodes\")\n",
    "plt.ylabel(\"Efficiency\")\n",
    "plt.show()\n"
   ]
  },
  {
   "cell_type": "markdown",
   "metadata": {},
   "source": [
    "# G = nx.Graph()   # or DiGraph, MultiGraph, MultiDiGraph, etc\n",
    "G.add_path([0,1,2,3])\n",
    "ebunch=[(1,2),(2,3)]\n",
    "G.remove_edges_from(ebunch)"
   ]
  },
  {
   "cell_type": "markdown",
   "metadata": {},
   "source": [
    "# e = G.nodes()\n",
    "G.remove_nodes_from(e)\n",
    "#G.nodes()"
   ]
  },
  {
   "cell_type": "code",
   "execution_count": null,
   "metadata": {},
   "outputs": [],
   "source": [
    "H = G.copy()\n",
    "I = G.copy()\n",
    "J = G.copy()\n",
    "K = G.copy()\n",
    "L = G.copy()\n",
    "h=0\n",
    "ebunch =list(Selection_Algorithm.subgraph_of(h).edges)\n",
    "H.remove_edges_from(ebunch)\n",
    "#H.remove_node(i)\n",
    "\n",
    "density1 = nx.density(H)\n",
    "geff1= h,global_efficiency(H),density1\n",
    "\n",
    "#print(geff1)\n",
    "\n",
    "i=4327\n",
    "ebunch =list(Selection_Algorithm.subgraph_of(i).edges)\n",
    "I.remove_edges_from(ebunch)\n",
    "\n",
    "density2 = nx.density(I)\n",
    "geff2= i,global_efficiency(I),density2\n",
    "\n",
    "#print(geff2)\n",
    "\n",
    "j=2682\n",
    "ebunch =list(Selection_Algorithm.subgraph_of(j).edges)\n",
    "J.remove_edges_from(ebunch)\n",
    "\n",
    "density3 = nx.density(J)\n",
    "geff3= j, global_efficiency(J), density3\n",
    "\n",
    "#print(geff3)\n",
    "\n",
    "k=2503\n",
    "ebunch = list(Selection_Algorithm.subgraph_of(k).edges)\n",
    "K.remove_edges_from(ebunch)\n",
    "\n",
    "density4 = nx.density(K)\n",
    "geff4= k, global_efficiency(K),density4\n",
    "\n",
    "l=2682\n",
    "ebunch = list(Selection_Algorithm.subgraph_of(l).edges)\n",
    "L.remove_edges_from(ebunch)\n",
    "\n",
    "density4 = nx.density(L)\n",
    "geff5= l, global_efficiency(L),density4\n",
    "\n",
    "#print(geff4)\n",
    "list_eff = [geff1,geff2,geff3,geff4,geff5]\n",
    "#print(list_eff)\n",
    "#nx.draw(H, with_labels = True)\n",
    "#plt.show()\n",
    "#nx.draw(I, with_labels = True)\n",
    "#plt.show()\n",
    "#nx.draw(J, with_labels = True)\n",
    "#plt.show()"
   ]
  },
  {
   "cell_type": "code",
   "execution_count": null,
   "metadata": {},
   "outputs": [],
   "source": [
    "eff_tp = pd.DataFrame(list_eff, columns = ('nodes','global_efficiency','density'))\n",
    "print(eff_tp)\n",
    "plt.plot(eff_tp.nodes, eff_tp.density, 'r-o')\n",
    "#plt.plot(eff_tp.nodes, eff_tp.density, 'g-o')\n",
    "plt.legend([\"R-[1,31,32,33,34]\"])\n",
    "plt.xlabel(\"nodes\")\n",
    "plt.ylabel(\"Efficiency\")\n",
    "plt.title('Network Efficiency')\n",
    "#plt.savefig(\"result/effkc.png\")\n",
    "plt.show()"
   ]
  },
  {
   "cell_type": "code",
   "execution_count": null,
   "metadata": {},
   "outputs": [],
   "source": [
    "def my_plotter(ax, data1, data2, param_dict):\n",
    "    out = ax.plot(data1, data2, **param_dict)\n",
    "    return out\n",
    "\n",
    "fig, (ax1, ax2) = plt.subplots(1, 2)\n",
    "ax1.set_ylabel('Efficiency')\n",
    "ax1.set_title('nodes:[1,32,33,34]')\n",
    "my_plotter(ax1, eff_tp.nodes, eff_tp.global_efficiency, {'marker': 'o'})\n",
    "my_plotter(ax2, eff_tp.nodes, eff_tp.global_efficiency, {'marker': 'x'})\n",
    "plt.show()"
   ]
  },
  {
   "cell_type": "markdown",
   "metadata": {},
   "source": [
    "names = eff_tp.nodes\n",
    "values = eff_tp.global_efficiency\n",
    "\n",
    "plt.figure(1, figsize=(9, 3))\n",
    "\n",
    "plt.subplot(131)\n",
    "plt.bar(names, values)\n",
    "plt.subplot(132)\n",
    "plt.scatter(names, values)\n",
    "plt.subplot(133)\n",
    "plt.plot(names, values)\n",
    "plt.suptitle('Categorical Plotting')\n",
    "plt.show()"
   ]
  },
  {
   "cell_type": "code",
   "execution_count": null,
   "metadata": {},
   "outputs": [],
   "source": []
  },
  {
   "cell_type": "code",
   "execution_count": null,
   "metadata": {},
   "outputs": [],
   "source": []
  }
 ],
 "metadata": {
  "kernelspec": {
   "display_name": "Python 3",
   "language": "python",
   "name": "python3"
  },
  "language_info": {
   "codemirror_mode": {
    "name": "ipython",
    "version": 3
   },
   "file_extension": ".py",
   "mimetype": "text/x-python",
   "name": "python",
   "nbconvert_exporter": "python",
   "pygments_lexer": "ipython3",
   "version": "3.7.1"
  }
 },
 "nbformat": 4,
 "nbformat_minor": 2
}
