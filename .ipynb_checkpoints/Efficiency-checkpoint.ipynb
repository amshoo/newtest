{
 "cells": [
  {
   "cell_type": "code",
   "execution_count": 1,
   "metadata": {},
   "outputs": [],
   "source": [
    "from __future__ import division\n",
    "\n",
    "from itertools import permutations\n",
    "\n",
    "import networkx as nx\n",
    "import numpy as np\n",
    "import matplotlib.pyplot as plt\n",
    "import pandas as pd\n",
    "import networkx as nx\n",
    "from networkx.exception import NetworkXNoPath\n",
    "import Selection_Algorithm"
   ]
  },
  {
   "cell_type": "code",
   "execution_count": 2,
   "metadata": {},
   "outputs": [],
   "source": [
    "def graph():    \n",
    "    import graph\n",
    "    Graph = graph.H\n",
    "    return Graph\n",
    "G = graph()"
   ]
  },
  {
   "cell_type": "code",
   "execution_count": 3,
   "metadata": {},
   "outputs": [],
   "source": [
    "def eff():\n",
    "    i=0\n",
    "    eff_list=[]\n",
    "    nodes =  G.nodes\n",
    "    if nodes!= 0:\n",
    "        \n",
    "        #H = nx.karate_club_graph()\n",
    "        for i in G:  \n",
    "            H = G.copy()\n",
    "            ebunch =list(Selection_Algorithm.subgraph_of(i).edges)\n",
    "            H.remove_edges_from(ebunch)\n",
    "            #H.remove_node(i)\n",
    "            efficiency = nx.global_efficiency(H)\n",
    "            density = nx.density(H)\n",
    "            EF = (i, efficiency, density)       \n",
    "            eff_list.append(EF)\n",
    "            \n",
    "    return  eff_list"
   ]
  },
  {
   "cell_type": "code",
   "execution_count": null,
   "metadata": {},
   "outputs": [],
   "source": [
    "eff()"
   ]
  },
  {
   "cell_type": "code",
   "execution_count": null,
   "metadata": {},
   "outputs": [],
   "source": [
    "eff_table = pd.DataFrame(eff(), columns = ('nodes','Efficiency','Density'))\n",
    "eff_table.index = eff_table.index + 1\n",
    "eff_table.nodes = eff_table.nodes + 1\n",
    "#print(eff_table)"
   ]
  },
  {
   "cell_type": "code",
   "execution_count": null,
   "metadata": {},
   "outputs": [],
   "source": [
    "plt.plot(eff_table.Efficiency, 'r-o')\n",
    "plt.plot(eff_table.Density, 'g-o')\n",
    "plt.legend([\"Efficiency\"])\n",
    "plt.xlabel(\"nodes\")\n",
    "plt.ylabel(\"Efficiency\")\n",
    "plt.savefig(\"result/email_eff1.png\")\n",
    "plt.show()"
   ]
  },
  {
   "cell_type": "code",
   "execution_count": null,
   "metadata": {},
   "outputs": [],
   "source": [
    "# Create two subplots sharing y axis\\n\",\n",
    "fig, (ax1, ax2) = plt.subplots(2, sharex=True)\n",
    "ax1.plot(eff_table.nodes,eff_table.Efficiency, 'r')\n",
    "ax1.set(title='Network Efficiency', ylabel='Efficiency')\n",
    "ax1.grid()\n",
    "ax2.grid()\n",
    "\n",
    "ax2.plot(eff_table.nodes, eff_table.Density, 'g')\n",
    "ax2.set(xlabel='Nodes', ylabel='Density')\n",
    "plt.savefig(\"result/email_eff2.png\")\n",
    "plt.show()"
   ]
  },
  {
   "cell_type": "code",
   "execution_count": null,
   "metadata": {},
   "outputs": [],
   "source": []
  },
  {
   "cell_type": "code",
   "execution_count": null,
   "metadata": {},
   "outputs": [],
   "source": []
  }
 ],
 "metadata": {
  "kernelspec": {
   "display_name": "Python 3",
   "language": "python",
   "name": "python3"
  },
  "language_info": {
   "codemirror_mode": {
    "name": "ipython",
    "version": 3
   },
   "file_extension": ".py",
   "mimetype": "text/x-python",
   "name": "python",
   "nbconvert_exporter": "python",
   "pygments_lexer": "ipython3",
   "version": "3.7.1"
  }
 },
 "nbformat": 4,
 "nbformat_minor": 2
}
