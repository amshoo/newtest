{
 "cells": [
  {
   "cell_type": "code",
   "execution_count": 1,
   "metadata": {},
   "outputs": [],
   "source": [
    "import networkx as nx\n",
    "import numpy as np\n",
    "import matplotlib.pyplot as plt\n",
    "import pandas as pd\n",
    "import math"
   ]
  },
  {
   "cell_type": "code",
   "execution_count": 2,
   "metadata": {},
   "outputs": [],
   "source": [
    "import Selection_Algorithm\n",
    "#print('List of Valid Selected Set nodes', Selection_Algorithm.sel_subgraphs())\n",
    "#return subgraphs of Node i = k\n",
    "#i=0\n",
    "#print('nodes in subgraphs of Node i', Selection_Algorithm.subgraph_of(i).nodes)\n",
    "#return nodes and number of triangle \n",
    "#print('nodes with number of triangle in subgraphs of Node i', Selection_Algorithm.Selection_Algorithm())"
   ]
  },
  {
   "cell_type": "code",
   "execution_count": 3,
   "metadata": {},
   "outputs": [],
   "source": [
    "#Calcullating the TC_of node i\n",
    "import Tr_centrality_measure\n",
    "#return TC_of node i\n",
    "#i=0\n",
    "#print('TC_list', Tr_centrality_measure.TC_of(i))\n",
    "#Tr_centrality_measure.TC_of(i)\n",
    "#print('TC_list', Tr_centrality_measure.loop_TC())"
   ]
  },
  {
   "cell_type": "code",
   "execution_count": 4,
   "metadata": {},
   "outputs": [],
   "source": [
    "#Ranking\n",
    "def TC_Ranking( val ):\n",
    "      return val [1]\n",
    "\n",
    "TC_Rank = Tr_centrality_measure.loop_TC()\n",
    "TC_Rank.sort(key=lambda elem: elem[1], reverse=True)\n",
    "#print('TC_Ranking', TC_Rank)"
   ]
  },
  {
   "cell_type": "code",
   "execution_count": 5,
   "metadata": {},
   "outputs": [],
   "source": [
    "#Calcullating the PI_of node i\n",
    "import Graph_Entropy_measure\n",
    "#Tr_centrality_measure.TC_of(i)\n",
    "#return PI_of node i\n",
    "#i=0\n",
    "#print('TC_list', Graph_Entropy_measure.PI_of(i))\n",
    "\n",
    "#print('TC_list', Graph_Entropy_measure.loop_PI())"
   ]
  },
  {
   "cell_type": "code",
   "execution_count": 6,
   "metadata": {},
   "outputs": [],
   "source": [
    "#Ranking\n",
    "def PI_Ranking( val ):\n",
    "      return val [1]\n",
    "\n",
    "PI_Rank = Graph_Entropy_measure.loop_PI()\n",
    "PI_Rank.sort(key=lambda elem: elem[1])\n",
    "\n",
    "#print('PI_Ranking', PI_Rank)"
   ]
  },
  {
   "cell_type": "code",
   "execution_count": 7,
   "metadata": {},
   "outputs": [],
   "source": [
    "#Calcullating the CC_of node i\n",
    "import Constraint_Coefficient\n",
    "#Constraint_Coefficient.constraint(Constraint_Coefficient.H, nodes=None, weight=None)\n",
    "#print('CC_list', Constraint_Coefficient.CC_of(i))"
   ]
  },
  {
   "cell_type": "code",
   "execution_count": 8,
   "metadata": {},
   "outputs": [],
   "source": [
    "#Ranking\n",
    "#return sorted list of node and it Constraint_Coefficient\n",
    "sorted_x = sorted(Constraint_Coefficient.constraint(Constraint_Coefficient.H, nodes=None, weight=None).items(), \n",
    "                  key=Constraint_Coefficient.operator.itemgetter(1))\n",
    "#print('CC_Ranking', sorted_x)\n",
    "from operator import itemgetter\n",
    "# using map() + itergetter() to get names \n",
    "CC_list = list(map(itemgetter(0), sorted_x))   \n",
    "CC_Rank_list = [x+1 for x in CC_list]\n",
    "#return the ranking of CC in all selected node form Graph G.\n",
    "#CC_Rank_list"
   ]
  },
  {
   "cell_type": "code",
   "execution_count": 9,
   "metadata": {},
   "outputs": [],
   "source": [
    "#Calcullating the TPN_of node i\n",
    "#import Total_Power_of_Node"
   ]
  },
  {
   "cell_type": "code",
   "execution_count": 10,
   "metadata": {},
   "outputs": [],
   "source": [
    "#Ranking Result For all the Measures \n",
    "#[PI_Rank, sorted_x, TC_Rank]\n",
    "#for value in TC_Rank:\n",
    "   # print(value[0], value[1])\n",
    "    #print(*value,sep='|')"
   ]
  },
  {
   "cell_type": "code",
   "execution_count": 26,
   "metadata": {},
   "outputs": [
    {
     "data": {
      "text/html": [
       "<div>\n",
       "<style scoped>\n",
       "    .dataframe tbody tr th:only-of-type {\n",
       "        vertical-align: middle;\n",
       "    }\n",
       "\n",
       "    .dataframe tbody tr th {\n",
       "        vertical-align: top;\n",
       "    }\n",
       "\n",
       "    .dataframe thead th {\n",
       "        text-align: right;\n",
       "    }\n",
       "</style>\n",
       "<table border=\"1\" class=\"dataframe\">\n",
       "  <thead>\n",
       "    <tr style=\"text-align: right;\">\n",
       "      <th></th>\n",
       "      <th>nodes_tc</th>\n",
       "      <th>TC_i</th>\n",
       "      <th>nodes_pi</th>\n",
       "      <th>PI_i</th>\n",
       "      <th>nodes_cc</th>\n",
       "      <th>CC_i</th>\n",
       "    </tr>\n",
       "  </thead>\n",
       "  <tbody>\n",
       "    <tr>\n",
       "      <th>1</th>\n",
       "      <td>1</td>\n",
       "      <td>0.4219</td>\n",
       "      <td>34</td>\n",
       "      <td>0.1448</td>\n",
       "      <td>1</td>\n",
       "      <td>0.155423</td>\n",
       "    </tr>\n",
       "    <tr>\n",
       "      <th>2</th>\n",
       "      <td>34</td>\n",
       "      <td>0.4138</td>\n",
       "      <td>33</td>\n",
       "      <td>0.3136</td>\n",
       "      <td>34</td>\n",
       "      <td>0.156419</td>\n",
       "    </tr>\n",
       "    <tr>\n",
       "      <th>3</th>\n",
       "      <td>33</td>\n",
       "      <td>0.4000</td>\n",
       "      <td>32</td>\n",
       "      <td>0.5578</td>\n",
       "      <td>3</td>\n",
       "      <td>0.185177</td>\n",
       "    </tr>\n",
       "    <tr>\n",
       "      <th>4</th>\n",
       "      <td>2</td>\n",
       "      <td>0.3750</td>\n",
       "      <td>1</td>\n",
       "      <td>0.5760</td>\n",
       "      <td>32</td>\n",
       "      <td>0.244575</td>\n",
       "    </tr>\n",
       "    <tr>\n",
       "      <th>5</th>\n",
       "      <td>3</td>\n",
       "      <td>0.3611</td>\n",
       "      <td>24</td>\n",
       "      <td>0.7021</td>\n",
       "      <td>33</td>\n",
       "      <td>0.249223</td>\n",
       "    </tr>\n",
       "  </tbody>\n",
       "</table>\n",
       "</div>"
      ],
      "text/plain": [
       "   nodes_tc    TC_i  nodes_pi    PI_i  nodes_cc      CC_i\n",
       "1         1  0.4219        34  0.1448         1  0.155423\n",
       "2        34  0.4138        33  0.3136        34  0.156419\n",
       "3        33  0.4000        32  0.5578         3  0.185177\n",
       "4         2  0.3750         1  0.5760        32  0.244575\n",
       "5         3  0.3611        24  0.7021        33  0.249223"
      ]
     },
     "execution_count": 26,
     "metadata": {},
     "output_type": "execute_result"
    }
   ],
   "source": [
    "TC_table = pd.DataFrame(TC_Rank, columns = ('nodes_tc','TC_i'))\n",
    "PI_table = pd.DataFrame(PI_Rank, columns = ('nodes_pi','PI_i'))\n",
    "CC_table = pd.DataFrame(sorted_x, columns = ('nodes_cc','CC_i'))\n",
    "CC_table.nodes_cc = CC_table.nodes_cc + 1\n",
    "Result_table = pd.concat([TC_table, PI_table, CC_table], axis=1, sort=False)\n",
    "\n",
    "First_Five = pd.DataFrame(Result_table.loc[0:4])\n",
    "First_Five.index = First_Five.index + 1\n",
    "\n",
    "\n",
    "#print(Result_table)\n",
    "#Result_table.to_csv('result/bio-diseasome.csv')\n",
    "#First_Five.to_csv('result/First_Five_bio-diseasome_network.csv')\n",
    "First_Five"
   ]
  },
  {
   "cell_type": "code",
   "execution_count": 27,
   "metadata": {},
   "outputs": [],
   "source": [
    "def TPN(i):\n",
    "    M = First_Five.loc[First_Five['nodes_tc'] == i, 'TC_i'].values[0], \n",
    "    First_Five.loc[First_Five['nodes_pi'] == i, 'PI_i'].values[0],\n",
    "    First_Five.loc[First_Five['nodes_cc'] == i, 'CC_i'].values[0]\n",
    "    TPN_i = sum(M)/3    \n",
    "    return TPN_i"
   ]
  },
  {
   "cell_type": "code",
   "execution_count": 25,
   "metadata": {},
   "outputs": [
    {
     "ename": "IndexError",
     "evalue": "index 0 is out of bounds for axis 0 with size 0",
     "output_type": "error",
     "traceback": [
      "\u001b[1;31m---------------------------------------------------------------------------\u001b[0m",
      "\u001b[1;31mIndexError\u001b[0m                                Traceback (most recent call last)",
      "\u001b[1;32m<ipython-input-25-74c1bb6fa3fa>\u001b[0m in \u001b[0;36m<module>\u001b[1;34m()\u001b[0m\n\u001b[1;32m----> 1\u001b[1;33m \u001b[0mTPN\u001b[0m\u001b[1;33m(\u001b[0m\u001b[1;36m3\u001b[0m\u001b[1;33m)\u001b[0m\u001b[1;33m\u001b[0m\u001b[0m\n\u001b[0m",
      "\u001b[1;32m<ipython-input-21-f3777ab1cd7f>\u001b[0m in \u001b[0;36mTPN\u001b[1;34m(i)\u001b[0m\n\u001b[0;32m      1\u001b[0m \u001b[1;32mdef\u001b[0m \u001b[0mTPN\u001b[0m\u001b[1;33m(\u001b[0m\u001b[0mi\u001b[0m\u001b[1;33m)\u001b[0m\u001b[1;33m:\u001b[0m\u001b[1;33m\u001b[0m\u001b[0m\n\u001b[0;32m      2\u001b[0m     \u001b[0mM\u001b[0m \u001b[1;33m=\u001b[0m \u001b[0mFirst_Five\u001b[0m\u001b[1;33m.\u001b[0m\u001b[0mloc\u001b[0m\u001b[1;33m[\u001b[0m\u001b[0mFirst_Five\u001b[0m\u001b[1;33m[\u001b[0m\u001b[1;34m'nodes_tc'\u001b[0m\u001b[1;33m]\u001b[0m \u001b[1;33m==\u001b[0m \u001b[0mi\u001b[0m\u001b[1;33m,\u001b[0m \u001b[1;34m'TC_i'\u001b[0m\u001b[1;33m]\u001b[0m\u001b[1;33m.\u001b[0m\u001b[0mvalues\u001b[0m\u001b[1;33m[\u001b[0m\u001b[1;36m0\u001b[0m\u001b[1;33m]\u001b[0m\u001b[1;33m,\u001b[0m\u001b[1;33m\u001b[0m\u001b[0m\n\u001b[1;32m----> 3\u001b[1;33m     \u001b[0mFirst_Five\u001b[0m\u001b[1;33m.\u001b[0m\u001b[0mloc\u001b[0m\u001b[1;33m[\u001b[0m\u001b[0mFirst_Five\u001b[0m\u001b[1;33m[\u001b[0m\u001b[1;34m'nodes_pi'\u001b[0m\u001b[1;33m]\u001b[0m \u001b[1;33m==\u001b[0m \u001b[0mi\u001b[0m\u001b[1;33m,\u001b[0m \u001b[1;34m'PI_i'\u001b[0m\u001b[1;33m]\u001b[0m\u001b[1;33m.\u001b[0m\u001b[0mvalues\u001b[0m\u001b[1;33m[\u001b[0m\u001b[1;36m0\u001b[0m\u001b[1;33m]\u001b[0m\u001b[1;33m,\u001b[0m\u001b[1;33m\u001b[0m\u001b[0m\n\u001b[0m\u001b[0;32m      4\u001b[0m     \u001b[0mFirst_Five\u001b[0m\u001b[1;33m.\u001b[0m\u001b[0mloc\u001b[0m\u001b[1;33m[\u001b[0m\u001b[0mFirst_Five\u001b[0m\u001b[1;33m[\u001b[0m\u001b[1;34m'nodes_cc'\u001b[0m\u001b[1;33m]\u001b[0m \u001b[1;33m==\u001b[0m \u001b[0mi\u001b[0m\u001b[1;33m,\u001b[0m \u001b[1;34m'CC_i'\u001b[0m\u001b[1;33m]\u001b[0m\u001b[1;33m.\u001b[0m\u001b[0mvalues\u001b[0m\u001b[1;33m[\u001b[0m\u001b[1;36m0\u001b[0m\u001b[1;33m]\u001b[0m\u001b[1;33m\u001b[0m\u001b[0m\n\u001b[0;32m      5\u001b[0m     \u001b[0mTPN_i\u001b[0m \u001b[1;33m=\u001b[0m \u001b[0msum\u001b[0m\u001b[1;33m(\u001b[0m\u001b[0mM\u001b[0m\u001b[1;33m)\u001b[0m\u001b[1;33m/\u001b[0m\u001b[1;36m3\u001b[0m\u001b[1;33m\u001b[0m\u001b[0m\n",
      "\u001b[1;31mIndexError\u001b[0m: index 0 is out of bounds for axis 0 with size 0"
     ]
    }
   ],
   "source": [
    "TPN(3)"
   ]
  },
  {
   "cell_type": "code",
   "execution_count": 17,
   "metadata": {},
   "outputs": [],
   "source": [
    "#loop\n",
    "def loop_TPN():\n",
    "    top_five = [1,33,32,34,3]\n",
    "    list_TPN=[]    \n",
    "    for i in top_five:          \n",
    "        TPN_ = TPN(i)\n",
    "        i+=1\n",
    "        i_TPN = [i, TPN_]\n",
    "        list_TPN.append(i_TPN)  \n",
    "            \n",
    "    return  list_TPN"
   ]
  },
  {
   "cell_type": "code",
   "execution_count": 18,
   "metadata": {},
   "outputs": [
    {
     "ename": "IndexError",
     "evalue": "index 0 is out of bounds for axis 0 with size 0",
     "output_type": "error",
     "traceback": [
      "\u001b[1;31m---------------------------------------------------------------------------\u001b[0m",
      "\u001b[1;31mIndexError\u001b[0m                                Traceback (most recent call last)",
      "\u001b[1;32m<ipython-input-18-e081e24a8488>\u001b[0m in \u001b[0;36m<module>\u001b[1;34m()\u001b[0m\n\u001b[1;32m----> 1\u001b[1;33m \u001b[0mloop_TPN\u001b[0m\u001b[1;33m(\u001b[0m\u001b[1;33m)\u001b[0m\u001b[1;33m\u001b[0m\u001b[0m\n\u001b[0m",
      "\u001b[1;32m<ipython-input-17-775281524c58>\u001b[0m in \u001b[0;36mloop_TPN\u001b[1;34m()\u001b[0m\n\u001b[0;32m      4\u001b[0m     \u001b[0mlist_TPN\u001b[0m\u001b[1;33m=\u001b[0m\u001b[1;33m[\u001b[0m\u001b[1;33m]\u001b[0m\u001b[1;33m\u001b[0m\u001b[0m\n\u001b[0;32m      5\u001b[0m     \u001b[1;32mfor\u001b[0m \u001b[0mi\u001b[0m \u001b[1;32min\u001b[0m \u001b[0mtop_five\u001b[0m\u001b[1;33m:\u001b[0m\u001b[1;33m\u001b[0m\u001b[0m\n\u001b[1;32m----> 6\u001b[1;33m         \u001b[0mTPN_\u001b[0m \u001b[1;33m=\u001b[0m \u001b[0mTPN\u001b[0m\u001b[1;33m(\u001b[0m\u001b[0mi\u001b[0m\u001b[1;33m)\u001b[0m\u001b[1;33m\u001b[0m\u001b[0m\n\u001b[0m\u001b[0;32m      7\u001b[0m         \u001b[0mi\u001b[0m\u001b[1;33m+=\u001b[0m\u001b[1;36m1\u001b[0m\u001b[1;33m\u001b[0m\u001b[0m\n\u001b[0;32m      8\u001b[0m         \u001b[0mi_TPN\u001b[0m \u001b[1;33m=\u001b[0m \u001b[1;33m[\u001b[0m\u001b[0mi\u001b[0m\u001b[1;33m,\u001b[0m \u001b[0mTPN_\u001b[0m\u001b[1;33m]\u001b[0m\u001b[1;33m\u001b[0m\u001b[0m\n",
      "\u001b[1;32m<ipython-input-12-f3777ab1cd7f>\u001b[0m in \u001b[0;36mTPN\u001b[1;34m(i)\u001b[0m\n\u001b[0;32m      1\u001b[0m \u001b[1;32mdef\u001b[0m \u001b[0mTPN\u001b[0m\u001b[1;33m(\u001b[0m\u001b[0mi\u001b[0m\u001b[1;33m)\u001b[0m\u001b[1;33m:\u001b[0m\u001b[1;33m\u001b[0m\u001b[0m\n\u001b[1;32m----> 2\u001b[1;33m     \u001b[0mM\u001b[0m \u001b[1;33m=\u001b[0m \u001b[0mFirst_Five\u001b[0m\u001b[1;33m.\u001b[0m\u001b[0mloc\u001b[0m\u001b[1;33m[\u001b[0m\u001b[0mFirst_Five\u001b[0m\u001b[1;33m[\u001b[0m\u001b[1;34m'nodes_tc'\u001b[0m\u001b[1;33m]\u001b[0m \u001b[1;33m==\u001b[0m \u001b[0mi\u001b[0m\u001b[1;33m,\u001b[0m \u001b[1;34m'TC_i'\u001b[0m\u001b[1;33m]\u001b[0m\u001b[1;33m.\u001b[0m\u001b[0mvalues\u001b[0m\u001b[1;33m[\u001b[0m\u001b[1;36m0\u001b[0m\u001b[1;33m]\u001b[0m\u001b[1;33m,\u001b[0m\u001b[1;33m\u001b[0m\u001b[0m\n\u001b[0m\u001b[0;32m      3\u001b[0m     \u001b[0mFirst_Five\u001b[0m\u001b[1;33m.\u001b[0m\u001b[0mloc\u001b[0m\u001b[1;33m[\u001b[0m\u001b[0mFirst_Five\u001b[0m\u001b[1;33m[\u001b[0m\u001b[1;34m'nodes_pi'\u001b[0m\u001b[1;33m]\u001b[0m \u001b[1;33m==\u001b[0m \u001b[0mi\u001b[0m\u001b[1;33m,\u001b[0m \u001b[1;34m'PI_i'\u001b[0m\u001b[1;33m]\u001b[0m\u001b[1;33m.\u001b[0m\u001b[0mvalues\u001b[0m\u001b[1;33m[\u001b[0m\u001b[1;36m0\u001b[0m\u001b[1;33m]\u001b[0m\u001b[1;33m,\u001b[0m\u001b[1;33m\u001b[0m\u001b[0m\n\u001b[0;32m      4\u001b[0m     \u001b[0mFirst_Five\u001b[0m\u001b[1;33m.\u001b[0m\u001b[0mloc\u001b[0m\u001b[1;33m[\u001b[0m\u001b[0mFirst_Five\u001b[0m\u001b[1;33m[\u001b[0m\u001b[1;34m'nodes_cc'\u001b[0m\u001b[1;33m]\u001b[0m \u001b[1;33m==\u001b[0m \u001b[0mi\u001b[0m\u001b[1;33m,\u001b[0m \u001b[1;34m'CC_i'\u001b[0m\u001b[1;33m]\u001b[0m\u001b[1;33m.\u001b[0m\u001b[0mvalues\u001b[0m\u001b[1;33m[\u001b[0m\u001b[1;36m0\u001b[0m\u001b[1;33m]\u001b[0m\u001b[1;33m\u001b[0m\u001b[0m\n\u001b[0;32m      5\u001b[0m     \u001b[0mTPN_i\u001b[0m \u001b[1;33m=\u001b[0m \u001b[0msum\u001b[0m\u001b[1;33m(\u001b[0m\u001b[0mM\u001b[0m\u001b[1;33m)\u001b[0m\u001b[1;33m/\u001b[0m\u001b[1;36m3\u001b[0m\u001b[1;33m\u001b[0m\u001b[0m\n",
      "\u001b[1;31mIndexError\u001b[0m: index 0 is out of bounds for axis 0 with size 0"
     ]
    }
   ],
   "source": [
    "loop_TPN()"
   ]
  },
  {
   "cell_type": "code",
   "execution_count": null,
   "metadata": {},
   "outputs": [],
   "source": [
    "def TPN_Ranking( val ):\n",
    "      return val [1]\n",
    "\n",
    "TPN_Rank = loop_TPN()\n",
    "TPN_Rank.sort(key=lambda elem: elem[1])\n",
    "\n",
    "#TPN_Rank"
   ]
  },
  {
   "cell_type": "code",
   "execution_count": null,
   "metadata": {},
   "outputs": [],
   "source": [
    "TPN_table = pd.DataFrame(TPN_Rank, columns = ('nodes','TPN_i'))\n",
    "Top_Five = pd.DataFrame(TPN_table.loc[0:4])\n",
    "Top_Five.index = Top_Five.index + 1\n",
    "print(Top_Five)\n",
    "#Top_Five.to_csv('result/TPN_email_network.csv')"
   ]
  },
  {
   "cell_type": "code",
   "execution_count": null,
   "metadata": {},
   "outputs": [],
   "source": [
    "# Output a DataFrame to CSV\n",
    "#First_Five.to_csv('result/top_five_kc_network.csv')\n",
    "# To use a specific character encoding, you can use the encoding argument:\n",
    "#df.to_csv('myDataFrame.csv', sep='\\t', encoding='utf-8')"
   ]
  },
  {
   "cell_type": "code",
   "execution_count": null,
   "metadata": {},
   "outputs": [],
   "source": [
    "#PI_table.plot.scatter(x='nodes', y = 'PI_i');\n",
    "#ax = PI_table.plot.scatter(x='nodes', y='PI_i', color='DarkBlue', label='Group 1', s= PI_table['PI_i'] * 200);\n",
    "#TC_table.plot.scatter(x='nodes', y='TC_i', color='DarkGreen', label='Group 2', s= TC_table['TC_i'] * 200, ax=ax);"
   ]
  },
  {
   "cell_type": "code",
   "execution_count": null,
   "metadata": {},
   "outputs": [],
   "source": [
    "#First_TC_table = pd.DataFrame(TC_table.loc[0:4])\n",
    "#First_PI_table = pd.DataFrame(PI_table.loc[0:4])\n",
    "#First_CC_table = pd.DataFrame(CC_table.loc[0:4])\n",
    "#result = pd.merge(First_PI_table, First_TC_table,  how ='inner', on ='nodes')\n",
    "#result1 = pd.merge(result, First_CC_table ,how ='inner', on ='nodes')\n",
    "#result1"
   ]
  },
  {
   "cell_type": "code",
   "execution_count": null,
   "metadata": {},
   "outputs": [],
   "source": []
  },
  {
   "cell_type": "code",
   "execution_count": null,
   "metadata": {},
   "outputs": [],
   "source": []
  }
 ],
 "metadata": {
  "kernelspec": {
   "display_name": "Python 3",
   "language": "python",
   "name": "python3"
  },
  "language_info": {
   "codemirror_mode": {
    "name": "ipython",
    "version": 3
   },
   "file_extension": ".py",
   "mimetype": "text/x-python",
   "name": "python",
   "nbconvert_exporter": "python",
   "pygments_lexer": "ipython3",
   "version": "3.6.5"
  }
 },
 "nbformat": 4,
 "nbformat_minor": 2
}
