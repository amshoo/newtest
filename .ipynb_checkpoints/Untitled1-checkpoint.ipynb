{
 "cells": [
  {
   "cell_type": "code",
   "execution_count": 1,
   "metadata": {},
   "outputs": [],
   "source": [
    "from __future__ import division\n",
    "\n",
    "from itertools import permutations\n",
    "\n",
    "import networkx as nx\n",
    "import numpy as np\n",
    "import matplotlib.pyplot as plt\n",
    "import pandas as pd\n",
    "import networkx as nx\n",
    "from networkx.exception import NetworkXNoPath"
   ]
  },
  {
   "cell_type": "code",
   "execution_count": 2,
   "metadata": {},
   "outputs": [],
   "source": [
    "def graph():    \n",
    "    import graph\n",
    "    Graph = graph.H\n",
    "    return Graph\n",
    "G = graph()"
   ]
  },
  {
   "cell_type": "code",
   "execution_count": 3,
   "metadata": {},
   "outputs": [],
   "source": [
    "__all__ = ['efficiency', 'local_efficiency', 'global_efficiency']\n",
    "\n",
    "def efficiency(G, u, v):\n",
    "    try:\n",
    "        eff = 1 / nx.shortest_path_length(G, u, v)\n",
    "    except NetworkXNoPath:\n",
    "        eff = 0\n",
    "    return eff"
   ]
  },
  {
   "cell_type": "code",
   "execution_count": 4,
   "metadata": {},
   "outputs": [],
   "source": [
    "def global_efficiency(G):\n",
    "    n = len(G)\n",
    "    denom = n * (n - 1)\n",
    "    if denom != 0:\n",
    "        g_eff = sum(efficiency(G, u, v) for u, v in permutations(G, 2)) / denom\n",
    "    else:\n",
    "        g_eff = 0\n",
    "    # TODO This can be made more efficient by computing all pairs shortest\n",
    "    # path lengths in parallel.\n",
    "    # TODO This summation can be trivially parallelized.\n",
    "    return g_eff"
   ]
  },
  {
   "cell_type": "code",
   "execution_count": 5,
   "metadata": {},
   "outputs": [],
   "source": [
    "def local_efficiency(G):\n",
    "    # TODO This summation can be trivially parallelized.\n",
    "    efficiency_list = (global_efficiency(G.subgraph(G[v])) for v in G)\n",
    "    return sum(efficiency_list) / len(G)"
   ]
  },
  {
   "cell_type": "code",
   "execution_count": 6,
   "metadata": {},
   "outputs": [],
   "source": [
    "def eff():\n",
    "    i=0\n",
    "    eff_list=[]\n",
    "    nodes =  G.nodes\n",
    "    if nodes!= 0:\n",
    "        H = G.copy()\n",
    "        #H = nx.karate_club_graph()\n",
    "        for i in nodes:            \n",
    "            H.remove_node(i)\n",
    "            geff = local_efficiency(H)           \n",
    "            EF = (i, geff)       \n",
    "            eff_list.append(EF)\n",
    "    return  eff_list"
   ]
  },
  {
   "cell_type": "code",
   "execution_count": 7,
   "metadata": {},
   "outputs": [],
   "source": [
    "#eff()"
   ]
  },
  {
   "cell_type": "code",
   "execution_count": 8,
   "metadata": {},
   "outputs": [],
   "source": [
    "eff_table = pd.DataFrame(eff(), columns = ('nodes','global_efficiency'))"
   ]
  },
  {
   "cell_type": "code",
   "execution_count": 9,
   "metadata": {
    "scrolled": true
   },
   "outputs": [
    {
     "name": "stdout",
     "output_type": "stream",
     "text": [
      "    nodes  global_efficiency\n",
      "1       0           0.276517\n",
      "2       1           0.276517\n",
      "3       2           0.276517\n",
      "4       3           0.276517\n",
      "5       4           0.276517\n",
      "6       5           0.276517\n",
      "7       6           0.276517\n",
      "8       7           0.276517\n",
      "9       8           0.276517\n",
      "10      9           0.276517\n",
      "11     10           0.276517\n",
      "12     11           0.276517\n",
      "13     12           0.276517\n",
      "14     13           0.276517\n",
      "15     14           0.276517\n",
      "16     15           0.276517\n",
      "17     16           0.276517\n",
      "18     17           0.276517\n",
      "19     18           0.276517\n",
      "20     19           0.276517\n",
      "21     20           0.276517\n",
      "22     21           0.276517\n",
      "23     22           0.276517\n",
      "24     23           0.276517\n",
      "25     24           0.276517\n",
      "26     25           0.276517\n",
      "27     26           0.276517\n",
      "28     27           0.276517\n",
      "29     28           0.276517\n",
      "30     29           0.276517\n",
      "..    ...                ...\n",
      "67     66           0.276517\n",
      "68     67           0.276517\n",
      "69     68           0.276517\n",
      "70     69           0.276517\n",
      "71     70           0.276517\n",
      "72     71           0.276517\n",
      "73     72           0.276517\n",
      "74     73           0.276517\n",
      "75     74           0.276517\n",
      "76     75           0.276517\n",
      "77     76           0.276517\n",
      "78     77           0.276517\n",
      "79     78           0.276517\n",
      "80     79           0.276517\n",
      "81     80           0.276517\n",
      "82     81           0.276517\n",
      "83     82           0.276517\n",
      "84     83           0.276517\n",
      "85     84           0.276517\n",
      "86     85           0.276517\n",
      "87     86           0.276517\n",
      "88     87           0.276517\n",
      "89     88           0.276517\n",
      "90     89           0.276517\n",
      "91     90           0.276517\n",
      "92     91           0.276517\n",
      "93     92           0.276517\n",
      "94     93           0.276517\n",
      "95     94           0.276517\n",
      "96     95           0.276517\n",
      "\n",
      "[96 rows x 2 columns]\n"
     ]
    }
   ],
   "source": [
    "eff_table.index = eff_table.index + 1\n",
    "print(eff_table)"
   ]
  },
  {
   "cell_type": "code",
   "execution_count": 10,
   "metadata": {},
   "outputs": [
    {
     "data": {
      "image/png": "[encoded data removed]",
      "text/plain": [
       "<Figure size 432x288 with 1 Axes>"
      ]
     },
     "metadata": {
      "needs_background": "light"
     },
     "output_type": "display_data"
    }
   ],
   "source": [
    "plt.plot(eff_table.global_efficiency)\n",
    "plt.legend([\"Efficiency\"])\n",
    "plt.xlabel(\"nodes\")\n",
    "plt.ylabel(\"Efficiency\")\n",
    "plt.show()"
   ]
  },
  {
   "cell_type": "code",
   "execution_count": null,
   "metadata": {},
   "outputs": [],
   "source": []
  }
 ],
 "metadata": {
  "kernelspec": {
   "display_name": "Python 3",
   "language": "python",
   "name": "python3"
  },
  "language_info": {
   "codemirror_mode": {
    "name": "ipython",
    "version": 3
   },
   "file_extension": ".py",
   "mimetype": "text/x-python",
   "name": "python",
   "nbconvert_exporter": "python",
   "pygments_lexer": "ipython3",
   "version": "3.7.1"
  }
 },
 "nbformat": 4,
 "nbformat_minor": 2
}
