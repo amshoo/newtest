{
 "cells": [
  {
   "cell_type": "code",
   "execution_count": 1,
   "metadata": {},
   "outputs": [],
   "source": [
    "from __future__ import division\n",
    "\n",
    "from itertools import permutations\n",
    "\n",
    "import networkx as nx\n",
    "import numpy as np\n",
    "import matplotlib.pyplot as plt\n",
    "import pandas as pd\n",
    "import networkx as nx\n",
    "from networkx.exception import NetworkXNoPath"
   ]
  },
  {
   "cell_type": "code",
   "execution_count": 2,
   "metadata": {},
   "outputs": [
    {
     "ename": "SyntaxError",
     "evalue": "invalid syntax (graph.py, line 10)",
     "output_type": "error",
     "traceback": [
      "Traceback \u001b[1;36m(most recent call last)\u001b[0m:\n",
      "  File \u001b[0;32m\"E:\\Anaconda\\lib\\site-packages\\IPython\\core\\interactiveshell.py\"\u001b[0m, line \u001b[0;32m3267\u001b[0m, in \u001b[0;35mrun_code\u001b[0m\n    exec(code_obj, self.user_global_ns, self.user_ns)\n",
      "  File \u001b[0;32m\"<ipython-input-2-096bc91a2d38>\"\u001b[0m, line \u001b[0;32m5\u001b[0m, in \u001b[0;35m<module>\u001b[0m\n    G = graph()\n",
      "\u001b[1;36m  File \u001b[1;32m\"<ipython-input-2-096bc91a2d38>\"\u001b[1;36m, line \u001b[1;32m2\u001b[1;36m, in \u001b[1;35mgraph\u001b[1;36m\u001b[0m\n\u001b[1;33m    import graph\u001b[0m\n",
      "\u001b[1;36m  File \u001b[1;32m\"C:\\Users\\Amshi\\Documents\\GitHub\\python\\graph.py\"\u001b[1;36m, line \u001b[1;32m10\u001b[0m\n\u001b[1;33m    <<<<<<< HEAD\u001b[0m\n\u001b[1;37m     ^\u001b[0m\n\u001b[1;31mSyntaxError\u001b[0m\u001b[1;31m:\u001b[0m invalid syntax\n"
     ]
    }
   ],
   "source": [
    "def graph():    \n",
    "    import graph\n",
    "    Graph = graph.H\n",
    "    return Graph\n",
    "G = graph()"
   ]
  },
  {
   "cell_type": "code",
   "execution_count": null,
   "metadata": {},
   "outputs": [],
   "source": [
    "__all__ = ['efficiency', 'local_efficiency', 'global_efficiency']\n",
    "\n",
    "def efficiency(G, u, v):\n",
    "    try:\n",
    "        eff = 1 / nx.shortest_path_length(G, u, v)\n",
    "    except NetworkXNoPath:\n",
    "        eff = 0\n",
    "    return eff"
   ]
  },
  {
   "cell_type": "code",
   "execution_count": null,
   "metadata": {},
   "outputs": [],
   "source": [
    "def global_efficiency(G):\n",
    "    n = len(G)\n",
    "    denom = n * (n - 1)\n",
    "    if denom != 0:\n",
    "        g_eff = sum(efficiency(G, u, v) for u, v in permutations(G, 2)) / denom\n",
    "    else:\n",
    "        g_eff = 0\n",
    "    # TODO This can be made more efficient by computing all pairs shortest\n",
    "    # path lengths in parallel.\n",
    "    # TODO This summation can be trivially parallelized.\n",
    "    return g_eff"
   ]
  },
  {
   "cell_type": "code",
   "execution_count": null,
   "metadata": {},
   "outputs": [],
   "source": [
    "def local_efficiency(G):\n",
    "    # TODO This summation can be trivially parallelized.\n",
    "    efficiency_list = (global_efficiency(G.subgraph(G[v])) for v in G)\n",
    "    return sum(efficiency_list) / len(G)"
   ]
  },
  {
   "cell_type": "code",
   "execution_count": null,
   "metadata": {},
   "outputs": [],
   "source": [
    "def eff():\n",
    "    i=0\n",
    "    eff_list=[]\n",
    "    nodes =  G.nodes\n",
    "    if nodes!= 0:\n",
    "        H = G.copy()\n",
    "        #H = nx.karate_club_graph()\n",
    "        for i in nodes:            \n",
    "            H.remove_node(i)\n",
    "            geff = global_efficiency(H)           \n",
    "            EF = (i, geff)       \n",
    "            eff_list.append(EF)\n",
    "    return  eff_list"
   ]
  },
  {
   "cell_type": "code",
   "execution_count": null,
   "metadata": {},
   "outputs": [],
   "source": [
    "#eff()"
   ]
  },
  {
   "cell_type": "code",
   "execution_count": null,
   "metadata": {},
   "outputs": [],
   "source": [
    "eff_table = pd.DataFrame(eff(), columns = ('nodes','global_efficiency'))"
   ]
  },
  {
   "cell_type": "code",
   "execution_count": null,
   "metadata": {
    "scrolled": true
   },
   "outputs": [],
   "source": [
    "eff_table.index = eff_table.index + 1\n",
    "#print(eff_table)"
   ]
  },
  {
   "cell_type": "code",
   "execution_count": null,
   "metadata": {},
   "outputs": [],
   "source": [
    "plt.plot(eff_table.global_efficiency)\n",
    "plt.legend([\"Efficiency\"])\n",
    "plt.xlabel(\"nodes\")\n",
    "plt.ylabel(\"Efficiency\")\n",
    "plt.show()"
   ]
  },
  {
   "cell_type": "code",
   "execution_count": null,
   "metadata": {},
   "outputs": [],
   "source": []
  },
  {
   "cell_type": "code",
   "execution_count": null,
   "metadata": {},
   "outputs": [],
   "source": []
  }
 ],
 "metadata": {
  "kernelspec": {
   "display_name": "Python 3",
   "language": "python",
   "name": "python3"
  },
  "language_info": {
   "codemirror_mode": {
    "name": "ipython",
    "version": 3
   },
   "file_extension": ".py",
   "mimetype": "text/x-python",
   "name": "python",
   "nbconvert_exporter": "python",
   "pygments_lexer": "ipython3",
   "version": "3.7.1"
  }
 },
 "nbformat": 4,
 "nbformat_minor": 2
}
