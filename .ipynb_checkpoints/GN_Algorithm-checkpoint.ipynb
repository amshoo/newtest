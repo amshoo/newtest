{
 "cells": [
  {
   "cell_type": "code",
   "execution_count": 1,
   "metadata": {},
   "outputs": [],
   "source": [
    "import networkx as nx\n",
    "import operator"
   ]
  },
  {
   "cell_type": "code",
   "execution_count": 2,
   "metadata": {},
   "outputs": [],
   "source": [
    "def graph():    \n",
    "    import graph\n",
    "    Graph = graph.H\n",
    "    return Graph\n",
    "G= graph()\n",
    "#G=nx.karate_club_graph()"
   ]
  },
  {
   "cell_type": "code",
   "execution_count": 3,
   "metadata": {},
   "outputs": [
    {
     "name": "stdout",
     "output_type": "stream",
     "text": [
      "deleting edge: (3, 6) None\n",
      "...we have.. 1 components\n",
      "deleting edge: (3, 7) None\n",
      "...we have.. 1 components\n",
      "deleting edge: (9, 7) None\n",
      "...we have.. 1 components\n",
      "deleting edge: (4, 6) None\n",
      "...we have.. 2 components\n",
      "deleting edge: (3, 4) None\n",
      "...we have.. 3 components\n",
      "deleting edge: (6, 5) None\n",
      "...we have.. 4 components\n",
      "deleting edge: (3, 9) None\n",
      "...we have.. 4 components\n",
      "deleting edge: (2, 9) None\n",
      "...we have.. 5 components\n",
      "deleting edge: (7, 8) None\n",
      "...we have.. 5 components\n",
      "deleting edge: (6, 8) None\n",
      "...we have.. 6 components\n",
      "deleting edge: (6, 7) None\n",
      "...we have.. 7 components\n",
      "deleting edge: (2, 3) None\n",
      "...we have.. 7 components\n",
      "deleting edge: (1, 3) None\n",
      "...we have.. 8 components\n",
      "deleting edge: (1, 2) None\n",
      "...we have.. 9 components\n"
     ]
    }
   ],
   "source": [
    "sorted_bc=[1]\n",
    "actual_num_components=1\n",
    "while not sorted_bc==[]:\n",
    "    d_edges=nx.edge_betweenness_centrality(G)\n",
    "    sorted_bc = sorted(d_edges.items(), key=operator.itemgetter(1))\n",
    "    e=sorted_bc.pop()\n",
    "    print (\"edge:\", e[0],\n",
    "    G.remove_edge(*e[0]))\n",
    "    num_comp = nx.number_connected_components(G)\n",
    "    print (\"R.components\", num_comp)\n",
    "    if num_comp>actual_num_components:\n",
    "        actual_num_components=num_comp\n"
   ]
  },
  {
   "cell_type": "code",
   "execution_count": null,
   "metadata": {},
   "outputs": [],
   "source": []
  },
  {
   "cell_type": "code",
   "execution_count": null,
   "metadata": {},
   "outputs": [],
   "source": []
  },
  {
   "cell_type": "code",
   "execution_count": null,
   "metadata": {},
   "outputs": [],
   "source": []
  }
 ],
 "metadata": {
  "kernelspec": {
   "display_name": "Python 3",
   "language": "python",
   "name": "python3"
  },
  "language_info": {
   "codemirror_mode": {
    "name": "ipython",
    "version": 3
   },
   "file_extension": ".py",
   "mimetype": "text/x-python",
   "name": "python",
   "nbconvert_exporter": "python",
   "pygments_lexer": "ipython3",
   "version": "3.7.1"
  }
 },
 "nbformat": 4,
 "nbformat_minor": 2
}
