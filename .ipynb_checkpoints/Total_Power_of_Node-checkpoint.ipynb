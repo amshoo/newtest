{
 "cells": [
  {
   "cell_type": "code",
   "execution_count": 1,
   "metadata": {},
   "outputs": [],
   "source": [
    "import networkx as nx\n",
    "import numpy as np\n",
    "import matplotlib.pyplot as plt\n",
    "import pandas as pd\n",
    "import math"
   ]
  },
  {
   "cell_type": "code",
   "execution_count": 2,
   "metadata": {},
   "outputs": [],
   "source": [
    "import Tr_centrality_measure\n",
    "import Graph_Entropy_measure\n",
    "import Selection_Algorithm\n",
    "import Constraint_Coefficient\n",
    "#N1=(PI/SUM(PI,TC,CC))\n",
    "#N2=(TC/SUM(PI,TC,CC))\n",
    "#N3=(CC/SUM(PI,TC,CC))\n",
    "#TPN=N1*(PI_i)+N1*(TC_i)+N1*(CC_i)\n",
    "i=0\n",
    "def TPN(i):\n",
    "    PI_i = Graph_Entropy_measure.PI_of(i)\n",
    "    TC_i = Tr_centrality_measure.TC_of(i)\n",
    "    CC_i = Constraint_Coefficient.CC_of(i)\n",
    "    #CC_i=\n",
    "    N1=PI_i/(PI_i+TC_i+CC_i)\n",
    "    N2=TC_i/(PI_i+TC_i+CC_i)\n",
    "    N3=CC_i/(PI_i+TC_i+CC_i)\n",
    "    \n",
    "    TPN_i = (PI_i + TC_i + CC_i)/3\n",
    "    \n",
    "    return TPN_i"
   ]
  },
  {
   "cell_type": "code",
   "execution_count": 3,
   "metadata": {},
   "outputs": [],
   "source": [
    "#loop\n",
    "def loop_TPN():\n",
    "    i=1\n",
    "    list_TPN=[]    \n",
    "    for i in Selection_Algorithm.sel_subgraphs():          \n",
    "        TPN_ = TPN(i)\n",
    "        i+=1\n",
    "        i_TPN = [i, TPN_]\n",
    "        list_TPN.append(i_TPN)  \n",
    "            \n",
    "    return  list_TPN"
   ]
  },
  {
   "cell_type": "code",
   "execution_count": 4,
   "metadata": {},
   "outputs": [
    {
     "ename": "TypeError",
     "evalue": "unsupported operand type(s) for +: 'float' and 'NoneType'",
     "output_type": "error",
     "traceback": [
      "\u001b[1;31m---------------------------------------------------------------------------\u001b[0m",
      "\u001b[1;31mTypeError\u001b[0m                                 Traceback (most recent call last)",
      "\u001b[1;32m<ipython-input-4-2b4cd3e1054d>\u001b[0m in \u001b[0;36m<module>\u001b[1;34m()\u001b[0m\n\u001b[0;32m      2\u001b[0m       \u001b[1;32mreturn\u001b[0m \u001b[0mval\u001b[0m \u001b[1;33m[\u001b[0m\u001b[1;36m1\u001b[0m\u001b[1;33m]\u001b[0m\u001b[1;33m\u001b[0m\u001b[0m\n\u001b[0;32m      3\u001b[0m \u001b[1;33m\u001b[0m\u001b[0m\n\u001b[1;32m----> 4\u001b[1;33m \u001b[0mTPN_Rank\u001b[0m \u001b[1;33m=\u001b[0m \u001b[0mloop_TPN\u001b[0m\u001b[1;33m(\u001b[0m\u001b[1;33m)\u001b[0m\u001b[1;33m\u001b[0m\u001b[0m\n\u001b[0m\u001b[0;32m      5\u001b[0m \u001b[0mTPN_Rank\u001b[0m\u001b[1;33m.\u001b[0m\u001b[0msort\u001b[0m\u001b[1;33m(\u001b[0m\u001b[0mkey\u001b[0m\u001b[1;33m=\u001b[0m\u001b[1;32mlambda\u001b[0m \u001b[0melem\u001b[0m\u001b[1;33m:\u001b[0m \u001b[0melem\u001b[0m\u001b[1;33m[\u001b[0m\u001b[1;36m1\u001b[0m\u001b[1;33m]\u001b[0m\u001b[1;33m)\u001b[0m\u001b[1;33m\u001b[0m\u001b[0m\n\u001b[0;32m      6\u001b[0m \u001b[1;33m\u001b[0m\u001b[0m\n",
      "\u001b[1;32m<ipython-input-3-dddf11ecef12>\u001b[0m in \u001b[0;36mloop_TPN\u001b[1;34m()\u001b[0m\n\u001b[0;32m      5\u001b[0m     \u001b[0mlist_TPN\u001b[0m\u001b[1;33m=\u001b[0m\u001b[1;33m[\u001b[0m\u001b[1;33m]\u001b[0m\u001b[1;33m\u001b[0m\u001b[0m\n\u001b[0;32m      6\u001b[0m     \u001b[1;32mfor\u001b[0m \u001b[0mi\u001b[0m \u001b[1;32min\u001b[0m \u001b[0mn\u001b[0m\u001b[1;33m:\u001b[0m\u001b[1;33m\u001b[0m\u001b[0m\n\u001b[1;32m----> 7\u001b[1;33m         \u001b[0mTPN_\u001b[0m \u001b[1;33m=\u001b[0m \u001b[0mTPN\u001b[0m\u001b[1;33m(\u001b[0m\u001b[0mi\u001b[0m\u001b[1;33m)\u001b[0m\u001b[1;33m\u001b[0m\u001b[0m\n\u001b[0m\u001b[0;32m      8\u001b[0m         \u001b[0mi\u001b[0m\u001b[1;33m+=\u001b[0m\u001b[1;36m1\u001b[0m\u001b[1;33m\u001b[0m\u001b[0m\n\u001b[0;32m      9\u001b[0m         \u001b[0mi_TPN\u001b[0m \u001b[1;33m=\u001b[0m \u001b[1;33m[\u001b[0m\u001b[0mi\u001b[0m\u001b[1;33m,\u001b[0m \u001b[0mTPN_\u001b[0m\u001b[1;33m]\u001b[0m\u001b[1;33m\u001b[0m\u001b[0m\n",
      "\u001b[1;32m<ipython-input-2-be25748feba8>\u001b[0m in \u001b[0;36mTPN\u001b[1;34m(i)\u001b[0m\n\u001b[0;32m     13\u001b[0m     \u001b[0mCC_i\u001b[0m \u001b[1;33m=\u001b[0m \u001b[0mConstraint_Coefficient\u001b[0m\u001b[1;33m.\u001b[0m\u001b[0mCC_of\u001b[0m\u001b[1;33m(\u001b[0m\u001b[0mi\u001b[0m\u001b[1;33m)\u001b[0m\u001b[1;33m\u001b[0m\u001b[0m\n\u001b[0;32m     14\u001b[0m     \u001b[1;31m#CC_i=\u001b[0m\u001b[1;33m\u001b[0m\u001b[1;33m\u001b[0m\u001b[0m\n\u001b[1;32m---> 15\u001b[1;33m     \u001b[0mN1\u001b[0m\u001b[1;33m=\u001b[0m\u001b[0mPI_i\u001b[0m\u001b[1;33m/\u001b[0m\u001b[1;33m(\u001b[0m\u001b[0mPI_i\u001b[0m\u001b[1;33m+\u001b[0m\u001b[0mTC_i\u001b[0m\u001b[1;33m+\u001b[0m\u001b[0mCC_i\u001b[0m\u001b[1;33m)\u001b[0m\u001b[1;33m\u001b[0m\u001b[0m\n\u001b[0m\u001b[0;32m     16\u001b[0m     \u001b[0mN2\u001b[0m\u001b[1;33m=\u001b[0m\u001b[0mTC_i\u001b[0m\u001b[1;33m/\u001b[0m\u001b[1;33m(\u001b[0m\u001b[0mPI_i\u001b[0m\u001b[1;33m+\u001b[0m\u001b[0mTC_i\u001b[0m\u001b[1;33m+\u001b[0m\u001b[0mCC_i\u001b[0m\u001b[1;33m)\u001b[0m\u001b[1;33m\u001b[0m\u001b[0m\n\u001b[0;32m     17\u001b[0m     \u001b[0mN3\u001b[0m\u001b[1;33m=\u001b[0m\u001b[0mCC_i\u001b[0m\u001b[1;33m/\u001b[0m\u001b[1;33m(\u001b[0m\u001b[0mPI_i\u001b[0m\u001b[1;33m+\u001b[0m\u001b[0mTC_i\u001b[0m\u001b[1;33m+\u001b[0m\u001b[0mCC_i\u001b[0m\u001b[1;33m)\u001b[0m\u001b[1;33m\u001b[0m\u001b[0m\n",
      "\u001b[1;31mTypeError\u001b[0m: unsupported operand type(s) for +: 'float' and 'NoneType'"
     ]
    }
   ],
   "source": [
    "def TPN_Ranking( val ):\n",
    "      return val [1]\n",
    "\n",
    "TPN_Rank = loop_TPN()\n",
    "TPN_Rank.sort(key=lambda elem: elem[1])\n",
    "\n",
    "#TPN_Rank"
   ]
  },
  {
   "cell_type": "code",
   "execution_count": null,
   "metadata": {},
   "outputs": [],
   "source": [
    "TPN_table = pd.DataFrame(TPN_Rank, columns = ('nodes','TPN_i'))\n",
    "Top_Five = pd.DataFrame(TPN_table.loc[0:4])\n",
    "Top_Five.index = Top_Five.index + 1\n",
    "print(Top_Five)\n",
    "#Top_Five.to_csv('result/TPN_email_network.csv')"
   ]
  },
  {
   "cell_type": "code",
   "execution_count": null,
   "metadata": {},
   "outputs": [],
   "source": [
    "#plt.clf()\n",
    "#H = G.remove_node(0)\n",
    "#G.remove_edge(Selection_Algorithm.subgraph_of(33).edges())\n",
    "#nx.draw(G, with_labels = True)\n",
    "#plt.show()\n",
    "#plt.savefig(\"out.png\")"
   ]
  },
  {
   "cell_type": "code",
   "execution_count": null,
   "metadata": {},
   "outputs": [],
   "source": [
    "#loop_TPN()"
   ]
  },
  {
   "cell_type": "code",
   "execution_count": null,
   "metadata": {},
   "outputs": [],
   "source": []
  }
 ],
 "metadata": {
  "kernelspec": {
   "display_name": "Python 3",
   "language": "python",
   "name": "python3"
  },
  "language_info": {
   "codemirror_mode": {
    "name": "ipython",
    "version": 3
   },
   "file_extension": ".py",
   "mimetype": "text/x-python",
   "name": "python",
   "nbconvert_exporter": "python",
   "pygments_lexer": "ipython3",
   "version": "3.6.5"
  }
 },
 "nbformat": 4,
 "nbformat_minor": 2
}
