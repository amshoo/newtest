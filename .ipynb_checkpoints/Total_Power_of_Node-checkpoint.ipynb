{
 "cells": [
  {
   "cell_type": "code",
   "execution_count": 1,
   "metadata": {},
   "outputs": [],
   "source": [
    "import networkx as nx\n",
    "import numpy as np\n",
    "import matplotlib.pyplot as plt\n",
    "import pandas as pd\n",
    "import math"
   ]
  },
  {
   "cell_type": "code",
   "execution_count": 2,
   "metadata": {},
   "outputs": [],
   "source": [
    "G = nx.karate_club_graph()"
   ]
  },
  {
   "cell_type": "code",
   "execution_count": 3,
   "metadata": {},
   "outputs": [],
   "source": [
    "import Tr_centrality_measure\n",
    "import Graph_Entropy_measure\n",
    "import Selection_Algorithm\n",
    "#N1=(PI/SUM(PI,TC,CC))\n",
    "#N2=(TC/SUM(PI,TC,CC))\n",
    "#N3=(CC/SUM(PI,TC,CC))\n",
    "#TPN=N1*(PI_i)+N1*(TC_i)+N1*(CC_i)\n",
    "i=0\n",
    "def TPN(i):\n",
    "    PI_i = Graph_Entropy_measure.PI_of(i)\n",
    "    TC_i = Tr_centrality_measure.TC_of(i)\n",
    "    CC_i = Constraint_Coefficient.CC_of(i)\n",
    "    #CC_i=\n",
    "    N1=PI_i/(PI_i+TC_i+CC_i)\n",
    "    N2=TC_i/(PI_i+TC_i+CC_i)\n",
    "    N=TC_i/(PI_i+TC_i+CC_i)\n",
    "    \n",
    "    TPN_i = N1*(PI_i) + N2*(TC_i)\n",
    "    return TPN_i"
   ]
  },
  {
   "cell_type": "code",
   "execution_count": 4,
   "metadata": {},
   "outputs": [],
   "source": [
    "#loop\n",
    "def loop_TPN():\n",
    "    i=0\n",
    "    PI_list=[]    \n",
    "    for i in Selection_Algorithm.sel_subgraphs():          \n",
    "        PI_i = round( Graph_Entropy_measure.PI_of(i), 4)\n",
    "        i+=1\n",
    "        PI = [i, PI_i]\n",
    "        PI_list.append(PI)  \n",
    "            \n",
    "    return  PI_list"
   ]
  },
  {
   "cell_type": "code",
   "execution_count": 5,
   "metadata": {},
   "outputs": [
    {
     "data": {
      "text/plain": [
       "[[3, 0.9069],\n",
       " [9, 0.8722],\n",
       " [8, 0.8591],\n",
       " [14, 0.8591],\n",
       " [4, 0.8346],\n",
       " [6, 0.7854],\n",
       " [7, 0.7854],\n",
       " [2, 0.7387],\n",
       " [5, 0.7303],\n",
       " [11, 0.7303],\n",
       " [31, 0.7267],\n",
       " [24, 0.7021],\n",
       " [30, 0.7021],\n",
       " [1, 0.576],\n",
       " [32, 0.5578],\n",
       " [33, 0.3136],\n",
       " [34, 0.1448]]"
      ]
     },
     "execution_count": 5,
     "metadata": {},
     "output_type": "execute_result"
    }
   ],
   "source": [
    "def PI_Ranking( val ):\n",
    "      return val [1]\n",
    "\n",
    "PI_Rank = loop_TPN()\n",
    "PI_Rank.sort(key=lambda elem: elem[1], reverse=True)\n",
    "\n",
    "PI_Rank"
   ]
  },
  {
   "cell_type": "code",
   "execution_count": null,
   "metadata": {},
   "outputs": [],
   "source": []
  }
 ],
 "metadata": {
  "kernelspec": {
   "display_name": "Python 3",
   "language": "python",
   "name": "python3"
  },
  "language_info": {
   "codemirror_mode": {
    "name": "ipython",
    "version": 3
   },
   "file_extension": ".py",
   "mimetype": "text/x-python",
   "name": "python",
   "nbconvert_exporter": "python",
   "pygments_lexer": "ipython3",
   "version": "3.7.1"
  }
 },
 "nbformat": 4,
 "nbformat_minor": 2
}
