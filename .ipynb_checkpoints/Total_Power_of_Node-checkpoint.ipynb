{
 "cells": [
  {
   "cell_type": "code",
   "execution_count": 1,
   "metadata": {},
   "outputs": [],
   "source": [
    "import networkx as nx\n",
    "import numpy as np\n",
    "import matplotlib.pyplot as plt\n",
    "import pandas as pd\n",
    "import math"
   ]
  },
  {
   "cell_type": "code",
   "execution_count": 2,
   "metadata": {},
   "outputs": [],
   "source": [
    "def graph():    \n",
    "    import graph\n",
    "    Graph = graph.H\n",
    "    return Graph\n",
    "G = graph()"
   ]
  },
  {
   "cell_type": "code",
   "execution_count": 3,
   "metadata": {},
   "outputs": [],
   "source": [
    "import Tr_centrality_measure\n",
    "import Graph_Entropy_measure\n",
    "import Selection_Algorithm\n",
    "import Constraint_Coefficient\n",
    "i=0\n",
    "def TPN(i):\n",
    "    PI_i = Graph_Entropy_measure.PI_of(i)\n",
    "    TC_i = Tr_centrality_measure.TC_of(i)\n",
    "    CC_i = Constraint_Coefficient.CC_of(i)\n",
    "    \n",
    "    TPN_i = (PI_i + TC_i + CC_i)/3\n",
    "    \n",
    "    return TPN_i"
   ]
  },
  {
   "cell_type": "code",
   "execution_count": 4,
   "metadata": {},
   "outputs": [],
   "source": [
    "#loop\n",
    "def loop_TPN():\n",
    "    i=1\n",
    "    list_TPN=[]    \n",
    "    for i in Selection_Algorithm.sel_subgraphs():          \n",
    "        TPN_ = TPN(i)\n",
    "        i+=1\n",
    "        i_TPN = [i, TPN_]\n",
    "        list_TPN.append(i_TPN)  \n",
    "            \n",
    "    return  list_TPN"
   ]
  },
  {
   "cell_type": "code",
   "execution_count": 5,
   "metadata": {},
   "outputs": [
    {
     "data": {
      "text/plain": [
       "[[20, 0.2702026238716742],\n",
       " [7, 0.2831156123287465],\n",
       " [19, 0.3147491552779788],\n",
       " [2, 0.36254006342811124],\n",
       " [3, 0.3775525719411852],\n",
       " [4, 0.3823247423616612],\n",
       " [1, 0.4245451633407383]]"
      ]
     },
     "execution_count": 5,
     "metadata": {},
     "output_type": "execute_result"
    }
   ],
   "source": [
    "def TPN_Ranking( val ):\n",
    "      return val [1]\n",
    "\n",
    "TPN_Rank = loop_TPN()\n",
    "TPN_Rank.sort(key=lambda elem: elem[1])\n",
    "\n",
    "TPN_Rank"
   ]
  },
  {
   "cell_type": "code",
   "execution_count": 6,
   "metadata": {},
   "outputs": [
    {
     "name": "stdout",
     "output_type": "stream",
     "text": [
      "   nodes     TPN_i\n",
      "1     20  0.270203\n",
      "2      7  0.283116\n",
      "3     19  0.314749\n",
      "4      2  0.362540\n",
      "5      3  0.377553\n"
     ]
    }
   ],
   "source": [
    "TPN_table = pd.DataFrame(TPN_Rank, columns = ('nodes','TPN_i'))\n",
    "Top_Five = pd.DataFrame(TPN_table.loc[0:4])\n",
    "Top_Five.index = Top_Five.index + 1\n",
    "print(Top_Five)\n",
    "#Top_Five.to_csv('result/TPN_email_network.csv')"
   ]
  },
  {
   "cell_type": "code",
   "execution_count": 12,
   "metadata": {},
   "outputs": [],
   "source": [
    "#plt.clf()\n",
    "#H = G.remove_node(0)\n",
    "#G.remove_edge(Selection_Algorithm.subgraph_of(33).edges())\n",
    "#nx.draw(Selection_Algorithm.subgraph_of(79), with_labels = True)\n",
    "#plt.show()\n",
    "#plt.savefig(\"out.png\")"
   ]
  },
  {
   "cell_type": "code",
   "execution_count": 8,
   "metadata": {},
   "outputs": [],
   "source": [
    "#loop_TPN()"
   ]
  },
  {
   "cell_type": "code",
   "execution_count": null,
   "metadata": {},
   "outputs": [],
   "source": []
  }
 ],
 "metadata": {
  "kernelspec": {
   "display_name": "Python 3",
   "language": "python",
   "name": "python3"
  },
  "language_info": {
   "codemirror_mode": {
    "name": "ipython",
    "version": 3
   },
   "file_extension": ".py",
   "mimetype": "text/x-python",
   "name": "python",
   "nbconvert_exporter": "python",
   "pygments_lexer": "ipython3",
   "version": "3.7.1"
  }
 },
 "nbformat": 4,
 "nbformat_minor": 2
}
