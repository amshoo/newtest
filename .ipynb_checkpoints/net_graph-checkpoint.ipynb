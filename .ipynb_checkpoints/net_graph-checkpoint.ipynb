{
 "cells": [
  {
   "cell_type": "code",
   "execution_count": 1,
   "metadata": {},
   "outputs": [],
   "source": [
    "import networkx as nx\n",
    "import numpy as np\n",
    "import matplotlib.pyplot as plt\n",
    "import pandas as pd"
   ]
  },
  {
   "cell_type": "code",
   "execution_count": 2,
   "metadata": {},
   "outputs": [],
   "source": [
    "def karate_club_graph():\n",
    "    \"\"\"Return Zachary's Karate Club graph.\n",
    "\n",
    "    Each node in the returned graph has a node attribute ``'club'`` that\n",
    "    indicates the name of the club to which the member represented by that node\n",
    "    belongs, either ``'Mr. Hi'`` or ``'Officer'``.\n",
    "\n",
    "    Examples\n",
    "    --------\n",
    "    To get the name of the club to which a node belongs::\n",
    "\n",
    "        >>> import networkx as nx\n",
    "        >>> G = nx.karate_club_graph()\n",
    "        >>> G.node[5]['club']\n",
    "        'Mr. Hi'\n",
    "        >>> G.node[9]['club']\n",
    "        'Officer'\n",
    "\n",
    "    References\n",
    "    ----------\n",
    "    .. [1] Zachary, Wayne W.\n",
    "       \"An Information Flow Model for Conflict and Fission in Small Groups.\"\n",
    "       *Journal of Anthropological Research*, 33, 452--473, (1977).\n",
    "\n",
    "    .. [2] Data file from:\n",
    "       http://vlado.fmf.uni-lj.si/pub/networks/data/Ucinet/UciData.htm\n",
    "    \"\"\"\n",
    "    # Create the set of all members, and the members of each club.\n",
    "    all_members = set(range(34))\n",
    "    club1 = {0, 1, 2, 3, 4, 5, 6, 7, 8, 10, 11, 12, 13, 16, 17, 19, 21}\n",
    "    # club2 = all_members - club1\n",
    "\n",
    "    G = nx.Graph()\n",
    "    G.add_nodes_from(all_members)\n",
    "    G.name = \"asking for an opinion\"\n",
    "\n",
    "    zacharydat = \"\"\"\\\n",
    " 0 1 0 0 0 1 0 0 0 0 0\n",
    " 0 0 0 1 0 0 0 1 0 0 0\n",
    " 1 1 0 1 0 1 0 1 0 0 0\n",
    " 0 1 0 0 0 0 0 0 0 0 0\n",
    " 0 1 0 0 0 1 0 0 0 0 0\n",
    " 0 1 0 0 0 0 0 0 0 0 0\n",
    " 0 0 0 1 0 0 0 1 1 0 0\n",
    " 0 1 0 1 0 0 0 0 0 0 1\n",
    " 0 0 0 0 0 0 1 1 0 0 1\n",
    " 1 1 1 0 1 0 0 0 0 0 0\n",
    " 0 0 1 0 0 1 0 1 0 0 0\"\"\"\n",
    "\n",
    "    for row, line in enumerate(zacharydat.split('\\n')):\n",
    "        thisrow = [int(b) for b in line.split()]\n",
    "        for col, entry in enumerate(thisrow):\n",
    "            if entry == 1:\n",
    "                G.add_edge(row, col)\n",
    "\n",
    "    # Add the name of each member's club as a node attribute.\n",
    "    for v in G:\n",
    "        G.node[v]['club'] = 'Mr. Hi' if v in club1 else 'Officer'\n",
    "    return G"
   ]
  },
  {
   "cell_type": "code",
   "execution_count": 3,
   "metadata": {},
   "outputs": [
    {
     "data": {
      "text/plain": [
       "<networkx.classes.graph.Graph at 0x1ec16ec5470>"
      ]
     },
     "execution_count": 3,
     "metadata": {},
     "output_type": "execute_result"
    }
   ],
   "source": [
    "karate_club_graph()"
   ]
  },
  {
   "cell_type": "code",
   "execution_count": 4,
   "metadata": {},
   "outputs": [],
   "source": [
    "G = karate_club_graph()"
   ]
  },
  {
   "cell_type": "code",
   "execution_count": 5,
   "metadata": {},
   "outputs": [],
   "source": [
    "#nx.draw(G, data=True)\n",
    "#plt.show()"
   ]
  },
  {
   "cell_type": "code",
   "execution_count": 6,
   "metadata": {},
   "outputs": [
    {
     "data": {
      "text/plain": [
       "4"
      ]
     },
     "execution_count": 6,
     "metadata": {},
     "output_type": "execute_result"
    }
   ],
   "source": [
    "G.degree(0)"
   ]
  },
  {
   "cell_type": "code",
   "execution_count": null,
   "metadata": {},
   "outputs": [],
   "source": []
  },
  {
   "cell_type": "code",
   "execution_count": null,
   "metadata": {},
   "outputs": [],
   "source": []
  },
  {
   "cell_type": "code",
   "execution_count": null,
   "metadata": {},
   "outputs": [],
   "source": []
  },
  {
   "cell_type": "code",
   "execution_count": null,
   "metadata": {},
   "outputs": [],
   "source": []
  }
 ],
 "metadata": {
  "kernelspec": {
   "display_name": "Python 3",
   "language": "python",
   "name": "python3"
  },
  "language_info": {
   "codemirror_mode": {
    "name": "ipython",
    "version": 3
   },
   "file_extension": ".py",
   "mimetype": "text/x-python",
   "name": "python",
   "nbconvert_exporter": "python",
   "pygments_lexer": "ipython3",
   "version": "3.6.5"
  }
 },
 "nbformat": 4,
 "nbformat_minor": 2
}
