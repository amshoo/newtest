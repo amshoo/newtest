{
 "cells": [
  {
   "cell_type": "code",
   "execution_count": 1,
   "metadata": {},
   "outputs": [],
   "source": [
    "import networkx as nx\n",
    "import numpy as np\n",
    "import matplotlib.pyplot as plt\n",
    "import pandas as pd"
   ]
  },
  {
   "cell_type": "code",
   "execution_count": 2,
   "metadata": {},
   "outputs": [],
   "source": [
    "def graph():    \n",
    "    import graph\n",
    "    Graph = graph.H\n",
    "    return Graph\n",
    "G = graph()\n",
    "#G= nx.karate_club_graph()"
   ]
  },
  {
   "cell_type": "markdown",
   "metadata": {},
   "source": [
    "# 1-Degree Centrality\n",
    "#Ranking degree"
   ]
  },
  {
   "cell_type": "code",
   "execution_count": 3,
   "metadata": {},
   "outputs": [
    {
     "name": "stdout",
     "output_type": "stream",
     "text": [
      "   nodes_dc        DC\n",
      "1        34  0.515152\n",
      "2         1  0.484848\n",
      "3        33  0.363636\n",
      "4         3  0.303030\n",
      "5         2  0.272727\n"
     ]
    }
   ],
   "source": [
    "\n",
    "def Degree_Ranking( val ):\n",
    "      return val [1]\n",
    "degree = list(nx.degree_centrality(G).items())\n",
    "degree.sort(key=lambda elem: elem[1], reverse=True)\n",
    "\n",
    "#print('PI_Ranking', degree)\n",
    "#degree\n",
    "degree_table = pd.DataFrame(degree, columns = ('nodes_dc','DC'))\n",
    "Top_Five = pd.DataFrame(degree_table.loc[0:4])\n",
    "Top_Five.index = Top_Five.index + 1\n",
    "Top_Five.nodes_dc = Top_Five.nodes_dc + 1\n",
    "print(Top_Five)\n",
    "#Top_Five.to_csv('result/Top_FiveDC_Power_network.csv')\n",
    "#degree_table.to_csv('result/DC_NS_network.csv')\n",
    "#val = Top_Five.at[2,'DC']\n",
    "#val"
   ]
  },
  {
   "cell_type": "markdown",
   "metadata": {},
   "source": [
    "# 2-Betweeness Centrality\n",
    "#Ranking degree"
   ]
  },
  {
   "cell_type": "code",
   "execution_count": 4,
   "metadata": {},
   "outputs": [
    {
     "name": "stdout",
     "output_type": "stream",
     "text": [
      "   nodes_bc        BC\n",
      "1         1  0.437635\n",
      "2        34  0.304075\n",
      "3        33  0.145247\n",
      "4         3  0.143657\n",
      "5        32  0.138276\n"
     ]
    }
   ],
   "source": [
    "def Betweeness_Ranking( val ):\n",
    "      return val [1]\n",
    "Betweeness = list(nx.betweenness_centrality(G).items())\n",
    "Betweeness.sort(key=lambda elem: elem[1], reverse=True)\n",
    "\n",
    "#print('PI_Ranking', Betweeness)\n",
    "#Betweeness\n",
    "Betweeness_table = pd.DataFrame(Betweeness, columns = ('nodes_bc','BC'))\n",
    "Top_Five = pd.DataFrame(Betweeness_table.loc[0:4])\n",
    "Top_Five.index = Top_Five.index + 1\n",
    "Top_Five.nodes_bc = Top_Five.nodes_bc + 1\n",
    "print(Top_Five)\n",
    "#Betweeness_table.to_csv('result/BC_Power_network.csv')\n",
    "#Top_Five.to_csv('result/Top_FiveBC_NS_network.csv')"
   ]
  },
  {
   "cell_type": "markdown",
   "metadata": {},
   "source": [
    "# 3-closeness Centrality\n",
    "#Ranking closeness"
   ]
  },
  {
   "cell_type": "code",
   "execution_count": 5,
   "metadata": {},
   "outputs": [
    {
     "name": "stdout",
     "output_type": "stream",
     "text": [
      "   nodes_cnc       CnC\n",
      "1          1  0.568966\n",
      "2          3  0.559322\n",
      "3         34  0.550000\n",
      "4         32  0.540984\n",
      "5          9  0.515625\n"
     ]
    }
   ],
   "source": [
    "def closeness_Ranking( val ):\n",
    "      return val [1]\n",
    "closeness = list(nx.closeness_centrality(G).items())\n",
    "closeness.sort(key=lambda elem: elem[1], reverse=True)\n",
    "\n",
    "#print('PI_Ranking', closeness)\n",
    "#closeness\n",
    "closeness_table = pd.DataFrame(closeness, columns = ('nodes_cnc','CnC'))\n",
    "Top_Five = pd.DataFrame(closeness_table.loc[0:4])\n",
    "Top_Five.index = Top_Five.index + 1\n",
    "Top_Five.nodes_cnc = Top_Five.nodes_cnc + 1\n",
    "print(Top_Five)\n",
    "#Top_Five.to_csv('result/Top_FiveCnC_Power_network.csv')\n",
    "#closeness_table.to_csv('result/CnC_NS_network.csv')"
   ]
  },
  {
   "cell_type": "markdown",
   "metadata": {},
   "source": [
    "# 4-eigenvector Centrality\n",
    "#Ranking eigenvector"
   ]
  },
  {
   "cell_type": "code",
   "execution_count": 6,
   "metadata": {},
   "outputs": [
    {
     "name": "stdout",
     "output_type": "stream",
     "text": [
      "   nodes_ec        EC\n",
      "1        34  0.373371\n",
      "2         1  0.355483\n",
      "3         3  0.317189\n",
      "4        33  0.308651\n",
      "5         2  0.265954\n"
     ]
    }
   ],
   "source": [
    "def eigenvector_Ranking( val ):\n",
    "      return val [1]\n",
    "eigenvector = list(nx.eigenvector_centrality(G).items())\n",
    "eigenvector.sort(key=lambda elem: elem[1], reverse=True)\n",
    "\n",
    "#print('PI_Ranking', eigenvector)\n",
    "#eigenvector\n",
    "eigenvector_table = pd.DataFrame(eigenvector, columns = ('nodes_ec','EC'))\n",
    "Top_Five = pd.DataFrame(eigenvector_table.loc[0:4])\n",
    "Top_Five.index = Top_Five.index + 1\n",
    "Top_Five.nodes_ec = Top_Five.nodes_ec + 1\n",
    "print(Top_Five)\n",
    "#Top_Five.to_csv('result/Top_FiveEC_NS_network.csv')\n",
    "#eigenvector_table.to_csv('result/EC_NS_network.csv')"
   ]
  },
  {
   "cell_type": "markdown",
   "metadata": {},
   "source": [
    "# 4-Triangles Centrality\n",
    "#Ranking triangles"
   ]
  },
  {
   "cell_type": "code",
   "execution_count": 7,
   "metadata": {},
   "outputs": [
    {
     "name": "stdout",
     "output_type": "stream",
     "text": [
      "   nodes_tr  TR\n",
      "1         1  18\n",
      "2        34  15\n",
      "3        33  13\n",
      "4         2  12\n",
      "5         3  11\n"
     ]
    }
   ],
   "source": [
    "def triangles_Ranking( val ):\n",
    "      return val [1]\n",
    "triangles = list(nx.triangles(G, nodes=None).items())\n",
    "triangles.sort(key=lambda elem: elem[1], reverse=True)\n",
    "\n",
    "#print('PI_Ranking', triangles)\n",
    "#triangles\n",
    "triangles_table = pd.DataFrame(triangles, columns = ('nodes_tr','TR'))\n",
    "Top_Five = pd.DataFrame(triangles_table.loc[0:4])\n",
    "Top_Five.index = Top_Five.index + 1\n",
    "Top_Five.nodes_tr = Top_Five.nodes_tr + 1\n",
    "print(Top_Five)\n",
    "#triangles_table.to_csv('result/TR_NS_network.csv')\n",
    "#Top_Five.to_csv('result/Top_FiveTR_NS_network.csv')"
   ]
  },
  {
   "cell_type": "code",
   "execution_count": 8,
   "metadata": {},
   "outputs": [
    {
     "name": "stdout",
     "output_type": "stream",
     "text": [
      "   nodes_pr        pr\n",
      "1        34  0.063634\n",
      "2         1  0.060638\n",
      "3        33  0.049160\n",
      "4         2  0.039268\n",
      "5         3  0.038933\n"
     ]
    }
   ],
   "source": [
    "def pagerank_Ranking( val ):\n",
    "      return val [1]\n",
    "pagerank = list(nx.pagerank(G, alpha=0.3).items())\n",
    "pagerank.sort(key=lambda elem: elem[1], reverse=True)\n",
    "\n",
    "#print('pagerank_Ranking', pagerank)\n",
    "\n",
    "pagerank_table = pd.DataFrame(pagerank, columns = ('nodes_pr','pr'))\n",
    "Top_Five = pd.DataFrame(pagerank_table.loc[0:4])\n",
    "Top_Five.index = Top_Five.index + 1\n",
    "Top_Five.nodes_pr = Top_Five.nodes_pr + 1\n",
    "print(Top_Five)\n",
    "#pagerank_table.to_csv('result//PR_power_network.csv')\n",
    "#Top_Five.to_csv('result//Top_FivePR_power_network.csv')\n"
   ]
  },
  {
   "cell_type": "code",
   "execution_count": 10,
   "metadata": {},
   "outputs": [],
   "source": [
    "power_table = pd.concat([triangles_table, \n",
    "                         eigenvector_table, \n",
    "                         closeness_table, \n",
    "                         Betweeness_table, \n",
    "                         degree_table,pagerank_table], \n",
    "                                 axis=1, sort=False)\n",
    "\n",
    "#power_table.to_csv('result/kc/cent_KC_network.csv')"
   ]
  },
  {
   "cell_type": "code",
   "execution_count": null,
   "metadata": {},
   "outputs": [],
   "source": []
  },
  {
   "cell_type": "code",
   "execution_count": null,
   "metadata": {},
   "outputs": [],
   "source": []
  }
 ],
 "metadata": {
  "kernelspec": {
   "display_name": "Python 3",
   "language": "python",
   "name": "python3"
  },
  "language_info": {
   "codemirror_mode": {
    "name": "ipython",
    "version": 3
   },
   "file_extension": ".py",
   "mimetype": "text/x-python",
   "name": "python",
   "nbconvert_exporter": "python",
   "pygments_lexer": "ipython3",
   "version": "3.7.1"
  }
 },
 "nbformat": 4,
 "nbformat_minor": 2
}
