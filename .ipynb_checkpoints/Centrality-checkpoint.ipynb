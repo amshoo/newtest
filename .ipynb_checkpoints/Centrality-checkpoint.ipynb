{
 "cells": [
  {
   "cell_type": "code",
   "execution_count": 1,
   "metadata": {},
   "outputs": [],
   "source": [
    "import networkx as nx\n",
    "import numpy as np\n",
    "import matplotlib.pyplot as plt\n",
    "import pandas as pd"
   ]
  },
  {
   "cell_type": "code",
   "execution_count": 2,
   "metadata": {},
   "outputs": [],
   "source": [
    "def graph():    \n",
    "    import graph\n",
    "    Graph = graph.H\n",
    "    return Graph\n",
    "G = graph()\n",
    "#G= nx.karate_club_graph()"
   ]
  },
  {
   "cell_type": "markdown",
   "metadata": {},
   "source": [
    "## 1-Degree Centrality\n",
    "#Ranking degree"
   ]
  },
  {
   "cell_type": "code",
   "execution_count": 3,
   "metadata": {},
   "outputs": [],
   "source": [
    "def Degree_Ranking( val ):\n",
    "      return val [1]\n",
    "degree = list(nx.degree_centrality(G).items())\n",
    "degree.sort(key=lambda elem: elem[1], reverse=True)\n",
    "degree_table = pd.DataFrame(degree, columns = ('DC','DC_i')) "
   ]
  },
  {
   "cell_type": "markdown",
   "metadata": {},
   "source": [
    "## 2-Betweeness Centrality\n",
    "#Ranking degree"
   ]
  },
  {
   "cell_type": "code",
   "execution_count": 4,
   "metadata": {},
   "outputs": [],
   "source": [
    "def Betweeness_Ranking( val ):\n",
    "      return val [1]\n",
    "Betweeness = list(nx.betweenness_centrality(G).items())\n",
    "Betweeness.sort(key=lambda elem: elem[1], reverse=True)\n",
    "Betweeness_table = pd.DataFrame(Betweeness, columns = ('BC','BC_i'))"
   ]
  },
  {
   "cell_type": "markdown",
   "metadata": {},
   "source": [
    "## 3-closeness Centrality\n",
    "#Ranking closeness"
   ]
  },
  {
   "cell_type": "code",
   "execution_count": 5,
   "metadata": {},
   "outputs": [],
   "source": [
    "def closeness_Ranking( val ):\n",
    "      return val [1]\n",
    "closeness = list(nx.closeness_centrality(G).items())\n",
    "closeness.sort(key=lambda elem: elem[1], reverse=True)\n",
    "closeness_table = pd.DataFrame(closeness, columns = ('CNC','CNC_i'))"
   ]
  },
  {
   "cell_type": "markdown",
   "metadata": {},
   "source": [
    "## 4-eigenvector Centrality\n",
    "#Ranking eigenvector"
   ]
  },
  {
   "cell_type": "code",
   "execution_count": 6,
   "metadata": {},
   "outputs": [],
   "source": [
    "def eigenvector_Ranking( val ):\n",
    "      return val [1]\n",
    "eigenvector = list(nx.eigenvector_centrality(G).items())\n",
    "eigenvector.sort(key=lambda elem: elem[1], reverse=True)\n",
    "eigenvector_table = pd.DataFrame(eigenvector, columns = ('EC','EC_i'))"
   ]
  },
  {
   "cell_type": "markdown",
   "metadata": {},
   "source": [
    "## 5-Triangles Centrality\n",
    "#Ranking triangles"
   ]
  },
  {
   "cell_type": "code",
   "execution_count": 7,
   "metadata": {},
   "outputs": [],
   "source": [
    "def triangles_Ranking( val ):\n",
    "      return val [1]\n",
    "triangles = list(nx.triangles(G, nodes=None).items())\n",
    "triangles.sort(key=lambda elem: elem[1], reverse=True)\n",
    "triangles_table = pd.DataFrame(triangles, columns = ('TR','TR_i'))"
   ]
  },
  {
   "cell_type": "markdown",
   "metadata": {},
   "source": [
    "## 6- Pagerank Ranking\n",
    "#Ranking pagerank"
   ]
  },
  {
   "cell_type": "code",
   "execution_count": 8,
   "metadata": {},
   "outputs": [],
   "source": [
    "def pagerank_Ranking( val ):\n",
    "      return val [1]\n",
    "pagerank = list(nx.pagerank(G, alpha=0.3).items())\n",
    "pagerank.sort(key=lambda elem: elem[1], reverse=True)\n",
    "pagerank_table = pd.DataFrame(pagerank, columns = ('PR','PR_i'))"
   ]
  },
  {
   "cell_type": "code",
   "execution_count": 9,
   "metadata": {},
   "outputs": [],
   "source": [
    "power_table = pd.concat([triangles_table,eigenvector_table, \n",
    "                         closeness_table,Betweeness_table, \n",
    "                         degree_table,pagerank_table], \n",
    "                                 axis=1, sort=False)\n",
    "power_table.index = power_table.index + 1\n",
    "Top_ = pd.DataFrame(power_table.loc[0:5])"
   ]
  },
  {
   "cell_type": "code",
   "execution_count": 12,
   "metadata": {},
   "outputs": [],
   "source": [
    "#power_table.to_csv('result/dolphins--/cent/cent_dolphins_network.csv')#save Classical Centrality rankings\n",
    "#Top_.to_csv('result/dolphins--/cent/Top_cent_dolphins.csv')#save top three ranking of the Classical Centrality"
   ]
  },
  {
   "cell_type": "code",
   "execution_count": 11,
   "metadata": {},
   "outputs": [
    {
     "data": {
      "text/html": [
       "<div>\n",
       "<style scoped>\n",
       "    .dataframe tbody tr th:only-of-type {\n",
       "        vertical-align: middle;\n",
       "    }\n",
       "\n",
       "    .dataframe tbody tr th {\n",
       "        vertical-align: top;\n",
       "    }\n",
       "\n",
       "    .dataframe thead th {\n",
       "        text-align: right;\n",
       "    }\n",
       "</style>\n",
       "<table border=\"1\" class=\"dataframe\">\n",
       "  <thead>\n",
       "    <tr style=\"text-align: right;\">\n",
       "      <th></th>\n",
       "      <th>TR</th>\n",
       "      <th>TR_i</th>\n",
       "      <th>EC</th>\n",
       "      <th>EC_i</th>\n",
       "      <th>CNC</th>\n",
       "      <th>CNC_i</th>\n",
       "      <th>BC</th>\n",
       "      <th>BC_i</th>\n",
       "      <th>DC</th>\n",
       "      <th>DC_i</th>\n",
       "      <th>PR</th>\n",
       "      <th>PR_i</th>\n",
       "    </tr>\n",
       "  </thead>\n",
       "  <tbody>\n",
       "    <tr>\n",
       "      <th>1</th>\n",
       "      <td>15</td>\n",
       "      <td>17</td>\n",
       "      <td>15</td>\n",
       "      <td>0.315781</td>\n",
       "      <td>37</td>\n",
       "      <td>0.417808</td>\n",
       "      <td>37</td>\n",
       "      <td>0.248237</td>\n",
       "      <td>15</td>\n",
       "      <td>0.196721</td>\n",
       "      <td>52</td>\n",
       "      <td>0.025954</td>\n",
       "    </tr>\n",
       "    <tr>\n",
       "      <th>2</th>\n",
       "      <td>46</td>\n",
       "      <td>17</td>\n",
       "      <td>38</td>\n",
       "      <td>0.300561</td>\n",
       "      <td>41</td>\n",
       "      <td>0.403974</td>\n",
       "      <td>2</td>\n",
       "      <td>0.213324</td>\n",
       "      <td>38</td>\n",
       "      <td>0.180328</td>\n",
       "      <td>18</td>\n",
       "      <td>0.024837</td>\n",
       "    </tr>\n",
       "    <tr>\n",
       "      <th>3</th>\n",
       "      <td>34</td>\n",
       "      <td>15</td>\n",
       "      <td>46</td>\n",
       "      <td>0.285003</td>\n",
       "      <td>38</td>\n",
       "      <td>0.398693</td>\n",
       "      <td>41</td>\n",
       "      <td>0.143150</td>\n",
       "      <td>46</td>\n",
       "      <td>0.180328</td>\n",
       "      <td>58</td>\n",
       "      <td>0.022808</td>\n",
       "    </tr>\n",
       "    <tr>\n",
       "      <th>4</th>\n",
       "      <td>14</td>\n",
       "      <td>14</td>\n",
       "      <td>34</td>\n",
       "      <td>0.281097</td>\n",
       "      <td>21</td>\n",
       "      <td>0.391026</td>\n",
       "      <td>38</td>\n",
       "      <td>0.138570</td>\n",
       "      <td>52</td>\n",
       "      <td>0.163934</td>\n",
       "      <td>34</td>\n",
       "      <td>0.021331</td>\n",
       "    </tr>\n",
       "    <tr>\n",
       "      <th>5</th>\n",
       "      <td>58</td>\n",
       "      <td>13</td>\n",
       "      <td>51</td>\n",
       "      <td>0.217691</td>\n",
       "      <td>15</td>\n",
       "      <td>0.376543</td>\n",
       "      <td>8</td>\n",
       "      <td>0.118239</td>\n",
       "      <td>34</td>\n",
       "      <td>0.163934</td>\n",
       "      <td>30</td>\n",
       "      <td>0.021217</td>\n",
       "    </tr>\n",
       "  </tbody>\n",
       "</table>\n",
       "</div>"
      ],
      "text/plain": [
       "   TR  TR_i  EC      EC_i  CNC     CNC_i  BC      BC_i  DC      DC_i  PR  \\\n",
       "1  15    17  15  0.315781   37  0.417808  37  0.248237  15  0.196721  52   \n",
       "2  46    17  38  0.300561   41  0.403974   2  0.213324  38  0.180328  18   \n",
       "3  34    15  46  0.285003   38  0.398693  41  0.143150  46  0.180328  58   \n",
       "4  14    14  34  0.281097   21  0.391026  38  0.138570  52  0.163934  34   \n",
       "5  58    13  51  0.217691   15  0.376543   8  0.118239  34  0.163934  30   \n",
       "\n",
       "       PR_i  \n",
       "1  0.025954  \n",
       "2  0.024837  \n",
       "3  0.022808  \n",
       "4  0.021331  \n",
       "5  0.021217  "
      ]
     },
     "execution_count": 11,
     "metadata": {},
     "output_type": "execute_result"
    }
   ],
   "source": [
    "Top_ "
   ]
  },
  {
   "cell_type": "code",
   "execution_count": null,
   "metadata": {},
   "outputs": [],
   "source": []
  }
 ],
 "metadata": {
  "kernelspec": {
   "display_name": "Python 3",
   "language": "python",
   "name": "python3"
  },
  "language_info": {
   "codemirror_mode": {
    "name": "ipython",
    "version": 3
   },
   "file_extension": ".py",
   "mimetype": "text/x-python",
   "name": "python",
   "nbconvert_exporter": "python",
   "pygments_lexer": "ipython3",
   "version": "3.6.5"
  }
 },
 "nbformat": 4,
 "nbformat_minor": 2
}
