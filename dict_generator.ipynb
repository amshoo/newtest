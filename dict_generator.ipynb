{
 "cells": [
  {
   "cell_type": "code",
   "execution_count": 18,
   "metadata": {},
   "outputs": [],
   "source": [
    "import networkx as nx\n",
    "import numpy as np\n",
    "import matplotlib.pyplot as plt\n",
    "import pandas as pd"
   ]
  },
  {
   "cell_type": "code",
   "execution_count": 30,
   "metadata": {},
   "outputs": [],
   "source": [
    "#read dataset \n",
    "fh=open(\"DataSet/dataset_name.txt\", 'rb')\n",
    "H = nx.read_weighted_edgelist(fh,nodetype=None, encoding='utf-8')\n",
    "fh.close()"
   ]
  },
  {
   "cell_type": "code",
   "execution_count": 33,
   "metadata": {},
   "outputs": [],
   "source": [
    "#return the original node_name and the new_assign_name. \n",
    "def nodes():\n",
    "    n_name =[]\n",
    "    i = 1\n",
    "    for j in H.nodes: \n",
    "        E = (j, i)\n",
    "        i+=1\n",
    "        n_name.append(E)            \n",
    "    return  n_name\n",
    "n_name = pd.DataFrame(nodes(),columns = ('nodes_name','new_name'))\n",
    "#n_name.to_csv('result/dataset_name_dict.csv')"
   ]
  }
 ],
 "metadata": {
  "kernelspec": {
   "display_name": "Python 3",
   "language": "python",
   "name": "python3"
  },
  "language_info": {
   "codemirror_mode": {
    "name": "ipython",
    "version": 3
   },
   "file_extension": ".py",
   "mimetype": "text/x-python",
   "name": "python",
   "nbconvert_exporter": "python",
   "pygments_lexer": "ipython3",
   "version": "3.6.5"
  }
 },
 "nbformat": 4,
 "nbformat_minor": 2
}
