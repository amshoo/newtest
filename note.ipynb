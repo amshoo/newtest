{
 "cells": [
  {
   "cell_type": "markdown",
   "metadata": {},
   "source": [
    "# plot graph\n",
    "#H = subgraph_of(0)\n",
    "#nx.draw(H, with_labels = True, data=True)\n",
    "#fig = plt.figure()\n",
    "#draw = plt.show()\n",
    "pos = nx.spring_layout(H)\n",
    "betCent = nx.betweenness_centrality(H, normalized=True, endpoints=True)\n",
    "node_color = [20000.0 * H.degree(v) for v in H]\n",
    "node_size =  [v * 10000 for v in betCent.values()]\n",
    "plt.figure(figsize=(20,20))\n",
    "nx.draw_networkx(H, pos=pos, with_labels = True,\n",
    "                 node_color=node_color,\n",
    "                 node_size=node_size )\n",
    "plt.axis('off')"
   ]
  },
  {
   "cell_type": "markdown",
   "metadata": {},
   "source": [
    "# plot line graph and save as pdf,png. \n",
    "import numpy as np \n",
    "y = [2,4,6,8,10,12,14,16,18,20]\n",
    "x = np.arange(10)\n",
    "fig = plt.figure()\n",
    "ax = plt.subplot(111)\n",
    "ax.plot(x, y, label='$y = numbers')\n",
    "plt.title('E')\n",
    "ax.legend()\n",
    "plt.show()\n",
    "fig.savefig('plot.pdf') \n",
    "fig.savefig('plot.png')"
   ]
  },
  {
   "cell_type": "markdown",
   "metadata": {},
   "source": [
    "# Filename to write\n",
    "filename = \"newfile.txt\" \n",
    "#Open the file with writing permission\n",
    "Table = open(filename, 'w') \n",
    "#Write a line to the file\n",
    "Table.write('Written with Python\\n')\n",
    " \n",
    "#Close the file\n",
    "Table.close()"
   ]
  },
  {
   "cell_type": "markdown",
   "metadata": {},
   "source": [
    "# Basic Subplot - Data for plotting\n",
    "x1 = X2\n",
    "x2 = X1\n",
    "\n",
    "y1 = Y2\n",
    "y2 = Y1\n",
    "\n",
    "# Create two subplots sharing y axis\n",
    "fig, (ax1, ax2) = plt.subplots(2,1)\n",
    "\n",
    "ax1.plot(x1, y1, 'ko-')\n",
    "ax1.set(title='A tale of 2 subplots', ylabel='Damped oscillation')\n",
    "\n",
    "ax2.plot(x2, y2, 'r.-')\n",
    "ax2.set(title='A tale of 2 subplots',xlabel='time (s)', ylabel='Undamped')\n",
    "\n",
    "plt.show()\n",
    "\n",
    "#adding constrained_layout=True automatically adjusts.\n",
    "#https://matplotlib.org"
   ]
  },
  {
   "cell_type": "markdown",
   "metadata": {},
   "source": [
    "# Output a DataFrame to CSV\n",
    "df.to_csv('myDataFrame.csv')\n",
    "# To delimit by a tab, use the sep argument:\n",
    "df.to_csv('myDataFrame.csv', sep='\\t')\n",
    "# To use a specific character encoding, you can use the encoding argument:\n",
    "df.to_csv('myDataFrame.csv', sep='\\t', encoding='utf-8')"
   ]
  },
  {
   "cell_type": "markdown",
   "metadata": {},
   "source": [
    "# return 1x1 dataframe into anumpy array, then access the first and only value\n",
    "val=data['col_name'].value[0]"
   ]
  },
  {
   "cell_type": "markdown",
   "metadata": {},
   "source": [
    "# call value from using index\n",
    "#TC_i = First_Five.loc[First_Five['nodes_tc'] == i, 'TC_i'].values[0]"
   ]
  },
  {
   "cell_type": "markdown",
   "metadata": {},
   "source": [
    "# Output a DataFrame to CSV\n",
    "#First_Five.to_csv('result/top_five_kc_network.csv')\n",
    "# To use a specific character encoding, you can use the encoding argument:\n",
    "#df.to_csv('myDataFrame.csv', sep='\\t', encoding='utf-8')"
   ]
  },
  {
   "cell_type": "markdown",
   "metadata": {},
   "source": [
    "# e = G.nodes()\n",
    "G.remove_nodes_from(e)\n",
    "#G.nodes()"
   ]
  },
  {
   "cell_type": "code",
   "execution_count": null,
   "metadata": {},
   "outputs": [],
   "source": []
  }
 ],
 "metadata": {
  "kernelspec": {
   "display_name": "Python 3",
   "language": "python",
   "name": "python3"
  },
  "language_info": {
   "codemirror_mode": {
    "name": "ipython",
    "version": 3
   },
   "file_extension": ".py",
   "mimetype": "text/x-python",
   "name": "python",
   "nbconvert_exporter": "python",
   "pygments_lexer": "ipython3",
   "version": "3.6.5"
  }
 },
 "nbformat": 4,
 "nbformat_minor": 2
}
