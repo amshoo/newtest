{
 "cells": [
  {
   "cell_type": "code",
   "execution_count": 1,
   "metadata": {},
   "outputs": [],
   "source": [
    "\n",
    "import networkx as nx\n",
    "import numpy as np\n",
    "import matplotlib.pyplot as plt\n",
    "import pandas as pd"
   ]
  },
  {
   "cell_type": "code",
   "execution_count": 2,
   "metadata": {},
   "outputs": [],
   "source": [
    "def graph():    \n",
    "    import graph\n",
    "    Graph = graph.H\n",
    "    return Graph\n",
    "G = graph()"
   ]
  },
  {
   "cell_type": "code",
   "execution_count": 3,
   "metadata": {
    "scrolled": true
   },
   "outputs": [],
   "source": [
    "#MatrixAdjacency_Net,MaxNodeNum = pre.Init(filepath)"
   ]
  },
  {
   "cell_type": "code",
   "execution_count": 4,
   "metadata": {},
   "outputs": [],
   "source": [
    "#A = nx.adjacency_matrix(G)"
   ]
  },
  {
   "cell_type": "code",
   "execution_count": 5,
   "metadata": {},
   "outputs": [],
   "source": [
    "from itertools import combinations\n",
    "def nodes_in_triangle(G, n):\n",
    "    \"\"\"\n",
    "    Returns the nodes in a graph `G` that are involved in a triangle relationship with the node `n`.\n",
    "    \"\"\"\n",
    "    triangle_nodes = set([n])\n",
    "\n",
    "    # Iterate over all possible triangle relationship combinations\n",
    "    for n1, n2 in combinations(G.neighbors(n), 2):\n",
    "\n",
    "        # Check if n1 and n2 have an edge between them\n",
    "        if G.has_edge(n1, n2):\n",
    "\n",
    "            # Add n1 to triangle_nodes\n",
    "            triangle_nodes.add(n1)\n",
    "\n",
    "            # Add n2 to triangle_nodes\n",
    "            triangle_nodes.add(n2)\n",
    "\n",
    "    return triangle_nodes"
   ]
  },
  {
   "cell_type": "code",
   "execution_count": 6,
   "metadata": {},
   "outputs": [],
   "source": [
    "#return subgraphs\n",
    "def subgraph_of(i):\n",
    "    subgraph = G.subgraph(nodes_in_triangle(G, i))\n",
    "    return  subgraph  \n",
    "#all_members"
   ]
  },
  {
   "cell_type": "code",
   "execution_count": 7,
   "metadata": {},
   "outputs": [],
   "source": [
    "# number of triangles:"
   ]
  },
  {
   "cell_type": "markdown",
   "metadata": {},
   "source": [
    "# def nodes():\n",
    "    n_name =[]\n",
    "    i = 1\n",
    "    for j in H.nodes: \n",
    "        E = (j, i)\n",
    "        i+=1\n",
    "        n_name.append(E)            \n",
    "    return  n_name\n",
    "n_name = pd.DataFrame(nodes(),columns = ('nodes_name','new_name'))"
   ]
  },
  {
   "cell_type": "code",
   "execution_count": 8,
   "metadata": {},
   "outputs": [],
   "source": [
    "#n_name.to_csv('result/rt-retweet_dict.csv')"
   ]
  },
  {
   "cell_type": "markdown",
   "metadata": {},
   "source": [
    "# Centrality Measures"
   ]
  },
  {
   "cell_type": "code",
   "execution_count": 9,
   "metadata": {},
   "outputs": [
    {
     "data": {
      "text/plain": [
       "[(14, 0.1411764705882353),\n",
       " (29, 0.12941176470588234),\n",
       " (7, 0.11764705882352941),\n",
       " (11, 0.11764705882352941),\n",
       " (28, 0.09411764705882353),\n",
       " (21, 0.08235294117647059),\n",
       " (4, 0.07058823529411765),\n",
       " (8, 0.07058823529411765),\n",
       " (30, 0.07058823529411765),\n",
       " (52, 0.07058823529411765),\n",
       " (15, 0.058823529411764705),\n",
       " (68, 0.058823529411764705),\n",
       " (0, 0.047058823529411764),\n",
       " (3, 0.047058823529411764),\n",
       " (5, 0.047058823529411764),\n",
       " (6, 0.047058823529411764),\n",
       " (9, 0.047058823529411764),\n",
       " (23, 0.047058823529411764),\n",
       " (38, 0.047058823529411764),\n",
       " (46, 0.047058823529411764),\n",
       " (60, 0.047058823529411764),\n",
       " (25, 0.03529411764705882),\n",
       " (32, 0.03529411764705882),\n",
       " (33, 0.03529411764705882),\n",
       " (44, 0.03529411764705882),\n",
       " (56, 0.03529411764705882),\n",
       " (57, 0.03529411764705882),\n",
       " (58, 0.03529411764705882),\n",
       " (59, 0.03529411764705882),\n",
       " (61, 0.03529411764705882),\n",
       " (66, 0.03529411764705882),\n",
       " (69, 0.03529411764705882),\n",
       " (77, 0.03529411764705882),\n",
       " (79, 0.03529411764705882),\n",
       " (80, 0.03529411764705882),\n",
       " (1, 0.023529411764705882),\n",
       " (2, 0.023529411764705882),\n",
       " (10, 0.023529411764705882),\n",
       " (12, 0.023529411764705882),\n",
       " (13, 0.023529411764705882),\n",
       " (18, 0.023529411764705882),\n",
       " (20, 0.023529411764705882),\n",
       " (24, 0.023529411764705882),\n",
       " (26, 0.023529411764705882),\n",
       " (27, 0.023529411764705882),\n",
       " (31, 0.023529411764705882),\n",
       " (35, 0.023529411764705882),\n",
       " (36, 0.023529411764705882),\n",
       " (41, 0.023529411764705882),\n",
       " (42, 0.023529411764705882),\n",
       " (45, 0.023529411764705882),\n",
       " (48, 0.023529411764705882),\n",
       " (50, 0.023529411764705882),\n",
       " (53, 0.023529411764705882),\n",
       " (54, 0.023529411764705882),\n",
       " (55, 0.023529411764705882),\n",
       " (63, 0.023529411764705882),\n",
       " (65, 0.023529411764705882),\n",
       " (73, 0.023529411764705882),\n",
       " (75, 0.023529411764705882),\n",
       " (76, 0.023529411764705882),\n",
       " (78, 0.023529411764705882),\n",
       " (16, 0.011764705882352941),\n",
       " (17, 0.011764705882352941),\n",
       " (19, 0.011764705882352941),\n",
       " (22, 0.011764705882352941),\n",
       " (34, 0.011764705882352941),\n",
       " (37, 0.011764705882352941),\n",
       " (39, 0.011764705882352941),\n",
       " (40, 0.011764705882352941),\n",
       " (43, 0.011764705882352941),\n",
       " (47, 0.011764705882352941),\n",
       " (49, 0.011764705882352941),\n",
       " (51, 0.011764705882352941),\n",
       " (62, 0.011764705882352941),\n",
       " (64, 0.011764705882352941),\n",
       " (67, 0.011764705882352941),\n",
       " (70, 0.011764705882352941),\n",
       " (71, 0.011764705882352941),\n",
       " (72, 0.011764705882352941),\n",
       " (74, 0.011764705882352941),\n",
       " (81, 0.011764705882352941),\n",
       " (82, 0.011764705882352941),\n",
       " (83, 0.011764705882352941),\n",
       " (84, 0.011764705882352941),\n",
       " (85, 0.011764705882352941)]"
      ]
     },
     "execution_count": 9,
     "metadata": {},
     "output_type": "execute_result"
    }
   ],
   "source": [
    "#1-Degree Centrality\n",
    "def degree_centrality(G): \n",
    "    if len(G) <= 1:\n",
    "        return {n: 1 for n in G}\n",
    "\n",
    "    s = 1.0 / (len(G) - 1.0)\n",
    "    centrality = {n: d * s for n, d in G.degree()}\n",
    "    return centrality\n",
    "#Ranking degree\n",
    "def Degree_Ranking( val ):\n",
    "      return val [1]\n",
    "degree = list(degree_centrality(G).items())\n",
    "degree.sort(key=lambda elem: elem[1], reverse=True)\n",
    "\n",
    "#print('PI_Ranking', degree)\n",
    "degree"
   ]
  },
  {
   "cell_type": "code",
   "execution_count": null,
   "metadata": {},
   "outputs": [],
   "source": []
  },
  {
   "cell_type": "code",
   "execution_count": 10,
   "metadata": {},
   "outputs": [],
   "source": [
    "#2-Betweeness Centrality"
   ]
  },
  {
   "cell_type": "markdown",
   "metadata": {},
   "source": [
    "# plot graph\n",
    "#H = subgraph_of(0)\n",
    "#nx.draw(H, with_labels = True, data=True)\n",
    "#fig = plt.figure()\n",
    "#draw = plt.show()\n",
    "pos = nx.spring_layout(H)\n",
    "betCent = nx.betweenness_centrality(H, normalized=True, endpoints=True)\n",
    "node_color = [20000.0 * H.degree(v) for v in H]\n",
    "node_size =  [v * 10000 for v in betCent.values()]\n",
    "plt.figure(figsize=(20,20))\n",
    "nx.draw_networkx(H, pos=pos, with_labels = True,\n",
    "                 node_color=node_color,\n",
    "                 node_size=node_size )\n",
    "plt.axis('off')"
   ]
  },
  {
   "cell_type": "markdown",
   "metadata": {},
   "source": [
    "# plot line graph and save as pdf,png. \n",
    "import numpy as np \n",
    "y = [2,4,6,8,10,12,14,16,18,20]\n",
    "x = np.arange(10)\n",
    "fig = plt.figure()\n",
    "ax = plt.subplot(111)\n",
    "ax.plot(x, y, label='$y = numbers')\n",
    "plt.title('E')\n",
    "ax.legend()\n",
    "plt.show()\n",
    "fig.savefig('plot.pdf') \n",
    "fig.savefig('plot.png')"
   ]
  },
  {
   "cell_type": "markdown",
   "metadata": {},
   "source": [
    "# Filename to write\n",
    "filename = \"newfile.txt\" \n",
    "#Open the file with writing permission\n",
    "Table = open(filename, 'w') \n",
    "#Write a line to the file\n",
    "Table.write('Written with Python\\n')\n",
    " \n",
    "#Close the file\n",
    "Table.close()"
   ]
  },
  {
   "cell_type": "markdown",
   "metadata": {},
   "source": [
    "# Basic Subplot - Data for plotting\n",
    "x1 = X2\n",
    "x2 = X1\n",
    "\n",
    "y1 = Y2\n",
    "y2 = Y1\n",
    "\n",
    "# Create two subplots sharing y axis\n",
    "fig, (ax1, ax2) = plt.subplots(2,1)\n",
    "\n",
    "ax1.plot(x1, y1, 'ko-')\n",
    "ax1.set(title='A tale of 2 subplots', ylabel='Damped oscillation')\n",
    "\n",
    "ax2.plot(x2, y2, 'r.-')\n",
    "ax2.set(title='A tale of 2 subplots',xlabel='time (s)', ylabel='Undamped')\n",
    "\n",
    "plt.show()\n",
    "\n",
    "#adding constrained_layout=True automatically adjusts.\n",
    "#https://matplotlib.org"
   ]
  },
  {
   "cell_type": "markdown",
   "metadata": {},
   "source": [
    "# Output a DataFrame to CSV\n",
    "df.to_csv('myDataFrame.csv')\n",
    "# To delimit by a tab, use the sep argument:\n",
    "df.to_csv('myDataFrame.csv', sep='\\t')\n",
    "# To use a specific character encoding, you can use the encoding argument:\n",
    "df.to_csv('myDataFrame.csv', sep='\\t', encoding='utf-8')"
   ]
  }
 ],
 "metadata": {
  "kernelspec": {
   "display_name": "Python 3",
   "language": "python",
   "name": "python3"
  },
  "language_info": {
   "codemirror_mode": {
    "name": "ipython",
    "version": 3
   },
   "file_extension": ".py",
   "mimetype": "text/x-python",
   "name": "python",
   "nbconvert_exporter": "python",
   "pygments_lexer": "ipython3",
   "version": "3.7.1"
  }
 },
 "nbformat": 4,
 "nbformat_minor": 2
}
