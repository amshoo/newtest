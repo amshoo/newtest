{
 "cells": [
  {
   "cell_type": "code",
   "execution_count": 1,
   "metadata": {},
   "outputs": [],
   "source": [
    "import networkx as nx\n",
    "import numpy as np\n",
    "import matplotlib.pyplot as plt\n",
    "import pandas as pd\n",
    "import math"
   ]
  },
  {
   "cell_type": "code",
   "execution_count": 2,
   "metadata": {},
   "outputs": [],
   "source": [
    "import Selection_Algorithm\n",
    "#print('List of Valid Selected Set nodes', Selection_Algorithm.sel_subgraphs())\n",
    "#return subgraphs of Node i = k\n",
    "#i=0\n",
    "#print('nodes in subgraphs of Node i', Selection_Algorithm.subgraph_of(i).nodes)\n",
    "#return nodes and number of triangle \n",
    "#print('nodes with number of triangle in subgraphs of Node i', Selection_Algorithm.Selection_Algorithm())"
   ]
  },
  {
   "cell_type": "code",
   "execution_count": 3,
   "metadata": {},
   "outputs": [],
   "source": [
    "#Calcullating the TC_of node i\n",
    "import Tr_centrality_measure\n",
    "#return TC_of node i\n",
    "#i=0\n",
    "#print('TC_list', Tr_centrality_measure.TC_of(i))\n",
    "#Tr_centrality_measure.TC_of(i)\n",
    "#print('TC_list', Tr_centrality_measure.loop_TC())"
   ]
  },
  {
   "cell_type": "code",
   "execution_count": 4,
   "metadata": {},
   "outputs": [],
   "source": [
    "#Ranking\n",
    "def TC_Ranking( val ):\n",
    "      return val [1]\n",
    "\n",
    "TC_Rank = Tr_centrality_measure.loop_TC()\n",
    "TC_Rank.sort(key=lambda elem: elem[1])\n",
    "#print('TC_Ranking', TC_Rank)"
   ]
  },
  {
   "cell_type": "code",
   "execution_count": 5,
   "metadata": {},
   "outputs": [],
   "source": [
    "#Calcullating the PI_of node i\n",
    "import Graph_Entropy_measure\n",
    "#Tr_centrality_measure.TC_of(i)\n",
    "#return PI_of node i\n",
    "#i=0\n",
    "#print('TC_list', Graph_Entropy_measure.PI_of(i))\n",
    "\n",
    "#print('TC_list', Graph_Entropy_measure.loop_PI())"
   ]
  },
  {
   "cell_type": "code",
   "execution_count": 6,
   "metadata": {},
   "outputs": [],
   "source": [
    "#Ranking\n",
    "def PI_Ranking( val ):\n",
    "      return val [1]\n",
    "\n",
    "PI_Rank = Graph_Entropy_measure.loop_PI()\n",
    "PI_Rank.sort(key=lambda elem: elem[1])\n",
    "\n",
    "#print('PI_Ranking', PI_Rank)"
   ]
  },
  {
   "cell_type": "code",
   "execution_count": 7,
   "metadata": {},
   "outputs": [],
   "source": [
    "#Calcullating the CC_of node i\n",
    "import Constraint_Coefficient\n",
    "#Constraint_Coefficient.constraint(Constraint_Coefficient.H, nodes=None, weight=None)\n",
    "#print('CC_list', Constraint_Coefficient.CC_of(i))"
   ]
  },
  {
   "cell_type": "code",
   "execution_count": 8,
   "metadata": {},
   "outputs": [],
   "source": [
    "#Ranking\n",
    "#return sorted list of node and it Constraint_Coefficient\n",
    "sorted_x = sorted(Constraint_Coefficient.constraint(Constraint_Coefficient.H, nodes=None, weight=None).items(), \n",
    "                  key=Constraint_Coefficient.operator.itemgetter(1))\n",
    "#print('CC_Ranking', sorted_x)\n",
    "from operator import itemgetter\n",
    "# using map() + itergetter() to get names \n",
    "CC_list = list(map(itemgetter(0), sorted_x))   \n",
    "CC_Rank_list = [x+1 for x in CC_list]\n",
    "#return the ranking of CC in all selected node form Graph G.\n",
    "#CC_Rank_list"
   ]
  },
  {
   "cell_type": "code",
   "execution_count": 9,
   "metadata": {},
   "outputs": [],
   "source": [
    "#Calcullating the TPN_of node i\n",
    "#import Total_Power_of_Node"
   ]
  },
  {
   "cell_type": "code",
   "execution_count": 10,
   "metadata": {},
   "outputs": [],
   "source": [
    "#Ranking Result For all the Measures \n",
    "#[PI_Rank, sorted_x, TC_Rank]\n",
    "#for value in TC_Rank:\n",
    "   # print(value[0], value[1])\n",
    "    #print(*value,sep='|')"
   ]
  },
  {
   "cell_type": "code",
   "execution_count": 11,
   "metadata": {},
   "outputs": [
    {
     "name": "stdout",
     "output_type": "stream",
     "text": [
      "    nodes    TC_i  nodes    PI_i  nodes      CC_i\n",
      "0      15  0.6471     15  0.2772     30  0.127697\n",
      "1       5  0.6923     53  0.3182      8  0.145067\n",
      "2       9  0.6923     22  0.4513     12  0.156136\n",
      "3      22  0.7273     39  0.4561     15  0.164942\n",
      "4      53  0.7273     80  0.4761     29  0.208264\n",
      "5       4  0.7500     81  0.4761     31  0.265095\n",
      "6       7  0.7500     16  0.4774     22  0.327664\n",
      "7      10  0.7500      6  0.4925     16  0.336007\n",
      "8      30  0.7500      8  0.5077     69  0.349514\n",
      "9       8  0.7778     30  0.5306     53  0.370186\n",
      "10     12  0.7778     67  0.5416     61  0.372118\n",
      "11     29  0.7778     69  0.5609      5  0.393565\n",
      "12     16  0.8125     61  0.5781     39  0.399184\n",
      "13      6  0.8571     57  0.5787      6  0.419942\n",
      "14     69  0.8571     58  0.5787      9  0.428434\n",
      "15     31  0.9167     59  0.5787     78  0.530069\n",
      "16     57  0.9167      9  0.6011     67  0.601080\n",
      "17     58  0.9167     29  0.6053      4  0.660590\n",
      "18     59  0.9167     31  0.6154      7  0.660590\n",
      "19     61  0.9167     78  0.6233     10  0.660590\n",
      "20     80  0.9167     12  0.6341     80  0.682666\n",
      "21     81  0.9167      4  0.6691     81  0.682666\n",
      "22     39  1.0000      7  0.6691     57  0.754630\n",
      "23     67  1.0000     10  0.6691     58  0.754630\n",
      "24     78  1.0000      5  0.6792     59  0.754630\n"
     ]
    }
   ],
   "source": [
    "TC_table = pd.DataFrame(TC_Rank, columns = ('nodes','TC_i'))\n",
    "PI_table = pd.DataFrame(PI_Rank, columns = ('nodes','PI_i'))\n",
    "CC_table = pd.DataFrame(sorted_x, columns = ('nodes','CC_i'))\n",
    "CC_table.nodes = CC_table.nodes + 1\n",
    "Result_table = pd.concat([TC_table, PI_table, CC_table], axis=1, sort=False)\n",
    "\n",
    "First_Five = pd.DataFrame(Result_table.loc[0:4])\n",
    "First_Five.index = First_Five.index + 1\n",
    "\n",
    "\n",
    "print(Result_table)\n",
    "#Result_table.to_csv('result/KC.csv')"
   ]
  },
  {
   "cell_type": "code",
   "execution_count": 12,
   "metadata": {},
   "outputs": [],
   "source": [
    "#Selection_Algorithm.subgraph_of(19).edges()"
   ]
  },
  {
   "cell_type": "code",
   "execution_count": 13,
   "metadata": {},
   "outputs": [],
   "source": [
    "# Output a DataFrame to CSV\n",
    "#First_Five.to_csv('result/top_five_kc_network.csv')\n",
    "# To use a specific character encoding, you can use the encoding argument:\n",
    "#df.to_csv('myDataFrame.csv', sep='\\t', encoding='utf-8')"
   ]
  },
  {
   "cell_type": "code",
   "execution_count": 14,
   "metadata": {},
   "outputs": [],
   "source": [
    "#PI_table.plot.scatter(x='nodes', y = 'PI_i');\n",
    "#ax = PI_table.plot.scatter(x='nodes', y='PI_i', color='DarkBlue', label='Group 1', s= PI_table['PI_i'] * 200);\n",
    "#TC_table.plot.scatter(x='nodes', y='TC_i', color='DarkGreen', label='Group 2', s= TC_table['TC_i'] * 200, ax=ax);"
   ]
  },
  {
   "cell_type": "code",
   "execution_count": 15,
   "metadata": {},
   "outputs": [],
   "source": [
    "#First_TC_table = pd.DataFrame(TC_table.loc[0:4])\n",
    "#First_PI_table = pd.DataFrame(PI_table.loc[0:4])\n",
    "#First_CC_table = pd.DataFrame(CC_table.loc[0:4])\n",
    "#result = pd.merge(First_PI_table, First_TC_table,  how ='inner', on ='nodes')\n",
    "#result1 = pd.merge(result, First_CC_table ,how ='inner', on ='nodes')\n",
    "#result1"
   ]
  },
  {
   "cell_type": "code",
   "execution_count": null,
   "metadata": {},
   "outputs": [],
   "source": []
  }
 ],
 "metadata": {
  "kernelspec": {
   "display_name": "Python 3",
   "language": "python",
   "name": "python3"
  },
  "language_info": {
   "codemirror_mode": {
    "name": "ipython",
    "version": 3
   },
   "file_extension": ".py",
   "mimetype": "text/x-python",
   "name": "python",
   "nbconvert_exporter": "python",
   "pygments_lexer": "ipython3",
   "version": "3.7.1"
  }
 },
 "nbformat": 4,
 "nbformat_minor": 2
}
