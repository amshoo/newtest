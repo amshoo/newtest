{
 "cells": [
  {
   "cell_type": "code",
   "execution_count": 1,
   "metadata": {},
   "outputs": [],
   "source": [
    "import networkx as nx\n",
    "import numpy as np\n",
    "import matplotlib.pyplot as plt\n",
    "import pandas as pd\n",
    "import math"
   ]
  },
  {
   "cell_type": "code",
   "execution_count": 2,
   "metadata": {},
   "outputs": [],
   "source": [
    "import Selection_Algorithm\n",
    "#print('List of Valid Selected Set nodes', Selection_Algorithm.sel_subgraphs())\n",
    "#return subgraphs of Node i = k\n",
    "#i=0\n",
    "#print('nodes in subgraphs of Node i', Selection_Algorithm.subgraph_of(i).nodes)\n",
    "#return nodes and number of triangle \n",
    "#print('nodes with number of triangle in subgraphs of Node i', Selection_Algorithm.Selection_Algorithm())"
   ]
  },
  {
   "cell_type": "code",
   "execution_count": 3,
   "metadata": {},
   "outputs": [],
   "source": [
    "#Calcullating the TC_of node i\n",
    "import Tr_centrality_measure\n",
    "#return TC_of node i\n",
    "#i=0\n",
    "#print('TC_list', Tr_centrality_measure.TC_of(i))\n",
    "#Tr_centrality_measure.TC_of(i)\n",
    "#print('TC_list', Tr_centrality_measure.loop_TC())"
   ]
  },
  {
   "cell_type": "code",
   "execution_count": 4,
   "metadata": {},
   "outputs": [],
   "source": [
    "#Ranking\n",
    "def TC_Ranking( val ):\n",
    "      return val [1]\n",
    "\n",
    "TC_Rank = Tr_centrality_measure.loop_TC()\n",
    "TC_Rank.sort(key=lambda elem: elem[1])\n",
    "\n",
    "#print('TC_Ranking', TC_Rank)"
   ]
  },
  {
   "cell_type": "code",
   "execution_count": null,
   "metadata": {},
   "outputs": [],
   "source": [
    "#Calcullating the PI_of node i\n",
    "import Graph_Entropy_measure\n",
    "#Tr_centrality_measure.TC_of(i)\n",
    "#return PI_of node i\n",
    "#i=0\n",
    "#print('TC_list', Graph_Entropy_measure.PI_of(i))\n",
    "\n",
    "print('TC_list', Graph_Entropy_measure.loop_PI())"
   ]
  },
  {
   "cell_type": "code",
   "execution_count": null,
   "metadata": {},
   "outputs": [],
   "source": [
    "#Ranking\n",
    "def PI_Ranking( val ):\n",
    "      return val [1]\n",
    "\n",
    "PI_Rank = Graph_Entropy_measure.loop_PI()\n",
    "PI_Rank.sort(key=lambda elem: elem[1])\n",
    "\n",
    "print('PI_Ranking', PI_Rank)"
   ]
  },
  {
   "cell_type": "code",
   "execution_count": null,
   "metadata": {},
   "outputs": [],
   "source": [
    "#Calcullating the CC_of node i\n",
    "import Constraint_Coefficient\n",
    "#Constraint_Coefficient.constraint(Constraint_Coefficient.H, nodes=None, weight=None)\n",
    "#print('CC_list', Constraint_Coefficient.CC_of(i))"
   ]
  },
  {
   "cell_type": "code",
   "execution_count": null,
   "metadata": {},
   "outputs": [],
   "source": [
    "#Ranking\n",
    "#return sorted list of node and it Constraint_Coefficient\n",
    "sorted_x = sorted(Constraint_Coefficient.constraint(Constraint_Coefficient.H, nodes=None, weight=None).items(), \n",
    "                  key=Constraint_Coefficient.operator.itemgetter(1))\n",
    "#print('CC_Ranking', sorted_x)\n",
    "from operator import itemgetter\n",
    "# using map() + itergetter() to get names \n",
    "CC_list = list(map(itemgetter(0), sorted_x))   \n",
    "CC_Rank_list = [x+1 for x in CC_list]\n",
    "#return the ranking of CC in all selected node form Graph G.\n",
    "#CC_Rank_list"
   ]
  },
  {
   "cell_type": "code",
   "execution_count": null,
   "metadata": {},
   "outputs": [],
   "source": [
    "#Calcullating the TPN_of node i\n",
    "#import Total_Power_of_Node"
   ]
  },
  {
   "cell_type": "code",
   "execution_count": null,
   "metadata": {},
   "outputs": [],
   "source": [
    "#Ranking Result For all the Measures \n",
    "#[PI_Rank, sorted_x, TC_Rank]\n",
    "#for value in TC_Rank:\n",
    "   # print(value[0], value[1])\n",
    "    #print(*value,sep='|')"
   ]
  },
  {
   "cell_type": "code",
   "execution_count": null,
   "metadata": {},
   "outputs": [],
   "source": [
    "TC_table = pd.DataFrame(TC_Rank, columns = ('nodes','TC_i'))\n",
    "PI_table = pd.DataFrame(PI_Rank, columns = ('nodes','PI_i'))\n",
    "CC_table = pd.DataFrame(sorted_x, columns = ('nodes','CC_i'))\n",
    "CC_table.nodes = CC_table.nodes + 1\n",
    "Result_table = pd.concat([TC_table, PI_table, CC_table], axis=1, sort=False)\n",
    "\n",
    "First_Five = pd.DataFrame(Result_table.loc[0:4])\n",
    "First_Five.index = First_Five.index + 1\n",
    "\n",
    "\n",
    "print(First_Five)"
   ]
  },
  {
   "cell_type": "code",
   "execution_count": null,
   "metadata": {},
   "outputs": [],
   "source": [
    "#PI_table.plot.scatter(x='nodes', y = 'PI_i');\n",
    "#ax = PI_table.plot.scatter(x='nodes', y='PI_i', color='DarkBlue', label='Group 1', s= PI_table['PI_i'] * 200);\n",
    "#TC_table.plot.scatter(x='nodes', y='TC_i', color='DarkGreen', label='Group 2', s= TC_table['TC_i'] * 200, ax=ax);"
   ]
  },
  {
   "cell_type": "code",
   "execution_count": null,
   "metadata": {},
   "outputs": [],
   "source": [
    "#First_TC_table = pd.DataFrame(TC_table.loc[0:4])\n",
    "#First_PI_table = pd.DataFrame(PI_table.loc[0:4])\n",
    "#First_CC_table = pd.DataFrame(CC_table.loc[0:4])\n",
    "#result = pd.merge(First_PI_table, First_TC_table,  how ='inner', on ='nodes')\n",
    "#result1 = pd.merge(result, First_CC_table ,how ='inner', on ='nodes')\n",
    "#result1"
   ]
  },
  {
   "cell_type": "code",
   "execution_count": null,
   "metadata": {},
   "outputs": [],
   "source": []
  }
 ],
 "metadata": {
  "kernelspec": {
   "display_name": "Python 3",
   "language": "python",
   "name": "python3"
  },
  "language_info": {
   "codemirror_mode": {
    "name": "ipython",
    "version": 3
   },
   "file_extension": ".py",
   "mimetype": "text/x-python",
   "name": "python",
   "nbconvert_exporter": "python",
   "pygments_lexer": "ipython3",
   "version": "3.6.5"
  }
 },
 "nbformat": 4,
 "nbformat_minor": 2
}
