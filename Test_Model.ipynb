{
 "cells": [
  {
   "cell_type": "code",
   "execution_count": 1,
   "metadata": {},
   "outputs": [],
   "source": [
    "import networkx as nx\n",
    "import numpy as np\n",
    "import matplotlib.pyplot as plt\n",
    "import pandas as pd\n",
    "import math"
   ]
  },
  {
   "cell_type": "code",
   "execution_count": 2,
   "metadata": {},
   "outputs": [],
   "source": [
    "import Selection_Algorithm\n",
    "#print('List of Valid Selected Set nodes', Selection_Algorithm.sel_subgraphs())\n",
    "#return subgraphs of Node i = k\n",
    "#i=0\n",
    "#print('nodes in subgraphs of Node i', Selection_Algorithm.subgraph_of(i).nodes)\n",
    "#return nodes and number of triangle \n",
    "#print('nodes with number of triangle in subgraphs of Node i', Selection_Algorithm.Selection_Algorithm())"
   ]
  },
  {
   "cell_type": "code",
   "execution_count": 3,
   "metadata": {},
   "outputs": [],
   "source": [
    "#Calcullating the TC_of node i\n",
    "import Tr_centrality_measure\n",
    "#return TC_of node i\n",
    "#i=0\n",
    "#print('TC_list', Tr_centrality_measure.TC_of(i))\n",
    "#Tr_centrality_measure.TC_of(i)\n",
    "#print('TC_list', Tr_centrality_measure.loop_TC())"
   ]
  },
  {
   "cell_type": "code",
   "execution_count": 4,
   "metadata": {},
   "outputs": [],
   "source": [
    "#Ranking\n",
    "def TC_Ranking( val ):\n",
    "      return val [1]\n",
    "\n",
    "TC_Rank = Tr_centrality_measure.loop_TC()\n",
    "TC_Rank.sort(key=lambda elem: elem[1], reverse=True)\n",
    "#print('TC_Ranking', TC_Rank)"
   ]
  },
  {
   "cell_type": "code",
   "execution_count": 5,
   "metadata": {},
   "outputs": [],
   "source": [
    "#Calcullating the PI_of node i\n",
    "import Graph_Entropy_measure\n",
    "#Tr_centrality_measure.TC_of(i)\n",
    "#return PI_of node i\n",
    "#i=0\n",
    "#print('TC_list', Graph_Entropy_measure.PI_of(i))\n",
    "\n",
    "#print('TC_list', Graph_Entropy_measure.loop_PI())"
   ]
  },
  {
   "cell_type": "code",
   "execution_count": 6,
   "metadata": {},
   "outputs": [],
   "source": [
    "#Ranking\n",
    "def PI_Ranking( val ):\n",
    "      return val [1]\n",
    "\n",
    "PI_Rank = Graph_Entropy_measure.loop_PI()\n",
    "PI_Rank.sort(key=lambda elem: elem[1])\n",
    "\n",
    "#print('PI_Ranking', PI_Rank)"
   ]
  },
  {
   "cell_type": "code",
   "execution_count": 7,
   "metadata": {},
   "outputs": [],
   "source": [
    "#Calcullating the CC_of node i\n",
    "import Constraint_Coefficient\n",
    "#Constraint_Coefficient.constraint(Constraint_Coefficient.H, nodes=None, weight=None)\n",
    "#print('CC_list', Constraint_Coefficient.CC_of(i))"
   ]
  },
  {
   "cell_type": "code",
   "execution_count": 8,
   "metadata": {},
   "outputs": [],
   "source": [
    "#Ranking\n",
    "#return sorted list of node and it Constraint_Coefficient\n",
    "sorted_x = sorted(Constraint_Coefficient.constraint(Constraint_Coefficient.H, nodes=None, weight=None).items(), \n",
    "                  key=Constraint_Coefficient.operator.itemgetter(1))\n",
    "#print('CC_Ranking', sorted_x)\n",
    "from operator import itemgetter\n",
    "# using map() + itergetter() to get names \n",
    "CC_list = list(map(itemgetter(0), sorted_x))   \n",
    "CC_Rank_list = [x+1 for x in CC_list]\n",
    "#return the ranking of CC in all selected node form Graph G.\n",
    "#CC_Rank_list"
   ]
  },
  {
   "cell_type": "code",
   "execution_count": 9,
   "metadata": {},
   "outputs": [],
   "source": [
    "#Calcullating the TPN_of node i\n",
    "#import Total_Power_of_Node"
   ]
  },
  {
   "cell_type": "code",
   "execution_count": 10,
   "metadata": {},
   "outputs": [],
   "source": [
    "#Ranking Result For all the Measures \n",
    "#[PI_Rank, sorted_x, TC_Rank]\n",
    "#for value in TC_Rank:\n",
    "   # print(value[0], value[1])\n",
    "    #print(*value,sep='|')"
   ]
  },
  {
   "cell_type": "code",
   "execution_count": 11,
   "metadata": {},
   "outputs": [
    {
     "name": "stdout",
     "output_type": "stream",
     "text": [
      "    nodes    TC_i  nodes    PI_i  nodes      CC_i\n",
      "0       1  0.4219     34  0.1448      1  0.155423\n",
      "1      34  0.4138     33  0.3136     34  0.156419\n",
      "2      33  0.4000     32  0.5578      3  0.185177\n",
      "3       2  0.3750      1  0.5760     32  0.244575\n",
      "4       3  0.3611     24  0.7021     33  0.249223\n",
      "5       4  0.3438     30  0.7021      2  0.279535\n",
      "6       8  0.2500     31  0.7267      9  0.303601\n",
      "7       9  0.2500      5  0.7303     24  0.305824\n",
      "8      14  0.2500     11  0.7303     14  0.323335\n",
      "9      24  0.1875      2  0.7387     31  0.346006\n",
      "10     30  0.1875      6  0.7854      4  0.396660\n",
      "11     32  0.1875      7  0.7854      8  0.442712\n",
      "12      6  0.1429      4  0.8346     30  0.449409\n",
      "13      7  0.1429      8  0.8591      6  0.477485\n",
      "14     31  0.0833     14  0.8591      7  0.477485\n",
      "15      5  0.0000      9  0.8722      5  0.529417\n",
      "16     11  0.0000      3  0.9069     11  0.529417\n"
     ]
    }
   ],
   "source": [
    "TC_table = pd.DataFrame(TC_Rank, columns = ('nodes','TC_i'))\n",
    "PI_table = pd.DataFrame(PI_Rank, columns = ('nodes','PI_i'))\n",
    "CC_table = pd.DataFrame(sorted_x, columns = ('nodes','CC_i'))\n",
    "CC_table.nodes = CC_table.nodes + 1\n",
    "Result_table = pd.concat([TC_table, PI_table, CC_table], axis=1, sort=False)\n",
    "\n",
    "First_Five = pd.DataFrame(Result_table.loc[0:4])\n",
    "First_Five.index = First_Five.index + 1\n",
    "\n",
    "\n",
    "print(Result_table)\n",
    "#Result_table.to_csv('result/ca-sandi_auths.csv')"
   ]
  },
  {
   "cell_type": "code",
   "execution_count": 12,
   "metadata": {},
   "outputs": [],
   "source": [
    "#Selection_Algorithm.subgraph_of(19).edges()"
   ]
  },
  {
   "cell_type": "code",
   "execution_count": 13,
   "metadata": {},
   "outputs": [],
   "source": [
    "# Output a DataFrame to CSV\n",
    "#First_Five.to_csv('result/top_five_kc_network.csv')\n",
    "# To use a specific character encoding, you can use the encoding argument:\n",
    "#df.to_csv('myDataFrame.csv', sep='\\t', encoding='utf-8')"
   ]
  },
  {
   "cell_type": "code",
   "execution_count": 14,
   "metadata": {},
   "outputs": [],
   "source": [
    "#PI_table.plot.scatter(x='nodes', y = 'PI_i');\n",
    "#ax = PI_table.plot.scatter(x='nodes', y='PI_i', color='DarkBlue', label='Group 1', s= PI_table['PI_i'] * 200);\n",
    "#TC_table.plot.scatter(x='nodes', y='TC_i', color='DarkGreen', label='Group 2', s= TC_table['TC_i'] * 200, ax=ax);"
   ]
  },
  {
   "cell_type": "code",
   "execution_count": 15,
   "metadata": {},
   "outputs": [],
   "source": [
    "#First_TC_table = pd.DataFrame(TC_table.loc[0:4])\n",
    "#First_PI_table = pd.DataFrame(PI_table.loc[0:4])\n",
    "#First_CC_table = pd.DataFrame(CC_table.loc[0:4])\n",
    "#result = pd.merge(First_PI_table, First_TC_table,  how ='inner', on ='nodes')\n",
    "#result1 = pd.merge(result, First_CC_table ,how ='inner', on ='nodes')\n",
    "#result1"
   ]
  },
  {
   "cell_type": "code",
   "execution_count": null,
   "metadata": {},
   "outputs": [],
   "source": []
  },
  {
   "cell_type": "code",
   "execution_count": null,
   "metadata": {},
   "outputs": [],
   "source": []
  }
 ],
 "metadata": {
  "kernelspec": {
   "display_name": "Python 3",
   "language": "python",
   "name": "python3"
  },
  "language_info": {
   "codemirror_mode": {
    "name": "ipython",
    "version": 3
   },
   "file_extension": ".py",
   "mimetype": "text/x-python",
   "name": "python",
   "nbconvert_exporter": "python",
   "pygments_lexer": "ipython3",
   "version": "3.7.1"
  }
 },
 "nbformat": 4,
 "nbformat_minor": 2
}
