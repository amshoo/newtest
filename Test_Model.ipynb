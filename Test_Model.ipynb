{
 "cells": [
  {
   "cell_type": "code",
   "execution_count": 1,
   "metadata": {},
   "outputs": [],
   "source": [
    "import networkx as nx\n",
    "import numpy as np\n",
    "import matplotlib.pyplot as plt\n",
    "import pandas as pd\n",
    "import math"
   ]
  },
  {
   "cell_type": "code",
   "execution_count": 8,
   "metadata": {},
   "outputs": [],
   "source": [
    "import Selection_Algorithm\n",
    "#print('List of Valid Selected Set nodes', Selection_Algorithm.sel_subgraphs())\n",
    "#return subgraphs of Node i = k\n",
    "#i=0\n",
    "#print('nodes in subgraphs of Node i', Selection_Algorithm.subgraph_of(i).nodes)\n",
    "#return nodes and number of triangle \n",
    "#print('nodes with number of triangle in subgraphs of Node i', Selection_Algorithm.Selection_Algorithm())"
   ]
  },
  {
   "cell_type": "code",
   "execution_count": 11,
   "metadata": {},
   "outputs": [],
   "source": [
    "import Tr_centrality_measure\n",
    "#Calcullating the TC_of_i\n",
    "#return TC_of node i\n",
    "#i=0\n",
    "#print('TC_list', Tr_centrality_measure.TC_of(i))\n",
    "#Tr_centrality_measure.TC_of(i)\n",
    "#print('TC_list', Tr_centrality_measure.loop_TC())"
   ]
  },
  {
   "cell_type": "code",
   "execution_count": 14,
   "metadata": {},
   "outputs": [],
   "source": [
    "def TC_Ranking( val ):\n",
    "      return val [1]\n",
    "\n",
    "TC_Rank = Tr_centrality_measure.loop_TC()\n",
    "TC_Rank.sort(key=lambda elem: elem[1], reverse=True)\n",
    "\n",
    "#print('TC_Ranking', TC_Rank)"
   ]
  },
  {
   "cell_type": "code",
   "execution_count": 10,
   "metadata": {},
   "outputs": [],
   "source": [
    "import Graph_Entropy_measure\n",
    "#Calcullating the TC_of_i\n",
    "#Tr_centrality_measure.TC_of(i)\n",
    "#return PI_of node i\n",
    "#i=0\n",
    "#print('TC_list', Graph_Entropy_measure.PI_of(i))\n",
    "\n",
    "#print('TC_list', Graph_Entropy_measure.loop_PI())"
   ]
  },
  {
   "cell_type": "code",
   "execution_count": 15,
   "metadata": {},
   "outputs": [],
   "source": [
    "def PI_Ranking( val ):\n",
    "      return val [1]\n",
    "\n",
    "PI_Rank = Graph_Entropy_measure.loop_PI()\n",
    "PI_Rank.sort(key=lambda elem: elem[1], reverse=True)\n",
    "\n",
    "#print('PI_Ranking', PI_Rank)"
   ]
  },
  {
   "cell_type": "code",
   "execution_count": null,
   "metadata": {},
   "outputs": [],
   "source": [
    "import TPN\n"
   ]
  },
  {
   "cell_type": "code",
   "execution_count": null,
   "metadata": {},
   "outputs": [],
   "source": []
  },
  {
   "cell_type": "code",
   "execution_count": null,
   "metadata": {},
   "outputs": [],
   "source": []
  }
 ],
 "metadata": {
  "kernelspec": {
   "display_name": "Python 3",
   "language": "python",
   "name": "python3"
  },
  "language_info": {
   "codemirror_mode": {
    "name": "ipython",
    "version": 3
   },
   "file_extension": ".py",
   "mimetype": "text/x-python",
   "name": "python",
   "nbconvert_exporter": "python",
   "pygments_lexer": "ipython3",
   "version": "3.6.5"
  }
 },
 "nbformat": 4,
 "nbformat_minor": 2
}
