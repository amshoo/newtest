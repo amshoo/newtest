{
 "cells": [
  {
   "cell_type": "code",
   "execution_count": 1,
   "metadata": {},
   "outputs": [],
   "source": [
    "import networkx as nx\n",
    "import numpy as np\n",
    "import matplotlib.pyplot as plt\n",
    "import pandas as pd\n",
    "import math"
   ]
  },
  {
   "cell_type": "code",
   "execution_count": 2,
   "metadata": {},
   "outputs": [],
   "source": [
    "import Tr_centrality_measure\n",
    "import Graph_Entropy_measure\n",
    "import Selection_Algorithm\n",
    "import Constraint_Coefficient\n",
    "import Total_Power_of_Node"
   ]
  },
  {
   "cell_type": "markdown",
   "metadata": {},
   "source": [
    "# print('List of Valid Selected Set nodes', Selection_Algorithm.sel_subgraphs())\n",
    "#return subgraphs of Node i = k\n",
    "#i=0\n",
    "#print('nodes in subgraphs of Node i', Selection_Algorithm.subgraph_of(i).nodes)\n",
    "#return nodes and number of triangle \n",
    "#print('nodes with number of triangle in subgraphs of Node i', Selection_Algorithm.Selection_Algorithm())"
   ]
  },
  {
   "cell_type": "markdown",
   "metadata": {},
   "source": [
    "# Calcullating the TC_of node i\n",
    "#return TC_of node i\n",
    "#i=0\n",
    "#print('TC_list', Tr_centrality_measure.TC_of(i))\n",
    "#Tr_centrality_measure.TC_of(i)\n",
    "#print('TC_list', Tr_centrality_measure.loop_TC())"
   ]
  },
  {
   "cell_type": "markdown",
   "metadata": {},
   "source": [
    "# Ranking Result For TC \n",
    "#print('TC_Ranking', Tr_centrality_measure.TC_Rank)"
   ]
  },
  {
   "cell_type": "markdown",
   "metadata": {},
   "source": [
    "# Calcullating the PI_of node i\n",
    "#Tr_centrality_measure.TC_of(i)\n",
    "#return PI_of node i\n",
    "#i=0\n",
    "#print('TC_list', Graph_Entropy_measure.PI_of(i))\n",
    "#print('TC_list', Graph_Entropy_measure.loop_PI())\n",
    "#PI Ranking\n",
    "#Graph_Entropy_measure.PI_Rank"
   ]
  },
  {
   "cell_type": "markdown",
   "metadata": {},
   "source": [
    "# Calcullating the CC_of node i\n",
    "#Constraint_Coefficient.constraint(Constraint_Coefficient.H, nodes=None, weight=None)\n",
    "#print('CC_list', Constraint_Coefficient.CC_of(i))"
   ]
  },
  {
   "cell_type": "markdown",
   "metadata": {},
   "source": [
    "# Rank Result For CC\n",
    "#return sorted list of node and it Constraint_Coefficient\n",
    "#CC Ranking\n",
    "#Constraint_Coefficient.sorted_x\n",
    "#print('CC_Ranking', sorted_x)\n",
    "#from operator import itemgetter\n",
    "# using map() + itergetter() to get names \n",
    "#CC_list = list(map(itemgetter(0), sorted_x))   \n",
    "#CC_Rank_list = [x+1 for x in CC_list]\n",
    "#return the ranking of CC in all selected node form Graph G.\n",
    "#CC_Rank_list"
   ]
  },
  {
   "cell_type": "markdown",
   "metadata": {},
   "source": [
    "# Calcullating the TPN_of node i\n",
    "#import Total_Power_of_Node"
   ]
  },
  {
   "cell_type": "markdown",
   "metadata": {},
   "source": [
    "# Rank Result For all the Measures \n",
    "#[PI_Rank, sorted_x, TC_Rank]\n",
    "#for value in TC_Rank:\n",
    "   #print(value[0], value[1])\n",
    "    #print(*value,sep='|')"
   ]
  },
  {
   "cell_type": "markdown",
   "metadata": {
    "scrolled": true
   },
   "source": [
    "# CREATE TABLE FOR THREE MEASURES\n",
    "#TC_table = pd.DataFrame(Tr_centrality_measure.TC_Rank, columns = ('nodes_tc','TC_i'))\n",
    "#PI_table = pd.DataFrame(Graph_Entropy_measure.PI_Rank, columns = ('nodes_pi','PI_i'))\n",
    "#CC_table = pd.DataFrame(Constraint_Coefficient.sorted_x, columns = ('nodes_cc','CC_i'))\n",
    "#CC_table.nodes_cc = CC_table.nodes_cc + 1\n",
    "#Result_table = pd.concat([TC_table, PI_table, CC_table], axis=1, sort=False)\n",
    "\n",
    "#First_Five = pd.DataFrame(Result_table.loc[0:4])\n",
    "#First_Five.index = First_Five.index + 1\n",
    "\n",
    "\n",
    "#print(Result_table)\n",
    "#Result_table.to_csv('result/bio-diseasome.csv')\n",
    "#First_Five.to_csv('result/First_Five_bio-diseasome_network.csv')\n",
    "#First_Five"
   ]
  },
  {
   "cell_type": "markdown",
   "metadata": {},
   "source": [
    "# loop Total_Power_of_Node\n",
    "#Total_Power_of_Node.loop_TPN()\n",
    "#ranking Total_Power_of_Node\n",
    "#Total_Power_of_Node.TPN_Rank"
   ]
  },
  {
   "cell_type": "markdown",
   "metadata": {},
   "source": [
    "# CREATE/SAVE TABLE FOR TPN\n",
    "#TPN_table = pd.DataFrame(Total_Power_of_Node.TPN_Rank, columns = ('nodes','TPN_i'))\n",
    "#Top_Five = pd.DataFrame(TPN_table.loc[0:4])\n",
    "#Top_Five.index = Top_Five.index + 1\n",
    "#Top_Five.to_csv('result/TPN_email_network.csv')"
   ]
  }
 ],
 "metadata": {
  "kernelspec": {
   "display_name": "Python 3",
   "language": "python",
   "name": "python3"
  },
  "language_info": {
   "codemirror_mode": {
    "name": "ipython",
    "version": 3
   },
   "file_extension": ".py",
   "mimetype": "text/x-python",
   "name": "python",
   "nbconvert_exporter": "python",
   "pygments_lexer": "ipython3",
   "version": "3.7.1"
  }
 },
 "nbformat": 4,
 "nbformat_minor": 2
}
