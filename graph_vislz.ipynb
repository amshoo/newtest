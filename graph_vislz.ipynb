{
 "cells": [
  {
   "cell_type": "code",
   "execution_count": 1,
   "metadata": {},
   "outputs": [],
   "source": [
    "import networkx as nx\n",
    "import numpy as np\n",
    "import matplotlib.pyplot as plt\n",
    "import pandas as pd\n",
    "import math"
   ]
  },
  {
   "cell_type": "code",
   "execution_count": 2,
   "metadata": {},
   "outputs": [],
   "source": [
    "import Tr_centrality_measure\n",
    "import Graph_Entropy_measure\n",
    "import Selection_Algorithm\n",
    "import Constraint_Coefficient"
   ]
  },
  {
   "cell_type": "code",
   "execution_count": 3,
   "metadata": {},
   "outputs": [],
   "source": [
    "#G = nx.karate_club_graph()\n",
    "fh=open(\"DataSet/Power.txt\", 'rb')\n",
    "H= nx.read_weighted_edgelist(fh,nodetype=int, encoding='utf-8')\n",
    "fh.close()\n",
    "#H = nx.convert_node_labels_to_integers(G, first_label=0, ordering=\"default\", label_attribute = None) "
   ]
  },
  {
   "cell_type": "code",
   "execution_count": 4,
   "metadata": {},
   "outputs": [],
   "source": [
    "from itertools import combinations\n",
    "def nodes_in_triangle(H, n):\n",
    "    \"\"\"\n",
    "    Returns the nodes in a graph `G` that are involved in a triangle relationship with the node `n`.\n",
    "    \"\"\"\n",
    "    triangle_nodes = set([n])\n",
    "\n",
    "    # Iterate over all possible triangle relationship combinations\n",
    "    for n1, n2 in combinations(H.neighbors(n), 2):\n",
    "\n",
    "        # Check if n1 and n2 have an edge between them\n",
    "        if H.has_edge(n1, n2):\n",
    "\n",
    "            # Add n1 to triangle_nodes\n",
    "            triangle_nodes.add(n1)\n",
    "\n",
    "            # Add n2 to triangle_nodes\n",
    "            triangle_nodes.add(n2)\n",
    "\n",
    "    return triangle_nodes\n",
    "#equetion 1:selection constrain\n",
    "def selection_constrain_of(i):\n",
    "     # degree of N_i:\n",
    "        N_i = subgraph_of(i).number_of_nodes()\n",
    "        # sum(sdeg_j):\n",
    "        sum_sdeg_j = subgraph_of(i).number_of_edges()\n",
    "        # number of triangles: nodes\n",
    "        NT_i = nx.triangles(H,i)\n",
    "        if NT_i > 1:\n",
    "        #equetion 1:selection constrain        \n",
    "            TR_i = (N_i-(sum_sdeg_j/2))            \n",
    "        return  TR_i\n",
    "    \n",
    "#Selection Algorithm\n",
    "def Selection_Algorithm():\n",
    "    # main part of AL loop\n",
    "    i=0\n",
    "    valid_set = []\n",
    "    for i in H.nodes: \n",
    "        subgraph = subgraph_of(i)\n",
    "        # degree of Ni:\n",
    "        N_i = subgraph.number_of_nodes()\n",
    "        # number of triangles: nodes\n",
    "        NT_i = nx.triangles(H,i)\n",
    "        # Extract the nodes of interest: nodes\n",
    "        nodes = [n for n, d in subgraph.nodes(data=True)]\n",
    "        # Create the set of nodes: nodeset\n",
    "        nodeset = set(nodes)\n",
    "        #equetion 1:selection constrain\n",
    "        if NT_i > 1:\n",
    "            TR_i = selection_constrain_of(i)\n",
    "            i+=1        \n",
    "            list1 = i, NT_i     \n",
    "            valid_set.append(list1)\n",
    "                \n",
    "    return  valid_set\n",
    "\n",
    "\n",
    "# In[ ]:\n",
    "def sel_subgraphs():\n",
    "    sel_subgraphs = []\n",
    "    for i in H:\n",
    "        sel_subgraph = H.subgraph(nodes_in_triangle(H, i))\n",
    "        NT_i = nx.triangles(H,i)\n",
    "        if NT_i > 1:            \n",
    "            row = i        \n",
    "            sel_subgraphs.append(row)\n",
    "    return  sel_subgraphs\n",
    "\n",
    "# In[ ]:\n",
    "#return subgraphs\n",
    "def subgraph_of(i):\n",
    "    subgraph = H.subgraph(nodes_in_triangle(H, i))\n",
    "    return  subgraph"
   ]
  },
  {
   "cell_type": "code",
   "execution_count": 5,
   "metadata": {},
   "outputs": [],
   "source": [
    "# G = nx.Graph()   # or DiGraph, MultiGraph, MultiDiGraph, etc\n",
    "I = H.copy()\n",
    "J = H.copy()\n",
    "ebunch =list(subgraph_of(3).edges)\n",
    "I.remove_edges_from(ebunch)"
   ]
  },
  {
   "cell_type": "code",
   "execution_count": 6,
   "metadata": {},
   "outputs": [
    {
     "data": {
      "text/plain": [
       "<Figure size 432x288 with 0 Axes>"
      ]
     },
     "metadata": {},
     "output_type": "display_data"
    }
   ],
   "source": [
    "plt.clf()\n",
    "#H = G.remove_node(0)\n",
    "#G.remove_edge(Selection_Algorithm.subgraph_of(33).edges())\n",
    "#nx.draw(I, with_labels = True)\n",
    "plt.show()\n",
    "#plt.savefig(\"out.png\")"
   ]
  },
  {
   "cell_type": "code",
   "execution_count": 7,
   "metadata": {},
   "outputs": [
    {
     "data": {
      "text/plain": [
       "<Figure size 432x288 with 0 Axes>"
      ]
     },
     "metadata": {},
     "output_type": "display_data"
    }
   ],
   "source": [
    "plt.clf()\n",
    "#H = G.remove_node(0)\n",
    "#G.remove_edge(Selection_Algorithm.subgraph_of(33).edges())\n",
    "#nx.draw(subgraph_of(4345), with_labels = True)\n",
    "plt.show()\n",
    "#plt.savefig(\"out.png\")"
   ]
  },
  {
   "cell_type": "code",
   "execution_count": 8,
   "metadata": {},
   "outputs": [
    {
     "data": {
      "text/plain": [
       "<Figure size 432x288 with 0 Axes>"
      ]
     },
     "metadata": {},
     "output_type": "display_data"
    }
   ],
   "source": [
    "plt.clf()\n",
    "#H = G.remove_node(0)\n",
    "#G.remove_edge(Selection_Algorithm.subgraph_of(33).edges())\n",
    "#nx.draw(subgraph_of(4384), with_labels = True)\n",
    "plt.show()\n",
    "#plt.savefig(\"out.png\")"
   ]
  },
  {
   "cell_type": "code",
   "execution_count": 9,
   "metadata": {},
   "outputs": [
    {
     "data": {
      "text/plain": [
       "<Figure size 432x288 with 0 Axes>"
      ]
     },
     "metadata": {},
     "output_type": "display_data"
    }
   ],
   "source": [
    "plt.clf()\n",
    "#H = G.remove_node(0)\n",
    "#G.remove_edge(Selection_Algorithm.subgraph_of(33).edges())\n",
    "#nx.draw(subgraph_of(4327), with_labels = True)\n",
    "plt.show()\n",
    "#plt.savefig(\"out.png\")"
   ]
  },
  {
   "cell_type": "code",
   "execution_count": 10,
   "metadata": {},
   "outputs": [
    {
     "data": {
      "text/plain": [
       "5"
      ]
     },
     "execution_count": 10,
     "metadata": {},
     "output_type": "execute_result"
    }
   ],
   "source": [
    "H.degree(4327)"
   ]
  },
  {
   "cell_type": "code",
   "execution_count": 42,
   "metadata": {},
   "outputs": [],
   "source": [
    "cent = pd.read_csv('result/dolphins--/propose/propose_result_table_dolphins.csv')\n",
    "cent1 = cent.drop(['Unnamed: 0'], axis=1)\n",
    "#cent2=[tuple(x) for x in cent1.to_records(index=False)]"
   ]
  },
  {
   "cell_type": "code",
   "execution_count": 43,
   "metadata": {},
   "outputs": [
    {
     "data": {
      "text/plain": [
       "(0.3333    4\n",
       " 0.0000    4\n",
       " 0.2727    4\n",
       " 0.2500    3\n",
       " 0.1875    3\n",
       " 0.3214    3\n",
       " 0.1429    3\n",
       " 0.0833    2\n",
       " 0.3077    2\n",
       " 0.3611    2\n",
       " 0.2917    2\n",
       " 0.3958    1\n",
       " 0.3864    1\n",
       " 0.3529    1\n",
       " 0.4074    1\n",
       " 0.2222    1\n",
       " 0.3913    1\n",
       " 0.4107    1\n",
       " 0.3750    1\n",
       " Name: TC_i, dtype: int64, 0.306858    1\n",
       " 0.309078    1\n",
       " 0.291781    1\n",
       " 0.295285    1\n",
       " 0.265226    1\n",
       " 0.243005    1\n",
       " 0.197426    1\n",
       " 0.196490    1\n",
       " 0.377052    1\n",
       " 0.166879    1\n",
       " 0.556304    1\n",
       " 0.293516    1\n",
       " 0.551824    1\n",
       " 0.356742    1\n",
       " 0.208146    1\n",
       " 0.186723    1\n",
       " 0.289943    1\n",
       " 0.283511    1\n",
       " 0.336944    1\n",
       " 0.182518    1\n",
       " 0.158441    1\n",
       " 0.277131    1\n",
       " 0.331749    1\n",
       " 0.277192    1\n",
       " 0.313723    1\n",
       " 0.206017    1\n",
       " 0.247896    1\n",
       " 0.249988    1\n",
       " 0.269594    1\n",
       " 0.345118    1\n",
       " 0.283699    1\n",
       " 0.180687    1\n",
       " 0.394063    1\n",
       " 0.184594    1\n",
       " 0.195994    1\n",
       " 0.300954    1\n",
       " 0.159246    1\n",
       " 0.303700    1\n",
       " 0.182980    1\n",
       " 0.188167    1\n",
       " Name: CC_i, dtype: int64, 0.152513    1\n",
       " 0.180222    1\n",
       " 0.099165    1\n",
       " 0.217467    1\n",
       " 0.220119    1\n",
       " 0.101217    1\n",
       " 0.101131    1\n",
       " 0.091861    1\n",
       " 0.051253    1\n",
       " 0.097842    1\n",
       " 0.285030    1\n",
       " 0.147872    1\n",
       " 0.050813    1\n",
       " 0.128502    1\n",
       " 0.091646    1\n",
       " 0.233323    1\n",
       " 0.065342    1\n",
       " 0.210908    1\n",
       " 0.060806    1\n",
       " 0.149439    1\n",
       " 0.172286    1\n",
       " 0.228477    1\n",
       " 0.284325    1\n",
       " 0.075837    1\n",
       " 0.212653    1\n",
       " 0.101161    1\n",
       " 0.167244    1\n",
       " 0.097701    1\n",
       " 0.064978    1\n",
       " 0.286961    1\n",
       " 0.172628    1\n",
       " 0.075310    1\n",
       " 0.125857    1\n",
       " 0.145686    1\n",
       " 0.057616    1\n",
       " 0.113139    1\n",
       " 0.145370    1\n",
       " 0.143345    1\n",
       " 0.310742    1\n",
       " 0.076786    1\n",
       " Name: PI_i, dtype: int64)"
      ]
     },
     "execution_count": 43,
     "metadata": {},
     "output_type": "execute_result"
    }
   ],
   "source": [
    "cent1['TC_i'].value_counts(), cent1['CC_i'].value_counts(),cent1['PI_i'].value_counts()"
   ]
  },
  {
   "cell_type": "code",
   "execution_count": null,
   "metadata": {},
   "outputs": [],
   "source": []
  }
 ],
 "metadata": {
  "kernelspec": {
   "display_name": "Python 3",
   "language": "python",
   "name": "python3"
  },
  "language_info": {
   "codemirror_mode": {
    "name": "ipython",
    "version": 3
   },
   "file_extension": ".py",
   "mimetype": "text/x-python",
   "name": "python",
   "nbconvert_exporter": "python",
   "pygments_lexer": "ipython3",
   "version": "3.6.5"
  }
 },
 "nbformat": 4,
 "nbformat_minor": 2
}
