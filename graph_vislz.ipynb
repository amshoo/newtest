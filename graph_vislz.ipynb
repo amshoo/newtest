{
 "cells": [
  {
   "cell_type": "code",
   "execution_count": 1,
   "metadata": {},
   "outputs": [],
   "source": [
    "import networkx as nx\n",
    "import numpy as np\n",
    "import matplotlib.pyplot as plt\n",
    "import pandas as pd\n",
    "import math"
   ]
  },
  {
   "cell_type": "code",
   "execution_count": 2,
   "metadata": {},
   "outputs": [],
   "source": [
    "import Tr_centrality_measure\n",
    "import Graph_Entropy_measure\n",
    "import Selection_Algorithm\n",
    "import Constraint_Coefficient"
   ]
  },
  {
   "cell_type": "code",
   "execution_count": 4,
   "metadata": {},
   "outputs": [],
   "source": [
    "G = nx.karate_club_graph()\n",
    "#fh=open(\"DataSet/bio-diseasome.txt\", 'rb')\n",
    "#G = nx.read_weighted_edgelist(fh,nodetype=None, encoding='utf-8')\n",
    "#fh.close()\n",
    "H = nx.convert_node_labels_to_integers(G, first_label=0, ordering=\"default\", label_attribute = None) "
   ]
  },
  {
   "cell_type": "code",
   "execution_count": 5,
   "metadata": {},
   "outputs": [],
   "source": [
    "from itertools import combinations\n",
    "def nodes_in_triangle(H, n):\n",
    "    \"\"\"\n",
    "    Returns the nodes in a graph `G` that are involved in a triangle relationship with the node `n`.\n",
    "    \"\"\"\n",
    "    triangle_nodes = set([n])\n",
    "\n",
    "    # Iterate over all possible triangle relationship combinations\n",
    "    for n1, n2 in combinations(H.neighbors(n), 2):\n",
    "\n",
    "        # Check if n1 and n2 have an edge between them\n",
    "        if H.has_edge(n1, n2):\n",
    "\n",
    "            # Add n1 to triangle_nodes\n",
    "            triangle_nodes.add(n1)\n",
    "\n",
    "            # Add n2 to triangle_nodes\n",
    "            triangle_nodes.add(n2)\n",
    "\n",
    "    return triangle_nodes\n",
    "#equetion 1:selection constrain\n",
    "def selection_constrain_of(i):\n",
    "     # degree of N_i:\n",
    "        N_i = subgraph_of(i).number_of_nodes()\n",
    "        # sum(sdeg_j):\n",
    "        sum_sdeg_j = subgraph_of(i).number_of_edges()\n",
    "        # number of triangles: nodes\n",
    "        NT_i = nx.triangles(H,i)\n",
    "        if NT_i > 1:\n",
    "        #equetion 1:selection constrain        \n",
    "            TR_i = (N_i-(sum_sdeg_j/2))            \n",
    "        return  TR_i\n",
    "    \n",
    "#Selection Algorithm\n",
    "def Selection_Algorithm():\n",
    "    # main part of AL loop\n",
    "    i=0\n",
    "    valid_set = []\n",
    "    for i in H.nodes: \n",
    "        subgraph = subgraph_of(i)\n",
    "        # degree of Ni:\n",
    "        N_i = subgraph.number_of_nodes()\n",
    "        # number of triangles: nodes\n",
    "        NT_i = nx.triangles(H,i)\n",
    "        # Extract the nodes of interest: nodes\n",
    "        nodes = [n for n, d in subgraph.nodes(data=True)]\n",
    "        # Create the set of nodes: nodeset\n",
    "        nodeset = set(nodes)\n",
    "        #equetion 1:selection constrain\n",
    "        if NT_i > 1:\n",
    "            TR_i = selection_constrain_of(i)\n",
    "            i+=1        \n",
    "            list1 = i, NT_i     \n",
    "            valid_set.append(list1)\n",
    "                \n",
    "    return  valid_set\n",
    "\n",
    "\n",
    "# In[ ]:\n",
    "def sel_subgraphs():\n",
    "    sel_subgraphs = []\n",
    "    for i in H:\n",
    "        sel_subgraph = H.subgraph(nodes_in_triangle(H, i))\n",
    "        NT_i = nx.triangles(H,i)\n",
    "        if NT_i > 1:            \n",
    "            row = i        \n",
    "            sel_subgraphs.append(row)\n",
    "    return  sel_subgraphs\n",
    "\n",
    "# In[ ]:\n",
    "#return subgraphs\n",
    "def subgraph_of(i):\n",
    "    subgraph = H.subgraph(nodes_in_triangle(H, i))\n",
    "    return  subgraph"
   ]
  },
  {
   "cell_type": "code",
   "execution_count": 13,
   "metadata": {},
   "outputs": [],
   "source": [
    "# G = nx.Graph()   # or DiGraph, MultiGraph, MultiDiGraph, etc\n",
    "I = H.copy()\n",
    "J = H.copy()\n",
    "ebunch =list(subgraph_of(33).edges)\n",
    "I.remove_edges_from(ebunch)"
   ]
  },
  {
   "cell_type": "code",
   "execution_count": 14,
   "metadata": {},
   "outputs": [
    {
     "data": {
      "text/plain": [
       "<Figure size 432x288 with 0 Axes>"
      ]
     },
     "metadata": {},
     "output_type": "display_data"
    }
   ],
   "source": [
    "plt.clf()\n",
    "#H = G.remove_node(0)\n",
    "#G.remove_edge(Selection_Algorithm.subgraph_of(33).edges())\n",
    "#nx.draw(I, with_labels = True)\n",
    "plt.show()\n",
    "#plt.savefig(\"out.png\")"
   ]
  },
  {
   "cell_type": "code",
   "execution_count": 15,
   "metadata": {},
   "outputs": [
    {
     "data": {
      "text/plain": [
       "<Figure size 432x288 with 0 Axes>"
      ]
     },
     "metadata": {},
     "output_type": "display_data"
    }
   ],
   "source": [
    "plt.clf()\n",
    "#H = G.remove_node(0)\n",
    "#G.remove_edge(Selection_Algorithm.subgraph_of(33).edges())\n",
    "#nx.draw(subgraph_of(107), with_labels = True)\n",
    "plt.show()\n",
    "#plt.savefig(\"out.png\")"
   ]
  },
  {
   "cell_type": "code",
   "execution_count": 16,
   "metadata": {},
   "outputs": [
    {
     "data": {
      "text/plain": [
       "<Figure size 432x288 with 0 Axes>"
      ]
     },
     "metadata": {},
     "output_type": "display_data"
    }
   ],
   "source": [
    "plt.clf()\n",
    "#H = G.remove_node(0)\n",
    "#G.remove_edge(Selection_Algorithm.subgraph_of(33).edges())\n",
    "#nx.draw(subgraph_of(23), with_labels = True)\n",
    "plt.show()\n",
    "#plt.savefig(\"out.png\")"
   ]
  },
  {
   "cell_type": "code",
   "execution_count": 18,
   "metadata": {},
   "outputs": [
    {
     "name": "stderr",
     "output_type": "stream",
     "text": [
      "E:\\Anaconda\\lib\\site-packages\\networkx\\drawing\\nx_pylab.py:611: MatplotlibDeprecationWarning: isinstance(..., numbers.Number)\n",
      "  if cb.is_numlike(alpha):\n"
     ]
    },
    {
     "data": {
      "image/png": "[encoded data removed]",
      "text/plain": [
       "<Figure size 432x288 with 1 Axes>"
      ]
     },
     "metadata": {},
     "output_type": "display_data"
    }
   ],
   "source": [
    "plt.clf()\n",
    "#H = G.remove_node(0)\n",
    "#G.remove_edge(Selection_Algorithm.subgraph_of(33).edges())\n",
    "nx.draw(subgraph_of(32), with_labels = True)\n",
    "plt.show()\n",
    "#plt.savefig(\"out.png\")"
   ]
  },
  {
   "cell_type": "code",
   "execution_count": null,
   "metadata": {},
   "outputs": [],
   "source": [
    "def eff():\n",
    "    i=0\n",
    "    eff_list=[]\n",
    "    nodes =  H.nodes\n",
    "    if nodes!= 0:\n",
    "        \n",
    "        #H = nx.karate_club_graph()\n",
    "        for i in H:  \n",
    "            H1 = H.copy()\n",
    "            #ebunch =list(subgraph_of(i).nodes)\n",
    "            #H1.remove_nodes_from(ebunch)\n",
    "            H1.remove_node(i)\n",
    "            efficiency = nx.global_efficiency(H1)\n",
    "            density = nx.density(H1)\n",
    "            EF = (i, efficiency, density)       \n",
    "            eff_list.append(EF)\n",
    "            \n",
    "    return  eff_list"
   ]
  },
  {
   "cell_type": "code",
   "execution_count": 21,
   "metadata": {},
   "outputs": [
    {
     "data": {
      "text/plain": [
       "12"
      ]
     },
     "execution_count": 21,
     "metadata": {},
     "output_type": "execute_result"
    }
   ],
   "source": [
    "H.degree(32)"
   ]
  },
  {
   "cell_type": "code",
   "execution_count": null,
   "metadata": {},
   "outputs": [],
   "source": []
  }
 ],
 "metadata": {
  "kernelspec": {
   "display_name": "Python 3",
   "language": "python",
   "name": "python3"
  },
  "language_info": {
   "codemirror_mode": {
    "name": "ipython",
    "version": 3
   },
   "file_extension": ".py",
   "mimetype": "text/x-python",
   "name": "python",
   "nbconvert_exporter": "python",
   "pygments_lexer": "ipython3",
   "version": "3.7.1"
  }
 },
 "nbformat": 4,
 "nbformat_minor": 2
}
