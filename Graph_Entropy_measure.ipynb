{
 "cells": [
  {
   "cell_type": "code",
   "execution_count": 1,
   "metadata": {},
   "outputs": [],
   "source": [
    "import networkx as nx\n",
    "import Selection_Algorithm\n",
    "import math\n",
    "\n",
    "\n",
    "# In[ ]:\n",
    "#TR_i = tr-ceyntrality i subgraph\n",
    "def graph():    \n",
    "    import graph\n",
    "    Graph = graph.H\n",
    "    return Graph\n",
    "H = graph()\n",
    "# In[ ]:\n"
   ]
  },
  {
   "cell_type": "code",
   "execution_count": 2,
   "metadata": {},
   "outputs": [],
   "source": [
    "#Graph Entropy \n",
    "def log1(i):\n",
    "    sum_sdeg_i = (Selection_Algorithm.subgraph_of(i).number_of_edges()*2)\n",
    "    s1 = math.log(sum_sdeg_i, 10)\n",
    "    return  s1\n",
    "def prob(i, j): \n",
    "    sum_sdeg_i = (Selection_Algorithm.subgraph_of(i).number_of_edges()*2)\n",
    "    nodes = Selection_Algorithm.subgraph_of(i).nodes\n",
    "    degree = Selection_Algorithm.subgraph_of(i).degree[j]\n",
    "    prob=degree/sum_sdeg_i \n",
    "    return prob  \n",
    "def log2(i,j):\n",
    "    degree = Selection_Algorithm.subgraph_of(i).degree[j]\n",
    "    log_j = math.log(degree, 10)\n",
    "    return log_j\n",
    "def probs(i):\n",
    "    probs=[]\n",
    "    for i in Selection_Algorithm.subgraph_of(i).nodes:\n",
    "        for j in Selection_Algorithm.subgraph_of(i).nodes:\n",
    "            enr = (prob(i, j)*log2(i,j)) \n",
    "            #enr=(i, en)\n",
    "        probs.append(enr)  \n",
    "    return probs \n",
    "def PI_of(i):\n",
    "    sum_sdeg_i = (Selection_Algorithm.subgraph_of(i).number_of_edges()*2)\n",
    "    s1 = math.log(sum_sdeg_i, 10)\n",
    "     #equetion 4:en value of PI_i\n",
    "    PI_i = s1-sum(probs(i))\n",
    "    return PI_i"
   ]
  },
  {
   "cell_type": "code",
   "execution_count": 3,
   "metadata": {},
   "outputs": [],
   "source": [
    "#LOOP PI of the selected Set Of Subgraph\n",
    "def loop_PI():\n",
    "    i=0\n",
    "    PI_list=[]\n",
    "    \n",
    "    for i in Selection_Algorithm.sel_subgraphs():\n",
    "        NT_i = nx.triangles(H,i)\n",
    "        if NT_i > 1:            \n",
    "            PI_i = round( PI_of(i), 4)\n",
    "            i+=1\n",
    "            PI = (i, PI_i)\n",
    "            PI_list.append(PI)  \n",
    "            \n",
    "    return  PI_list"
   ]
  },
  {
   "cell_type": "code",
   "execution_count": null,
   "metadata": {},
   "outputs": [],
   "source": [
    "loop_PI()"
   ]
  },
  {
   "cell_type": "code",
   "execution_count": null,
   "metadata": {},
   "outputs": [],
   "source": []
  }
 ],
 "metadata": {
  "kernelspec": {
   "display_name": "Python 3",
   "language": "python",
   "name": "python3"
  },
  "language_info": {
   "codemirror_mode": {
    "name": "ipython",
    "version": 3
   },
   "file_extension": ".py",
   "mimetype": "text/x-python",
   "name": "python",
   "nbconvert_exporter": "python",
   "pygments_lexer": "ipython3",
   "version": "3.7.1"
  }
 },
 "nbformat": 4,
 "nbformat_minor": 2
}
