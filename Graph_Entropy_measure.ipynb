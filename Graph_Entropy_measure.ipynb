{
 "cells": [
  {
   "cell_type": "code",
   "execution_count": 1,
   "metadata": {},
   "outputs": [],
   "source": [
    "import networkx as nx\n",
    "import Selection_Algorithm\n",
    "import math\n",
    "\n",
    "\n",
    "# In[ ]:\n",
    "#TR_i = tr-ceyntrality i subgraph\n",
    "def graph():    \n",
    "    import graph\n",
    "    Graph = graph.H\n",
    "    return Graph\n",
    "H = graph()\n",
    "# In[ ]:\n"
   ]
  },
  {
   "cell_type": "code",
   "execution_count": 2,
   "metadata": {},
   "outputs": [],
   "source": [
    "#Graph Entropy \n",
    "def log1(i):\n",
    "    sum_sdeg_i = (Selection_Algorithm.subgraph_of(i).number_of_edges()*2)\n",
    "    s1 = math.log(sum_sdeg_i, 10)\n",
    "    return  s1\n",
    "def prob(i, j): \n",
    "    sum_sdeg_i = (Selection_Algorithm.subgraph_of(i).number_of_edges()*2)\n",
    "    nodes = Selection_Algorithm.subgraph_of(i).nodes\n",
    "    degree = Selection_Algorithm.subgraph_of(i).degree[j]\n",
    "    prob=degree/sum_sdeg_i \n",
    "    return prob  \n",
    "def log2(i,j):\n",
    "    degree = Selection_Algorithm.subgraph_of(i).degree[j]\n",
    "    log_j = math.log(degree, 10)\n",
    "    return log_j\n",
    "def probs(i):\n",
    "    probs=[]\n",
    "    for i in Selection_Algorithm.subgraph_of(i).nodes:\n",
    "        for j in Selection_Algorithm.subgraph_of(i).nodes:\n",
    "            enr = (prob(i, j)*log2(i,j)) \n",
    "            #enr=(i, en)\n",
    "        probs.append(enr)  \n",
    "    return probs \n",
    "def PI_of(i):\n",
    "    sum_sdeg_i = (Selection_Algorithm.subgraph_of(i).number_of_edges()*2)\n",
    "    s1 = math.log(sum_sdeg_i, 10)\n",
    "     #equetion 4:en value of PI_i\n",
    "    PI_i = s1-sum(probs(i))\n",
    "    return PI_i"
   ]
  },
  {
   "cell_type": "code",
   "execution_count": 3,
   "metadata": {},
   "outputs": [],
   "source": [
    "#LOOP PI of the selected Set Of Subgraph\n",
    "def loop_PI():\n",
    "    i=0\n",
    "    PI_list=[]\n",
    "    \n",
    "    for i in Selection_Algorithm.sel_subgraphs():\n",
    "        NT_i = nx.triangles(H,i)\n",
    "        if NT_i > 1:            \n",
    "            PI_i = round( PI_of(i), 4)\n",
    "            i+=1\n",
    "            PI = (i, PI_i)\n",
    "            PI_list.append(PI)  \n",
    "            \n",
    "    return  PI_list"
   ]
  },
  {
   "cell_type": "code",
   "execution_count": 4,
   "metadata": {},
   "outputs": [
    {
     "data": {
      "text/plain": [
       "[(4, 0.824),\n",
       " (5, 0.8154),\n",
       " (6, 0.5972),\n",
       " (7, 0.824),\n",
       " (8, 0.6169),\n",
       " (9, 0.7373),\n",
       " (10, 0.824),\n",
       " (12, 0.7133),\n",
       " (15, 0.3773),\n",
       " (16, 0.5676),\n",
       " (22, 0.5632),\n",
       " (29, 0.6845),\n",
       " (30, 0.6275),\n",
       " (31, 0.6945),\n",
       " (39, 0.553),\n",
       " (53, 0.4301),\n",
       " (57, 0.7036),\n",
       " (58, 0.7036),\n",
       " (59, 0.7036),\n",
       " (61, 0.6572),\n",
       " (67, 0.6385),\n",
       " (69, 0.6656),\n",
       " (78, 0.7202),\n",
       " (80, 0.601),\n",
       " (81, 0.601)]"
      ]
     },
     "execution_count": 4,
     "metadata": {},
     "output_type": "execute_result"
    }
   ],
   "source": [
    "loop_PI()"
   ]
  },
  {
   "cell_type": "code",
   "execution_count": null,
   "metadata": {},
   "outputs": [],
   "source": []
  }
 ],
 "metadata": {
  "kernelspec": {
   "display_name": "Python 3",
   "language": "python",
   "name": "python3"
  },
  "language_info": {
   "codemirror_mode": {
    "name": "ipython",
    "version": 3
   },
   "file_extension": ".py",
   "mimetype": "text/x-python",
   "name": "python",
   "nbconvert_exporter": "python",
   "pygments_lexer": "ipython3",
   "version": "3.6.5"
  }
 },
 "nbformat": 4,
 "nbformat_minor": 2
}
