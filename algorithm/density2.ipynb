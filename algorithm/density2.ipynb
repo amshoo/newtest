{
 "cells": [
  {
   "cell_type": "code",
   "execution_count": 1,
   "metadata": {},
   "outputs": [],
   "source": [
    "import numpy as np\n",
    "import matplotlib.pyplot as plt\n",
    "import pandas as pd\n",
    "import networkx as nx"
   ]
  },
  {
   "cell_type": "code",
   "execution_count": 2,
   "metadata": {},
   "outputs": [],
   "source": [
    "#import datset network graph. \n",
    "def graph():    \n",
    "    import graph\n",
    "    Graph = graph.H\n",
    "    return Graph\n",
    "G = graph()"
   ]
  },
  {
   "cell_type": "code",
   "execution_count": 25,
   "metadata": {},
   "outputs": [],
   "source": [
    "cent = pd.read_csv('evaluation/rank_result/email--/cent/top_cent_rank_email.csv')\n",
    "pro = pd.read_csv('evaluation/rank_result/email--/propose/top_rank_table_email.csv')\n",
    "rank_table = pd.concat([cent,pro['TPN']], axis=1, sort=False)\n",
    "rank_table = pd.DataFrame(rank_table.loc[0:2])\n",
    "rank_table1 = rank_table.drop(['Unnamed: 0'], axis=1)\n",
    "rank_table2=[tuple(x) for x in rank_table1.to_records(index=False)]"
   ]
  },
  {
   "cell_type": "code",
   "execution_count": 26,
   "metadata": {},
   "outputs": [
    {
     "data": {
      "text/html": [
       "<div>\n",
       "<style scoped>\n",
       "    .dataframe tbody tr th:only-of-type {\n",
       "        vertical-align: middle;\n",
       "    }\n",
       "\n",
       "    .dataframe tbody tr th {\n",
       "        vertical-align: top;\n",
       "    }\n",
       "\n",
       "    .dataframe thead th {\n",
       "        text-align: right;\n",
       "    }\n",
       "</style>\n",
       "<table border=\"1\" class=\"dataframe\">\n",
       "  <thead>\n",
       "    <tr style=\"text-align: right;\">\n",
       "      <th></th>\n",
       "      <th>TR</th>\n",
       "      <th>BC</th>\n",
       "      <th>CNC</th>\n",
       "      <th>PR</th>\n",
       "      <th>TPN</th>\n",
       "    </tr>\n",
       "  </thead>\n",
       "  <tbody>\n",
       "    <tr>\n",
       "      <th>0</th>\n",
       "      <td>105</td>\n",
       "      <td>333</td>\n",
       "      <td>333</td>\n",
       "      <td>105</td>\n",
       "      <td>105.0</td>\n",
       "    </tr>\n",
       "    <tr>\n",
       "      <th>1</th>\n",
       "      <td>16</td>\n",
       "      <td>105</td>\n",
       "      <td>23</td>\n",
       "      <td>376</td>\n",
       "      <td>16.0</td>\n",
       "    </tr>\n",
       "    <tr>\n",
       "      <th>2</th>\n",
       "      <td>196</td>\n",
       "      <td>23</td>\n",
       "      <td>105</td>\n",
       "      <td>355</td>\n",
       "      <td>196.0</td>\n",
       "    </tr>\n",
       "  </tbody>\n",
       "</table>\n",
       "</div>"
      ],
      "text/plain": [
       "    TR   BC  CNC   PR    TPN\n",
       "0  105  333  333  105  105.0\n",
       "1   16  105   23  376   16.0\n",
       "2  196   23  105  355  196.0"
      ]
     },
     "execution_count": 26,
     "metadata": {},
     "output_type": "execute_result"
    }
   ],
   "source": [
    "rank_table1"
   ]
  },
  {
   "cell_type": "code",
   "execution_count": 27,
   "metadata": {},
   "outputs": [
    {
     "data": {
      "text/plain": [
       "0    105\n",
       "1     16\n",
       "2    196\n",
       "Name: TR, dtype: int64"
      ]
     },
     "execution_count": 27,
     "metadata": {},
     "output_type": "execute_result"
    }
   ],
   "source": [
    "rank_table['TR']"
   ]
  },
  {
   "cell_type": "code",
   "execution_count": 30,
   "metadata": {},
   "outputs": [
    {
     "data": {
      "text/plain": [
       "0.008325952170062002"
      ]
     },
     "execution_count": 30,
     "metadata": {},
     "output_type": "execute_result"
    }
   ],
   "source": [
    "TR_nodes = tuple(rank_table1['TR'])\n",
    "BC_nodes = tuple(rank_table1['BC'])\n",
    "CNC_nodes =tuple(rank_table1['CNC'])\n",
    "PR_nodes = tuple(rank_table1['PR'])\n",
    "TPN_nodes =tuple(rank_table1['TPN'])\n",
    "\n",
    "H = G.copy()\n",
    "#H.remove_node(52)\n",
    "H.remove_nodes_from(PR_nodes)\n",
    "density = nx.density(H)\n",
    "density "
   ]
  },
  {
   "cell_type": "markdown",
   "metadata": {},
   "source": [
    "### kc network \n",
    "#### TOP 3\n",
    "TR= 0.07311827956989247.\n",
    "BC= 0.07311827956989247.\n",
    "CNC=0.07741935483870968.\n",
    "PR= 0.07311827956989247.\n",
    "TPN=0.07311827956989247.\n",
    "#### TOP 1\n",
    "TR= 0.11742424242424243\n",
    "BC= 0.11742424242424243\n",
    "CNC=0.11742424242424243\n",
    "PR= 0.11553030303030302\n",
    "TPN=0.11742424242424243\n",
    "#### TOP 4\n",
    "TR= 0.059770114942528735\n",
    "BC= 0.059770114942528735\n",
    "CNC=0.0735632183908046\n",
    "PR= 0.059770114942528735\n",
    "TPN=0.059770114942528735"
   ]
  },
  {
   "cell_type": "markdown",
   "metadata": {},
   "source": [
    "### dolphins \n",
    "#### TOP-5\n",
    "TR=0.06954887218045112\n",
    "BC=0.07832080200501253\n",
    "CNC=0.07393483709273183\n",
    "PR=0.07142857142857142\n",
    "TPN=0.06892230576441102\n",
    "#### TOP-1:::\n",
    "TR=0.08032786885245902\n",
    "BC=0.08306010928961749\n",
    "CNC=0.08306010928961749\n",
    "PR=0.0814207650273224\n",
    "TPN=0.08087431693989071\n",
    "#### TOP-3\n",
    "TR=0.06954887218045112\n",
    "BC=0.07832080200501253\n",
    "CNC=0.07393483709273183\n",
    "PR=0.07142857142857142\n",
    "TPN=0.06892230576441102"
   ]
  },
  {
   "cell_type": "markdown",
   "metadata": {},
   "source": [
    "### BLOGS\n",
    "#### TOP 3\n",
    "TR=0.07948568088836938\n",
    "BC=0.08123904149620105\n",
    "CNC=0.07948568088836938\n",
    "PR=0.08123904149620105\n",
    "TPN=0.07948568088836938\n",
    "#### TOP 4\n",
    "TR=0.05036344755970924\n",
    "BC=0.05036344755970924\n",
    "CNC=0.05036344755970924\n",
    "PR=0.05036344755970924\n",
    "TPN=0.05036344755970924"
   ]
  },
  {
   "cell_type": "markdown",
   "metadata": {},
   "source": [
    "### usair\n",
    "#### TOP 3\n",
    "TR=0.03282304099636741\n",
    "BC=0.03413892801541997\n",
    "CNC=0.033249314256060494\n",
    "PR=0.03413892801541997\n",
    "TPN=0.03282304099636741\n",
    "#### TOP 1\n",
    "TR=0.03638194635173487\n",
    "BC=0.03638194635173487\n",
    "CNC=0.03638194635173487\n",
    "PR=0.036766456101803534\n",
    "TPN=0.03638194635173487\n",
    "#### TOP 4\n",
    "TR=0.031326918773774894\n",
    "BC=0.033135675393451185\n",
    "CNC=0.031625270381144176\n",
    "PR=0.033135675393451185\n",
    "TPN=0.031326918773774894"
   ]
  },
  {
   "cell_type": "markdown",
   "metadata": {},
   "source": [
    "### email\n",
    "#### TOP-5\n",
    "TR=0.008204484383947844\n",
    "BC=0.008180885675269183\n",
    "CNC=0.008150993977609546\n",
    "PR=0.008232802834362236\n",
    "TPN=0.008157286966590521\n",
    "#### TOP-3\n",
    "TR=0.008285192471997304\n",
    "BC=0.008274218707133732\n",
    "CNC=0.008274218707133732\n",
    "PR=0.008325952170062002\n",
    "TPN=0.008275786387828526\n",
    "#### TOP-1\n",
    "TR=0.008404332761588763\n",
    "BC=0.00843401349067244\n",
    "CNC=0.00843401349067244\n",
    "PR=0.008404332761588763\n",
    "TPN=0.008404332761588763"
   ]
  },
  {
   "cell_type": "code",
   "execution_count": 7,
   "metadata": {},
   "outputs": [],
   "source": [
    "\n",
    "#loop through network and remove a node neigborhood from graph and calculate the desity of the remaining graph.\n",
    "def density():\n",
    "    i=0\n",
    "    density_list=[]\n",
    "    nodes =  G.nodes\n",
    "    if nodes!= 0:        \n",
    "        #H = nx.karate_club_graph()\n",
    "        for i in G:  \n",
    "            H = G.copy()\n",
    "\n",
    "            H.remove_edges_from(ebunch)\n",
    "            H.remove_node(i)\n",
    "            density = nx.density(H)\n",
    "            DS = (i, density)       \n",
    "            density_list.append(DS)\n",
    "            \n",
    "    return  density_list"
   ]
  },
  {
   "cell_type": "code",
   "execution_count": 8,
   "metadata": {},
   "outputs": [],
   "source": [
    "#density()"
   ]
  },
  {
   "cell_type": "code",
   "execution_count": 57,
   "metadata": {},
   "outputs": [],
   "source": [
    "ds_Rank = pd.read_csv('evaluation/rank_result/DENSITY2.csv')"
   ]
  },
  {
   "cell_type": "code",
   "execution_count": 58,
   "metadata": {},
   "outputs": [
    {
     "data": {
      "text/plain": [
       "0          NaN\n",
       "1     0.115530\n",
       "2     0.073118\n",
       "3     0.046798\n",
       "4          NaN\n",
       "5     0.080328\n",
       "6     0.068922\n",
       "7     0.069549\n",
       "8          NaN\n",
       "9     0.061589\n",
       "10    0.079486\n",
       "11    0.047963\n",
       "12         NaN\n",
       "13    0.036382\n",
       "14    0.032823\n",
       "15    0.029831\n",
       "16         NaN\n",
       "17    0.008404\n",
       "18    0.008274\n",
       "19    0.008151\n",
       "dtype: float64"
      ]
     },
     "execution_count": 58,
     "metadata": {},
     "output_type": "execute_result"
    }
   ],
   "source": [
    "ds_Rank[[\"TR\",\"BC\",\"CNC\",\"PR\",\"TPN\"]].min(axis=1)"
   ]
  },
  {
   "cell_type": "code",
   "execution_count": null,
   "metadata": {},
   "outputs": [],
   "source": []
  }
 ],
 "metadata": {
  "kernelspec": {
   "display_name": "Python 3",
   "language": "python",
   "name": "python3"
  },
  "language_info": {
   "codemirror_mode": {
    "name": "ipython",
    "version": 3
   },
   "file_extension": ".py",
   "mimetype": "text/x-python",
   "name": "python",
   "nbconvert_exporter": "python",
   "pygments_lexer": "ipython3",
   "version": "3.6.5"
  }
 },
 "nbformat": 4,
 "nbformat_minor": 2
}
