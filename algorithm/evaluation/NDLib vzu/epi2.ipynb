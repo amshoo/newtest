{
 "cells": [
  {
   "cell_type": "code",
   "execution_count": 1,
   "metadata": {},
   "outputs": [
    {
     "ename": "AttributeError",
     "evalue": "type object 'SIModel' has no attribute 'SIModel'",
     "output_type": "error",
     "traceback": [
      "\u001b[1;31m---------------------------------------------------------------------------\u001b[0m",
      "\u001b[1;31mAttributeError\u001b[0m                            Traceback (most recent call last)",
      "\u001b[1;32m<ipython-input-1-92c0f34dc971>\u001b[0m in \u001b[0;36m<module>\u001b[1;34m\u001b[0m\n\u001b[0;32m     23\u001b[0m \u001b[1;31m#--------------------------------------------------------------\u001b[0m\u001b[1;33m\u001b[0m\u001b[1;33m\u001b[0m\u001b[0m\n\u001b[0;32m     24\u001b[0m \u001b[1;31m# Model selection\u001b[0m\u001b[1;33m\u001b[0m\u001b[1;33m\u001b[0m\u001b[0m\n\u001b[1;32m---> 25\u001b[1;33m \u001b[0mmodel\u001b[0m \u001b[1;33m=\u001b[0m \u001b[0msi\u001b[0m\u001b[1;33m.\u001b[0m\u001b[0mSIModel\u001b[0m\u001b[1;33m(\u001b[0m\u001b[0mH\u001b[0m\u001b[1;33m)\u001b[0m\u001b[1;33m\u001b[0m\u001b[0m\n\u001b[0m\u001b[0;32m     26\u001b[0m \u001b[1;33m\u001b[0m\u001b[0m\n\u001b[0;32m     27\u001b[0m \u001b[1;31m# Model Configuration\u001b[0m\u001b[1;33m\u001b[0m\u001b[1;33m\u001b[0m\u001b[0m\n",
      "\u001b[1;31mAttributeError\u001b[0m: type object 'SIModel' has no attribute 'SIModel'"
     ]
    }
   ],
   "source": [
    "import networkx as nx\n",
    "import ndlib.models.ModelConfig as mc\n",
    "import ndlib.models.epidemics.SIModel as si\n",
    "from ndlib.viz.mpl.TrendComparison import DiffusionTrendComparison\n",
    "import json\n",
    "\n",
    "from ndlib.utils import multi_runs\n",
    "import warnings\n",
    "warnings.filterwarnings(\"ignore\")\n",
    "\n",
    "# Network topology\n",
    "#H = nx.karate_club_graph()\n",
    "fh=open(\"../../DataSet/blogs.txt\", 'rb')\n",
    "H = nx.read_weighted_edgelist(fh,nodetype=int, encoding='utf-8')\n",
    "fh.close()\n",
    "#H = nx.convert_node_labels_to_integers(G, first_label=0, ordering=\"default\", label_attribute = None)\n",
    "\n",
    "b=nx.density(H)#*3\n",
    "#b=1\n",
    "ex=10\n",
    "it=30\n",
    "#seed nodes\n",
    "#--------------------------------------------------------------\n",
    "# Model selection\n",
    "model = si.SIModel(H)\n",
    "\n",
    "# Model Configuration\n",
    "cfg = mc.Configuration()\n",
    "\n",
    "\n",
    "cfg.add_model_parameter('beta', b)\n",
    "\n",
    "\n",
    "infected_nodes1 = [261]\n",
    "cfg.add_model_initial_configuration(\"Infected\", infected_nodes1)\n",
    "model.set_initial_status(cfg)\n",
    "\n",
    "# Simulation execution\n",
    "iterations = model.iteration_bunch(it)\n",
    "trends1 = model.build_trends(iterations)\n",
    "#trends1 = multi_runs(model, execution_number=ex, iteration_number=it, nprocesses=4)\n",
    "\n",
    "#--------------------------------------------------------------\n",
    "# 2° Model selection\n",
    "model1 = si.SIModel(H)\n",
    "\n",
    "# 2° Model Configuration\n",
    "cfg = mc.Configuration()\n",
    "\n",
    "\n",
    "cfg.add_model_parameter('beta', b)\n",
    "\n",
    "infected_nodes2 = [118]\n",
    "cfg.add_model_initial_configuration(\"Infected\", infected_nodes2)\n",
    "model1.set_initial_status(cfg)\n",
    "\n",
    "# 3° Simulation execution\n",
    "iterations = model1.iteration_bunch(it)\n",
    "trends2 = model1.build_trends(iterations)\n",
    "#trends2  = multi_runs(model1, execution_number=ex, iteration_number=it, nprocesses=4)\n",
    "\n",
    "#--------------------------------------------------------------"
   ]
  },
  {
   "cell_type": "code",
   "execution_count": null,
   "metadata": {},
   "outputs": [],
   "source": [
    "from ndlib.viz.mpl.TrendComparison import DiffusionTrendComparison\n",
    "viz = DiffusionTrendComparison([model, model1], [trends1, trends2], statuses=['Infected'])\n",
    "viz.plot(percentile=90)\n",
    "viz.plot(\"118_261.png\",percentile=90)"
   ]
  },
  {
   "cell_type": "code",
   "execution_count": null,
   "metadata": {},
   "outputs": [],
   "source": [
    "from ndlib.viz.mpl.PrevalenceComparison import DiffusionPrevalenceComparison\n",
    "viz = DiffusionPrevalenceComparison([model, model1], [trends1, trends2], statuses=['Infected'])\n",
    "#viz.plot(percentile=90)\n",
    "#viz.plot(\"blog_tr_tc_p.png\",percentile=90)"
   ]
  },
  {
   "cell_type": "code",
   "execution_count": null,
   "metadata": {},
   "outputs": [],
   "source": []
  }
 ],
 "metadata": {
  "kernelspec": {
   "display_name": "Python 3",
   "language": "python",
   "name": "python3"
  },
  "language_info": {
   "codemirror_mode": {
    "name": "ipython",
    "version": 3
   },
   "file_extension": ".py",
   "mimetype": "text/x-python",
   "name": "python",
   "nbconvert_exporter": "python",
   "pygments_lexer": "ipython3",
   "version": "3.6.6"
  }
 },
 "nbformat": 4,
 "nbformat_minor": 2
}
