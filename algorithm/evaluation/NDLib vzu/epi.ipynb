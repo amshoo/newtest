{
 "cells": [
  {
   "cell_type": "code",
   "execution_count": 3,
   "metadata": {},
   "outputs": [
    {
     "ename": "AttributeError",
     "evalue": "type object 'NodeStochastic' has no attribute 'NodeStochastic'",
     "output_type": "error",
     "traceback": [
      "\u001b[1;31m---------------------------------------------------------------------------\u001b[0m",
      "\u001b[1;31mAttributeError\u001b[0m                            Traceback (most recent call last)",
      "\u001b[1;32m<ipython-input-3-16f6a28135b3>\u001b[0m in \u001b[0;36m<module>\u001b[1;34m\u001b[0m\n\u001b[0;32m     13\u001b[0m \u001b[1;33m\u001b[0m\u001b[0m\n\u001b[0;32m     14\u001b[0m \u001b[1;31m# Compartment definition\u001b[0m\u001b[1;33m\u001b[0m\u001b[1;33m\u001b[0m\u001b[0m\n\u001b[1;32m---> 15\u001b[1;33m \u001b[0mc1\u001b[0m \u001b[1;33m=\u001b[0m \u001b[0mns\u001b[0m\u001b[1;33m.\u001b[0m\u001b[0mNodeStochastic\u001b[0m\u001b[1;33m(\u001b[0m\u001b[1;36m0.5\u001b[0m\u001b[1;33m,\u001b[0m \u001b[1;34m\"Infected\"\u001b[0m\u001b[1;33m)\u001b[0m\u001b[1;33m\u001b[0m\u001b[0m\n\u001b[0m\u001b[0;32m     16\u001b[0m \u001b[0mc2\u001b[0m \u001b[1;33m=\u001b[0m \u001b[0mns\u001b[0m\u001b[1;33m.\u001b[0m\u001b[0mNodeStochastic\u001b[0m\u001b[1;33m(\u001b[0m\u001b[1;36m0.2\u001b[0m\u001b[1;33m)\u001b[0m\u001b[1;33m\u001b[0m\u001b[0m\n\u001b[0;32m     17\u001b[0m \u001b[0mc3\u001b[0m \u001b[1;33m=\u001b[0m \u001b[0mns\u001b[0m\u001b[1;33m.\u001b[0m\u001b[0mNodeStochastic\u001b[0m\u001b[1;33m(\u001b[0m\u001b[1;36m0.1\u001b[0m\u001b[1;33m)\u001b[0m\u001b[1;33m\u001b[0m\u001b[0m\n",
      "\u001b[1;31mAttributeError\u001b[0m: type object 'NodeStochastic' has no attribute 'NodeStochastic'"
     ]
    }
   ],
   "source": [
    "import networkx as nx\n",
    "from ndlib.models import CompositeModel as gc\n",
    "import ndlib.models.compartments.NodeStochastic as ns\n",
    "import ndlib.models.compartments.ConditionalComposition as cif\n",
    "\n",
    "g = nx.karate_club_graph()\n",
    "# Composite Model instantiation\n",
    "model = gc.CompositeModel(g)\n",
    "\n",
    "# Model statuses\n",
    "model.add_status(\"Susceptible\")\n",
    "model.add_status(\"Infected\")\n",
    "\n",
    "# Compartment definition\n",
    "c1 = ns.NodeStochastic(0.5, \"Infected\")\n",
    "c2 = ns.NodeStochastic(0.2)\n",
    "c3 = ns.NodeStochastic(0.1)\n",
    "\n",
    "# Conditional Composition\n",
    "cc = cif.ConditionalComposition(c1, c2, c3)\n",
    "\n",
    "# Rule definition\n",
    "model.add_rule(\"Susceptible\", \"Infected\", cc)\n",
    "\n",
    "# Model initial status configuration\n",
    "config = mc.Configuration()\n",
    "config.add_model_parameter('percentage_infected', 0.1)\n",
    "infected_nodes = [11]\n",
    "config.add_model_initial_configuration(\"Infected\", infected_nodes)\n",
    "\n",
    "# Simulation execution\n",
    "model.set_initial_status(config)\n",
    "iterations = model.iteration_bunch(50)\n",
    "trends = model.build_trends(iterations)\n",
    "\n",
    "viz = DiffusionTrend(model, trends)\n",
    "viz.plot()"
   ]
  },
  {
   "cell_type": "code",
   "execution_count": null,
   "metadata": {},
   "outputs": [],
   "source": [
    "import ndlib"
   ]
  },
  {
   "cell_type": "code",
   "execution_count": null,
   "metadata": {},
   "outputs": [],
   "source": [
    "import networkx as nx\n",
    "import ndlib.models.ModelConfig as mc\n",
    "import ndlib.models.epidemics.SIModel as si\n",
    "\n",
    "# Network topology\n",
    "g = nx.karate_club_graph()\n",
    "\n",
    "# Model selection\n",
    "model = si.SIModel(g)\n",
    "# Model Configuration\n",
    "cfg = mc.Configuration()\n",
    "cfg.add_model_parameter('beta', 0.01)\n",
    "cfg.add_model_parameter('gamma', 0.1)\n",
    "\n",
    "model.set_initial_status(cfg)\n",
    "\n",
    "infected_nodes = [32]\n",
    "cfg.add_model_initial_configuration(\"Infected\", infected_nodes)\n",
    "\n",
    "iterations = model.iteration_bunch(100, node_status=True)\n",
    "#print(iterations)\n",
    "trends = model.build_trends(iterations)\n",
    "#trends"
   ]
  },
  {
   "cell_type": "code",
   "execution_count": null,
   "metadata": {},
   "outputs": [],
   "source": [
    "import json\n",
    "#print(json.dumps(model.parameters, indent=2))"
   ]
  },
  {
   "cell_type": "code",
   "execution_count": null,
   "metadata": {},
   "outputs": [],
   "source": [
    "%matplotlib inline\n",
    "from ndlib.viz.mpl.DiffusionTrend import DiffusionTrend\n",
    "viz = DiffusionTrend(model, trends)\n",
    "viz.plot(percentile=90)"
   ]
  },
  {
   "cell_type": "code",
   "execution_count": null,
   "metadata": {},
   "outputs": [],
   "source": [
    "from ndlib.viz.mpl.DiffusionPrevalence import DiffusionPrevalence\n",
    "viz = DiffusionPrevalence(model, trends)\n",
    "viz.plot(percentile=90)"
   ]
  },
  {
   "cell_type": "markdown",
   "metadata": {},
   "source": [
    "# import ndlib.models.CompositeModel as gc\n",
    "import ndlib.models.compartments.NodeStochastic as ns\n",
    "import ndlib.models.compartments.ConditionalComposition as cif\n",
    "\n",
    "# Composite Model instantiation\n",
    "model = gc.CompositeModel(g)\n",
    "\n",
    "# Model statuses\n",
    "model.add_status(\"Susceptible\")\n",
    "model.add_status(\"Infected\")\n",
    "\n",
    "# Compartment definition\n",
    "c1 = ns.NodeStochastic(0.5, \"Infected\")\n",
    "c2 = ns.NodeStochastic(0.2)\n",
    "c3 = ns.NodeStochastic(0.1)\n",
    "\n",
    "# Conditional Composition\n",
    "cc = cif.ConditionalComposition(c1, c2, c3)\n",
    "\n",
    "# Rule definition\n",
    "model.add_rule(\"Susceptible\", \"Infected\", cc)\n",
    "\n",
    "# Model initial status configuration\n",
    "config = mc.Configuration()\n",
    "config.add_model_parameter('percentage_infected', 0.1)\n",
    "infected_nodes = [11]\n",
    "config.add_model_initial_configuration(\"Infected\", infected_nodes)\n",
    "\n",
    "# Simulation execution\n",
    "model.set_initial_status(config)\n",
    "iterations = model.iteration_bunch(50)\n",
    "trends = model.build_trends(iterations)\n",
    "\n",
    "viz = DiffusionTrend(model, trends)\n",
    "viz.plot()"
   ]
  },
  {
   "cell_type": "code",
   "execution_count": null,
   "metadata": {},
   "outputs": [],
   "source": [
    "#print(trends)"
   ]
  },
  {
   "cell_type": "code",
   "execution_count": null,
   "metadata": {},
   "outputs": [],
   "source": []
  },
  {
   "cell_type": "code",
   "execution_count": null,
   "metadata": {},
   "outputs": [],
   "source": []
  }
 ],
 "metadata": {
  "kernelspec": {
   "display_name": "Python 3",
   "language": "python",
   "name": "python3"
  },
  "language_info": {
   "codemirror_mode": {
    "name": "ipython",
    "version": 3
   },
   "file_extension": ".py",
   "mimetype": "text/x-python",
   "name": "python",
   "nbconvert_exporter": "python",
   "pygments_lexer": "ipython3",
   "version": "3.6.6"
  }
 },
 "nbformat": 4,
 "nbformat_minor": 2
}
