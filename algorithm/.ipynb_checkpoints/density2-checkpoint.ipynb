{
 "cells": [
  {
   "cell_type": "code",
   "execution_count": 1,
   "metadata": {},
   "outputs": [],
   "source": [
    "import numpy as np\n",
    "import matplotlib.pyplot as plt\n",
    "import pandas as pd\n",
    "import networkx as nx"
   ]
  },
  {
   "cell_type": "code",
   "execution_count": 2,
   "metadata": {},
   "outputs": [],
   "source": [
    "#import datset network graph. \n",
    "def graph():    \n",
    "    import graph\n",
    "    Graph = graph.H\n",
    "    return Graph\n",
    "G = graph()"
   ]
  },
  {
   "cell_type": "code",
   "execution_count": 12,
   "metadata": {},
   "outputs": [],
   "source": [
    "rank_table = pd.read_csv('evaluation/rank_result/usair/ranking_table_usair.csv')\n",
    "rank_table = pd.DataFrame(rank_table.loc[0:3])\n",
    "rank_table1 = rank_table.drop(['Unnamed: 0'], axis=1)\n",
    "rank_table2=[tuple(x) for x in rank_table1.to_records(index=False)]"
   ]
  },
  {
   "cell_type": "code",
   "execution_count": 13,
   "metadata": {},
   "outputs": [
    {
     "data": {
      "text/html": [
       "<div>\n",
       "<style scoped>\n",
       "    .dataframe tbody tr th:only-of-type {\n",
       "        vertical-align: middle;\n",
       "    }\n",
       "\n",
       "    .dataframe tbody tr th {\n",
       "        vertical-align: top;\n",
       "    }\n",
       "\n",
       "    .dataframe thead th {\n",
       "        text-align: right;\n",
       "    }\n",
       "</style>\n",
       "<table border=\"1\" class=\"dataframe\">\n",
       "  <thead>\n",
       "    <tr style=\"text-align: right;\">\n",
       "      <th></th>\n",
       "      <th>Unnamed: 0</th>\n",
       "      <th>NDR</th>\n",
       "      <th>TR</th>\n",
       "      <th>BC</th>\n",
       "      <th>CNC</th>\n",
       "      <th>DC</th>\n",
       "      <th>EC</th>\n",
       "      <th>PR</th>\n",
       "      <th>TC</th>\n",
       "      <th>PI</th>\n",
       "      <th>CC</th>\n",
       "      <th>TPN</th>\n",
       "    </tr>\n",
       "  </thead>\n",
       "  <tbody>\n",
       "    <tr>\n",
       "      <th>0</th>\n",
       "      <td>0</td>\n",
       "      <td>18</td>\n",
       "      <td>18</td>\n",
       "      <td>18</td>\n",
       "      <td>18</td>\n",
       "      <td>18</td>\n",
       "      <td>18</td>\n",
       "      <td>18</td>\n",
       "      <td>18</td>\n",
       "      <td>18</td>\n",
       "      <td>18</td>\n",
       "      <td>18.0</td>\n",
       "    </tr>\n",
       "    <tr>\n",
       "      <th>1</th>\n",
       "      <td>1</td>\n",
       "      <td>3</td>\n",
       "      <td>3</td>\n",
       "      <td>3</td>\n",
       "      <td>3</td>\n",
       "      <td>3</td>\n",
       "      <td>3</td>\n",
       "      <td>3</td>\n",
       "      <td>3</td>\n",
       "      <td>3</td>\n",
       "      <td>44</td>\n",
       "      <td>3.0</td>\n",
       "    </tr>\n",
       "    <tr>\n",
       "      <th>2</th>\n",
       "      <td>2</td>\n",
       "      <td>52</td>\n",
       "      <td>52</td>\n",
       "      <td>44</td>\n",
       "      <td>52</td>\n",
       "      <td>52</td>\n",
       "      <td>52</td>\n",
       "      <td>44</td>\n",
       "      <td>52</td>\n",
       "      <td>52</td>\n",
       "      <td>52</td>\n",
       "      <td>52.0</td>\n",
       "    </tr>\n",
       "    <tr>\n",
       "      <th>3</th>\n",
       "      <td>3</td>\n",
       "      <td>44</td>\n",
       "      <td>44</td>\n",
       "      <td>52</td>\n",
       "      <td>44</td>\n",
       "      <td>44</td>\n",
       "      <td>44</td>\n",
       "      <td>52</td>\n",
       "      <td>44</td>\n",
       "      <td>44</td>\n",
       "      <td>3</td>\n",
       "      <td>44.0</td>\n",
       "    </tr>\n",
       "  </tbody>\n",
       "</table>\n",
       "</div>"
      ],
      "text/plain": [
       "   Unnamed: 0  NDR  TR  BC  CNC  DC  EC  PR  TC  PI  CC   TPN\n",
       "0           0   18  18  18   18  18  18  18  18  18  18  18.0\n",
       "1           1    3   3   3    3   3   3   3   3   3  44   3.0\n",
       "2           2   52  52  44   52  52  52  44  52  52  52  52.0\n",
       "3           3   44  44  52   44  44  44  52  44  44   3  44.0"
      ]
     },
     "execution_count": 13,
     "metadata": {},
     "output_type": "execute_result"
    }
   ],
   "source": [
    "rank_table"
   ]
  },
  {
   "cell_type": "code",
   "execution_count": 11,
   "metadata": {},
   "outputs": [
    {
     "data": {
      "text/plain": [
       "0.05036344755970924"
      ]
     },
     "execution_count": 11,
     "metadata": {},
     "output_type": "execute_result"
    }
   ],
   "source": [
    "TR_nodes = tuple(rank_table1['TR'])\n",
    "BC_nodes = tuple(rank_table1['BC'])\n",
    "CNC_nodes =tuple(rank_table1['CNC'])\n",
    "PR_nodes = tuple(rank_table1['PR'])\n",
    "TPN_nodes =tuple(rank_table1['TPN'])\n",
    "\n",
    "H = G.copy()\n",
    "#H.remove_node(52)\n",
    "H.remove_nodes_from(TR_nodes)\n",
    "density = nx.density(H)\n",
    "density "
   ]
  },
  {
   "cell_type": "markdown",
   "metadata": {},
   "source": [
    "### kc network \n",
    "#### TOP 3\n",
    "TR= 0.07311827956989247.\n",
    "BC= 0.07311827956989247.\n",
    "CNC=0.07741935483870968.\n",
    "PR= 0.07311827956989247.\n",
    "TPN=0.07311827956989247.\n",
    "#### TOP 1\n",
    "TR= 0.11742424242424243\n",
    "BC= 0.11742424242424243\n",
    "CNC=0.11742424242424243\n",
    "PR= 0.11553030303030302\n",
    "TPN=0.11742424242424243\n",
    "#### TOP 4\n",
    "TR= 0.059770114942528735\n",
    "BC= 0.059770114942528735\n",
    "CNC=0.0735632183908046\n",
    "PR= 0.059770114942528735\n",
    "TPN=0.059770114942528735"
   ]
  },
  {
   "cell_type": "markdown",
   "metadata": {},
   "source": [
    "### dolphins \n",
    "#### TOP-5\n",
    "TR=0.06954887218045112\n",
    "BC=0.07832080200501253\n",
    "CNC=0.07393483709273183\n",
    "PR=0.07142857142857142\n",
    "TPN=0.06892230576441102\n",
    "#### TOP-1:::\n",
    "TR=0.08032786885245902\n",
    "BC=0.08306010928961749\n",
    "CNC=0.08306010928961749\n",
    "PR=0.0814207650273224\n",
    "TPN=0.08087431693989071\n",
    "#### TOP-3\n",
    "TR=0.06954887218045112\n",
    "BC=0.07832080200501253\n",
    "CNC=0.07393483709273183\n",
    "PR=0.07142857142857142\n",
    "TPN=0.06892230576441102"
   ]
  },
  {
   "cell_type": "markdown",
   "metadata": {},
   "source": [
    "### BLOGS\n",
    "#### TOP 3\n",
    "TR=0.07948568088836938\n",
    "BC=0.08123904149620105\n",
    "CNC=0.07948568088836938\n",
    "PR=0.08123904149620105\n",
    "TPN=0.07948568088836938\n",
    "#### TOP 4\n",
    "TR=0.05036344755970924\n",
    "BC=0.05036344755970924\n",
    "CNC=0.05036344755970924\n",
    "PR=0.05036344755970924\n",
    "TPN=0.05036344755970924"
   ]
  },
  {
   "cell_type": "markdown",
   "metadata": {},
   "source": [
    "### usair\n",
    "#### TOP 3\n",
    "TR=0.03282304099636741\n",
    "BC=0.03413892801541997\n",
    "CNC=0.033249314256060494\n",
    "PR=0.03413892801541997\n",
    "TPN=0.03282304099636741\n",
    "#### TOP 1\n",
    "TR=0.03638194635173487\n",
    "BC=0.03638194635173487\n",
    "CNC=0.03638194635173487\n",
    "PR=0.036766456101803534\n",
    "TPN=0.03638194635173487\n",
    "#### TOP 4\n",
    "TR=0.031326918773774894\n",
    "BC=0.033135675393451185\n",
    "CNC=0.031625270381144176\n",
    "PR=0.033135675393451185\n",
    "TPN=0.031326918773774894"
   ]
  },
  {
   "cell_type": "markdown",
   "metadata": {},
   "source": [
    "### email\n",
    "#### TOP-5\n",
    "TR=0.008204484383947844\n",
    "BC=0.008180885675269183\n",
    "CNC=0.008150993977609546\n",
    "PR=0.008232802834362236\n",
    "TPN=0.008157286966590521\n",
    "#### TOP-3\n",
    "TR=0.008285192471997304\n",
    "BC=0.008274218707133732\n",
    "CNC=0.008274218707133732\n",
    "PR=0.008325952170062002\n",
    "TPN=0.008275786387828526\n",
    "#### TOP-1\n",
    "TR=0.008404332761588763\n",
    "BC=0.00843401349067244\n",
    "CNC=0.00843401349067244\n",
    "PR=0.008404332761588763\n",
    "TPN=0.008404332761588763"
   ]
  },
  {
   "cell_type": "code",
   "execution_count": 6,
   "metadata": {},
   "outputs": [],
   "source": [
    "\n",
    "#loop through network and remove a node neigborhood from graph and calculate the desity of the remaining graph.\n",
    "def density():\n",
    "    i=0\n",
    "    density_list=[]\n",
    "    nodes =  G.nodes\n",
    "    if nodes!= 0:        \n",
    "        #H = nx.karate_club_graph()\n",
    "        for i in G:  \n",
    "            H = G.copy()\n",
    "\n",
    "            H.remove_edges_from(ebunch)\n",
    "            H.remove_node(i)\n",
    "            density = nx.density(H)\n",
    "            DS = (i, density)       \n",
    "            density_list.append(DS)\n",
    "            \n",
    "    return  density_list"
   ]
  },
  {
   "cell_type": "code",
   "execution_count": 7,
   "metadata": {},
   "outputs": [],
   "source": [
    "#density()"
   ]
  },
  {
   "cell_type": "code",
   "execution_count": 8,
   "metadata": {},
   "outputs": [
    {
     "ename": "NameError",
     "evalue": "name 'ebunch' is not defined",
     "output_type": "error",
     "traceback": [
      "\u001b[1;31m---------------------------------------------------------------------------\u001b[0m",
      "\u001b[1;31mNameError\u001b[0m                                 Traceback (most recent call last)",
      "\u001b[1;32m<ipython-input-8-6d3063780f7c>\u001b[0m in \u001b[0;36m<module>\u001b[1;34m\u001b[0m\n\u001b[0;32m      2\u001b[0m \u001b[1;32mdef\u001b[0m \u001b[0meff_Ranking\u001b[0m\u001b[1;33m(\u001b[0m \u001b[0mval\u001b[0m \u001b[1;33m)\u001b[0m\u001b[1;33m:\u001b[0m\u001b[1;33m\u001b[0m\u001b[0m\n\u001b[0;32m      3\u001b[0m       \u001b[1;32mreturn\u001b[0m \u001b[0mval\u001b[0m \u001b[1;33m[\u001b[0m\u001b[1;36m1\u001b[0m\u001b[1;33m]\u001b[0m\u001b[1;33m\u001b[0m\u001b[0m\n\u001b[1;32m----> 4\u001b[1;33m \u001b[0mds_Rank\u001b[0m \u001b[1;33m=\u001b[0m\u001b[0mdensity\u001b[0m\u001b[1;33m(\u001b[0m\u001b[1;33m)\u001b[0m\u001b[1;33m\u001b[0m\u001b[0m\n\u001b[0m\u001b[0;32m      5\u001b[0m \u001b[0mds_Rank\u001b[0m\u001b[1;33m.\u001b[0m\u001b[0msort\u001b[0m\u001b[1;33m(\u001b[0m\u001b[0mkey\u001b[0m\u001b[1;33m=\u001b[0m\u001b[1;32mlambda\u001b[0m \u001b[0melem\u001b[0m\u001b[1;33m:\u001b[0m \u001b[0melem\u001b[0m\u001b[1;33m[\u001b[0m\u001b[1;36m1\u001b[0m\u001b[1;33m]\u001b[0m\u001b[1;33m)\u001b[0m\u001b[1;33m\u001b[0m\u001b[0m\n",
      "\u001b[1;32m<ipython-input-6-95d2bdb4fa70>\u001b[0m in \u001b[0;36mdensity\u001b[1;34m()\u001b[0m\n\u001b[0;32m      9\u001b[0m             \u001b[0mH\u001b[0m \u001b[1;33m=\u001b[0m \u001b[0mG\u001b[0m\u001b[1;33m.\u001b[0m\u001b[0mcopy\u001b[0m\u001b[1;33m(\u001b[0m\u001b[1;33m)\u001b[0m\u001b[1;33m\u001b[0m\u001b[0m\n\u001b[0;32m     10\u001b[0m \u001b[1;33m\u001b[0m\u001b[0m\n\u001b[1;32m---> 11\u001b[1;33m             \u001b[0mH\u001b[0m\u001b[1;33m.\u001b[0m\u001b[0mremove_edges_from\u001b[0m\u001b[1;33m(\u001b[0m\u001b[0mebunch\u001b[0m\u001b[1;33m)\u001b[0m\u001b[1;33m\u001b[0m\u001b[0m\n\u001b[0m\u001b[0;32m     12\u001b[0m             \u001b[0mH\u001b[0m\u001b[1;33m.\u001b[0m\u001b[0mremove_node\u001b[0m\u001b[1;33m(\u001b[0m\u001b[0mi\u001b[0m\u001b[1;33m)\u001b[0m\u001b[1;33m\u001b[0m\u001b[0m\n\u001b[0;32m     13\u001b[0m             \u001b[0mdensity\u001b[0m \u001b[1;33m=\u001b[0m \u001b[0mnx\u001b[0m\u001b[1;33m.\u001b[0m\u001b[0mdensity\u001b[0m\u001b[1;33m(\u001b[0m\u001b[0mH\u001b[0m\u001b[1;33m)\u001b[0m\u001b[1;33m\u001b[0m\u001b[0m\n",
      "\u001b[1;31mNameError\u001b[0m: name 'ebunch' is not defined"
     ]
    }
   ],
   "source": [
    "#Ranking the total power of node i\n",
    "def eff_Ranking( val ):\n",
    "      return val [1]\n",
    "ds_Rank =density()\n",
    "ds_Rank.sort(key=lambda elem: elem[1])"
   ]
  },
  {
   "cell_type": "code",
   "execution_count": null,
   "metadata": {},
   "outputs": [],
   "source": [
    "ds_Rank"
   ]
  },
  {
   "cell_type": "code",
   "execution_count": null,
   "metadata": {},
   "outputs": [],
   "source": []
  }
 ],
 "metadata": {
  "kernelspec": {
   "display_name": "Python 3",
   "language": "python",
   "name": "python3"
  },
  "language_info": {
   "codemirror_mode": {
    "name": "ipython",
    "version": 3
   },
   "file_extension": ".py",
   "mimetype": "text/x-python",
   "name": "python",
   "nbconvert_exporter": "python",
   "pygments_lexer": "ipython3",
   "version": "3.6.6"
  }
 },
 "nbformat": 4,
 "nbformat_minor": 2
}
