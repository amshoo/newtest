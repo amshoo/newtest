{
 "cells": [
  {
   "cell_type": "code",
   "execution_count": 1,
   "metadata": {},
   "outputs": [],
   "source": [
    "import numpy as np\n",
    "import matplotlib.pyplot as plt\n",
    "import pandas as pd\n",
    "import networkx as nx\n",
    "import Selection_Algorithm"
   ]
  },
  {
   "cell_type": "code",
   "execution_count": 2,
   "metadata": {},
   "outputs": [],
   "source": [
    "#import datset network graph. \n",
    "def graph():    \n",
    "    import graph\n",
    "    Graph = graph.H\n",
    "    return Graph\n",
    "G = graph()"
   ]
  },
  {
   "cell_type": "code",
   "execution_count": 3,
   "metadata": {},
   "outputs": [],
   "source": [
    "#loop through network and remove a node neigborhood from graph and calculate the desity of the remaining graph.\n",
    "def density():\n",
    "    i=0\n",
    "    density_list=[]\n",
    "    nodes =  G.nodes\n",
    "    if nodes!= 0:        \n",
    "        #H = nx.karate_club_graph()\n",
    "        for i in G:  \n",
    "            H = G.copy()\n",
    "            ebunch =list(Selection_Algorithm.subgraph_of(i).edges)\n",
    "            H.remove_edges_from(ebunch)\n",
    "            H.remove_node(i)\n",
    "            density = nx.density(H)\n",
    "            DS = (i, density)       \n",
    "            density_list.append(DS)\n",
    "            \n",
    "    return  density_list"
   ]
  },
  {
   "cell_type": "code",
   "execution_count": 4,
   "metadata": {},
   "outputs": [],
   "source": [
    "#Ranking the result of the graph change in density.\n",
    "def density_Ranking( val ):\n",
    "    return val [1]\n",
    "density_Rank = density()\n",
    "density_Rank.sort(key=lambda elem: elem[1])"
   ]
  },
  {
   "cell_type": "code",
   "execution_count": 10,
   "metadata": {},
   "outputs": [],
   "source": [
    "#create a sorted table with the name \"density_Rank_table\"\n",
    "density_Rank_table = pd.DataFrame(density_Rank, columns = ('NDR','Density'))\n",
    "density_Rank_table.index = density_Rank_table.index + 1 #add plus 1 to the each index in the table \"density_Rank_table\"\n",
    "#print(density_Rank_table)"
   ]
  },
  {
   "cell_type": "code",
   "execution_count": 6,
   "metadata": {},
   "outputs": [],
   "source": [
    "#Create a CSV file \"\"\n",
    "#density_Rank_table.to_csv('evaluation_result/density_Rank_table.csv')"
   ]
  },
  {
   "cell_type": "code",
   "execution_count": 7,
   "metadata": {
    "scrolled": true
   },
   "outputs": [],
   "source": [
    "# Create a plots for density.\n",
    "def density_plot():\n",
    "    result = density_Rank_table.sort_values('NDR')\n",
    "    fig, (ax1) = plt.subplots(1, sharex=True)\n",
    "    ax1.set(title='Network Density', ylabel='Density')\n",
    "    ax1.grid()\n",
    "    ax1.plot(result.NDR, result.Density, 'g')\n",
    "    ax1.set(xlabel='Nodes', ylabel='Density')\n",
    "    save = plt.savefig(\"ds/---.png\")\n",
    "    plot = plt.show()"
   ]
  },
  {
   "cell_type": "code",
   "execution_count": 8,
   "metadata": {},
   "outputs": [
    {
     "data": {
      "image/png": "[encoded data removed]",
      "text/plain": [
       "<Figure size 432x288 with 1 Axes>"
      ]
     },
     "metadata": {},
     "output_type": "display_data"
    }
   ],
   "source": [
    "density_plot()"
   ]
  },
  {
   "cell_type": "code",
   "execution_count": null,
   "metadata": {},
   "outputs": [],
   "source": []
  },
  {
   "cell_type": "code",
   "execution_count": null,
   "metadata": {},
   "outputs": [],
   "source": []
  }
 ],
 "metadata": {
  "kernelspec": {
   "display_name": "Python 3",
   "language": "python",
   "name": "python3"
  },
  "language_info": {
   "codemirror_mode": {
    "name": "ipython",
    "version": 3
   },
   "file_extension": ".py",
   "mimetype": "text/x-python",
   "name": "python",
   "nbconvert_exporter": "python",
   "pygments_lexer": "ipython3",
   "version": "3.6.6"
  }
 },
 "nbformat": 4,
 "nbformat_minor": 2
}
