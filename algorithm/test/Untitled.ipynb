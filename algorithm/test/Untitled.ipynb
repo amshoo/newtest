{
 "cells": [
  {
   "cell_type": "code",
   "execution_count": 1,
   "metadata": {},
   "outputs": [],
   "source": [
    "\n",
    "# coding: utf-8\n",
    "import networkx as nx\n",
    "import numpy as np\n",
    "import matplotlib.pyplot as plt\n",
    "import pandas as pd\n",
    "import math\n",
    "import Selection_Algorithm\n",
    "import math\n",
    "\n",
    "\n",
    "# In[ ]:\n",
    "#TR_i = tr-ceyntrality i subgraph\n",
    "def graph():    \n",
    "    import graph\n",
    "    Graph = graph.H\n",
    "    return Graph\n",
    "G = graph()\n"
   ]
  },
  {
   "cell_type": "code",
   "execution_count": 2,
   "metadata": {},
   "outputs": [],
   "source": [
    "rank = pd.read_csv('kc.csv')\n",
    "rank = pd.DataFrame(rank.loc[0:4])\n",
    "TR_nodes = tuple(rank['TR'])\n",
    "DC_nodes = tuple(rank['DC'])\n",
    "BC_nodes = tuple(rank['BC'])\n",
    "CNC_nodes =tuple(rank['CNC'])\n",
    "EC_nodes = tuple(rank['EC'])\n",
    "PR_nodes = tuple(rank['PR'])\n",
    "TC_nodes =tuple(rank['TC'])"
   ]
  },
  {
   "cell_type": "code",
   "execution_count": 3,
   "metadata": {},
   "outputs": [
    {
     "data": {
      "text/plain": [
       "(1.0, 34.0, 33.0, 2.0, 3.0)"
      ]
     },
     "execution_count": 3,
     "metadata": {},
     "output_type": "execute_result"
    }
   ],
   "source": [
    "TC_nodes"
   ]
  },
  {
   "cell_type": "code",
   "execution_count": 15,
   "metadata": {},
   "outputs": [
    {
     "name": "stdout",
     "output_type": "stream",
     "text": [
      "0.054355475323562705\n",
      "0.054355475323562705\n",
      "0.06579873328641801\n",
      "0.08582443472141481\n",
      "0.054355475323562705\n",
      "0.054355475323562705\n",
      "0.054355475323562705\n"
     ]
    }
   ],
   "source": [
    "method =[TR_nodes,DC_nodes,BC_nodes,CNC_nodes,EC_nodes,PR_nodes,TC_nodes]\n",
    "for i in method:\n",
    "    den = nx.density(G)\n",
    "    H = G.copy()\n",
    "    #H.remove_node(1)\n",
    "    H.remove_nodes_from(i)\n",
    "    density = nx.density(H)\n",
    "    density = density  \n",
    "    print(density/(1-den))"
   ]
  },
  {
   "cell_type": "code",
   "execution_count": null,
   "metadata": {},
   "outputs": [],
   "source": []
  },
  {
   "cell_type": "code",
   "execution_count": null,
   "metadata": {},
   "outputs": [],
   "source": []
  }
 ],
 "metadata": {
  "kernelspec": {
   "display_name": "Python 3",
   "language": "python",
   "name": "python3"
  },
  "language_info": {
   "codemirror_mode": {
    "name": "ipython",
    "version": 3
   },
   "file_extension": ".py",
   "mimetype": "text/x-python",
   "name": "python",
   "nbconvert_exporter": "python",
   "pygments_lexer": "ipython3",
   "version": "3.6.5"
  }
 },
 "nbformat": 4,
 "nbformat_minor": 2
}
