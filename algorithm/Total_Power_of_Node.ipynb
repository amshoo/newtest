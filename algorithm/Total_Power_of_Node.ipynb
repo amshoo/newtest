{
 "cells": [
  {
   "cell_type": "code",
   "execution_count": 4,
   "metadata": {},
   "outputs": [],
   "source": [
    "import networkx as nx\n",
    "import numpy as np\n",
    "import matplotlib.pyplot as plt\n",
    "import pandas as pd\n",
    "import math"
   ]
  },
  {
   "cell_type": "code",
   "execution_count": 5,
   "metadata": {},
   "outputs": [],
   "source": [
    "import Tr_centrality_measure\n",
    "import Graph_Entropy_measure\n",
    "import Selection_Algorithm\n",
    "import Constraint_Coefficient"
   ]
  },
  {
   "cell_type": "markdown",
   "metadata": {},
   "source": [
    "### Compute the three Measures"
   ]
  },
  {
   "cell_type": "code",
   "execution_count": 6,
   "metadata": {},
   "outputs": [],
   "source": [
    "#calculate PI and make the PI to have all positive result\n",
    "\n",
    "PI_table1 = pd.DataFrame(Graph_Entropy_measure.PI_Rank, columns = ('PI','PI_i'))\n",
    "PI_table = PI_table1.copy()\n",
    "i = math.sqrt(2)\n",
    "PI_table.PI_i = PI_table.PI_i.where(lambda x: x > 0, lambda x: x + i)\n",
    "\n",
    "#calculate  TC \n",
    "\n",
    "TC_table = pd.DataFrame(Tr_centrality_measure.TC_Rank, columns = ('TC','TC_i'))\n",
    "#calculate  CC\n",
    "\n",
    "CC_table = pd.DataFrame(Constraint_Coefficient.sorted_x, columns = ('CC','CC_i'))\n",
    "\n",
    "#joint the three \"PI,C,TC\" table together\n",
    "\n",
    "Result_table = pd.concat([TC_table, PI_table, CC_table], axis=1, sort=False)\n",
    "\n",
    "#create a table containing the Top three Rank Nodes\n",
    "\n",
    "Top_five = pd.DataFrame(Result_table.loc[0:4])"
   ]
  },
  {
   "cell_type": "code",
   "execution_count": 7,
   "metadata": {},
   "outputs": [
    {
     "data": {
      "text/html": [
       "<div>\n",
       "<style scoped>\n",
       "    .dataframe tbody tr th:only-of-type {\n",
       "        vertical-align: middle;\n",
       "    }\n",
       "\n",
       "    .dataframe tbody tr th {\n",
       "        vertical-align: top;\n",
       "    }\n",
       "\n",
       "    .dataframe thead th {\n",
       "        text-align: right;\n",
       "    }\n",
       "</style>\n",
       "<table border=\"1\" class=\"dataframe\">\n",
       "  <thead>\n",
       "    <tr style=\"text-align: right;\">\n",
       "      <th></th>\n",
       "      <th>TC</th>\n",
       "      <th>TC_i</th>\n",
       "      <th>PI</th>\n",
       "      <th>PI_i</th>\n",
       "      <th>CC</th>\n",
       "      <th>CC_i</th>\n",
       "    </tr>\n",
       "  </thead>\n",
       "  <tbody>\n",
       "    <tr>\n",
       "      <th>0</th>\n",
       "      <td>0</td>\n",
       "      <td>55</td>\n",
       "      <td>0</td>\n",
       "      <td>0.047863</td>\n",
       "      <td>0</td>\n",
       "      <td>0.155423</td>\n",
       "    </tr>\n",
       "    <tr>\n",
       "      <th>1</th>\n",
       "      <td>33</td>\n",
       "      <td>52</td>\n",
       "      <td>33</td>\n",
       "      <td>0.054788</td>\n",
       "      <td>33</td>\n",
       "      <td>0.156419</td>\n",
       "    </tr>\n",
       "    <tr>\n",
       "      <th>2</th>\n",
       "      <td>32</td>\n",
       "      <td>44</td>\n",
       "      <td>32</td>\n",
       "      <td>0.062682</td>\n",
       "      <td>2</td>\n",
       "      <td>0.185177</td>\n",
       "    </tr>\n",
       "    <tr>\n",
       "      <th>3</th>\n",
       "      <td>1</td>\n",
       "      <td>31</td>\n",
       "      <td>1</td>\n",
       "      <td>0.069879</td>\n",
       "      <td>31</td>\n",
       "      <td>0.244575</td>\n",
       "    </tr>\n",
       "    <tr>\n",
       "      <th>4</th>\n",
       "      <td>2</td>\n",
       "      <td>27</td>\n",
       "      <td>2</td>\n",
       "      <td>0.076644</td>\n",
       "      <td>32</td>\n",
       "      <td>0.249223</td>\n",
       "    </tr>\n",
       "  </tbody>\n",
       "</table>\n",
       "</div>"
      ],
      "text/plain": [
       "   TC  TC_i  PI      PI_i  CC      CC_i\n",
       "0   0    55   0  0.047863   0  0.155423\n",
       "1  33    52  33  0.054788  33  0.156419\n",
       "2  32    44  32  0.062682   2  0.185177\n",
       "3   1    31   1  0.069879  31  0.244575\n",
       "4   2    27   2  0.076644  32  0.249223"
      ]
     },
     "execution_count": 7,
     "metadata": {},
     "output_type": "execute_result"
    }
   ],
   "source": [
    "Top_five"
   ]
  },
  {
   "cell_type": "code",
   "execution_count": 8,
   "metadata": {},
   "outputs": [],
   "source": [
    "#Result_table"
   ]
  },
  {
   "cell_type": "markdown",
   "metadata": {},
   "source": [
    "### Compute the Total Power of Node"
   ]
  },
  {
   "cell_type": "code",
   "execution_count": 9,
   "metadata": {},
   "outputs": [],
   "source": [
    "#return the total power of node i.\n",
    "def TPN(i):\n",
    "    PI_ofi = 1/Graph_Entropy_measure.PI_of(i)\n",
    "    TC_ofi = Tr_centrality_measure.TC_of(i)\n",
    "    CC_ofi = Constraint_Coefficient.CC_of(i)\n",
    "    \n",
    "    #Weight to normalize the measures[0.6,0.2,0.2]\n",
    "    #equation [Total Power of Node]\n",
    "    TPN_i  = (0.4*TC_ofi)+(0.3*PI_ofi)+(0.3*CC_ofi)     \n",
    "\n",
    "    return TPN_i\n"
   ]
  },
  {
   "cell_type": "markdown",
   "metadata": {},
   "source": [
    "### Loop and Rank Total Power of Node all i"
   ]
  },
  {
   "cell_type": "code",
   "execution_count": 14,
   "metadata": {},
   "outputs": [],
   "source": [
    "def loop_TPN():\n",
    "    i=0    \n",
    "    #concantinate the unique nodes in top_three ranking, with will remove duplicate \n",
    "    unique_top_three = list(pd.concat([Top_five['TC'], Top_five['PI'], Top_five['CC']]).unique())\n",
    "    \n",
    "    TPN_listing =[]    \n",
    "    for i in unique_top_three:          \n",
    "        TPN_ = TPN(i)\n",
    "        i_TPN = [i, TPN_]\n",
    "        TPN_listing.append(i_TPN)\n",
    "    return  TPN_listing"
   ]
  },
  {
   "cell_type": "code",
   "execution_count": 15,
   "metadata": {},
   "outputs": [],
   "source": [
    "#Ranking the total power of node i\n",
    "def TPN_Ranking( val ):\n",
    "      return val [1]\n",
    "\n",
    "TPN_Rank = loop_TPN()\n",
    "TPN_Rank.sort(key=lambda elem: elem[1], reverse=True)"
   ]
  },
  {
   "cell_type": "markdown",
   "metadata": {},
   "source": [
    "#### Creat a rank table  for TPN"
   ]
  },
  {
   "cell_type": "code",
   "execution_count": 20,
   "metadata": {},
   "outputs": [
    {
     "data": {
      "text/html": [
       "<div>\n",
       "<style scoped>\n",
       "    .dataframe tbody tr th:only-of-type {\n",
       "        vertical-align: middle;\n",
       "    }\n",
       "\n",
       "    .dataframe tbody tr th {\n",
       "        vertical-align: top;\n",
       "    }\n",
       "\n",
       "    .dataframe thead th {\n",
       "        text-align: right;\n",
       "    }\n",
       "</style>\n",
       "<table border=\"1\" class=\"dataframe\">\n",
       "  <thead>\n",
       "    <tr style=\"text-align: right;\">\n",
       "      <th></th>\n",
       "      <th>TPN</th>\n",
       "      <th>TPN_i</th>\n",
       "    </tr>\n",
       "  </thead>\n",
       "  <tbody>\n",
       "    <tr>\n",
       "      <th>0</th>\n",
       "      <td>0</td>\n",
       "      <td>22.060986</td>\n",
       "    </tr>\n",
       "    <tr>\n",
       "      <th>1</th>\n",
       "      <td>33</td>\n",
       "      <td>20.863362</td>\n",
       "    </tr>\n",
       "    <tr>\n",
       "      <th>2</th>\n",
       "      <td>32</td>\n",
       "      <td>17.693572</td>\n",
       "    </tr>\n",
       "    <tr>\n",
       "      <th>3</th>\n",
       "      <td>1</td>\n",
       "      <td>12.504824</td>\n",
       "    </tr>\n",
       "    <tr>\n",
       "      <th>4</th>\n",
       "      <td>2</td>\n",
       "      <td>10.878546</td>\n",
       "    </tr>\n",
       "    <tr>\n",
       "      <th>5</th>\n",
       "      <td>31</td>\n",
       "      <td>5.336394</td>\n",
       "    </tr>\n",
       "  </tbody>\n",
       "</table>\n",
       "</div>"
      ],
      "text/plain": [
       "   TPN      TPN_i\n",
       "0    0  22.060986\n",
       "1   33  20.863362\n",
       "2   32  17.693572\n",
       "3    1  12.504824\n",
       "4    2  10.878546\n",
       "5   31   5.336394"
      ]
     },
     "execution_count": 20,
     "metadata": {},
     "output_type": "execute_result"
    }
   ],
   "source": [
    "#return table containing the TPN ranking[TPN_table]\n",
    "\n",
    "TPN = pd.DataFrame(TPN_Rank, columns = ('TPN','TPN_i'))\n",
    "#TPN.index = TPN.index + 1\n",
    "\n",
    "TPN"
   ]
  },
  {
   "cell_type": "markdown",
   "metadata": {},
   "source": [
    "#### Creat a rank table  for ALL the three [PI,CC,TC] Measures"
   ]
  },
  {
   "cell_type": "code",
   "execution_count": 21,
   "metadata": {},
   "outputs": [
    {
     "name": "stdout",
     "output_type": "stream",
     "text": [
      "   TC  PI  CC   TPN\n",
      "0   0   0   0   0.0\n",
      "1  33  33  33  33.0\n",
      "2  32  32   2  32.0\n",
      "3   1   1  31   1.0\n",
      "4   2   2  32   2.0\n"
     ]
    }
   ],
   "source": [
    "#return table containing ALL the Measures\n",
    "Propose_Result_table = pd.concat([TC_table, PI_table, CC_table, TPN], axis=1, sort=False)\n",
    "Top_rank = pd.DataFrame(Propose_Result_table.loc[0:4])\n",
    "\n",
    "#return table containing Top_rank node ranking\n",
    "top_rank_table = pd.concat([Top_rank['TC'], Top_rank['PI'],  Top_rank['CC'],Top_rank['TPN']], axis=1, sort=False)\n",
    "\n",
    "print(top_rank_table)"
   ]
  },
  {
   "cell_type": "markdown",
   "metadata": {},
   "source": [
    "#### Save CSV file"
   ]
  },
  {
   "cell_type": "code",
   "execution_count": 22,
   "metadata": {},
   "outputs": [],
   "source": [
    "#Result_table.to_csv('rank_result/kc--/propose/propose_result_table_kc.csv')#save the value of (TC,TC_i),(PI,PI_i),(CC,CC_i)\n",
    "#top_rank_table.to_csv('top_rank_table_kc.csv')#save top three of(TC,PI,CC,TPN)"
   ]
  },
  {
   "cell_type": "code",
   "execution_count": null,
   "metadata": {},
   "outputs": [],
   "source": []
  },
  {
   "cell_type": "code",
   "execution_count": null,
   "metadata": {},
   "outputs": [],
   "source": []
  }
 ],
 "metadata": {
  "kernelspec": {
   "display_name": "Python 3",
   "language": "python",
   "name": "python3"
  },
  "language_info": {
   "codemirror_mode": {
    "name": "ipython",
    "version": 3
   },
   "file_extension": ".py",
   "mimetype": "text/x-python",
   "name": "python",
   "nbconvert_exporter": "python",
   "pygments_lexer": "ipython3",
   "version": "3.6.6"
  }
 },
 "nbformat": 4,
 "nbformat_minor": 2
}
