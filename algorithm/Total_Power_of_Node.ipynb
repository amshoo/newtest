{
 "cells": [
  {
   "cell_type": "code",
   "execution_count": 1,
   "metadata": {},
   "outputs": [],
   "source": [
    "import networkx as nx\n",
    "import numpy as np\n",
    "import matplotlib.pyplot as plt\n",
    "import pandas as pd\n",
    "import math"
   ]
  },
  {
   "cell_type": "code",
   "execution_count": 2,
   "metadata": {},
   "outputs": [],
   "source": [
    "import Tr_centrality_measure\n",
    "import Graph_Entropy_measure\n",
    "import Selection_Algorithm\n",
    "import Constraint_Coefficient"
   ]
  },
  {
   "cell_type": "markdown",
   "metadata": {},
   "source": [
    "### Compute the three Measures"
   ]
  },
  {
   "cell_type": "code",
   "execution_count": 3,
   "metadata": {},
   "outputs": [],
   "source": [
    "#calculate PI and make the PI to have all positive result\n",
    "\n",
    "PI_table1 = pd.DataFrame(Graph_Entropy_measure.PI_Rank, columns = ('PI','PI_i'))\n",
    "PI_table = PI_table1.copy()\n",
    "i = math.sqrt(2)\n",
    "PI_table.PI_i = PI_table.PI_i.where(lambda x: x > 0, lambda x: x + i)\n",
    "\n",
    "#calculate  TC \n",
    "\n",
    "TC_table = pd.DataFrame(Tr_centrality_measure.TC_Rank, columns = ('TC','TC_i'))\n",
    "#calculate  CC\n",
    "\n",
    "CC_table = pd.DataFrame(Constraint_Coefficient.sorted_x, columns = ('CC','CC_i'))\n",
    "\n",
    "#joint the three \"PI,C,TC\" table together\n",
    "\n",
    "Result_table = pd.concat([TC_table, PI_table, CC_table], axis=1, sort=False)\n",
    "\n",
    "#create a table containing the Top three Rank Nodes\n",
    "\n",
    "Top_five = pd.DataFrame(Result_table.loc[0:4])"
   ]
  },
  {
   "cell_type": "code",
   "execution_count": 4,
   "metadata": {},
   "outputs": [
    {
     "data": {
      "text/html": [
       "<div>\n",
       "<style scoped>\n",
       "    .dataframe tbody tr th:only-of-type {\n",
       "        vertical-align: middle;\n",
       "    }\n",
       "\n",
       "    .dataframe tbody tr th {\n",
       "        vertical-align: top;\n",
       "    }\n",
       "\n",
       "    .dataframe thead th {\n",
       "        text-align: right;\n",
       "    }\n",
       "</style>\n",
       "<table border=\"1\" class=\"dataframe\">\n",
       "  <thead>\n",
       "    <tr style=\"text-align: right;\">\n",
       "      <th></th>\n",
       "      <th>TC</th>\n",
       "      <th>TC_i</th>\n",
       "      <th>PI</th>\n",
       "      <th>PI_i</th>\n",
       "      <th>CC</th>\n",
       "      <th>CC_i</th>\n",
       "    </tr>\n",
       "  </thead>\n",
       "  <tbody>\n",
       "    <tr>\n",
       "      <th>0</th>\n",
       "      <td>118</td>\n",
       "      <td>1816</td>\n",
       "      <td>118</td>\n",
       "      <td>0.000701</td>\n",
       "      <td>118</td>\n",
       "      <td>0.029722</td>\n",
       "    </tr>\n",
       "    <tr>\n",
       "      <th>1</th>\n",
       "      <td>261</td>\n",
       "      <td>1569</td>\n",
       "      <td>261</td>\n",
       "      <td>0.000789</td>\n",
       "      <td>261</td>\n",
       "      <td>0.030275</td>\n",
       "    </tr>\n",
       "    <tr>\n",
       "      <th>2</th>\n",
       "      <td>255</td>\n",
       "      <td>1505</td>\n",
       "      <td>255</td>\n",
       "      <td>0.000817</td>\n",
       "      <td>182</td>\n",
       "      <td>0.037630</td>\n",
       "    </tr>\n",
       "    <tr>\n",
       "      <th>3</th>\n",
       "      <td>182</td>\n",
       "      <td>1343</td>\n",
       "      <td>182</td>\n",
       "      <td>0.000922</td>\n",
       "      <td>255</td>\n",
       "      <td>0.039479</td>\n",
       "    </tr>\n",
       "    <tr>\n",
       "      <th>4</th>\n",
       "      <td>152</td>\n",
       "      <td>1327</td>\n",
       "      <td>152</td>\n",
       "      <td>0.000933</td>\n",
       "      <td>201</td>\n",
       "      <td>0.039623</td>\n",
       "    </tr>\n",
       "  </tbody>\n",
       "</table>\n",
       "</div>"
      ],
      "text/plain": [
       "    TC  TC_i   PI      PI_i   CC      CC_i\n",
       "0  118  1816  118  0.000701  118  0.029722\n",
       "1  261  1569  261  0.000789  261  0.030275\n",
       "2  255  1505  255  0.000817  182  0.037630\n",
       "3  182  1343  182  0.000922  255  0.039479\n",
       "4  152  1327  152  0.000933  201  0.039623"
      ]
     },
     "execution_count": 4,
     "metadata": {},
     "output_type": "execute_result"
    }
   ],
   "source": [
    "Top_five"
   ]
  },
  {
   "cell_type": "code",
   "execution_count": 5,
   "metadata": {},
   "outputs": [],
   "source": [
    "#Result_table"
   ]
  },
  {
   "cell_type": "markdown",
   "metadata": {},
   "source": [
    "### Compute the Total Power of Node"
   ]
  },
  {
   "cell_type": "code",
   "execution_count": 6,
   "metadata": {},
   "outputs": [],
   "source": [
    "#return the total power of node i.\n",
    "def TPN(i):\n",
    "    PI_ofi = 1/Graph_Entropy_measure.PI_of(i)\n",
    "    TC_ofi = Tr_centrality_measure.TC_of(i)\n",
    "    CC_ofi = Constraint_Coefficient.CC_of(i)\n",
    "    \n",
    "    #Weight to normalize the measures[0.6,0.2,0.2]\n",
    "    #equation [Total Power of Node]\n",
    "    TPN_i  = (0.4*TC_ofi)+(0.3*PI_ofi)+(0.3*CC_ofi)     \n",
    "\n",
    "    return TPN_i\n"
   ]
  },
  {
   "cell_type": "markdown",
   "metadata": {},
   "source": [
    "### Loop and Rank Total Power of Node all i"
   ]
  },
  {
   "cell_type": "code",
   "execution_count": 7,
   "metadata": {},
   "outputs": [],
   "source": [
    "def loop_TPN():\n",
    "    i=0    \n",
    "    #concantinate the unique nodes in top_three ranking, with will remove duplicate \n",
    "    unique_top_three = list(pd.concat([Top_five['TC'], Top_five['PI'], Top_five['CC']]).unique())\n",
    "    \n",
    "    TPN_listing =[]    \n",
    "    for i in unique_top_three:          \n",
    "        TPN_ = TPN(i)\n",
    "        i_TPN = [i, TPN_]\n",
    "        TPN_listing.append(i_TPN)\n",
    "    return  TPN_listing"
   ]
  },
  {
   "cell_type": "code",
   "execution_count": 8,
   "metadata": {},
   "outputs": [],
   "source": [
    "#Ranking the total power of node i\n",
    "def TPN_Ranking( val ):\n",
    "      return val [1]\n",
    "\n",
    "TPN_Rank = loop_TPN()\n",
    "TPN_Rank.sort(key=lambda elem: elem[1], reverse=True)"
   ]
  },
  {
   "cell_type": "markdown",
   "metadata": {},
   "source": [
    "#### Creat a rank table  for TPN"
   ]
  },
  {
   "cell_type": "code",
   "execution_count": 9,
   "metadata": {},
   "outputs": [
    {
     "data": {
      "text/html": [
       "<div>\n",
       "<style scoped>\n",
       "    .dataframe tbody tr th:only-of-type {\n",
       "        vertical-align: middle;\n",
       "    }\n",
       "\n",
       "    .dataframe tbody tr th {\n",
       "        vertical-align: top;\n",
       "    }\n",
       "\n",
       "    .dataframe thead th {\n",
       "        text-align: right;\n",
       "    }\n",
       "</style>\n",
       "<table border=\"1\" class=\"dataframe\">\n",
       "  <thead>\n",
       "    <tr style=\"text-align: right;\">\n",
       "      <th></th>\n",
       "      <th>TPN</th>\n",
       "      <th>TPN_i</th>\n",
       "    </tr>\n",
       "  </thead>\n",
       "  <tbody>\n",
       "    <tr>\n",
       "      <th>0</th>\n",
       "      <td>118</td>\n",
       "      <td>726.409127</td>\n",
       "    </tr>\n",
       "    <tr>\n",
       "      <th>1</th>\n",
       "      <td>261</td>\n",
       "      <td>627.609319</td>\n",
       "    </tr>\n",
       "    <tr>\n",
       "      <th>2</th>\n",
       "      <td>255</td>\n",
       "      <td>602.012089</td>\n",
       "    </tr>\n",
       "    <tr>\n",
       "      <th>3</th>\n",
       "      <td>182</td>\n",
       "      <td>537.211566</td>\n",
       "    </tr>\n",
       "    <tr>\n",
       "      <th>4</th>\n",
       "      <td>152</td>\n",
       "      <td>530.812269</td>\n",
       "    </tr>\n",
       "    <tr>\n",
       "      <th>5</th>\n",
       "      <td>201</td>\n",
       "      <td>345.612326</td>\n",
       "    </tr>\n",
       "  </tbody>\n",
       "</table>\n",
       "</div>"
      ],
      "text/plain": [
       "   TPN       TPN_i\n",
       "0  118  726.409127\n",
       "1  261  627.609319\n",
       "2  255  602.012089\n",
       "3  182  537.211566\n",
       "4  152  530.812269\n",
       "5  201  345.612326"
      ]
     },
     "execution_count": 9,
     "metadata": {},
     "output_type": "execute_result"
    }
   ],
   "source": [
    "#return table containing the TPN ranking[TPN_table]\n",
    "\n",
    "TPN = pd.DataFrame(TPN_Rank, columns = ('TPN','TPN_i'))\n",
    "#TPN.index = TPN.index + 1\n",
    "\n",
    "TPN"
   ]
  },
  {
   "cell_type": "markdown",
   "metadata": {},
   "source": [
    "#### Creat a rank table  for ALL the three [PI,CC,TC] Measures"
   ]
  },
  {
   "cell_type": "code",
   "execution_count": 10,
   "metadata": {},
   "outputs": [
    {
     "name": "stdout",
     "output_type": "stream",
     "text": [
      "    TC   PI   CC    TPN\n",
      "0  118  118  118  118.0\n",
      "1  261  261  261  261.0\n",
      "2  255  255  182  255.0\n",
      "3  182  182  255  182.0\n",
      "4  152  152  201  152.0\n"
     ]
    }
   ],
   "source": [
    "#return table containing ALL the Measures\n",
    "Propose_Result_table = pd.concat([TC_table, PI_table, CC_table, TPN], axis=1, sort=False)\n",
    "Top_rank = pd.DataFrame(Propose_Result_table.loc[0:4])\n",
    "\n",
    "#return table containing Top_rank node ranking\n",
    "top_rank_table = pd.concat([Top_rank['TC'], Top_rank['PI'],  Top_rank['CC'],Top_rank['TPN']], axis=1, sort=False)\n",
    "\n",
    "print(top_rank_table)"
   ]
  },
  {
   "cell_type": "markdown",
   "metadata": {},
   "source": [
    "#### Save CSV file"
   ]
  },
  {
   "cell_type": "code",
   "execution_count": 12,
   "metadata": {},
   "outputs": [],
   "source": [
    "#Result_table.to_csv('rank_result/kc--/propose/propose_result_table_kc.csv')#save the value of (TC,TC_i),(PI,PI_i),(CC,CC_i)\n",
    "#top_rank_table.to_csv('top_rank_table_kc.csv')#save top three of(TC,PI,CC,TPN)"
   ]
  },
  {
   "cell_type": "code",
   "execution_count": null,
   "metadata": {},
   "outputs": [],
   "source": []
  },
  {
   "cell_type": "code",
   "execution_count": null,
   "metadata": {},
   "outputs": [],
   "source": []
  }
 ],
 "metadata": {
  "kernelspec": {
   "display_name": "Python 3",
   "language": "python",
   "name": "python3"
  },
  "language_info": {
   "codemirror_mode": {
    "name": "ipython",
    "version": 3
   },
   "file_extension": ".py",
   "mimetype": "text/x-python",
   "name": "python",
   "nbconvert_exporter": "python",
   "pygments_lexer": "ipython3",
   "version": "3.6.5"
  }
 },
 "nbformat": 4,
 "nbformat_minor": 2
}
