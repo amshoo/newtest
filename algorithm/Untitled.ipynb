{
 "cells": [
  {
   "cell_type": "code",
   "execution_count": 1,
   "metadata": {},
   "outputs": [],
   "source": [
    "import networkx as nx\n",
    "import numpy as np\n",
    "import matplotlib.pyplot as plt\n",
    "import pandas as pd\n",
    "import math"
   ]
  },
  {
   "cell_type": "code",
   "execution_count": 3,
   "metadata": {},
   "outputs": [
    {
     "data": {
      "image/png": "[encoded data removed]",
      "text/plain": [
       "<Figure size 432x288 with 1 Axes>"
      ]
     },
     "metadata": {
      "needs_background": "light"
     },
     "output_type": "display_data"
    }
   ],
   "source": [
    "cent = pd.read_csv('evaluation/rank_result/kc--/cent/Top_cent_kc.csv')\n",
    "ds = pd.read_csv('evaluation/rank_result/kc--/ds/ds_kc5.csv')\n",
    "cent = pd.concat([ds,cent], axis=1, sort=False)\n",
    "cent = cent.drop(['Unnamed: 0'], axis=1)\n",
    "cent['TR_i']= cent['TR_i']*0.03\n",
    "cent['DS_i']=1-( cent['DS_i']*10)\n",
    "cent = cent.loc[0:5]\n",
    "# Create a plots for density.\n",
    "def density_plot():\n",
    "    result = cent.sort_values('BC')\n",
    "    result1 = cent.sort_values('CNC')\n",
    "    result2 = cent.sort_values('PR')    \n",
    "    result3 = cent.sort_values('TR')\n",
    "    result4 = cent.sort_values('DS')\n",
    "    \n",
    "    fig, (ax1) = plt.subplots(1, sharex=True)\n",
    "   \n",
    "    ax1.grid()\n",
    "\n",
    "    \n",
    "    ax1.plot(result.BC, result.BC_i, '>-')\n",
    "    \n",
    "    \n",
    "    ax1.plot(result3.TR, result3.TR_i, '>-')\n",
    "\n",
    "    \n",
    "    ax1.plot(result1.CNC, result1.CNC_i, 'o-')\n",
    "    \n",
    "    ax1.plot(result4.DS, result4.DS_i, 's-')\n",
    "    \n",
    "\n",
    "    #save = plt.savefig(\"ds/---.png\")\n",
    "    plot = plt.show()\n",
    "density_plot()"
   ]
  },
  {
   "cell_type": "code",
   "execution_count": null,
   "metadata": {},
   "outputs": [],
   "source": []
  },
  {
   "cell_type": "code",
   "execution_count": null,
   "metadata": {},
   "outputs": [],
   "source": [
    "cent"
   ]
  },
  {
   "cell_type": "code",
   "execution_count": null,
   "metadata": {},
   "outputs": [],
   "source": []
  },
  {
   "cell_type": "code",
   "execution_count": null,
   "metadata": {},
   "outputs": [],
   "source": [
    "0.18+0.3"
   ]
  },
  {
   "cell_type": "code",
   "execution_count": null,
   "metadata": {},
   "outputs": [],
   "source": []
  }
 ],
 "metadata": {
  "kernelspec": {
   "display_name": "Python 3",
   "language": "python",
   "name": "python3"
  },
  "language_info": {
   "codemirror_mode": {
    "name": "ipython",
    "version": 3
   },
   "file_extension": ".py",
   "mimetype": "text/x-python",
   "name": "python",
   "nbconvert_exporter": "python",
   "pygments_lexer": "ipython3",
   "version": "3.6.6"
  }
 },
 "nbformat": 4,
 "nbformat_minor": 2
}
