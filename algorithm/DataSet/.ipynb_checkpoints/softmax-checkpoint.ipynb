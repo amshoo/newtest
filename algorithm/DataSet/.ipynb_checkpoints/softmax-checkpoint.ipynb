{
 "cells": [
  {
   "cell_type": "code",
   "execution_count": 48,
   "metadata": {},
   "outputs": [],
   "source": [
    "import numpy as np\n",
    "import matplotlib.pyplot as plt\n",
    "from PIL import  Image\n",
    "from sklearn.cross_validation import train_test_split"
   ]
  },
  {
   "cell_type": "code",
   "execution_count": 49,
   "metadata": {
    "collapsed": true
   },
   "outputs": [],
   "source": [
    "from tensorflow.examples.tutorials.mnist import input_data"
   ]
  },
  {
   "cell_type": "code",
   "execution_count": 50,
   "metadata": {},
   "outputs": [
    {
     "name": "stdout",
     "output_type": "stream",
     "text": [
      "Extracting MNIST_data/train-images-idx3-ubyte.gz\n",
      "Extracting MNIST_data/train-labels-idx1-ubyte.gz\n",
      "Extracting MNIST_data/t10k-images-idx3-ubyte.gz\n",
      "Extracting MNIST_data/t10k-labels-idx1-ubyte.gz\n"
     ]
    }
   ],
   "source": [
    "#读取手写数字数据集\n",
    "mnist = input_data.read_data_sets('MNIST_data/', one_hot=True)"
   ]
  },
  {
   "cell_type": "code",
   "execution_count": 51,
   "metadata": {},
   "outputs": [
    {
     "name": "stdout",
     "output_type": "stream",
     "text": [
      "Datasets(train=<tensorflow.contrib.learn.python.learn.datasets.mnist.DataSet object at 0x0000015C128805F8>, validation=<tensorflow.contrib.learn.python.learn.datasets.mnist.DataSet object at 0x0000015C14C691D0>, test=<tensorflow.contrib.learn.python.learn.datasets.mnist.DataSet object at 0x0000015C14C69A90>)\n"
     ]
    }
   ],
   "source": [
    "print(mnist)"
   ]
  },
  {
   "cell_type": "code",
   "execution_count": 52,
   "metadata": {},
   "outputs": [
    {
     "name": "stdout",
     "output_type": "stream",
     "text": [
      "Train: (55000, 784)\n",
      "Train: (55000, 10)\n",
      "Test: (10000, 784)\n",
      "Test: (10000, 10)\n"
     ]
    }
   ],
   "source": [
    "print(\"Train: \"+ str(mnist.train.images.shape))\n",
    "print(\"Train: \"+ str(mnist.train.labels.shape))\n",
    "print(\"Test: \"+ str(mnist.test.images.shape))\n",
    "print(\"Test: \"+ str(mnist.test.labels.shape))"
   ]
  },
  {
   "cell_type": "code",
   "execution_count": 53,
   "metadata": {},
   "outputs": [
    {
     "name": "stdout",
     "output_type": "stream",
     "text": [
      "(100, 784)\n",
      "(100, 10)\n"
     ]
    }
   ],
   "source": [
    "x_batch, y_batch = mnist.train.next_batch(100)\n",
    "print(x_batch.shape)\n",
    "print(y_batch.shape)"
   ]
  },
  {
   "cell_type": "code",
   "execution_count": 54,
   "metadata": {
    "collapsed": true
   },
   "outputs": [],
   "source": [
    "#划分训练集和测试集\n",
    "x_train, y_train, x_test, y_test = mnist.train.images, mnist.train.labels, mnist.test.images, mnist.test.labels"
   ]
  },
  {
   "cell_type": "code",
   "execution_count": 55,
   "metadata": {},
   "outputs": [
    {
     "name": "stdout",
     "output_type": "stream",
     "text": [
      "(30000, 784)\n",
      "(15000, 10)\n",
      "(10000, 10)\n"
     ]
    }
   ],
   "source": [
    "x_train_batch, y_train_batch = mnist.train.next_batch(30000)\n",
    "x_cv_batch, y_cv_batch = mnist.train.next_batch(15000)\n",
    "x_test_batch, y_test_batch = mnist.train.next_batch(10000)\n",
    "print(x_train_batch.shape)\n",
    "print(y_cv_batch.shape)\n",
    "print(y_test_batch.shape)"
   ]
  },
  {
   "cell_type": "code",
   "execution_count": 60,
   "metadata": {},
   "outputs": [
    {
     "data": {
      "image/png": "[encoded data removed]",
      "text/plain": [
       "<matplotlib.figure.Figure at 0x15c0e5fee10>"
      ]
     },
     "metadata": {},
     "output_type": "display_data"
    },
    {
     "data": {
      "image/png": "[encoded data removed]",
      "text/plain": [
       "<matplotlib.figure.Figure at 0x15c1746b470>"
      ]
     },
     "metadata": {},
     "output_type": "display_data"
    },
    {
     "data": {
      "image/png": "[encoded data removed]",
      "text/plain": [
       "<matplotlib.figure.Figure at 0x15c14ec1710>"
      ]
     },
     "metadata": {},
     "output_type": "display_data"
    },
    {
     "data": {
      "image/png": "[encoded data removed]",
      "text/plain": [
       "<matplotlib.figure.Figure at 0x15c14f29748>"
      ]
     },
     "metadata": {},
     "output_type": "display_data"
    },
    {
     "data": {
      "image/png": "[encoded data removed]",
      "text/plain": [
       "<matplotlib.figure.Figure at 0x15c14f975f8>"
      ]
     },
     "metadata": {},
     "output_type": "display_data"
    },
    {
     "data": {
      "image/png": "[encoded data removed]",
      "text/plain": [
       "<matplotlib.figure.Figure at 0x15c14f68eb8>"
      ]
     },
     "metadata": {},
     "output_type": "display_data"
    }
   ],
   "source": [
    "nums = 6\n",
    "for i in range(1,nums+1):\n",
    "    plt.plot(1,nums,i)\n",
    "    plt.imshow(x_train[i].reshape(28,28), cmap=\"gray\")\n",
    "    plt.show()"
   ]
  },
  {
   "cell_type": "code",
   "execution_count": 61,
   "metadata": {
    "collapsed": true
   },
   "outputs": [],
   "source": [
    "#初始化模型参数\n",
    "def init_params(dim1, dim2):\n",
    "    '''\n",
    "    dim: 表示权重w的个数，一般来说w维度要与样本x_train.shape[1]和y_train.shape[1]相匹配   \n",
    "    '''\n",
    "    w = np.zeros((dim1,dim2))\n",
    "    return w"
   ]
  },
  {
   "cell_type": "code",
   "execution_count": 62,
   "metadata": {},
   "outputs": [
    {
     "name": "stdout",
     "output_type": "stream",
     "text": [
      "[[ 0.]\n",
      " [ 0.]]\n"
     ]
    }
   ],
   "source": [
    "w  = init_params(2,1)\n",
    "print(w)"
   ]
  },
  {
   "cell_type": "code",
   "execution_count": 63,
   "metadata": {
    "collapsed": true
   },
   "outputs": [],
   "source": [
    "def softmax(x):\n",
    "    \"\"\"\n",
    "    Compute the softmax function for each row of the input x.\n",
    "    Arguments:\n",
    "    x -- A N dimensional vector or M x N dimensional numpy matrix.\n",
    "    Return:\n",
    "    x -- You are allowed to modify x in-place\n",
    "    \"\"\"\n",
    "    orig_shape = x.shape\n",
    "    if len(x.shape) > 1:\n",
    "        # Matrix\n",
    "        exp_minmax = lambda x: np.exp(x - np.max(x))\n",
    "        denom = lambda x: 1.0 / np.sum(x)\n",
    "        x = np.apply_along_axis(exp_minmax,1,x)\n",
    "        denominator = np.apply_along_axis(denom,1,x) \n",
    "        \n",
    "        if len(denominator.shape) == 1:\n",
    "            denominator = denominator.reshape((denominator.shape[0],1))\n",
    "        \n",
    "        x = x * denominator\n",
    "    else:\n",
    "        # Vector\n",
    "        x_max = np.max(x)\n",
    "        x = x - x_max\n",
    "        numerator = np.exp(x)\n",
    "        denominator =  1.0 / np.sum(numerator)\n",
    "        x = numerator.dot(denominator)\n",
    "        \n",
    "    assert x.shape == orig_shape\n",
    "    return x"
   ]
  },
  {
   "cell_type": "code",
   "execution_count": 64,
   "metadata": {},
   "outputs": [
    {
     "name": "stdout",
     "output_type": "stream",
     "text": [
      "[[ 0.0320586   0.08714432  0.23688282  0.64391426]\n",
      " [ 0.0320586   0.08714432  0.23688282  0.64391426]]\n"
     ]
    },
    {
     "data": {
      "text/plain": [
       "2.0"
      ]
     },
     "execution_count": 64,
     "metadata": {},
     "output_type": "execute_result"
    }
   ],
   "source": [
    "a = np.array([[1,2,3,4],[1,2,3,4]])\n",
    "print(softmax(a))\n",
    "np.sum(softmax(a))"
   ]
  },
  {
   "cell_type": "code",
   "execution_count": 65,
   "metadata": {
    "collapsed": true
   },
   "outputs": [],
   "source": [
    "def propagation(w, c, X, Y):\n",
    "    '''\n",
    "    前向传播\n",
    "    '''\n",
    "    m = X.shape[0]\n",
    "    A = softmax(np.dot(X,w))\n",
    "    J  = -1/m * np.sum(Y*np.log(A)) + 0.5*c*np.sum(w*w)\n",
    "    dw = -1/m * np.dot(X.T, (Y-A)) + c*w\n",
    "    \n",
    "    update = {\"dw\":dw, \"cost\": J}\n",
    "    return update"
   ]
  },
  {
   "cell_type": "code",
   "execution_count": 66,
   "metadata": {
    "collapsed": true
   },
   "outputs": [],
   "source": [
    "def optimization(w, c, X, Y, learning_rate=0.1, iterations=1000, print_info=False):\n",
    "    '''\n",
    "    反向优化\n",
    "    '''\n",
    "    costs = []\n",
    "    \n",
    "    for i in range(iterations):\n",
    "        update = propagation(w, c, X, Y)\n",
    "        w -= learning_rate * update['dw']\n",
    "        \n",
    "        if i %100==0:\n",
    "            costs.append(update['cost'])\n",
    "            \n",
    "        if i%100==0 and print_info==True:\n",
    "            print(\"Iteration \" + str(i+1) + \" Cost = \" + str(update['cost']))\n",
    " \n",
    "    \n",
    "    results = {'w':w, 'costs': costs}\n",
    "    return results"
   ]
  },
  {
   "cell_type": "code",
   "execution_count": 67,
   "metadata": {
    "collapsed": true
   },
   "outputs": [],
   "source": [
    "def predict(w, X):\n",
    "    '''\n",
    "    预测\n",
    "    '''\n",
    "    return softmax(np.dot(X, w))"
   ]
  },
  {
   "cell_type": "code",
   "execution_count": 68,
   "metadata": {
    "collapsed": true
   },
   "outputs": [],
   "source": [
    "def accuracy(y_hat, Y):\n",
    "    '''\n",
    "    统计准确率\n",
    "    '''\n",
    "    max_index = np.argmax(y_hat, axis=1)\n",
    "    y_hat[np.arange(y_hat.shape[0]), max_index] = 1\n",
    "    accuracy = np.sum(np.argmax(y_hat, axis=1)==np.argmax(Y, axis=1))   \n",
    "    accuracy = accuracy *1.0/Y.shape[0]\n",
    "    return accuracy"
   ]
  },
  {
   "cell_type": "code",
   "execution_count": 69,
   "metadata": {
    "collapsed": true
   },
   "outputs": [],
   "source": [
    "def model(w, c, X, Y, learning_rate=0.1, iterations=1000, print_info=False):\n",
    "    results = optimization(w, c, X, Y, learning_rate, iterations, print_info)\n",
    "    \n",
    "    w = results['w']\n",
    "    costs = results['costs']\n",
    "    y_hat = predict(w, X)\n",
    "    \n",
    "    accuracy = accuracy(y_hat, Y)\n",
    "    print(\"After %d iterations,the total accuracy is %f\"%(iterations, accuracy))\n",
    "    results = {\n",
    "        'w':w,\n",
    "        'costs':costs,\n",
    "        'accuracy':accuracy,\n",
    "        'iterations':iterations,\n",
    "        'learning_rate':learning_rate,\n",
    "        'y_hat':y_hat,\n",
    "        'c':c\n",
    "    }\n",
    "    return results"
   ]
  },
  {
   "cell_type": "code",
   "execution_count": null,
   "metadata": {},
   "outputs": [
    {
     "name": "stdout",
     "output_type": "stream",
     "text": [
      "Iteration 1 Cost = 2.30258509299\n",
      "Iteration 101 Cost = 0.444668181895\n",
      "Iteration 201 Cost = 0.384083086216\n"
     ]
    }
   ],
   "source": [
    "w = init_params(x_train_batch.shape[1], y_train_batch.shape[1])\n",
    "c = 0\n",
    "results_train = model(w, c, x_train_batch, y_train_batch, learning_rate=0.3, iterations=1000, print_info=True)\n",
    "print(results_train)"
   ]
  },
  {
   "cell_type": "code",
   "execution_count": null,
   "metadata": {
    "collapsed": true
   },
   "outputs": [],
   "source": [
    "plt.plot(results_train['costs'])"
   ]
  },
  {
   "cell_type": "code",
   "execution_count": null,
   "metadata": {
    "collapsed": true
   },
   "outputs": [],
   "source": [
    "params = [[0, 0.3],[0,0.5],[5,0.3],[5,0.5]]\n",
    "results_cv = {}\n",
    "for i in range(len(params)):\n",
    "    result = model(results_train['w'],0, x_cv_batch, y_cv_batch, learning_rate=0.5, iterations=1000, print_info=False)\n",
    "    print(\"{0} iteration done!\".format(i))\n",
    "    results_cv[i] = result"
   ]
  },
  {
   "cell_type": "code",
   "execution_count": null,
   "metadata": {
    "collapsed": true
   },
   "outputs": [],
   "source": [
    "for i in range(len(params)):\n",
    "    print(\"{0} iteration accuracy: {1} \".format(i+1, results_cv[i]['accuracy']))\n",
    "for i in range(len(params)):\n",
    "    plt.subplot(len(params), 1,i+1)\n",
    "    plt.plot(results_cv[i]['costs'])"
   ]
  },
  {
   "cell_type": "code",
   "execution_count": null,
   "metadata": {
    "collapsed": true
   },
   "outputs": [],
   "source": [
    "y_hat_test = predict(w, x_test_batch)\n",
    "accu = accuracy(y_hat_test, y_test_batch)\n",
    "print(accu)"
   ]
  },
  {
   "cell_type": "code",
   "execution_count": null,
   "metadata": {
    "collapsed": true
   },
   "outputs": [],
   "source": []
  }
 ],
 "metadata": {
  "kernelspec": {
   "display_name": "Python 3",
   "language": "python",
   "name": "python3"
  },
  "language_info": {
   "codemirror_mode": {
    "name": "ipython",
    "version": 3
   },
   "file_extension": ".py",
   "mimetype": "text/x-python",
   "name": "python",
   "nbconvert_exporter": "python",
   "pygments_lexer": "ipython3",
   "version": "3.6.3"
  }
 },
 "nbformat": 4,
 "nbformat_minor": 2
}
