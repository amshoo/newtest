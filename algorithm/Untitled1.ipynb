{
 "cells": [
  {
   "cell_type": "code",
   "execution_count": 1,
   "metadata": {},
   "outputs": [],
   "source": [
    "import numpy as np\n",
    "import matplotlib.pyplot as plt\n",
    "import pandas as pd\n",
    "import networkx as nx"
   ]
  },
  {
   "cell_type": "code",
   "execution_count": 2,
   "metadata": {},
   "outputs": [],
   "source": [
    "cent = pd.read_csv('evaluation/rank_result/email--/cent/cent_email_network.csv')\n",
    "pro = pd.read_csv('evaluation/rank_result/email--/propose/propose_result_table_email.csv')\n",
    "rank_table = pd.concat([cent,pro], axis=1, sort=False)\n",
    "#rank_table = pd.DataFrame(rank_table.loc[0:])\n",
    "rank_table1 = rank_table.drop(['Unnamed: 0'], axis=1)"
   ]
  },
  {
   "cell_type": "code",
   "execution_count": 3,
   "metadata": {},
   "outputs": [],
   "source": [
    "r=list(pro[\"TC\"])\n",
    "from numpy.random import randint\n",
    "#american = cent['PR'] in r\n",
    "df = pd.DataFrame(columns=[\"TR\",\"TR_i\",'CNC','CNC_i','BC','BC_i','PR','PR_i'])\n",
    "for i in r:\n",
    "    am = cent['TR'] == i\n",
    "    df.loc[i] = [str(i)] + list(randint(20, size=7))"
   ]
  },
  {
   "cell_type": "code",
   "execution_count": 4,
   "metadata": {},
   "outputs": [],
   "source": [
    "#cent['BC_i'].value_counts(bins=3)\n",
    "\n",
    "#percent100 = cent['BC_i'].value_counts(normalize=True).mul(100).round(1).astype(str) + '%'\n",
    "#percent100\n",
    "#cent['BC_i'].describe(),cent['CNC_i'].describe()"
   ]
  },
  {
   "cell_type": "code",
   "execution_count": 5,
   "metadata": {},
   "outputs": [],
   "source": [
    "#list(pd.value_counts(cent['BC_i'].values, sort=False))"
   ]
  },
  {
   "cell_type": "code",
   "execution_count": 6,
   "metadata": {},
   "outputs": [],
   "source": [
    "r = list(pro[\"TC\"])\n",
    "BC = list(cent[['BC','BC_i']].itertuples(index=False, name=None))\n",
    "new=[]\n",
    "for i in BC:\n",
    "    if i[0] in r:\n",
    "        new.append(i)\n",
    "    "
   ]
  },
  {
   "cell_type": "code",
   "execution_count": 7,
   "metadata": {},
   "outputs": [],
   "source": [
    "r = list(pro[\"TC\"])\n",
    "def v_rank(clm):\n",
    "    new=[]\n",
    "    for i in clm:\n",
    "        if i[0] in r:\n",
    "            new.append(i)\n",
    "    return new"
   ]
  },
  {
   "cell_type": "code",
   "execution_count": 8,
   "metadata": {},
   "outputs": [],
   "source": [
    "TR=pd.DataFrame(v_rank(list(cent[['TR','TR_i']].itertuples(index=False, name=None))), columns = ('TR','TR_i'))\n",
    "BC=pd.DataFrame(v_rank(list(cent[['BC','BC_i']].itertuples(index=False, name=None))), columns = ('BC','BC_i'))\n",
    "CNC=pd.DataFrame(v_rank(list(cent[['CNC','CNC_i']].itertuples(index=False,name=None))), columns = ('CNC','CNC_i'))\n",
    "PR=pd.DataFrame(v_rank(list(cent[['PR','PR_i']].itertuples(index=False, name=None))), columns = ('PR','PR_i'))"
   ]
  },
  {
   "cell_type": "code",
   "execution_count": 9,
   "metadata": {},
   "outputs": [],
   "source": [
    "FNL = pd.concat([TR,BC,CNC,PR,pro[\"TC\"],pro[\"TC_i\"]], axis=1, sort=False)"
   ]
  },
  {
   "cell_type": "code",
   "execution_count": 19,
   "metadata": {},
   "outputs": [
    {
     "data": {
      "text/plain": [
       "673"
      ]
     },
     "execution_count": 19,
     "metadata": {},
     "output_type": "execute_result"
    }
   ],
   "source": [
    "percent100 = FNL['TC_i'].value_counts()\n",
    "#list(percent100)\n",
    "result = list(filter(lambda x: x > 1, percent100)) \n",
    "sum(result)"
   ]
  },
  {
   "cell_type": "code",
   "execution_count": null,
   "metadata": {},
   "outputs": [],
   "source": []
  },
  {
   "cell_type": "code",
   "execution_count": null,
   "metadata": {},
   "outputs": [],
   "source": []
  }
 ],
 "metadata": {
  "kernelspec": {
   "display_name": "Python 3",
   "language": "python",
   "name": "python3"
  },
  "language_info": {
   "codemirror_mode": {
    "name": "ipython",
    "version": 3
   },
   "file_extension": ".py",
   "mimetype": "text/x-python",
   "name": "python",
   "nbconvert_exporter": "python",
   "pygments_lexer": "ipython3",
   "version": "3.6.5"
  }
 },
 "nbformat": 4,
 "nbformat_minor": 2
}
