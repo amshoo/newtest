{
 "cells": [
  {
   "cell_type": "code",
   "execution_count": 1,
   "metadata": {},
   "outputs": [],
   "source": [
    "import numpy as np\n",
    "import matplotlib.pyplot as plt\n",
    "import pandas as pd\n",
    "import networkx as nx"
   ]
  },
  {
   "cell_type": "code",
   "execution_count": 17,
   "metadata": {},
   "outputs": [],
   "source": [
    "cent = pd.read_csv('evaluation/rank_result/kc--/cent/cent_kc_network.csv')\n",
    "pro = pd.read_csv('evaluation/rank_result/kc--/propose/propose_result_table_kc.csv')\n",
    "rank_table = pd.concat([cent,pro], axis=1, sort=False)\n",
    "#rank_table = pd.DataFrame(rank_table.loc[0:])\n",
    "rank_table1 = rank_table.drop(['Unnamed: 0'], axis=1)"
   ]
  },
  {
   "cell_type": "code",
   "execution_count": 70,
   "metadata": {},
   "outputs": [],
   "source": [
    "r=list(pro[\"TC\"])\n",
    "from numpy.random import randint\n",
    "#american = cent['PR'] in r\n",
    "df = pd.DataFrame(columns=[\"TR\",\"TR_i\",'CNC','CNC_i','BC','BC_i','PR','PR_i'])\n",
    "for i in r:\n",
    "    am = cent['TR'] == i\n",
    "    df.loc[i] = [str(i)] + list(randint(20, size=7))"
   ]
  },
  {
   "cell_type": "code",
   "execution_count": 165,
   "metadata": {},
   "outputs": [
    {
     "data": {
      "text/plain": [
       "(-0.001438, 0.146]    32\n",
       "(0.292, 0.438]         2\n",
       "(0.146, 0.292]         0\n",
       "Name: BC_i, dtype: int64"
      ]
     },
     "execution_count": 165,
     "metadata": {},
     "output_type": "execute_result"
    }
   ],
   "source": [
    "cent['BC_i'].value_counts(bins=3)\n",
    "\n",
    "#percent100 = cent['BC_i'].value_counts(normalize=True).mul(100).round(1).astype(str) + '%'\n",
    "#percent100\n",
    "#cent['BC_i'].describe(),cent['CNC_i'].describe()"
   ]
  },
  {
   "cell_type": "code",
   "execution_count": 149,
   "metadata": {},
   "outputs": [
    {
     "data": {
      "text/plain": [
       "[12, 1, 1, 1, 2, 1, 1, 1, 1, 1, 1, 1, 1, 1, 1, 2, 1, 1, 1, 1, 1]"
      ]
     },
     "execution_count": 149,
     "metadata": {},
     "output_type": "execute_result"
    }
   ],
   "source": [
    "list(pd.value_counts(cent['BC_i'].values, sort=False))"
   ]
  },
  {
   "cell_type": "code",
   "execution_count": 146,
   "metadata": {},
   "outputs": [],
   "source": [
    "#cent['BC_i']"
   ]
  },
  {
   "cell_type": "code",
   "execution_count": null,
   "metadata": {},
   "outputs": [],
   "source": []
  }
 ],
 "metadata": {
  "kernelspec": {
   "display_name": "Python 3",
   "language": "python",
   "name": "python3"
  },
  "language_info": {
   "codemirror_mode": {
    "name": "ipython",
    "version": 3
   },
   "file_extension": ".py",
   "mimetype": "text/x-python",
   "name": "python",
   "nbconvert_exporter": "python",
   "pygments_lexer": "ipython3",
   "version": "3.6.6"
  }
 },
 "nbformat": 4,
 "nbformat_minor": 2
}
