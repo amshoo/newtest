{
 "cells": [
  {
   "cell_type": "code",
   "execution_count": 1,
   "metadata": {},
   "outputs": [
    {
     "ename": "ModuleNotFoundError",
     "evalue": "No module named 'GrabzItClient'",
     "output_type": "error",
     "traceback": [
      "\u001b[1;31m---------------------------------------------------------------------------\u001b[0m",
      "\u001b[1;31mModuleNotFoundError\u001b[0m                       Traceback (most recent call last)",
      "\u001b[1;32m<ipython-input-1-c5f6ee2745a3>\u001b[0m in \u001b[0;36m<module>\u001b[1;34m\u001b[0m\n\u001b[1;32m----> 1\u001b[1;33m \u001b[1;32mimport\u001b[0m \u001b[0mGrabzItClient\u001b[0m\u001b[1;33m\u001b[0m\u001b[0m\n\u001b[0m\u001b[0;32m      2\u001b[0m \u001b[0mgrabzIt\u001b[0m \u001b[1;33m=\u001b[0m \u001b[0mGrabzItClient\u001b[0m\u001b[1;33m.\u001b[0m\u001b[0mGrabzItClient\u001b[0m\u001b[1;33m(\u001b[0m\u001b[1;34m\"APPLICATION KEY\"\u001b[0m\u001b[1;33m,\u001b[0m \u001b[1;34m\"APPLICATION SECRET\"\u001b[0m\u001b[1;33m)\u001b[0m\u001b[1;33m\u001b[0m\u001b[0m\n\u001b[0;32m      3\u001b[0m \u001b[0mgrabzIt\u001b[0m\u001b[1;33m.\u001b[0m\u001b[0mHTMLToImage\u001b[0m\u001b[1;33m(\u001b[0m\u001b[1;34m\"<html><b>Bold text</b></html>\"\u001b[0m\u001b[1;33m)\u001b[0m\u001b[1;33m\u001b[0m\u001b[0m\n\u001b[0;32m      4\u001b[0m \u001b[0mgrabzIt\u001b[0m\u001b[1;33m.\u001b[0m\u001b[0mSaveTo\u001b[0m\u001b[1;33m(\u001b[0m\u001b[1;34m\"test.png\"\u001b[0m\u001b[1;33m)\u001b[0m\u001b[1;33m\u001b[0m\u001b[0m\n",
      "\u001b[1;31mModuleNotFoundError\u001b[0m: No module named 'GrabzItClient'"
     ]
    }
   ],
   "source": [
    "import GrabzItClient\n",
    "grabzIt = GrabzItClient.GrabzItClient(\"APPLICATION KEY\", \"APPLICATION SECRET\")\n",
    "grabzIt.HTMLToImage(\"<html><b>Bold text</b></html>\")    \n",
    "grabzIt.SaveTo(\"test.png\")"
   ]
  },
  {
   "cell_type": "code",
   "execution_count": null,
   "metadata": {},
   "outputs": [],
   "source": []
  }
 ],
 "metadata": {
  "kernelspec": {
   "display_name": "Python 3",
   "language": "python",
   "name": "python3"
  },
  "language_info": {
   "codemirror_mode": {
    "name": "ipython",
    "version": 3
   },
   "file_extension": ".py",
   "mimetype": "text/x-python",
   "name": "python",
   "nbconvert_exporter": "python",
   "pygments_lexer": "ipython3",
   "version": "3.6.6"
  }
 },
 "nbformat": 4,
 "nbformat_minor": 2
}
