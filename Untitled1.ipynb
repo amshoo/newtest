{
 "cells": [
  {
   "cell_type": "code",
   "execution_count": 1,
   "metadata": {},
   "outputs": [],
   "source": [
    "from __future__ import division\n",
    "\n",
    "from itertools import permutations\n",
    "\n",
    "import networkx as nx\n",
    "import numpy as np\n",
    "import matplotlib.pyplot as plt\n",
    "import pandas as pd\n",
    "import networkx as nx\n",
    "from networkx.exception import NetworkXNoPath"
   ]
  },
  {
   "cell_type": "code",
   "execution_count": 2,
   "metadata": {},
   "outputs": [],
   "source": [
    "def graph():    \n",
    "    import graph\n",
    "    Graph = graph.H\n",
    "    return Graph\n",
    "G = graph()"
   ]
  },
  {
   "cell_type": "code",
   "execution_count": 3,
   "metadata": {},
   "outputs": [],
   "source": [
    "__all__ = ['efficiency', 'local_efficiency', 'global_efficiency']\n",
    "\n",
    "def efficiency(G, u, v):\n",
    "    try:\n",
    "        eff = 1 / nx.shortest_path_length(G, u, v)\n",
    "    except NetworkXNoPath:\n",
    "        eff = 0\n",
    "    return eff"
   ]
  },
  {
   "cell_type": "code",
   "execution_count": 4,
   "metadata": {},
   "outputs": [],
   "source": [
    "def global_efficiency(G):\n",
    "    n = len(G)\n",
    "    denom = n * (n - 1)\n",
    "    if denom != 0:\n",
    "        g_eff = sum(efficiency(G, u, v) for u, v in permutations(G, 2)) / denom\n",
    "    else:\n",
    "        g_eff = 0\n",
    "    # TODO This can be made more efficient by computing all pairs shortest\n",
    "    # path lengths in parallel.\n",
    "    # TODO This summation can be trivially parallelized.\n",
    "    return g_eff"
   ]
  },
  {
   "cell_type": "code",
   "execution_count": 5,
   "metadata": {},
   "outputs": [],
   "source": [
    "def local_efficiency(G):\n",
    "    # TODO This summation can be trivially parallelized.\n",
    "    efficiency_list = (global_efficiency(G.subgraph(G[v])) for v in G)\n",
    "    return sum(efficiency_list) / len(G)"
   ]
  },
  {
   "cell_type": "code",
   "execution_count": 6,
   "metadata": {},
   "outputs": [],
   "source": [
    "def eff():\n",
    "    i=0\n",
    "    eff_list=[]\n",
    "    nodes =  G.nodes\n",
    "    if nodes!= 0:\n",
    "        H = G.copy()\n",
    "        #H = nx.karate_club_graph()\n",
    "        for i in nodes:            \n",
    "            H.remove_node(i)\n",
    "            geff = global_efficiency(H)           \n",
    "            EF = (i, geff)       \n",
    "            eff_list.append(EF)\n",
    "    return  eff_list"
   ]
  },
  {
   "cell_type": "code",
   "execution_count": 7,
   "metadata": {},
   "outputs": [],
   "source": [
    "#eff()"
   ]
  },
  {
   "cell_type": "code",
   "execution_count": 8,
   "metadata": {},
   "outputs": [],
   "source": [
    "eff_table = pd.DataFrame(eff(), columns = ('nodes','global_efficiency'))"
   ]
  },
  {
   "cell_type": "code",
   "execution_count": 9,
   "metadata": {
    "scrolled": true
   },
   "outputs": [],
   "source": [
    "eff_table.index = eff_table.index + 1\n",
    "#print(eff_table)"
   ]
  },
  {
   "cell_type": "code",
   "execution_count": 10,
   "metadata": {},
   "outputs": [
    {
     "data": {
      "image/png": "[encoded data removed]",
      "text/plain": [
       "<Figure size 432x288 with 1 Axes>"
      ]
     },
     "metadata": {
      "needs_background": "light"
     },
     "output_type": "display_data"
    }
   ],
   "source": [
    "plt.plot(eff_table.global_efficiency)\n",
    "plt.legend([\"Efficiency\"])\n",
    "plt.xlabel(\"nodes\")\n",
    "plt.ylabel(\"Efficiency\")\n",
    "plt.show()"
   ]
  },
  {
   "cell_type": "code",
   "execution_count": null,
   "metadata": {},
   "outputs": [],
   "source": []
  },
  {
   "cell_type": "code",
   "execution_count": null,
   "metadata": {},
   "outputs": [],
   "source": []
  }
 ],
 "metadata": {
  "kernelspec": {
   "display_name": "Python 3",
   "language": "python",
   "name": "python3"
  },
  "language_info": {
   "codemirror_mode": {
    "name": "ipython",
    "version": 3
   },
   "file_extension": ".py",
   "mimetype": "text/x-python",
   "name": "python",
   "nbconvert_exporter": "python",
   "pygments_lexer": "ipython3",
   "version": "3.7.1"
  }
 },
 "nbformat": 4,
 "nbformat_minor": 2
}
