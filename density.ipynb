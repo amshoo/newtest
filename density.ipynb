{
 "cells": [
  {
   "cell_type": "code",
   "execution_count": 1,
   "metadata": {},
   "outputs": [],
   "source": [
    "import numpy as np\n",
    "import matplotlib.pyplot as plt\n",
    "import pandas as pd\n",
    "import networkx as nx\n",
    "import Selection_Algorithm"
   ]
  },
  {
   "cell_type": "code",
   "execution_count": 2,
   "metadata": {},
   "outputs": [],
   "source": [
    "#G = nx.karate_club_graph()\n",
    "def graph():    \n",
    "    import graph\n",
    "    Graph = graph.H\n",
    "    return Graph\n",
    "G = graph()"
   ]
  },
  {
   "cell_type": "code",
   "execution_count": 3,
   "metadata": {},
   "outputs": [],
   "source": [
    "def eff():\n",
    "    i=0\n",
    "    ds_list=[]\n",
    "    nodes =  G.nodes\n",
    "    if nodes!= 0:        \n",
    "        #H = nx.karate_club_graph()\n",
    "        for i in G:  \n",
    "            H = G.copy()\n",
    "            ebunch =list(Selection_Algorithm.subgraph_of(i).edges)\n",
    "            H.remove_edges_from(ebunch)\n",
    "            #H.remove_node(i)\n",
    "            density = nx.density(H)\n",
    "            DS = (i, density)       \n",
    "            ds_list.append(DS)\n",
    "            \n",
    "    return  ds_list"
   ]
  },
  {
   "cell_type": "code",
   "execution_count": 4,
   "metadata": {},
   "outputs": [],
   "source": [
    "density_table = pd.DataFrame(eff(), columns = ('nodes','Density'))\n",
    "density_table.index = density_table.index + 1"
   ]
  },
  {
   "cell_type": "code",
   "execution_count": 5,
   "metadata": {},
   "outputs": [
    {
     "name": "stdout",
     "output_type": "stream",
     "text": [
      "   nodes   Density\n",
      "1      1  0.305556\n",
      "2      2  0.250000\n",
      "3      3  0.083333\n",
      "4      9  0.250000\n",
      "5      4  0.305556\n",
      "6      6  0.194444\n",
      "7      7  0.194444\n",
      "8      5  0.388889\n",
      "9      8  0.305556\n"
     ]
    }
   ],
   "source": [
    "result=density_table .sort_values('nodes')\n",
    "print(density_table)"
   ]
  },
  {
   "cell_type": "code",
   "execution_count": 6,
   "metadata": {
    "scrolled": true
   },
   "outputs": [
    {
     "data": {
      "image/png": "[encoded data removed]",
      "text/plain": [
       "<Figure size 432x288 with 1 Axes>"
      ]
     },
     "metadata": {
      "needs_background": "light"
     },
     "output_type": "display_data"
    }
   ],
   "source": [
    "# Create two subplots sharing y axis\n",
    "fig, (ax1) = plt.subplots(1, sharex=True)\n",
    "ax1.set(title='Network Density', ylabel='Density')\n",
    "ax1.grid()\n",
    "ax1.plot(result.nodes, result.Density, 'g')\n",
    "ax1.set(xlabel='Nodes', ylabel='Density')\n",
    "#plt.savefig(\"ds/ds_power_network.png\")\n",
    "plt.show()"
   ]
  },
  {
   "cell_type": "code",
   "execution_count": 7,
   "metadata": {},
   "outputs": [],
   "source": [
    "#print(density_table)\n",
    "#density_table.to_csv('ds/ds_power1.csv')"
   ]
  },
  {
   "cell_type": "code",
   "execution_count": null,
   "metadata": {},
   "outputs": [],
   "source": []
  }
 ],
 "metadata": {
  "kernelspec": {
   "display_name": "Python 3",
   "language": "python",
   "name": "python3"
  },
  "language_info": {
   "codemirror_mode": {
    "name": "ipython",
    "version": 3
   },
   "file_extension": ".py",
   "mimetype": "text/x-python",
   "name": "python",
   "nbconvert_exporter": "python",
   "pygments_lexer": "ipython3",
   "version": "3.7.1"
  }
 },
 "nbformat": 4,
 "nbformat_minor": 2
}
