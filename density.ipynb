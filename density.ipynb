{
 "cells": [
  {
   "cell_type": "code",
   "execution_count": 1,
   "metadata": {},
   "outputs": [],
   "source": [
    "import numpy as np\n",
    "import matplotlib.pyplot as plt\n",
    "import pandas as pd\n",
    "import networkx as nx\n",
    "import Selection_Algorithm"
   ]
  },
  {
   "cell_type": "code",
   "execution_count": 2,
   "metadata": {},
   "outputs": [],
   "source": [
    "#G = nx.karate_club_graph()\n",
    "def graph():    \n",
    "    import graph\n",
    "    Graph = graph.H\n",
    "    return Graph\n",
    "G = graph()"
   ]
  },
  {
   "cell_type": "code",
   "execution_count": 8,
   "metadata": {},
   "outputs": [],
   "source": [
    "def eff():\n",
    "    i=0\n",
    "    ds_list=[]\n",
    "    nodes =  G.nodes\n",
    "    if nodes!= 0:        \n",
    "        #H = nx.karate_club_graph()\n",
    "        for i in G:  \n",
    "            H = G.copy()\n",
    "            ebunch =list(Selection_Algorithm.subgraph_of(i).edges)\n",
    "            H.remove_edges_from(ebunch)\n",
    "            #H.remove_node(i)\n",
    "            density = nx.density(H)\n",
    "            DS = (i, density)       \n",
    "            ds_list.append(DS)\n",
    "            \n",
    "    return  ds_list"
   ]
  },
  {
   "cell_type": "code",
   "execution_count": 9,
   "metadata": {},
   "outputs": [],
   "source": [
    "density_table = pd.DataFrame(eff(), columns = ('nodes','Density'))\n",
    "density_table.index = density_table.index + 1"
   ]
  },
  {
   "cell_type": "code",
   "execution_count": 10,
   "metadata": {},
   "outputs": [
    {
     "name": "stdout",
     "output_type": "stream",
     "text": [
      "      nodes  Density\n",
      "1         8  0.00054\n",
      "2         6  0.00054\n",
      "3         7  0.00054\n",
      "4         9  0.00054\n",
      "5        10  0.00054\n",
      "6        13  0.00054\n",
      "7         5  0.00054\n",
      "8        12  0.00054\n",
      "9        14  0.00054\n",
      "10       15  0.00054\n",
      "11       16  0.00054\n",
      "12       17  0.00054\n",
      "13       19  0.00054\n",
      "14       18  0.00054\n",
      "15       20  0.00054\n",
      "16       29  0.00054\n",
      "17       34  0.00054\n",
      "18       33  0.00054\n",
      "19       35  0.00054\n",
      "20       36  0.00054\n",
      "21       37  0.00054\n",
      "22       38  0.00054\n",
      "23       39  0.00054\n",
      "24       42  0.00054\n",
      "25       41  0.00054\n",
      "26       47  0.00054\n",
      "27       44  0.00054\n",
      "28       45  0.00054\n",
      "29       46  0.00054\n",
      "30       50  0.00054\n",
      "...     ...      ...\n",
      "4912   4915  0.00054\n",
      "4913   4916  0.00054\n",
      "4914   4917  0.00054\n",
      "4915   4918  0.00054\n",
      "4916   4919  0.00054\n",
      "4917   4920  0.00054\n",
      "4918   4921  0.00054\n",
      "4919   4911  0.00054\n",
      "4920   4922  0.00054\n",
      "4921   4923  0.00054\n",
      "4922   4912  0.00054\n",
      "4923   4924  0.00054\n",
      "4924   4925  0.00054\n",
      "4925   4895  0.00054\n",
      "4926   4926  0.00054\n",
      "4927   4927  0.00054\n",
      "4928   4928  0.00054\n",
      "4929   4929  0.00054\n",
      "4930   4930  0.00054\n",
      "4931      3  0.00054\n",
      "4932   4931  0.00054\n",
      "4933   4934  0.00054\n",
      "4934   4932  0.00054\n",
      "4935   4933  0.00054\n",
      "4936   4935  0.00054\n",
      "4937   4937  0.00054\n",
      "4938   4938  0.00054\n",
      "4939   4936  0.00054\n",
      "4940   4939  0.00054\n",
      "4941   4940  0.00054\n",
      "\n",
      "[4941 rows x 2 columns]\n"
     ]
    }
   ],
   "source": [
    "result=density_table .sort_values('nodes')\n",
    "print(density_table)"
   ]
  },
  {
   "cell_type": "code",
   "execution_count": 11,
   "metadata": {
    "scrolled": true
   },
   "outputs": [
    {
     "data": {
      "image/png": "[encoded data removed]",
      "text/plain": [
       "<Figure size 432x288 with 1 Axes>"
      ]
     },
     "metadata": {
      "needs_background": "light"
     },
     "output_type": "display_data"
    }
   ],
   "source": [
    "# Create two subplots sharing y axis\n",
    "fig, (ax1) = plt.subplots(1, sharex=True)\n",
    "ax1.set(title='Network Density', ylabel='Density')\n",
    "ax1.grid()\n",
    "ax1.plot(result.nodes, result.Density, 'g')\n",
    "ax1.set(xlabel='Nodes', ylabel='Density')\n",
    "#plt.savefig(\"ds/ds_power_network.png\")\n",
    "plt.show()"
   ]
  },
  {
   "cell_type": "code",
   "execution_count": 12,
   "metadata": {},
   "outputs": [],
   "source": [
    "#print(density_table)\n",
    "#density_table.to_csv('ds/ds_power1.csv')"
   ]
  },
  {
   "cell_type": "code",
   "execution_count": null,
   "metadata": {},
   "outputs": [],
   "source": []
  }
 ],
 "metadata": {
  "kernelspec": {
   "display_name": "Python 3",
   "language": "python",
   "name": "python3"
  },
  "language_info": {
   "codemirror_mode": {
    "name": "ipython",
    "version": 3
   },
   "file_extension": ".py",
   "mimetype": "text/x-python",
   "name": "python",
   "nbconvert_exporter": "python",
   "pygments_lexer": "ipython3",
   "version": "3.7.1"
  }
 },
 "nbformat": 4,
 "nbformat_minor": 2
}
