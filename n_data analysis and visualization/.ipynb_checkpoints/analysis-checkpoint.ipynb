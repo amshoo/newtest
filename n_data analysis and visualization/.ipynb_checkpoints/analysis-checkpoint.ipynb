{
 "cells": [
  {
   "cell_type": "code",
   "execution_count": 1,
   "metadata": {},
   "outputs": [],
   "source": [
    "import pandas as pt\n",
    "from matplotlib import pyplot as plt\n",
    "from matplotlib import style\n"
   ]
  },
  {
   "cell_type": "code",
   "execution_count": 2,
   "metadata": {},
   "outputs": [],
   "source": [
    "#data read"
   ]
  },
  {
   "cell_type": "code",
   "execution_count": 3,
   "metadata": {},
   "outputs": [],
   "source": [
    "total=pt.read_csv('total_u.csv')\n",
    "male_un=pt.read_csv('male.csv')\n",
    "female_un=pt.read_csv('female.csv')"
   ]
  },
  {
   "cell_type": "code",
   "execution_count": 4,
   "metadata": {},
   "outputs": [],
   "source": [
    "#select only nigerian data"
   ]
  },
  {
   "cell_type": "code",
   "execution_count": 5,
   "metadata": {},
   "outputs": [],
   "source": [
    "n_unmale = male_un[male_un.CountryName == \"Nigeria\"]\n",
    "n_unfemale = female_un[female_un.CountryName == \"Nigeria\"]\n",
    "n_untotal =total[total.CountryName == \"Nigeria\"]"
   ]
  },
  {
   "cell_type": "code",
   "execution_count": 6,
   "metadata": {},
   "outputs": [],
   "source": [
    "#transpose row to column"
   ]
  },
  {
   "cell_type": "code",
   "execution_count": 7,
   "metadata": {},
   "outputs": [],
   "source": [
    "ngr1=n_unmale.transpose()\n",
    "ngr2=n_unfemale.transpose()\n",
    "ngr3=n_untotal.transpose()\n",
    "ngr1.columns = ['male']\n",
    "ngr2.columns = ['female']\n",
    "ngr3.columns = ['total_un']"
   ]
  },
  {
   "cell_type": "code",
   "execution_count": 8,
   "metadata": {},
   "outputs": [],
   "source": [
    "#clean the data"
   ]
  },
  {
   "cell_type": "code",
   "execution_count": 9,
   "metadata": {},
   "outputs": [],
   "source": [
    "fd1=ngr1.drop(ngr1.index[0:4])\n",
    "fd2=ngr2.drop(ngr2.index[0:4])\n",
    "fd3=ngr3.drop(ngr3.index[0:4])"
   ]
  },
  {
   "cell_type": "code",
   "execution_count": 10,
   "metadata": {},
   "outputs": [],
   "source": [
    "#remove the cells with NaN"
   ]
  },
  {
   "cell_type": "code",
   "execution_count": 11,
   "metadata": {},
   "outputs": [],
   "source": [
    "non_zero_fd1=fd1[['male']].dropna(axis=0)\n",
    "non_zero_fd2=fd2[['female']].dropna(axis=0)\n",
    "non_zero_fd3=fd3[['total_un']].dropna(axis=0)"
   ]
  },
  {
   "cell_type": "code",
   "execution_count": 12,
   "metadata": {},
   "outputs": [],
   "source": [
    "#join the data"
   ]
  },
  {
   "cell_type": "code",
   "execution_count": 13,
   "metadata": {},
   "outputs": [],
   "source": [
    "joined = non_zero_fd1.join(non_zero_fd2)\n",
    "final_join=joined.join(non_zero_fd3)"
   ]
  },
  {
   "cell_type": "code",
   "execution_count": 14,
   "metadata": {},
   "outputs": [],
   "source": [
    "#plot"
   ]
  },
  {
   "cell_type": "code",
   "execution_count": 15,
   "metadata": {},
   "outputs": [
    {
     "data": {
      "image/png": "[encoded data removed]",
      "text/plain": [
       "<Figure size 432x288 with 1 Axes>"
      ]
     },
     "metadata": {
      "needs_background": "light"
     },
     "output_type": "display_data"
    }
   ],
   "source": [
    "plt.plot(final_join.male)\n",
    "plt.plot(final_join.female)\n",
    "plt.plot(final_join.total_un)\n",
    "plt.legend([\"Male\",\"Female\",\"Both\"])\n",
    "plt.xlabel(\"Year\")\n",
    "plt.ylabel(\"Rate\")\n",
    "plt.show()"
   ]
  },
  {
   "cell_type": "code",
   "execution_count": 16,
   "metadata": {},
   "outputs": [],
   "source": [
    "#population grouth"
   ]
  },
  {
   "cell_type": "code",
   "execution_count": 17,
   "metadata": {},
   "outputs": [],
   "source": [
    "population=pt.read_csv('population.csv')\n",
    "m_population=pt.read_csv('m_population.csv')\n",
    "f_population=pt.read_csv('f_population.csv')"
   ]
  },
  {
   "cell_type": "code",
   "execution_count": 18,
   "metadata": {},
   "outputs": [],
   "source": [
    "#select only nigerian data"
   ]
  },
  {
   "cell_type": "code",
   "execution_count": 19,
   "metadata": {},
   "outputs": [],
   "source": [
    "male_population=m_population[m_population.CountryName == \"Nigeria\"]\n",
    "female_population = f_population[f_population.CountryName == \"Nigeria\"]\n",
    "total_population =population[population.CountryName == \"Nigeria\"]"
   ]
  },
  {
   "cell_type": "code",
   "execution_count": 20,
   "metadata": {},
   "outputs": [],
   "source": [
    "#transpose row to column"
   ]
  },
  {
   "cell_type": "code",
   "execution_count": 21,
   "metadata": {},
   "outputs": [],
   "source": [
    "pngr1=male_population.transpose()\n",
    "pngr2=female_population.transpose()\n",
    "pngr3=total_population.transpose()\n",
    "pngr1.columns = ['male_p']\n",
    "pngr2.columns = ['female_p']\n",
    "pngr3.columns = ['total_p']"
   ]
  },
  {
   "cell_type": "code",
   "execution_count": 22,
   "metadata": {},
   "outputs": [],
   "source": [
    "#clean the data"
   ]
  },
  {
   "cell_type": "code",
   "execution_count": 23,
   "metadata": {},
   "outputs": [],
   "source": [
    "fpd1=pngr1.drop(pngr1.index[0:4])\n",
    "fpd2=pngr2.drop(pngr2.index[0:4])\n",
    "fpd3=pngr3.drop(pngr3.index[0:4])"
   ]
  },
  {
   "cell_type": "code",
   "execution_count": 24,
   "metadata": {},
   "outputs": [],
   "source": [
    "#join the data"
   ]
  },
  {
   "cell_type": "code",
   "execution_count": 43,
   "metadata": {},
   "outputs": [],
   "source": [
    "joined1 = fpd1.join(fpd2)\n",
    "final_join1=joined1.join(fpd3)"
   ]
  },
  {
   "cell_type": "code",
   "execution_count": 26,
   "metadata": {},
   "outputs": [],
   "source": [
    "#remove the cells with NaN"
   ]
  },
  {
   "cell_type": "code",
   "execution_count": 27,
   "metadata": {},
   "outputs": [],
   "source": [
    "fp=final_join1[['male_p','female_p','total_p']].dropna(axis=0)"
   ]
  },
  {
   "cell_type": "code",
   "execution_count": 28,
   "metadata": {},
   "outputs": [],
   "source": [
    "#reduce the data"
   ]
  },
  {
   "cell_type": "code",
   "execution_count": 29,
   "metadata": {},
   "outputs": [],
   "source": [
    "select=final_join1.loc[['1986', '2011', '2013', '2016']]"
   ]
  },
  {
   "cell_type": "code",
   "execution_count": 30,
   "metadata": {},
   "outputs": [],
   "source": [
    "#plot"
   ]
  },
  {
   "cell_type": "code",
   "execution_count": 31,
   "metadata": {},
   "outputs": [
    {
     "data": {
      "image/png": "[encoded data removed]",
      "text/plain": [
       "<Figure size 432x288 with 1 Axes>"
      ]
     },
     "metadata": {
      "needs_background": "light"
     },
     "output_type": "display_data"
    }
   ],
   "source": [
    "plt.plot(select.male_p/fp.male_p.iloc[0] * 100-100)\n",
    "plt.plot(select.female_p/fp.female_p.iloc[0] * 100-100)\n",
    "plt.plot(select.total_p/fp.total_p.iloc[0] * 100-100)\n",
    "plt.legend([\"Male\",\"Female\",\"total\"])\n",
    "plt.xlabel(\"Year\")\n",
    "plt.ylabel(\"Rate\")\n",
    "plt.show()"
   ]
  },
  {
   "cell_type": "code",
   "execution_count": 32,
   "metadata": {},
   "outputs": [],
   "source": [
    "#plot population growth and youth unemployment"
   ]
  },
  {
   "cell_type": "code",
   "execution_count": 33,
   "metadata": {},
   "outputs": [
    {
     "data": {
      "image/png": "[encoded data removed]",
      "text/plain": [
       "<Figure size 432x288 with 1 Axes>"
      ]
     },
     "metadata": {
      "needs_background": "light"
     },
     "output_type": "display_data"
    }
   ],
   "source": [
    "#youth unemployment\n",
    "plt.plot(final_join.male)\n",
    "plt.plot(final_join.female)\n",
    "plt.plot(final_join.total_un)\n",
    "#population growth\n",
    "plt.plot(select.male_p/10**6)\n",
    "plt.plot(select.female_p/10**6)\n",
    "plt.plot(select.total_p/10**6)\n",
    "plt.legend([\"Male_un\",\"Female_un\",\"Both_un\",\"Male_p\",\"Female_p\",\"Total_p\"])\n",
    "plt.xlabel(\"Year\")\n",
    "plt.ylabel(\"Rate\")\n",
    "plt.show()"
   ]
  },
  {
   "cell_type": "code",
   "execution_count": 46,
   "metadata": {},
   "outputs": [
    {
     "data": {
      "text/html": [
       "<div>\n",
       "<style scoped>\n",
       "    .dataframe tbody tr th:only-of-type {\n",
       "        vertical-align: middle;\n",
       "    }\n",
       "\n",
       "    .dataframe tbody tr th {\n",
       "        vertical-align: top;\n",
       "    }\n",
       "\n",
       "    .dataframe thead th {\n",
       "        text-align: right;\n",
       "    }\n",
       "</style>\n",
       "<table border=\"1\" class=\"dataframe\">\n",
       "  <thead>\n",
       "    <tr style=\"text-align: right;\">\n",
       "      <th></th>\n",
       "      <th>male_p</th>\n",
       "      <th>female_p</th>\n",
       "      <th>total_p</th>\n",
       "    </tr>\n",
       "  </thead>\n",
       "  <tbody>\n",
       "    <tr>\n",
       "      <th>1986</th>\n",
       "      <td>4.31343e+07</td>\n",
       "      <td>4.26842e+07</td>\n",
       "      <td>8.58185e+07</td>\n",
       "    </tr>\n",
       "    <tr>\n",
       "      <th>2011</th>\n",
       "      <td>8.24039e+07</td>\n",
       "      <td>8.04732e+07</td>\n",
       "      <td>1.62877e+08</td>\n",
       "    </tr>\n",
       "    <tr>\n",
       "      <th>2013</th>\n",
       "      <td>8.69848e+07</td>\n",
       "      <td>8.48445e+07</td>\n",
       "      <td>1.71829e+08</td>\n",
       "    </tr>\n",
       "    <tr>\n",
       "      <th>2016</th>\n",
       "      <td>9.42268e+07</td>\n",
       "      <td>9.17629e+07</td>\n",
       "      <td>1.8599e+08</td>\n",
       "    </tr>\n",
       "  </tbody>\n",
       "</table>\n",
       "</div>"
      ],
      "text/plain": [
       "           male_p     female_p      total_p\n",
       "1986  4.31343e+07  4.26842e+07  8.58185e+07\n",
       "2011  8.24039e+07  8.04732e+07  1.62877e+08\n",
       "2013  8.69848e+07  8.48445e+07  1.71829e+08\n",
       "2016  9.42268e+07  9.17629e+07   1.8599e+08"
      ]
     },
     "execution_count": 46,
     "metadata": {},
     "output_type": "execute_result"
    }
   ],
   "source": [
    "#plot bsr chat\n",
    "select\n",
    "#final_join"
   ]
  },
  {
   "cell_type": "code",
   "execution_count": 49,
   "metadata": {},
   "outputs": [
    {
     "data": {
      "image/png": "[encoded data removed]",
      "text/plain": [
       "<Figure size 432x288 with 1 Axes>"
      ]
     },
     "metadata": {
      "needs_background": "light"
     },
     "output_type": "display_data"
    }
   ],
   "source": [
    "#final_join.plot(kind = \"bar\")\n",
    "#select.plot(kind = \"bar\")\n",
    "plt.show()"
   ]
  },
  {
   "cell_type": "code",
   "execution_count": null,
   "metadata": {},
   "outputs": [],
   "source": []
  }
 ],
 "metadata": {
  "kernelspec": {
   "display_name": "Python 3",
   "language": "python",
   "name": "python3"
  },
  "language_info": {
   "codemirror_mode": {
    "name": "ipython",
    "version": 3
   },
   "file_extension": ".py",
   "mimetype": "text/x-python",
   "name": "python",
   "nbconvert_exporter": "python",
   "pygments_lexer": "ipython3",
   "version": "3.7.1"
  }
 },
 "nbformat": 4,
 "nbformat_minor": 2
}
