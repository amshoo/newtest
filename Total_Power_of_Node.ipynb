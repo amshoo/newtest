{
 "cells": [
  {
   "cell_type": "code",
   "execution_count": 1,
   "metadata": {},
   "outputs": [],
   "source": [
    "import networkx as nx\n",
    "import numpy as np\n",
    "import matplotlib.pyplot as plt\n",
    "import pandas as pd\n",
    "import math"
   ]
  },
  {
   "cell_type": "code",
   "execution_count": 2,
   "metadata": {},
   "outputs": [],
   "source": [
    "import Tr_centrality_measure\n",
    "import Graph_Entropy_measure\n",
    "import Selection_Algorithm\n",
    "import Constraint_Coefficient"
   ]
  },
  {
   "cell_type": "code",
   "execution_count": 3,
   "metadata": {},
   "outputs": [],
   "source": [
    "PI_table1 = pd.DataFrame(Graph_Entropy_measure.PI_Rank, columns = ('nodes_PI','PI_i'))\n",
    "#PI_table1.PI_i[PI_table.PI_i  < 0] = 0\n",
    "PI_table = PI_table1.copy()\n",
    "i = math.sqrt(2)\n",
    "PI_table.PI_i = PI_table.PI_i.where(lambda x: x > 0, lambda x: x + i)"
   ]
  },
  {
   "cell_type": "code",
   "execution_count": 4,
   "metadata": {},
   "outputs": [
    {
     "data": {
      "text/html": [
       "<div>\n",
       "<style scoped>\n",
       "    .dataframe tbody tr th:only-of-type {\n",
       "        vertical-align: middle;\n",
       "    }\n",
       "\n",
       "    .dataframe tbody tr th {\n",
       "        vertical-align: top;\n",
       "    }\n",
       "\n",
       "    .dataframe thead th {\n",
       "        text-align: right;\n",
       "    }\n",
       "</style>\n",
       "<table border=\"1\" class=\"dataframe\">\n",
       "  <thead>\n",
       "    <tr style=\"text-align: right;\">\n",
       "      <th></th>\n",
       "      <th>nodes_TC</th>\n",
       "      <th>TC_i</th>\n",
       "      <th>nodes_PI</th>\n",
       "      <th>PI_i</th>\n",
       "      <th>nodes_CC</th>\n",
       "      <th>CC_i</th>\n",
       "    </tr>\n",
       "  </thead>\n",
       "  <tbody>\n",
       "    <tr>\n",
       "      <th>1</th>\n",
       "      <td>104</td>\n",
       "      <td>0.4924</td>\n",
       "      <td>104</td>\n",
       "      <td>0.003744</td>\n",
       "      <td>22</td>\n",
       "      <td>0.026222</td>\n",
       "    </tr>\n",
       "    <tr>\n",
       "      <th>2</th>\n",
       "      <td>15</td>\n",
       "      <td>0.4894</td>\n",
       "      <td>15</td>\n",
       "      <td>0.005231</td>\n",
       "      <td>332</td>\n",
       "      <td>0.026895</td>\n",
       "    </tr>\n",
       "    <tr>\n",
       "      <th>3</th>\n",
       "      <td>195</td>\n",
       "      <td>0.4868</td>\n",
       "      <td>195</td>\n",
       "      <td>0.006643</td>\n",
       "      <td>104</td>\n",
       "      <td>0.027567</td>\n",
       "    </tr>\n",
       "  </tbody>\n",
       "</table>\n",
       "</div>"
      ],
      "text/plain": [
       "   nodes_TC    TC_i  nodes_PI      PI_i  nodes_CC      CC_i\n",
       "1       104  0.4924       104  0.003744        22  0.026222\n",
       "2        15  0.4894        15  0.005231       332  0.026895\n",
       "3       195  0.4868       195  0.006643       104  0.027567"
      ]
     },
     "execution_count": 4,
     "metadata": {},
     "output_type": "execute_result"
    }
   ],
   "source": [
    "TC_table = pd.DataFrame(Tr_centrality_measure.TC_Rank, columns = ('nodes_TC','TC_i'))\n",
    "#TC_table.nodes_TC = TC_table.nodes_TC + 1\n",
    "CC_table = pd.DataFrame(Constraint_Coefficient.sorted_x, columns = ('nodes_CC','CC_i'))\n",
    "#CC_table.nodes_CC= CC_table.nodes_CC + 1\n",
    "Result_table = pd.concat([TC_table, PI_table, CC_table], axis=1, sort=False)\n",
    "\n",
    "First_Five= pd.DataFrame(Result_table.loc[0:2])\n",
    "First_Five.index = First_Five.index + 1\n",
    "First_Five"
   ]
  },
  {
   "cell_type": "code",
   "execution_count": 5,
   "metadata": {},
   "outputs": [],
   "source": [
    "#return the total power of node i.\n",
    "def TPN(i):\n",
    "    PI_ofi = 1/Graph_Entropy_measure.PI_of(i)\n",
    "    TC_ofi = Tr_centrality_measure.TC_of(i)\n",
    "    CC_ofi = Constraint_Coefficient.CC_of(i)\n",
    "    #Weight to normalize the measures\n",
    "    dn=PI_ofi+TC_ofi+CC_ofi\n",
    "    n1=round(TC_ofi/dn, 2)\n",
    "    n2=round(PI_ofi/dn, 2)\n",
    "    n3=round(CC_ofi/dn, 2)\n",
    "    #equation []\n",
    "    TPN_i  = (n1*TC_ofi)+(n2*PI_ofi)+(n3*CC_ofi)       \n",
    "    return TPN_i"
   ]
  },
  {
   "cell_type": "code",
   "execution_count": 6,
   "metadata": {},
   "outputs": [],
   "source": [
    "#loop total power of node all i\n",
    "def loop_TPN():\n",
    "    i=0\n",
    "    nodes = list(pd.concat([First_Five['nodes_TC'], First_Five['nodes_PI'], First_Five['nodes_CC']]).unique())\n",
    "    list_TPN=[]    \n",
    "    for i in nodes:          \n",
    "        TPN_ = TPN(i)\n",
    "        i_TPN = [i, TPN_]\n",
    "        list_TPN.append(i_TPN)\n",
    "    return  list_TPN"
   ]
  },
  {
   "cell_type": "code",
   "execution_count": 7,
   "metadata": {},
   "outputs": [],
   "source": [
    "#Ranking the total power of node i\n",
    "def TPN_Ranking( val ):\n",
    "      return val [1]\n",
    "\n",
    "TPN_Rank = loop_TPN()\n",
    "TPN_Rank.sort(key=lambda elem: elem[1], reverse=True)"
   ]
  },
  {
   "cell_type": "code",
   "execution_count": 8,
   "metadata": {},
   "outputs": [
    {
     "name": "stdout",
     "output_type": "stream",
     "text": [
      "   nodes_TPN     TPN_i\n",
      "0        104  0.464273\n",
      "1         15  0.452861\n",
      "2        332  0.449941\n",
      "3         22  0.446856\n",
      "4        195  0.445799\n"
     ]
    }
   ],
   "source": [
    "#return table containing the TPN values[TPN_table and Top_Five]\n",
    "TPN_table = pd.DataFrame(TPN_Rank, columns = ('nodes_TPN','TPN_i'))\n",
    "Top_Five = pd.DataFrame(TPN_table.loc[0:2])\n",
    "Top_Five.index = Top_Five.index + 1\n",
    "#TPN_table.nodes_TPN = TPN_table.nodes_TPN + 1\n",
    "print(TPN_table)\n",
    "#TPN_table.to_csv('result/TPN_[]_network.csv')\n",
    "#Top_Five.to_csv('result/TPN_[]_network.csv')"
   ]
  },
  {
   "cell_type": "code",
   "execution_count": 22,
   "metadata": {},
   "outputs": [
    {
     "name": "stdout",
     "output_type": "stream",
     "text": [
      "   nodes_TC    TC_i  nodes_PI      PI_i  nodes_CC      CC_i  nodes_TPN  \\\n",
      "0       105  0.4924       105  0.003744        23  0.026222      105.0   \n",
      "1        16  0.4894        16  0.005231       333  0.026895       16.0   \n",
      "2       196  0.4868       196  0.006643       105  0.027567      333.0   \n",
      "3        42  0.4859       299  0.006957       135  0.028366       23.0   \n",
      "4         3  0.4857         3  0.007058       233  0.028909      196.0   \n",
      "\n",
      "      TPN_i  \n",
      "0  0.464273  \n",
      "1  0.452861  \n",
      "2  0.449941  \n",
      "3  0.446856  \n",
      "4  0.445799  \n"
     ]
    }
   ],
   "source": [
    "#return table containing ALL the Measures\n",
    "Propose_Result_table = pd.concat([TC_table, PI_table, CC_table, TPN_table], axis=1, sort=False)\n",
    "Propose_Result_table.nodes_PI = Propose_Result_table.nodes_PI + 1\n",
    "Propose_Result_table.nodes_TC = Propose_Result_table.nodes_TC + 1\n",
    "Propose_Result_table.nodes_CC = Propose_Result_table.nodes_CC + 1\n",
    "Propose_Result_table.nodes_TPN = Propose_Result_table.nodes_TPN + 1\n",
    "Top_Fivep = pd.DataFrame(Propose_Result_table.loc[0:4])\n",
    "\n",
    "#Top_Fivep.index = Top_Fivep.index + 1\n",
    "#convert column nodes_TPN to int\n",
    "#Top_Five.nodes_TPN= Top_Five.nodes_TPN.astype(int)\n",
    "print(Top_Fivep)\n",
    "#Propose_Table.to_csv('result/Propose_Table_kc_network.csv')\n",
    "#Top_Fivep.to_csv('result/sPropose_Table_email_network.csv')"
   ]
  },
  {
   "cell_type": "code",
   "execution_count": 17,
   "metadata": {},
   "outputs": [
    {
     "name": "stdout",
     "output_type": "stream",
     "text": [
      "   nodes_TC  nodes_PI  nodes_CC  nodes_TPN\n",
      "1       104       104        22        104\n",
      "2        15        15       332         15\n",
      "3       195       195       104        332\n"
     ]
    }
   ],
   "source": [
    "#return table containing ALL the Measures\n",
    "Propose_Result_table = pd.concat([TC_table, PI_table, CC_table, TPN_table], axis=1, sort=False)\n",
    "Top_FiveR = pd.DataFrame(Propose_Result_table.loc[0:2])\n",
    "Top_FiveR.index = Top_FiveR.index + 1\n",
    "#convert column nodes_TPN to int\n",
    "Top_FiveR.nodes_TPN= Top_FiveR.nodes_TPN.astype(int)\n",
    "ranking_table = pd.concat([Top_FiveR['nodes_TC'], Top_FiveR['nodes_PI'], Top_FiveR['nodes_CC'],Top_FiveR['nodes_TPN']], axis=1, sort=False)\n",
    "print(ranking_table)\n",
    "#ranking_table.to_csv('result/Propose_Table_email_network.csv')\n",
    "#Top_FiveR.to_csv('result/Propose_Table_email_network.csv')"
   ]
  },
  {
   "cell_type": "code",
   "execution_count": 25,
   "metadata": {},
   "outputs": [
    {
     "data": {
      "text/html": [
       "<div>\n",
       "<style scoped>\n",
       "    .dataframe tbody tr th:only-of-type {\n",
       "        vertical-align: middle;\n",
       "    }\n",
       "\n",
       "    .dataframe tbody tr th {\n",
       "        vertical-align: top;\n",
       "    }\n",
       "\n",
       "    .dataframe thead th {\n",
       "        text-align: right;\n",
       "    }\n",
       "</style>\n",
       "<table border=\"1\" class=\"dataframe\">\n",
       "  <thead>\n",
       "    <tr style=\"text-align: right;\">\n",
       "      <th></th>\n",
       "      <th>nodes</th>\n",
       "      <th>nodes_tr</th>\n",
       "      <th>nodes_bc</th>\n",
       "      <th>nodes_cnc</th>\n",
       "      <th>nodes_dc</th>\n",
       "      <th>nodes_ec</th>\n",
       "      <th>nodes_pr</th>\n",
       "      <th>nodes_TC</th>\n",
       "      <th>nodes_PI</th>\n",
       "      <th>nodes_CC</th>\n",
       "      <th>nodes_TPN</th>\n",
       "    </tr>\n",
       "  </thead>\n",
       "  <tbody>\n",
       "    <tr>\n",
       "      <th>0</th>\n",
       "      <td>105</td>\n",
       "      <td>105</td>\n",
       "      <td>333</td>\n",
       "      <td>333</td>\n",
       "      <td>105</td>\n",
       "      <td>105</td>\n",
       "      <td>105</td>\n",
       "      <td>105</td>\n",
       "      <td>105</td>\n",
       "      <td>23</td>\n",
       "      <td>105.0</td>\n",
       "    </tr>\n",
       "    <tr>\n",
       "      <th>1</th>\n",
       "      <td>333</td>\n",
       "      <td>16</td>\n",
       "      <td>105</td>\n",
       "      <td>23</td>\n",
       "      <td>333</td>\n",
       "      <td>16</td>\n",
       "      <td>376</td>\n",
       "      <td>16</td>\n",
       "      <td>16</td>\n",
       "      <td>333</td>\n",
       "      <td>16.0</td>\n",
       "    </tr>\n",
       "    <tr>\n",
       "      <th>2</th>\n",
       "      <td>16</td>\n",
       "      <td>196</td>\n",
       "      <td>23</td>\n",
       "      <td>105</td>\n",
       "      <td>16</td>\n",
       "      <td>196</td>\n",
       "      <td>355</td>\n",
       "      <td>196</td>\n",
       "      <td>196</td>\n",
       "      <td>105</td>\n",
       "      <td>333.0</td>\n",
       "    </tr>\n",
       "    <tr>\n",
       "      <th>3</th>\n",
       "      <td>23</td>\n",
       "      <td>299</td>\n",
       "      <td>578</td>\n",
       "      <td>42</td>\n",
       "      <td>23</td>\n",
       "      <td>204</td>\n",
       "      <td>21</td>\n",
       "      <td>42</td>\n",
       "      <td>299</td>\n",
       "      <td>135</td>\n",
       "      <td>23.0</td>\n",
       "    </tr>\n",
       "    <tr>\n",
       "      <th>4</th>\n",
       "      <td>42</td>\n",
       "      <td>3</td>\n",
       "      <td>76</td>\n",
       "      <td>41</td>\n",
       "      <td>42</td>\n",
       "      <td>42</td>\n",
       "      <td>14</td>\n",
       "      <td>3</td>\n",
       "      <td>3</td>\n",
       "      <td>233</td>\n",
       "      <td>196.0</td>\n",
       "    </tr>\n",
       "  </tbody>\n",
       "</table>\n",
       "</div>"
      ],
      "text/plain": [
       "   nodes  nodes_tr  nodes_bc  nodes_cnc  nodes_dc  nodes_ec  nodes_pr  \\\n",
       "0    105       105       333        333       105       105       105   \n",
       "1    333        16       105         23       333        16       376   \n",
       "2     16       196        23        105        16       196       355   \n",
       "3     23       299       578         42        23       204        21   \n",
       "4     42         3        76         41        42        42        14   \n",
       "\n",
       "   nodes_TC  nodes_PI  nodes_CC  nodes_TPN  \n",
       "0       105       105        23      105.0  \n",
       "1        16        16       333       16.0  \n",
       "2       196       196       105      333.0  \n",
       "3        42       299       135       23.0  \n",
       "4         3         3       233      196.0  "
      ]
     },
     "execution_count": 25,
     "metadata": {},
     "output_type": "execute_result"
    }
   ],
   "source": [
    "cent = pd.read_csv('result/email/Top_Five_cent_email_network.csv')\n",
    "eff = pd.read_csv('result/email/eff1_Rank_table_email_network.csv')\n",
    "all_in = pd.concat([eff,cent,Top_Fivep], axis=1, sort=False)\n",
    "\n",
    "Top_Five_all_in = pd.DataFrame(all_in.loc[0:4])\n",
    "ranking_table_all_in = pd.concat([Top_Five_all_in['nodes'],Top_Five_all_in['nodes_tr'], Top_Five_all_in['nodes_bc'], Top_Five_all_in['nodes_cnc'],\n",
    "                                  Top_Five_all_in['nodes_dc'], Top_Five_all_in['nodes_ec'],Top_Five_all_in['nodes_pr'],\n",
    "                                  Top_Five_all_in['nodes_TC'], \n",
    "                                  Top_Five_all_in['nodes_PI'], Top_Five_all_in['nodes_CC'],Top_Five_all_in['nodes_TPN']], \n",
    "                                 axis=1, sort=False)\n",
    "\n",
    "#ranking_table_all_in.to_csv('result/ranking_table_all_in_email.csv')\n",
    "ranking_table_all_in"
   ]
  },
  {
   "cell_type": "code",
   "execution_count": null,
   "metadata": {},
   "outputs": [],
   "source": []
  }
 ],
 "metadata": {
  "kernelspec": {
   "display_name": "Python 3",
   "language": "python",
   "name": "python3"
  },
  "language_info": {
   "codemirror_mode": {
    "name": "ipython",
    "version": 3
   },
   "file_extension": ".py",
   "mimetype": "text/x-python",
   "name": "python",
   "nbconvert_exporter": "python",
   "pygments_lexer": "ipython3",
   "version": "3.6.5"
  }
 },
 "nbformat": 4,
 "nbformat_minor": 2
}
