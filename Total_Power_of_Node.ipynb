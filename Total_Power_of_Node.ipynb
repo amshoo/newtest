{
 "cells": [
  {
   "cell_type": "code",
   "execution_count": 1,
   "metadata": {},
   "outputs": [],
   "source": [
    "import networkx as nx\n",
    "import numpy as np\n",
    "import matplotlib.pyplot as plt\n",
    "import pandas as pd\n",
    "import math"
   ]
  },
  {
   "cell_type": "code",
   "execution_count": 2,
   "metadata": {},
   "outputs": [],
   "source": [
    "import Tr_centrality_measure\n",
    "import Graph_Entropy_measure\n",
    "import Selection_Algorithm\n",
    "import Constraint_Coefficient"
   ]
  },
  {
   "cell_type": "code",
   "execution_count": 3,
   "metadata": {},
   "outputs": [],
   "source": [
    "PI_table1 = pd.DataFrame(Graph_Entropy_measure.PI_Rank, columns = ('nodes_PI','PI_i'))\n",
    "#PI_table1.PI_i[PI_table.PI_i  < 0] = 0\n",
    "PI_table = PI_table1.copy()\n",
    "i = math.sqrt(2)\n",
    "PI_table.PI_i = PI_table.PI_i.where(lambda x: x > 0, lambda x: x + i)"
   ]
  },
  {
   "cell_type": "code",
   "execution_count": 4,
   "metadata": {},
   "outputs": [
    {
     "data": {
      "text/html": [
       "<div>\n",
       "<style scoped>\n",
       "    .dataframe tbody tr th:only-of-type {\n",
       "        vertical-align: middle;\n",
       "    }\n",
       "\n",
       "    .dataframe tbody tr th {\n",
       "        vertical-align: top;\n",
       "    }\n",
       "\n",
       "    .dataframe thead th {\n",
       "        text-align: right;\n",
       "    }\n",
       "</style>\n",
       "<table border=\"1\" class=\"dataframe\">\n",
       "  <thead>\n",
       "    <tr style=\"text-align: right;\">\n",
       "      <th></th>\n",
       "      <th>nodes_TC</th>\n",
       "      <th>TC_i</th>\n",
       "      <th>nodes_PI</th>\n",
       "      <th>PI_i</th>\n",
       "      <th>nodes_CC</th>\n",
       "      <th>CC_i</th>\n",
       "    </tr>\n",
       "  </thead>\n",
       "  <tbody>\n",
       "    <tr>\n",
       "      <th>1</th>\n",
       "      <td>4326</td>\n",
       "      <td>0.5758</td>\n",
       "      <td>4326</td>\n",
       "      <td>3.0471</td>\n",
       "      <td>2681</td>\n",
       "      <td>0.097191</td>\n",
       "    </tr>\n",
       "    <tr>\n",
       "      <th>2</th>\n",
       "      <td>4362</td>\n",
       "      <td>0.5781</td>\n",
       "      <td>2543</td>\n",
       "      <td>2.9807</td>\n",
       "      <td>2582</td>\n",
       "      <td>0.121122</td>\n",
       "    </tr>\n",
       "    <tr>\n",
       "      <th>3</th>\n",
       "      <td>4332</td>\n",
       "      <td>0.5862</td>\n",
       "      <td>4316</td>\n",
       "      <td>2.8843</td>\n",
       "      <td>1066</td>\n",
       "      <td>0.121128</td>\n",
       "    </tr>\n",
       "  </tbody>\n",
       "</table>\n",
       "</div>"
      ],
      "text/plain": [
       "   nodes_TC    TC_i  nodes_PI    PI_i  nodes_CC      CC_i\n",
       "1      4326  0.5758      4326  3.0471      2681  0.097191\n",
       "2      4362  0.5781      2543  2.9807      2582  0.121122\n",
       "3      4332  0.5862      4316  2.8843      1066  0.121128"
      ]
     },
     "execution_count": 4,
     "metadata": {},
     "output_type": "execute_result"
    }
   ],
   "source": [
    "TC_table = pd.DataFrame(Tr_centrality_measure.TC_Rank, columns = ('nodes_TC','TC_i'))\n",
    "#TC_table.nodes_TC = TC_table.nodes_TC + 1\n",
    "CC_table = pd.DataFrame(Constraint_Coefficient.sorted_x, columns = ('nodes_CC','CC_i'))\n",
    "#CC_table.nodes_CC= CC_table.nodes_CC + 1\n",
    "Result_table = pd.concat([TC_table, PI_table, CC_table], axis=1, sort=False)\n",
    "\n",
    "First_Five= pd.DataFrame(Result_table.loc[0:2])\n",
    "First_Five.index = First_Five.index + 1\n",
    "First_Five"
   ]
  },
  {
   "cell_type": "code",
   "execution_count": 5,
   "metadata": {},
   "outputs": [],
   "source": [
    "#return the total power of node i.\n",
    "def TPN(i):\n",
    "    PI_ofi = Graph_Entropy_measure.PI_of(i)\n",
    "    TC_ofi = Tr_centrality_measure.TC_of(i)\n",
    "    CC_ofi = Constraint_Coefficient.CC_of(i)\n",
    "    #Weight to normalize the measures\n",
    "    n1=TC_ofi/Tr_centrality_measure.TC_of(i)+Graph_Entropy_measure.PI_of(i)+Constraint_Coefficient.CC_of(i)\n",
    "    n2=PI_ofi/Tr_centrality_measure.TC_of(i)+Graph_Entropy_measure.PI_of(i)+Constraint_Coefficient.CC_of(i)\n",
    "    n3=CC_ofi/Tr_centrality_measure.TC_of(i)+Graph_Entropy_measure.PI_of(i)+Constraint_Coefficient.CC_of(i)\n",
    "    #equation []\n",
    "    #TPN_i  = (n1*TC_ofi)+(n2*PI_ofi)+(n3*CC_ofi)    \n",
    "    TPN_i  = (n1*TC_ofi)+(n2*PI_ofi)+(n3*CC_ofi)    \n",
    "    return TPN_i"
   ]
  },
  {
   "cell_type": "code",
   "execution_count": 6,
   "metadata": {},
   "outputs": [],
   "source": [
    "#loop total power of node all i\n",
    "def loop_TPN():\n",
    "    i=0\n",
    "    nodes = list(pd.concat([First_Five['nodes_TC'], First_Five['nodes_PI'], First_Five['nodes_CC']]).unique())\n",
    "    list_TPN=[]    \n",
    "    for i in nodes:          \n",
    "        TPN_ = TPN(i)\n",
    "        i_TPN = [i, TPN_]\n",
    "        list_TPN.append(i_TPN)  \n",
    "            \n",
    "    return  list_TPN"
   ]
  },
  {
   "cell_type": "code",
   "execution_count": 7,
   "metadata": {},
   "outputs": [
    {
     "data": {
      "text/plain": [
       "[[2543, 34.09685541596704],\n",
       " [4326, 33.93056675363894],\n",
       " [4316, 32.08010015927552],\n",
       " [1066, 31.243146637037494],\n",
       " [2681, 29.19838120401393],\n",
       " [4362, 26.882944912026765],\n",
       " [2582, 24.669912581524542],\n",
       " [4332, 22.43010580744349]]"
      ]
     },
     "execution_count": 7,
     "metadata": {},
     "output_type": "execute_result"
    }
   ],
   "source": [
    "#Ranking the total power of node i\n",
    "def TPN_Ranking( val ):\n",
    "      return val [1]\n",
    "\n",
    "TPN_Rank = loop_TPN()\n",
    "TPN_Rank.sort(key=lambda elem: elem[1], reverse=True)\n",
    "TPN_Rank"
   ]
  },
  {
   "cell_type": "code",
   "execution_count": 8,
   "metadata": {},
   "outputs": [
    {
     "name": "stdout",
     "output_type": "stream",
     "text": [
      "   nodes_TPN      TPN_i\n",
      "0       2543  34.096855\n",
      "1       4326  33.930567\n",
      "2       4316  32.080100\n",
      "3       1066  31.243147\n",
      "4       2681  29.198381\n",
      "5       4362  26.882945\n",
      "6       2582  24.669913\n",
      "7       4332  22.430106\n"
     ]
    }
   ],
   "source": [
    "#return table containing the TPN values[TPN_table and Top_Five]\n",
    "TPN_table = pd.DataFrame(TPN_Rank, columns = ('nodes_TPN','TPN_i'))\n",
    "Top_Five = pd.DataFrame(TPN_table.loc[0:2])\n",
    "Top_Five.index = Top_Five.index + 1\n",
    "#TPN_table.nodes_TPN = TPN_table.nodes_TPN + 1\n",
    "print(TPN_table)\n",
    "#TPN_table.to_csv('result/TPN_[]_network.csv')\n",
    "#Top_Five.to_csv('result/TPN_[]_network.csv')"
   ]
  },
  {
   "cell_type": "code",
   "execution_count": 9,
   "metadata": {},
   "outputs": [
    {
     "name": "stdout",
     "output_type": "stream",
     "text": [
      "   nodes_TC  nodes_PI  nodes_CC  nodes_TPN\n",
      "1      4326      4326      2681       2543\n",
      "2      4362      2543      2582       4326\n",
      "3      4332      4316      1066       4316\n"
     ]
    }
   ],
   "source": [
    "#return table containing ALL the Measures\n",
    "Propose_Result_table = pd.concat([TC_table, PI_table, CC_table, TPN_table], axis=1, sort=False)\n",
    "Top_FiveR = pd.DataFrame(Propose_Result_table.loc[0:2])\n",
    "Top_FiveR.index = Top_FiveR.index + 1\n",
    "#convert column nodes_TPN to int\n",
    "Top_FiveR.nodes_TPN= Top_FiveR.nodes_TPN.astype(int)\n",
    "ranking_table = pd.concat([Top_FiveR['nodes_TC'], Top_FiveR['nodes_PI'], Top_FiveR['nodes_CC'],Top_FiveR['nodes_TPN']], axis=1, sort=False)\n",
    "print(ranking_table)\n",
    "#Propose_Table.to_csv('result/Propose_Table_power_network.csv')\n",
    "#Top_Five.to_csv('result/Propose_Table_power_network.csv')"
   ]
  },
  {
   "cell_type": "code",
   "execution_count": 19,
   "metadata": {},
   "outputs": [
    {
     "name": "stdout",
     "output_type": "stream",
     "text": [
      "Kendall correlation coefficient: -0.333\n",
      "Samples are uncorrelated (fail to reject H0) p=0.602\n"
     ]
    }
   ],
   "source": [
    "# calculate the kendall's correlation between two variables\n",
    "from numpy.random import rand\n",
    "from numpy.random import seed\n",
    "from scipy.stats import kendalltau\n",
    "\n",
    "# prepare data\n",
    "data1 = Top_FiveR['nodes_TPN']\n",
    "data2 = data1 + Top_FiveR['nodes_CC']+ Top_FiveR['nodes_PI']+ Top_FiveR['nodes_TC']\n",
    "# calculate kendall's correlation\n",
    "coef, p = kendalltau(data1, data2)\n",
    "print('Kendall correlation coefficient: %.3f' % coef)\n",
    "# interpret the significance\n",
    "alpha = 0.05\n",
    "if p > alpha:\n",
    "\tprint('Samples are uncorrelated (fail to reject H0) p=%.3f' % p)\n",
    "else:\n",
    "\tprint('Samples are correlated (reject H0) p=%.3f' % p)\n"
   ]
  },
  {
   "cell_type": "code",
   "execution_count": 11,
   "metadata": {},
   "outputs": [],
   "source": [
    "# Importing required libraries\n",
    "import researchpy as rp\n",
    "from scipy import stats\n",
    "#The casewise method returns all information in 3 dataframes\n",
    "#corr_type, corr_matrix, corr_ps=>\n",
    "corr_type, corr_matrix, corr_ps = rp.corr_case(Top_FiveR[['nodes_TC', 'nodes_PI', 'nodes_CC', 'nodes_TPN']])\n",
    "#PAIRWISEcorrelation\n",
    "corr_pair = rp.corr_pair(Top_FiveR[['nodes_TC', 'nodes_PI', 'nodes_CC', 'nodes_TPN']])"
   ]
  },
  {
   "cell_type": "code",
   "execution_count": null,
   "metadata": {},
   "outputs": [],
   "source": []
  },
  {
   "cell_type": "code",
   "execution_count": null,
   "metadata": {},
   "outputs": [],
   "source": []
  }
 ],
 "metadata": {
  "kernelspec": {
   "display_name": "Python 3",
   "language": "python",
   "name": "python3"
  },
  "language_info": {
   "codemirror_mode": {
    "name": "ipython",
    "version": 3
   },
   "file_extension": ".py",
   "mimetype": "text/x-python",
   "name": "python",
   "nbconvert_exporter": "python",
   "pygments_lexer": "ipython3",
   "version": "3.7.1"
  }
 },
 "nbformat": 4,
 "nbformat_minor": 2
}
