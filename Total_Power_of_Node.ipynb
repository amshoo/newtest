{
 "cells": [
  {
   "cell_type": "code",
   "execution_count": 1,
   "metadata": {},
   "outputs": [],
   "source": [
    "import networkx as nx\n",
    "import numpy as np\n",
    "import matplotlib.pyplot as plt\n",
    "import pandas as pd\n",
    "import math"
   ]
  },
  {
   "cell_type": "code",
   "execution_count": 2,
   "metadata": {},
   "outputs": [],
   "source": [
    "G = nx.karate_club_graph()"
   ]
  },
  {
   "cell_type": "code",
   "execution_count": 3,
   "metadata": {},
   "outputs": [],
   "source": [
    "import Tr_centrality_measure\n",
    "import Graph_Entropy_measure\n",
    "import Selection_Algorithm\n",
    "import Constraint_Coefficient\n",
    "#N1=(PI/SUM(PI,TC,CC))\n",
    "#N2=(TC/SUM(PI,TC,CC))\n",
    "#N3=(CC/SUM(PI,TC,CC))\n",
    "#TPN=N1*(PI_i)+N1*(TC_i)+N1*(CC_i)\n",
    "i=0\n",
    "def TPN(i):\n",
    "    PI_i = Graph_Entropy_measure.PI_of(i)\n",
    "    TC_i = Tr_centrality_measure.TC_of(i)\n",
    "    CC_i = Constraint_Coefficient.CC_of(i)\n",
    "    #CC_i=\n",
    "    N1=PI_i/(PI_i+TC_i+CC_i)\n",
    "    N2=TC_i/(PI_i+TC_i+CC_i)\n",
    "    N3=CC_i/(PI_i+TC_i+CC_i)\n",
    "    \n",
    "    TPN_i = N1*(PI_i) + N2*(TC_i)+ N2*(CC_i)\n",
    "    \n",
    "    return TPN_i"
   ]
  },
  {
   "cell_type": "code",
   "execution_count": 4,
   "metadata": {},
   "outputs": [],
   "source": [
    "#loop\n",
    "def loop_TPN():\n",
    "    i=0\n",
    "    list_TPN=[]    \n",
    "    for i in Selection_Algorithm.sel_subgraphs():          \n",
    "        TPN_ = TPN(i)\n",
    "        i+=1\n",
    "        i_TPN = [i, TPN_]\n",
    "        list_TPN.append(i_TPN)  \n",
    "            \n",
    "    return  list_TPN"
   ]
  },
  {
   "cell_type": "code",
   "execution_count": 7,
   "metadata": {},
   "outputs": [],
   "source": [
    "def PI_Ranking( val ):\n",
    "      return val [1]\n",
    "\n",
    "PI_Rank = loop_TPN()\n",
    "PI_Rank.sort(key=lambda elem: elem[1])\n",
    "\n",
    "#PI_Rank"
   ]
  },
  {
   "cell_type": "code",
   "execution_count": 6,
   "metadata": {},
   "outputs": [
    {
     "data": {
      "text/plain": [
       "0"
      ]
     },
     "execution_count": 6,
     "metadata": {},
     "output_type": "execute_result"
    }
   ],
   "source": [
    "Constraint_Coefficient.mutual_weight(Constraint_Coefficient.H, 4, 2, weight=None)"
   ]
  },
  {
   "cell_type": "code",
   "execution_count": null,
   "metadata": {},
   "outputs": [],
   "source": []
  }
 ],
 "metadata": {
  "kernelspec": {
   "display_name": "Python 3",
   "language": "python",
   "name": "python3"
  },
  "language_info": {
   "codemirror_mode": {
    "name": "ipython",
    "version": 3
   },
   "file_extension": ".py",
   "mimetype": "text/x-python",
   "name": "python",
   "nbconvert_exporter": "python",
   "pygments_lexer": "ipython3",
   "version": "3.7.1"
  }
 },
 "nbformat": 4,
 "nbformat_minor": 2
}
