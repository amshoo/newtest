{
 "cells": [
  {
   "cell_type": "code",
   "execution_count": 1,
   "metadata": {},
   "outputs": [],
   "source": [
    "import networkx as nx\n",
    "import numpy as np\n",
    "import matplotlib.pyplot as plt\n",
    "import pandas as pd\n",
    "import math"
   ]
  },
  {
   "cell_type": "code",
   "execution_count": 2,
   "metadata": {},
   "outputs": [],
   "source": [
    "import Tr_centrality_measure\n",
    "import Graph_Entropy_measure\n",
    "import Selection_Algorithm\n",
    "import Constraint_Coefficient"
   ]
  },
  {
   "cell_type": "code",
   "execution_count": 3,
   "metadata": {},
   "outputs": [],
   "source": [
    "PI_table1 = pd.DataFrame(Graph_Entropy_measure.PI_Rank, columns = ('nodes_PI','PI_i'))\n",
    "#PI_table1.PI_i[PI_table.PI_i  < 0] = 0\n",
    "PI_table = PI_table1.copy()\n",
    "i = math.sqrt(2)\n",
    "PI_table.PI_i = PI_table.PI_i.where(lambda x: x > 0, lambda x: x + i)"
   ]
  },
  {
   "cell_type": "code",
   "execution_count": 4,
   "metadata": {},
   "outputs": [
    {
     "data": {
      "text/html": [
       "<div>\n",
       "<style scoped>\n",
       "    .dataframe tbody tr th:only-of-type {\n",
       "        vertical-align: middle;\n",
       "    }\n",
       "\n",
       "    .dataframe tbody tr th {\n",
       "        vertical-align: top;\n",
       "    }\n",
       "\n",
       "    .dataframe thead th {\n",
       "        text-align: right;\n",
       "    }\n",
       "</style>\n",
       "<table border=\"1\" class=\"dataframe\">\n",
       "  <thead>\n",
       "    <tr style=\"text-align: right;\">\n",
       "      <th></th>\n",
       "      <th>nodes_TC</th>\n",
       "      <th>TC_i</th>\n",
       "      <th>nodes_PI</th>\n",
       "      <th>PI_i</th>\n",
       "      <th>nodes_CC</th>\n",
       "      <th>CC_i</th>\n",
       "    </tr>\n",
       "  </thead>\n",
       "  <tbody>\n",
       "    <tr>\n",
       "      <th>1</th>\n",
       "      <td>0</td>\n",
       "      <td>0.4984</td>\n",
       "      <td>0</td>\n",
       "      <td>0.000702</td>\n",
       "      <td>0</td>\n",
       "      <td>0.029722</td>\n",
       "    </tr>\n",
       "    <tr>\n",
       "      <th>2</th>\n",
       "      <td>46</td>\n",
       "      <td>0.4982</td>\n",
       "      <td>46</td>\n",
       "      <td>0.000791</td>\n",
       "      <td>46</td>\n",
       "      <td>0.030275</td>\n",
       "    </tr>\n",
       "    <tr>\n",
       "      <th>3</th>\n",
       "      <td>109</td>\n",
       "      <td>0.4981</td>\n",
       "      <td>109</td>\n",
       "      <td>0.000819</td>\n",
       "      <td>3</td>\n",
       "      <td>0.037630</td>\n",
       "    </tr>\n",
       "  </tbody>\n",
       "</table>\n",
       "</div>"
      ],
      "text/plain": [
       "   nodes_TC    TC_i  nodes_PI      PI_i  nodes_CC      CC_i\n",
       "1         0  0.4984         0  0.000702         0  0.029722\n",
       "2        46  0.4982        46  0.000791        46  0.030275\n",
       "3       109  0.4981       109  0.000819         3  0.037630"
      ]
     },
     "execution_count": 4,
     "metadata": {},
     "output_type": "execute_result"
    }
   ],
   "source": [
    "TC_table = pd.DataFrame(Tr_centrality_measure.TC_Rank, columns = ('nodes_TC','TC_i'))\n",
    "#TC_table.nodes_TC = TC_table.nodes_TC + 1\n",
    "CC_table = pd.DataFrame(Constraint_Coefficient.sorted_x, columns = ('nodes_CC','CC_i'))\n",
    "#CC_table.nodes_CC= CC_table.nodes_CC + 1\n",
    "Result_table = pd.concat([TC_table, PI_table, CC_table], axis=1, sort=False)\n",
    "\n",
    "First_Five= pd.DataFrame(Result_table.loc[0:2])\n",
    "First_Five.index = First_Five.index + 1\n",
    "First_Five"
   ]
  },
  {
   "cell_type": "code",
   "execution_count": 5,
   "metadata": {},
   "outputs": [],
   "source": [
    "#return the total power of node i.\n",
    "def TPN(i):\n",
    "    PI_ofi = 1/Graph_Entropy_measure.PI_of(i)\n",
    "    TC_ofi = Tr_centrality_measure.TC_of(i)\n",
    "    CC_ofi = Constraint_Coefficient.CC_of(i)\n",
    "    #Weight to normalize the measures\n",
    "    dn=PI_ofi+TC_ofi+CC_ofi\n",
    "    n1=round(TC_ofi/dn, 2)\n",
    "    n2=round(PI_ofi/dn, 2)\n",
    "    n3=round(CC_ofi/dn, 2)\n",
    "    #equation []\n",
    "    TPN_i  = (n1*TC_ofi)+(n2*PI_ofi)+(n3*CC_ofi)       \n",
    "    return TPN_i"
   ]
  },
  {
   "cell_type": "code",
   "execution_count": 6,
   "metadata": {},
   "outputs": [],
   "source": [
    "#loop total power of node all i\n",
    "def loop_TPN():\n",
    "    i=0\n",
    "    nodes = list(pd.concat([First_Five['nodes_TC'], First_Five['nodes_PI'], First_Five['nodes_CC']]).unique())\n",
    "    list_TPN=[]    \n",
    "    for i in nodes:          \n",
    "        TPN_ = TPN(i)\n",
    "        i_TPN = [i, TPN_]\n",
    "        list_TPN.append(i_TPN)\n",
    "    return  list_TPN"
   ]
  },
  {
   "cell_type": "code",
   "execution_count": 7,
   "metadata": {},
   "outputs": [],
   "source": [
    "#Ranking the total power of node i\n",
    "def TPN_Ranking( val ):\n",
    "      return val [1]\n",
    "\n",
    "TPN_Rank = loop_TPN()\n",
    "TPN_Rank.sort(key=lambda elem: elem[1], reverse=True)"
   ]
  },
  {
   "cell_type": "code",
   "execution_count": 8,
   "metadata": {},
   "outputs": [
    {
     "name": "stdout",
     "output_type": "stream",
     "text": [
      "   nodes_TPN     TPN_i\n",
      "0          0  0.470266\n",
      "1         46  0.470091\n",
      "2        109  0.465991\n",
      "3          3  0.465640\n"
     ]
    }
   ],
   "source": [
    "#return table containing the TPN values[TPN_table and Top_Five]\n",
    "TPN_table = pd.DataFrame(TPN_Rank, columns = ('nodes_TPN','TPN_i'))\n",
    "Top_Five = pd.DataFrame(TPN_table.loc[0:2])\n",
    "Top_Five.index = Top_Five.index + 1\n",
    "#TPN_table.nodes_TPN = TPN_table.nodes_TPN + 1\n",
    "print(TPN_table)\n",
    "#TPN_table.to_csv('result/TPN_[]_network.csv')\n",
    "#Top_Five.to_csv('result/TPN_[]_network.csv')"
   ]
  },
  {
   "cell_type": "code",
   "execution_count": 9,
   "metadata": {},
   "outputs": [
    {
     "name": "stdout",
     "output_type": "stream",
     "text": [
      "   nodes_TC    TC_i  nodes_PI      PI_i  nodes_CC      CC_i  nodes_TPN  \\\n",
      "0         1  0.4984         1  0.000702         1  0.029722        1.0   \n",
      "1        47  0.4982        47  0.000791        47  0.030275       47.0   \n",
      "2       110  0.4981       110  0.000819         4  0.037630      110.0   \n",
      "3         4  0.4979         4  0.000924       110  0.039479        4.0   \n",
      "4         5  0.4978         5  0.000934         2  0.039623        NaN   \n",
      "\n",
      "      TPN_i  \n",
      "0  0.470266  \n",
      "1  0.470091  \n",
      "2  0.465991  \n",
      "3  0.465640  \n",
      "4       NaN  \n"
     ]
    }
   ],
   "source": [
    "#return table containing ALL the Measures\n",
    "Propose_Result_table = pd.concat([TC_table, PI_table, CC_table, TPN_table], axis=1, sort=False)\n",
    "Propose_Result_table.nodes_PI = Propose_Result_table.nodes_PI + 1\n",
    "Propose_Result_table.nodes_TC = Propose_Result_table.nodes_TC + 1\n",
    "Propose_Result_table.nodes_CC = Propose_Result_table.nodes_CC + 1\n",
    "Propose_Result_table.nodes_TPN = Propose_Result_table.nodes_TPN + 1\n",
    "Top_Fivep = pd.DataFrame(Propose_Result_table.loc[0:4])\n",
    "\n",
    "#Top_Fivep.index = Top_Fivep.index + 1\n",
    "#convert column nodes_TPN to int\n",
    "#Top_Five.nodes_TPN= Top_Five.nodes_TPN.astype(int)\n",
    "print(Top_Fivep)\n",
    "#Propose_Table.to_csv('result/Propose_Table_kc_network.csv')\n",
    "#Top_Fivep.to_csv('result/sPropose_Table_email_network.csv')"
   ]
  },
  {
   "cell_type": "code",
   "execution_count": 10,
   "metadata": {},
   "outputs": [
    {
     "name": "stdout",
     "output_type": "stream",
     "text": [
      "   nodes_TC  nodes_PI  nodes_CC  nodes_TPN\n",
      "1         0         0         0          0\n",
      "2        46        46        46         46\n",
      "3       109       109         3        109\n"
     ]
    }
   ],
   "source": [
    "#return table containing ALL the Measures\n",
    "Propose_Result_table = pd.concat([TC_table, PI_table, CC_table, TPN_table], axis=1, sort=False)\n",
    "Top_FiveR = pd.DataFrame(Propose_Result_table.loc[0:2])\n",
    "Top_FiveR.index = Top_FiveR.index + 1\n",
    "#convert column nodes_TPN to int\n",
    "Top_FiveR.nodes_TPN= Top_FiveR.nodes_TPN.astype(int)\n",
    "ranking_table = pd.concat([Top_FiveR['nodes_TC'], Top_FiveR['nodes_PI'], Top_FiveR['nodes_CC'],Top_FiveR['nodes_TPN']], axis=1, sort=False)\n",
    "print(ranking_table)\n",
    "#ranking_table.to_csv('result/Propose_Table_email_network.csv')\n",
    "#Top_FiveR.to_csv('result/Propose_Table_email_network.csv')"
   ]
  },
  {
   "cell_type": "code",
   "execution_count": 11,
   "metadata": {},
   "outputs": [
    {
     "data": {
      "text/html": [
       "<div>\n",
       "<style scoped>\n",
       "    .dataframe tbody tr th:only-of-type {\n",
       "        vertical-align: middle;\n",
       "    }\n",
       "\n",
       "    .dataframe tbody tr th {\n",
       "        vertical-align: top;\n",
       "    }\n",
       "\n",
       "    .dataframe thead th {\n",
       "        text-align: right;\n",
       "    }\n",
       "</style>\n",
       "<table border=\"1\" class=\"dataframe\">\n",
       "  <thead>\n",
       "    <tr style=\"text-align: right;\">\n",
       "      <th></th>\n",
       "      <th>nodes</th>\n",
       "      <th>nodes_tr</th>\n",
       "      <th>nodes_bc</th>\n",
       "      <th>nodes_cnc</th>\n",
       "      <th>nodes_dc</th>\n",
       "      <th>nodes_ec</th>\n",
       "      <th>nodes_pr</th>\n",
       "      <th>nodes_TC</th>\n",
       "      <th>nodes_PI</th>\n",
       "      <th>nodes_CC</th>\n",
       "      <th>nodes_TPN</th>\n",
       "    </tr>\n",
       "  </thead>\n",
       "  <tbody>\n",
       "    <tr>\n",
       "      <th>0</th>\n",
       "      <td>1</td>\n",
       "      <td>1</td>\n",
       "      <td>1</td>\n",
       "      <td>1</td>\n",
       "      <td>1</td>\n",
       "      <td>1</td>\n",
       "      <td>47</td>\n",
       "      <td>1</td>\n",
       "      <td>1</td>\n",
       "      <td>1</td>\n",
       "      <td>1.0</td>\n",
       "    </tr>\n",
       "    <tr>\n",
       "      <th>1</th>\n",
       "      <td>47</td>\n",
       "      <td>47</td>\n",
       "      <td>206</td>\n",
       "      <td>47</td>\n",
       "      <td>47</td>\n",
       "      <td>47</td>\n",
       "      <td>1</td>\n",
       "      <td>47</td>\n",
       "      <td>47</td>\n",
       "      <td>47</td>\n",
       "      <td>47.0</td>\n",
       "    </tr>\n",
       "    <tr>\n",
       "      <th>2</th>\n",
       "      <td>110</td>\n",
       "      <td>110</td>\n",
       "      <td>47</td>\n",
       "      <td>55</td>\n",
       "      <td>110</td>\n",
       "      <td>110</td>\n",
       "      <td>206</td>\n",
       "      <td>110</td>\n",
       "      <td>110</td>\n",
       "      <td>4</td>\n",
       "      <td>110.0</td>\n",
       "    </tr>\n",
       "    <tr>\n",
       "      <th>3</th>\n",
       "      <td>4</td>\n",
       "      <td>4</td>\n",
       "      <td>2</td>\n",
       "      <td>110</td>\n",
       "      <td>4</td>\n",
       "      <td>4</td>\n",
       "      <td>2</td>\n",
       "      <td>4</td>\n",
       "      <td>4</td>\n",
       "      <td>110</td>\n",
       "      <td>4.0</td>\n",
       "    </tr>\n",
       "    <tr>\n",
       "      <th>4</th>\n",
       "      <td>5</td>\n",
       "      <td>5</td>\n",
       "      <td>7</td>\n",
       "      <td>2</td>\n",
       "      <td>5</td>\n",
       "      <td>5</td>\n",
       "      <td>5</td>\n",
       "      <td>5</td>\n",
       "      <td>5</td>\n",
       "      <td>2</td>\n",
       "      <td>NaN</td>\n",
       "    </tr>\n",
       "  </tbody>\n",
       "</table>\n",
       "</div>"
      ],
      "text/plain": [
       "   nodes  nodes_tr  nodes_bc  nodes_cnc  nodes_dc  nodes_ec  nodes_pr  \\\n",
       "0      1         1         1          1         1         1        47   \n",
       "1     47        47       206         47        47        47         1   \n",
       "2    110       110        47         55       110       110       206   \n",
       "3      4         4         2        110         4         4         2   \n",
       "4      5         5         7          2         5         5         5   \n",
       "\n",
       "   nodes_TC  nodes_PI  nodes_CC  nodes_TPN  \n",
       "0         1         1         1        1.0  \n",
       "1        47        47        47       47.0  \n",
       "2       110       110         4      110.0  \n",
       "3         4         4       110        4.0  \n",
       "4         5         5         2        NaN  "
      ]
     },
     "execution_count": 11,
     "metadata": {},
     "output_type": "execute_result"
    }
   ],
   "source": [
    "cent = pd.read_csv('result/usair/Top_Five_cent_usair_network.csv')\n",
    "eff = pd.read_csv('result/usair/eff1_Rank_table_usair_network.csv')\n",
    "all_in = pd.concat([eff,cent,Top_Fivep], axis=1, sort=False)\n",
    "\n",
    "Top_Five_all_in = pd.DataFrame(all_in.loc[0:4])\n",
    "ranking_table_all_in = pd.concat([Top_Five_all_in['nodes'],Top_Five_all_in['nodes_tr'], Top_Five_all_in['nodes_bc'], Top_Five_all_in['nodes_cnc'],\n",
    "                                  Top_Five_all_in['nodes_dc'], Top_Five_all_in['nodes_ec'],Top_Five_all_in['nodes_pr'],\n",
    "                                  Top_Five_all_in['nodes_TC'], \n",
    "                                  Top_Five_all_in['nodes_PI'], Top_Five_all_in['nodes_CC'],Top_Five_all_in['nodes_TPN']], \n",
    "                                 axis=1, sort=False)\n",
    "\n",
    "#ranking_table_all_in.to_csv('result/ranking_table_all_in_kcnew.csv')\n",
    "ranking_table_all_in"
   ]
  },
  {
   "cell_type": "code",
   "execution_count": 12,
   "metadata": {},
   "outputs": [],
   "source": [
    "Result_table.to_csv('result/p_Result_table_usair.csv')"
   ]
  },
  {
   "cell_type": "code",
   "execution_count": null,
   "metadata": {},
   "outputs": [],
   "source": []
  }
 ],
 "metadata": {
  "kernelspec": {
   "display_name": "Python 3",
   "language": "python",
   "name": "python3"
  },
  "language_info": {
   "codemirror_mode": {
    "name": "ipython",
    "version": 3
   },
   "file_extension": ".py",
   "mimetype": "text/x-python",
   "name": "python",
   "nbconvert_exporter": "python",
   "pygments_lexer": "ipython3",
   "version": "3.6.5"
  }
 },
 "nbformat": 4,
 "nbformat_minor": 2
}
