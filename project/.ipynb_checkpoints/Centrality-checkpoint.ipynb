{
 "cells": [
  {
   "cell_type": "code",
   "execution_count": 1,
   "metadata": {},
   "outputs": [],
   "source": [
    "import networkx as nx\n",
    "import numpy as np\n",
    "import matplotlib.pyplot as plt\n",
    "import pandas as pd"
   ]
  },
  {
   "cell_type": "code",
   "execution_count": 2,
   "metadata": {},
   "outputs": [],
   "source": [
    "def graph():    \n",
    "    import graph\n",
    "    Graph = graph.H\n",
    "    return Graph\n",
    "G = graph()\n",
    "#G= nx.karate_club_graph()"
   ]
  },
  {
   "cell_type": "markdown",
   "metadata": {},
   "source": [
    "## 1-Degree Centrality\n",
    "#Ranking degree"
   ]
  },
  {
   "cell_type": "code",
   "execution_count": 3,
   "metadata": {},
   "outputs": [],
   "source": [
    "def Degree_Ranking( val ):\n",
    "      return val [1]\n",
    "degree = list(nx.degree_centrality(G).items())\n",
    "degree.sort(key=lambda elem: elem[1], reverse=True)\n",
    "degree_table = pd.DataFrame(degree, columns = ('DC','DC_i')) "
   ]
  },
  {
   "cell_type": "markdown",
   "metadata": {},
   "source": [
    "## 2-Betweeness Centrality\n",
    "#Ranking degree"
   ]
  },
  {
   "cell_type": "code",
   "execution_count": 4,
   "metadata": {},
   "outputs": [],
   "source": [
    "def Betweeness_Ranking( val ):\n",
    "      return val [1]\n",
    "Betweeness = list(nx.betweenness_centrality(G).items())\n",
    "Betweeness.sort(key=lambda elem: elem[1], reverse=True)\n",
    "Betweeness_table = pd.DataFrame(Betweeness, columns = ('BC','BC_i'))"
   ]
  },
  {
   "cell_type": "markdown",
   "metadata": {},
   "source": [
    "## 3-closeness Centrality\n",
    "#Ranking closeness"
   ]
  },
  {
   "cell_type": "code",
   "execution_count": 5,
   "metadata": {},
   "outputs": [],
   "source": [
    "def closeness_Ranking( val ):\n",
    "      return val [1]\n",
    "closeness = list(nx.closeness_centrality(G).items())\n",
    "closeness.sort(key=lambda elem: elem[1], reverse=True)\n",
    "closeness_table = pd.DataFrame(closeness, columns = ('CNC','CNC_i'))"
   ]
  },
  {
   "cell_type": "markdown",
   "metadata": {},
   "source": [
    "## 4-eigenvector Centrality\n",
    "#Ranking eigenvector"
   ]
  },
  {
   "cell_type": "code",
   "execution_count": 6,
   "metadata": {},
   "outputs": [],
   "source": [
    "def eigenvector_Ranking( val ):\n",
    "      return val [1]\n",
    "eigenvector = list(nx.eigenvector_centrality(G).items())\n",
    "eigenvector.sort(key=lambda elem: elem[1], reverse=True)\n",
    "eigenvector_table = pd.DataFrame(eigenvector, columns = ('EC','EC_i'))"
   ]
  },
  {
   "cell_type": "markdown",
   "metadata": {},
   "source": [
    "## 5-Triangles Centrality\n",
    "#Ranking triangles"
   ]
  },
  {
   "cell_type": "code",
   "execution_count": 7,
   "metadata": {},
   "outputs": [],
   "source": [
    "def triangles_Ranking( val ):\n",
    "      return val [1]\n",
    "triangles = list(nx.triangles(G, nodes=None).items())\n",
    "triangles.sort(key=lambda elem: elem[1], reverse=True)\n",
    "triangles_table = pd.DataFrame(triangles, columns = ('TR','TR_i'))"
   ]
  },
  {
   "cell_type": "markdown",
   "metadata": {},
   "source": [
    "## 6- Pagerank Ranking\n",
    "#Ranking pagerank"
   ]
  },
  {
   "cell_type": "code",
   "execution_count": 8,
   "metadata": {},
   "outputs": [],
   "source": [
    "def pagerank_Ranking( val ):\n",
    "      return val [1]\n",
    "pagerank = list(nx.pagerank(G, alpha=0.3).items())\n",
    "pagerank.sort(key=lambda elem: elem[1], reverse=True)\n",
    "pagerank_table = pd.DataFrame(pagerank, columns = ('PR','PR_i'))"
   ]
  },
  {
   "cell_type": "code",
   "execution_count": 19,
   "metadata": {},
   "outputs": [],
   "source": [
    "power_table = pd.concat([triangles_table,eigenvector_table, \n",
    "                         closeness_table,Betweeness_table, \n",
    "                         degree_table,pagerank_table], \n",
    "                                 axis=1, sort=False)\n",
    "power_table.index = power_table.index + 1\n",
    "power_table.TR = power_table.TR + 1\n",
    "power_table.EC = power_table.EC + 1\n",
    "power_table.CNC = power_table.CNC + 1\n",
    "power_table.BC = power_table.BC + 1\n",
    "power_table.DC = power_table.DC + 1\n",
    "power_table.PR = power_table.PR + 1\n",
    "\n",
    "Top_ = pd.DataFrame(power_table.loc[0:10])"
   ]
  },
  {
   "cell_type": "code",
   "execution_count": 20,
   "metadata": {},
   "outputs": [],
   "source": [
    "#Top_five.to_csv('result/top_cent_kc.csv')#save top three ranking of the Classical Centrality"
   ]
  },
  {
   "cell_type": "code",
   "execution_count": 21,
   "metadata": {},
   "outputs": [
    {
     "data": {
      "text/html": [
       "<div>\n",
       "<style scoped>\n",
       "    .dataframe tbody tr th:only-of-type {\n",
       "        vertical-align: middle;\n",
       "    }\n",
       "\n",
       "    .dataframe tbody tr th {\n",
       "        vertical-align: top;\n",
       "    }\n",
       "\n",
       "    .dataframe thead th {\n",
       "        text-align: right;\n",
       "    }\n",
       "</style>\n",
       "<table border=\"1\" class=\"dataframe\">\n",
       "  <thead>\n",
       "    <tr style=\"text-align: right;\">\n",
       "      <th></th>\n",
       "      <th>TR</th>\n",
       "      <th>TR_i</th>\n",
       "      <th>EC</th>\n",
       "      <th>EC_i</th>\n",
       "      <th>CNC</th>\n",
       "      <th>CNC_i</th>\n",
       "      <th>BC</th>\n",
       "      <th>BC_i</th>\n",
       "      <th>DC</th>\n",
       "      <th>DC_i</th>\n",
       "      <th>PR</th>\n",
       "      <th>PR_i</th>\n",
       "    </tr>\n",
       "  </thead>\n",
       "  <tbody>\n",
       "    <tr>\n",
       "      <th>1</th>\n",
       "      <td>1</td>\n",
       "      <td>18</td>\n",
       "      <td>34</td>\n",
       "      <td>0.373371</td>\n",
       "      <td>1</td>\n",
       "      <td>0.568966</td>\n",
       "      <td>1</td>\n",
       "      <td>0.437635</td>\n",
       "      <td>34</td>\n",
       "      <td>0.515152</td>\n",
       "      <td>34</td>\n",
       "      <td>0.063634</td>\n",
       "    </tr>\n",
       "    <tr>\n",
       "      <th>2</th>\n",
       "      <td>34</td>\n",
       "      <td>15</td>\n",
       "      <td>1</td>\n",
       "      <td>0.355483</td>\n",
       "      <td>3</td>\n",
       "      <td>0.559322</td>\n",
       "      <td>34</td>\n",
       "      <td>0.304075</td>\n",
       "      <td>1</td>\n",
       "      <td>0.484848</td>\n",
       "      <td>1</td>\n",
       "      <td>0.060638</td>\n",
       "    </tr>\n",
       "    <tr>\n",
       "      <th>3</th>\n",
       "      <td>33</td>\n",
       "      <td>13</td>\n",
       "      <td>3</td>\n",
       "      <td>0.317189</td>\n",
       "      <td>34</td>\n",
       "      <td>0.550000</td>\n",
       "      <td>33</td>\n",
       "      <td>0.145247</td>\n",
       "      <td>33</td>\n",
       "      <td>0.363636</td>\n",
       "      <td>33</td>\n",
       "      <td>0.049160</td>\n",
       "    </tr>\n",
       "    <tr>\n",
       "      <th>4</th>\n",
       "      <td>2</td>\n",
       "      <td>12</td>\n",
       "      <td>33</td>\n",
       "      <td>0.308651</td>\n",
       "      <td>32</td>\n",
       "      <td>0.540984</td>\n",
       "      <td>3</td>\n",
       "      <td>0.143657</td>\n",
       "      <td>3</td>\n",
       "      <td>0.303030</td>\n",
       "      <td>2</td>\n",
       "      <td>0.039268</td>\n",
       "    </tr>\n",
       "    <tr>\n",
       "      <th>5</th>\n",
       "      <td>3</td>\n",
       "      <td>11</td>\n",
       "      <td>2</td>\n",
       "      <td>0.265954</td>\n",
       "      <td>9</td>\n",
       "      <td>0.515625</td>\n",
       "      <td>32</td>\n",
       "      <td>0.138276</td>\n",
       "      <td>2</td>\n",
       "      <td>0.272727</td>\n",
       "      <td>3</td>\n",
       "      <td>0.038933</td>\n",
       "    </tr>\n",
       "    <tr>\n",
       "      <th>6</th>\n",
       "      <td>4</td>\n",
       "      <td>10</td>\n",
       "      <td>9</td>\n",
       "      <td>0.227405</td>\n",
       "      <td>14</td>\n",
       "      <td>0.515625</td>\n",
       "      <td>9</td>\n",
       "      <td>0.055927</td>\n",
       "      <td>4</td>\n",
       "      <td>0.181818</td>\n",
       "      <td>32</td>\n",
       "      <td>0.031880</td>\n",
       "    </tr>\n",
       "    <tr>\n",
       "      <th>7</th>\n",
       "      <td>8</td>\n",
       "      <td>6</td>\n",
       "      <td>14</td>\n",
       "      <td>0.226470</td>\n",
       "      <td>33</td>\n",
       "      <td>0.515625</td>\n",
       "      <td>2</td>\n",
       "      <td>0.053937</td>\n",
       "      <td>32</td>\n",
       "      <td>0.181818</td>\n",
       "      <td>4</td>\n",
       "      <td>0.031241</td>\n",
       "    </tr>\n",
       "    <tr>\n",
       "      <th>8</th>\n",
       "      <td>14</td>\n",
       "      <td>6</td>\n",
       "      <td>4</td>\n",
       "      <td>0.211174</td>\n",
       "      <td>20</td>\n",
       "      <td>0.500000</td>\n",
       "      <td>14</td>\n",
       "      <td>0.045863</td>\n",
       "      <td>9</td>\n",
       "      <td>0.151515</td>\n",
       "      <td>6</td>\n",
       "      <td>0.030450</td>\n",
       "    </tr>\n",
       "    <tr>\n",
       "      <th>9</th>\n",
       "      <td>9</td>\n",
       "      <td>5</td>\n",
       "      <td>32</td>\n",
       "      <td>0.191036</td>\n",
       "      <td>2</td>\n",
       "      <td>0.485294</td>\n",
       "      <td>20</td>\n",
       "      <td>0.032475</td>\n",
       "      <td>14</td>\n",
       "      <td>0.151515</td>\n",
       "      <td>7</td>\n",
       "      <td>0.030450</td>\n",
       "    </tr>\n",
       "    <tr>\n",
       "      <th>10</th>\n",
       "      <td>24</td>\n",
       "      <td>4</td>\n",
       "      <td>31</td>\n",
       "      <td>0.174760</td>\n",
       "      <td>4</td>\n",
       "      <td>0.464789</td>\n",
       "      <td>6</td>\n",
       "      <td>0.029987</td>\n",
       "      <td>24</td>\n",
       "      <td>0.151515</td>\n",
       "      <td>24</td>\n",
       "      <td>0.029780</td>\n",
       "    </tr>\n",
       "  </tbody>\n",
       "</table>\n",
       "</div>"
      ],
      "text/plain": [
       "    TR  TR_i  EC      EC_i  CNC     CNC_i  BC      BC_i  DC      DC_i  PR  \\\n",
       "1    1    18  34  0.373371    1  0.568966   1  0.437635  34  0.515152  34   \n",
       "2   34    15   1  0.355483    3  0.559322  34  0.304075   1  0.484848   1   \n",
       "3   33    13   3  0.317189   34  0.550000  33  0.145247  33  0.363636  33   \n",
       "4    2    12  33  0.308651   32  0.540984   3  0.143657   3  0.303030   2   \n",
       "5    3    11   2  0.265954    9  0.515625  32  0.138276   2  0.272727   3   \n",
       "6    4    10   9  0.227405   14  0.515625   9  0.055927   4  0.181818  32   \n",
       "7    8     6  14  0.226470   33  0.515625   2  0.053937  32  0.181818   4   \n",
       "8   14     6   4  0.211174   20  0.500000  14  0.045863   9  0.151515   6   \n",
       "9    9     5  32  0.191036    2  0.485294  20  0.032475  14  0.151515   7   \n",
       "10  24     4  31  0.174760    4  0.464789   6  0.029987  24  0.151515  24   \n",
       "\n",
       "        PR_i  \n",
       "1   0.063634  \n",
       "2   0.060638  \n",
       "3   0.049160  \n",
       "4   0.039268  \n",
       "5   0.038933  \n",
       "6   0.031880  \n",
       "7   0.031241  \n",
       "8   0.030450  \n",
       "9   0.030450  \n",
       "10  0.029780  "
      ]
     },
     "execution_count": 21,
     "metadata": {},
     "output_type": "execute_result"
    }
   ],
   "source": [
    "Top_"
   ]
  },
  {
   "cell_type": "code",
   "execution_count": null,
   "metadata": {},
   "outputs": [],
   "source": []
  }
 ],
 "metadata": {
  "kernelspec": {
   "display_name": "Python 3",
   "language": "python",
   "name": "python3"
  },
  "language_info": {
   "codemirror_mode": {
    "name": "ipython",
    "version": 3
   },
   "file_extension": ".py",
   "mimetype": "text/x-python",
   "name": "python",
   "nbconvert_exporter": "python",
   "pygments_lexer": "ipython3",
   "version": "3.7.1"
  }
 },
 "nbformat": 4,
 "nbformat_minor": 2
}
