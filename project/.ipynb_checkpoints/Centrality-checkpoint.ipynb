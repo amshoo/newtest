{
 "cells": [
  {
   "cell_type": "code",
   "execution_count": 1,
   "metadata": {},
   "outputs": [],
   "source": [
    "import networkx as nx\n",
    "import numpy as np\n",
    "import matplotlib.pyplot as plt\n",
    "import pandas as pd"
   ]
  },
  {
   "cell_type": "code",
   "execution_count": 2,
   "metadata": {},
   "outputs": [],
   "source": [
    "def graph():    \n",
    "    import graph\n",
    "    Graph = graph.H\n",
    "    return Graph\n",
    "G = graph()\n",
    "#G= nx.karate_club_graph()"
   ]
  },
  {
   "cell_type": "markdown",
   "metadata": {},
   "source": [
    "## 1-Degree Centrality\n",
    "#Ranking degree"
   ]
  },
  {
   "cell_type": "code",
   "execution_count": 3,
   "metadata": {},
   "outputs": [],
   "source": [
    "def Degree_Ranking( val ):\n",
    "      return val [1]\n",
    "degree = list(nx.degree_centrality(G).items())\n",
    "degree.sort(key=lambda elem: elem[1], reverse=True)\n",
    "degree_table = pd.DataFrame(degree, columns = ('DC','DC_i')) "
   ]
  },
  {
   "cell_type": "markdown",
   "metadata": {},
   "source": [
    "## 2-Betweeness Centrality\n",
    "#Ranking degree"
   ]
  },
  {
   "cell_type": "code",
   "execution_count": 4,
   "metadata": {},
   "outputs": [],
   "source": [
    "def Betweeness_Ranking( val ):\n",
    "      return val [1]\n",
    "Betweeness = list(nx.betweenness_centrality(G).items())\n",
    "Betweeness.sort(key=lambda elem: elem[1], reverse=True)\n",
    "Betweeness_table = pd.DataFrame(Betweeness, columns = ('BC','BC_i'))"
   ]
  },
  {
   "cell_type": "markdown",
   "metadata": {},
   "source": [
    "## 3-closeness Centrality\n",
    "#Ranking closeness"
   ]
  },
  {
   "cell_type": "code",
   "execution_count": 5,
   "metadata": {},
   "outputs": [],
   "source": [
    "def closeness_Ranking( val ):\n",
    "      return val [1]\n",
    "closeness = list(nx.closeness_centrality(G).items())\n",
    "closeness.sort(key=lambda elem: elem[1], reverse=True)\n",
    "closeness_table = pd.DataFrame(closeness, columns = ('CNC','CNC_i'))"
   ]
  },
  {
   "cell_type": "markdown",
   "metadata": {},
   "source": [
    "## 4-eigenvector Centrality\n",
    "#Ranking eigenvector"
   ]
  },
  {
   "cell_type": "code",
   "execution_count": 6,
   "metadata": {},
   "outputs": [],
   "source": [
    "def eigenvector_Ranking( val ):\n",
    "      return val [1]\n",
    "eigenvector = list(nx.eigenvector_centrality(G).items())\n",
    "eigenvector.sort(key=lambda elem: elem[1], reverse=True)\n",
    "eigenvector_table = pd.DataFrame(eigenvector, columns = ('EC','EC_i'))"
   ]
  },
  {
   "cell_type": "markdown",
   "metadata": {},
   "source": [
    "## 5-Triangles Centrality\n",
    "#Ranking triangles"
   ]
  },
  {
   "cell_type": "code",
   "execution_count": 7,
   "metadata": {},
   "outputs": [],
   "source": [
    "def triangles_Ranking( val ):\n",
    "      return val [1]\n",
    "triangles = list(nx.triangles(G, nodes=None).items())\n",
    "triangles.sort(key=lambda elem: elem[1], reverse=True)\n",
    "triangles_table = pd.DataFrame(triangles, columns = ('TR','TR_i'))"
   ]
  },
  {
   "cell_type": "markdown",
   "metadata": {},
   "source": [
    "## 6- Pagerank Ranking\n",
    "#Ranking pagerank"
   ]
  },
  {
   "cell_type": "code",
   "execution_count": 8,
   "metadata": {},
   "outputs": [],
   "source": [
    "def pagerank_Ranking( val ):\n",
    "      return val [1]\n",
    "pagerank = list(nx.pagerank(G, alpha=0.3).items())\n",
    "pagerank.sort(key=lambda elem: elem[1], reverse=True)\n",
    "pagerank_table = pd.DataFrame(pagerank, columns = ('PR','PR_i'))"
   ]
  },
  {
   "cell_type": "code",
   "execution_count": 9,
   "metadata": {},
   "outputs": [],
   "source": [
    "power_table = pd.concat([triangles_table,eigenvector_table, \n",
    "                         closeness_table,Betweeness_table, \n",
    "                         degree_table,pagerank_table], \n",
    "                                 axis=1, sort=False)\n",
    "power_table.index = power_table.index + 1\n",
    "Top_ = pd.DataFrame(power_table.loc[0:10])"
   ]
  },
  {
   "cell_type": "code",
   "execution_count": 12,
   "metadata": {},
   "outputs": [],
   "source": [
    "#Top_.to_csv('result/top_cent_blogs.csv')#save top three ranking of the Classical Centrality"
   ]
  },
  {
   "cell_type": "code",
   "execution_count": 11,
   "metadata": {},
   "outputs": [
    {
     "data": {
      "text/html": [
       "<div>\n",
       "<style scoped>\n",
       "    .dataframe tbody tr th:only-of-type {\n",
       "        vertical-align: middle;\n",
       "    }\n",
       "\n",
       "    .dataframe tbody tr th {\n",
       "        vertical-align: top;\n",
       "    }\n",
       "\n",
       "    .dataframe thead th {\n",
       "        text-align: right;\n",
       "    }\n",
       "</style>\n",
       "<table border=\"1\" class=\"dataframe\">\n",
       "  <thead>\n",
       "    <tr style=\"text-align: right;\">\n",
       "      <th></th>\n",
       "      <th>TR</th>\n",
       "      <th>TR_i</th>\n",
       "      <th>EC</th>\n",
       "      <th>EC_i</th>\n",
       "      <th>CNC</th>\n",
       "      <th>CNC_i</th>\n",
       "      <th>BC</th>\n",
       "      <th>BC_i</th>\n",
       "      <th>DC</th>\n",
       "      <th>DC_i</th>\n",
       "      <th>PR</th>\n",
       "      <th>PR_i</th>\n",
       "    </tr>\n",
       "  </thead>\n",
       "  <tbody>\n",
       "    <tr>\n",
       "      <th>1</th>\n",
       "      <td>18</td>\n",
       "      <td>137</td>\n",
       "      <td>18</td>\n",
       "      <td>0.400976</td>\n",
       "      <td>18</td>\n",
       "      <td>0.616667</td>\n",
       "      <td>18</td>\n",
       "      <td>0.244685</td>\n",
       "      <td>18</td>\n",
       "      <td>0.441441</td>\n",
       "      <td>18</td>\n",
       "      <td>0.025425</td>\n",
       "    </tr>\n",
       "    <tr>\n",
       "      <th>2</th>\n",
       "      <td>3</td>\n",
       "      <td>70</td>\n",
       "      <td>3</td>\n",
       "      <td>0.283273</td>\n",
       "      <td>3</td>\n",
       "      <td>0.546798</td>\n",
       "      <td>3</td>\n",
       "      <td>0.128673</td>\n",
       "      <td>3</td>\n",
       "      <td>0.297297</td>\n",
       "      <td>3</td>\n",
       "      <td>0.020681</td>\n",
       "    </tr>\n",
       "    <tr>\n",
       "      <th>3</th>\n",
       "      <td>52</td>\n",
       "      <td>49</td>\n",
       "      <td>52</td>\n",
       "      <td>0.242143</td>\n",
       "      <td>52</td>\n",
       "      <td>0.526066</td>\n",
       "      <td>44</td>\n",
       "      <td>0.097456</td>\n",
       "      <td>52</td>\n",
       "      <td>0.252252</td>\n",
       "      <td>44</td>\n",
       "      <td>0.016488</td>\n",
       "    </tr>\n",
       "    <tr>\n",
       "      <th>4</th>\n",
       "      <td>44</td>\n",
       "      <td>33</td>\n",
       "      <td>44</td>\n",
       "      <td>0.219903</td>\n",
       "      <td>44</td>\n",
       "      <td>0.511521</td>\n",
       "      <td>52</td>\n",
       "      <td>0.094879</td>\n",
       "      <td>44</td>\n",
       "      <td>0.252252</td>\n",
       "      <td>52</td>\n",
       "      <td>0.016033</td>\n",
       "    </tr>\n",
       "    <tr>\n",
       "      <th>5</th>\n",
       "      <td>51</td>\n",
       "      <td>31</td>\n",
       "      <td>105</td>\n",
       "      <td>0.188400</td>\n",
       "      <td>28</td>\n",
       "      <td>0.488987</td>\n",
       "      <td>10</td>\n",
       "      <td>0.070844</td>\n",
       "      <td>105</td>\n",
       "      <td>0.189189</td>\n",
       "      <td>10</td>\n",
       "      <td>0.014808</td>\n",
       "    </tr>\n",
       "    <tr>\n",
       "      <th>6</th>\n",
       "      <td>105</td>\n",
       "      <td>30</td>\n",
       "      <td>51</td>\n",
       "      <td>0.161247</td>\n",
       "      <td>105</td>\n",
       "      <td>0.488987</td>\n",
       "      <td>80</td>\n",
       "      <td>0.053127</td>\n",
       "      <td>10</td>\n",
       "      <td>0.153153</td>\n",
       "      <td>80</td>\n",
       "      <td>0.013813</td>\n",
       "    </tr>\n",
       "    <tr>\n",
       "      <th>7</th>\n",
       "      <td>55</td>\n",
       "      <td>24</td>\n",
       "      <td>25</td>\n",
       "      <td>0.149736</td>\n",
       "      <td>10</td>\n",
       "      <td>0.484716</td>\n",
       "      <td>105</td>\n",
       "      <td>0.049765</td>\n",
       "      <td>25</td>\n",
       "      <td>0.135135</td>\n",
       "      <td>105</td>\n",
       "      <td>0.013578</td>\n",
       "    </tr>\n",
       "    <tr>\n",
       "      <th>8</th>\n",
       "      <td>26</td>\n",
       "      <td>20</td>\n",
       "      <td>26</td>\n",
       "      <td>0.149104</td>\n",
       "      <td>27</td>\n",
       "      <td>0.482609</td>\n",
       "      <td>28</td>\n",
       "      <td>0.043367</td>\n",
       "      <td>28</td>\n",
       "      <td>0.135135</td>\n",
       "      <td>2</td>\n",
       "      <td>0.012422</td>\n",
       "    </tr>\n",
       "    <tr>\n",
       "      <th>9</th>\n",
       "      <td>19</td>\n",
       "      <td>17</td>\n",
       "      <td>55</td>\n",
       "      <td>0.144659</td>\n",
       "      <td>25</td>\n",
       "      <td>0.478448</td>\n",
       "      <td>2</td>\n",
       "      <td>0.036504</td>\n",
       "      <td>51</td>\n",
       "      <td>0.135135</td>\n",
       "      <td>28</td>\n",
       "      <td>0.011101</td>\n",
       "    </tr>\n",
       "    <tr>\n",
       "      <th>10</th>\n",
       "      <td>25</td>\n",
       "      <td>17</td>\n",
       "      <td>32</td>\n",
       "      <td>0.141958</td>\n",
       "      <td>26</td>\n",
       "      <td>0.476395</td>\n",
       "      <td>29</td>\n",
       "      <td>0.033892</td>\n",
       "      <td>2</td>\n",
       "      <td>0.126126</td>\n",
       "      <td>29</td>\n",
       "      <td>0.011032</td>\n",
       "    </tr>\n",
       "  </tbody>\n",
       "</table>\n",
       "</div>"
      ],
      "text/plain": [
       "     TR  TR_i   EC      EC_i  CNC     CNC_i   BC      BC_i   DC      DC_i  \\\n",
       "1    18   137   18  0.400976   18  0.616667   18  0.244685   18  0.441441   \n",
       "2     3    70    3  0.283273    3  0.546798    3  0.128673    3  0.297297   \n",
       "3    52    49   52  0.242143   52  0.526066   44  0.097456   52  0.252252   \n",
       "4    44    33   44  0.219903   44  0.511521   52  0.094879   44  0.252252   \n",
       "5    51    31  105  0.188400   28  0.488987   10  0.070844  105  0.189189   \n",
       "6   105    30   51  0.161247  105  0.488987   80  0.053127   10  0.153153   \n",
       "7    55    24   25  0.149736   10  0.484716  105  0.049765   25  0.135135   \n",
       "8    26    20   26  0.149104   27  0.482609   28  0.043367   28  0.135135   \n",
       "9    19    17   55  0.144659   25  0.478448    2  0.036504   51  0.135135   \n",
       "10   25    17   32  0.141958   26  0.476395   29  0.033892    2  0.126126   \n",
       "\n",
       "     PR      PR_i  \n",
       "1    18  0.025425  \n",
       "2     3  0.020681  \n",
       "3    44  0.016488  \n",
       "4    52  0.016033  \n",
       "5    10  0.014808  \n",
       "6    80  0.013813  \n",
       "7   105  0.013578  \n",
       "8     2  0.012422  \n",
       "9    28  0.011101  \n",
       "10   29  0.011032  "
      ]
     },
     "execution_count": 11,
     "metadata": {},
     "output_type": "execute_result"
    }
   ],
   "source": [
    "Top_"
   ]
  },
  {
   "cell_type": "code",
   "execution_count": null,
   "metadata": {},
   "outputs": [],
   "source": []
  }
 ],
 "metadata": {
  "kernelspec": {
   "display_name": "Python 3",
   "language": "python",
   "name": "python3"
  },
  "language_info": {
   "codemirror_mode": {
    "name": "ipython",
    "version": 3
   },
   "file_extension": ".py",
   "mimetype": "text/x-python",
   "name": "python",
   "nbconvert_exporter": "python",
   "pygments_lexer": "ipython3",
   "version": "3.7.1"
  }
 },
 "nbformat": 4,
 "nbformat_minor": 2
}
