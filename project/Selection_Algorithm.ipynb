{
 "cells": [
  {
   "cell_type": "code",
   "execution_count": 1,
   "metadata": {},
   "outputs": [],
   "source": [
    "import networkx as nx\n",
    "import numpy as np\n",
    "import matplotlib.pyplot as plt\n",
    "import pandas as pd\n",
    "import math"
   ]
  },
  {
   "cell_type": "code",
   "execution_count": 2,
   "metadata": {},
   "outputs": [],
   "source": [
    "#Add Network Graph\n",
    "G = nx.karate_club_graph()"
   ]
  },
  {
   "cell_type": "code",
   "execution_count": 3,
   "metadata": {},
   "outputs": [],
   "source": [
    "from itertools import combinations\n",
    "def nodes_in_triangle(G, n):\n",
    "    \"\"\"\n",
    "    Returns the nodes in a graph `G` that are involved in a triangle relationship with the node `n`.\n",
    "    \"\"\"\n",
    "    triangle_nodes = set([n])\n",
    "\n",
    "    # Iterate over all possible triangle relationship combinations\n",
    "    for n1, n2 in combinations(G.neighbors(n), 2):\n",
    "\n",
    "        # Check if n1 and n2 have an edge between them\n",
    "        if G.has_edge(n1, n2):\n",
    "\n",
    "            # Add n1 to triangle_nodes\n",
    "            triangle_nodes.add(n1)\n",
    "\n",
    "            # Add n2 to triangle_nodes\n",
    "            triangle_nodes.add(n2)\n",
    "\n",
    "    return triangle_nodes"
   ]
  },
  {
   "cell_type": "code",
   "execution_count": 4,
   "metadata": {},
   "outputs": [],
   "source": [
    "#equetion 1:selection constrain\n",
    "def selection_constrain_of(i):\n",
    "     # degree of N_i:\n",
    "        N_i = subgraph_of(i).number_of_nodes()\n",
    "        # sum(sdeg_j):\n",
    "        sum_sdeg_j = subgraph_of(i).number_of_edges()\n",
    "        # number of triangles: nodes\n",
    "        NT_i = nx.triangles(G,i)\n",
    "        if NT_i > 1:\n",
    "        #equetion 1:selection constrain        \n",
    "            TR_i = (N_i-(sum_sdeg_j/2))            \n",
    "        return  TR_i\n",
    "#Selection Algorithm\n",
    "def Selection_Algorithm():\n",
    "    # main part of AL loop\n",
    "    i=0\n",
    "    valid_set = []\n",
    "    for i in G.nodes: \n",
    "        subgraph = subgraph_of(i)\n",
    "        # degree of Ni:\n",
    "        N_i = subgraph.number_of_nodes()\n",
    "        # number of triangles: nodes\n",
    "        NT_i = nx.triangles(G,i)\n",
    "        # Extract the nodes of interest: nodes\n",
    "        nodes = [n for n, d in subgraph.nodes(data=True)]\n",
    "        # Create the set of nodes: nodeset\n",
    "        nodeset = set(nodes)\n",
    "        #equetion 1:selection constrain\n",
    "        if NT_i > 1:\n",
    "            TR_i = selection_constrain_of(i)\n",
    "            i+=1        \n",
    "            list1 = [NT_i]        \n",
    "            valid_set.append(list1)\n",
    "                \n",
    "    return  valid_set"
   ]
  },
  {
   "cell_type": "code",
   "execution_count": 5,
   "metadata": {},
   "outputs": [],
   "source": [
    "#return subgraphs\n",
    "def subgraph_of(i):\n",
    "    subgraph = G.subgraph(nodes_in_triangle(G, i))\n",
    "    return  subgraph  "
   ]
  },
  {
   "cell_type": "code",
   "execution_count": null,
   "metadata": {},
   "outputs": [],
   "source": []
  },
  {
   "cell_type": "code",
   "execution_count": null,
   "metadata": {},
   "outputs": [],
   "source": []
  }
 ],
 "metadata": {
  "kernelspec": {
   "display_name": "Python 3",
   "language": "python",
   "name": "python3"
  },
  "language_info": {
   "codemirror_mode": {
    "name": "ipython",
    "version": 3
   },
   "file_extension": ".py",
   "mimetype": "text/x-python",
   "name": "python",
   "nbconvert_exporter": "python",
   "pygments_lexer": "ipython3",
   "version": "3.6.5"
  }
 },
 "nbformat": 4,
 "nbformat_minor": 2
}
