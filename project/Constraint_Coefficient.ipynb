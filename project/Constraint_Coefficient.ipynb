{
 "cells": [
  {
   "cell_type": "code",
   "execution_count": 1,
   "metadata": {},
   "outputs": [],
   "source": [
    "#1. Import pyplot and nx\n",
    "import matplotlib.pyplot as plt\n",
    "import networkx as nx\n",
    "import operator"
   ]
  },
  {
   "cell_type": "code",
   "execution_count": 2,
   "metadata": {},
   "outputs": [],
   "source": [
    "def graph():    \n",
    "    import graph\n",
    "    Graph = graph.H\n",
    "    return Graph\n",
    "H = graph()"
   ]
  },
  {
   "cell_type": "code",
   "execution_count": 3,
   "metadata": {},
   "outputs": [],
   "source": [
    "#H.edges"
   ]
  },
  {
   "cell_type": "code",
   "execution_count": 4,
   "metadata": {},
   "outputs": [],
   "source": [
    "import Selection_Algorithm\n",
    "#import math\n",
    "def weighted_graph():\n",
    "    for i in Selection_Algorithm.sel_subgraphs():\n",
    "        for j in Selection_Algorithm.sel_subgraphs():\n",
    "            if H.has_edge(i, j) == True:\n",
    "                k_i=H.degree(i)\n",
    "                k_j=H.degree(j)    \n",
    "                p=1\n",
    "                U = (k_i-1) * (k_j-1)           \n",
    "                I_eij = p/U\n",
    "                round_up_weight = round(I_eij, 4)\n",
    "                H.add_edge(i,j, weight = round_up_weight)                \n",
    "weighted_graph()"
   ]
  },
  {
   "cell_type": "code",
   "execution_count": 5,
   "metadata": {},
   "outputs": [],
   "source": [
    "#print(H.edges(data=True))"
   ]
  },
  {
   "cell_type": "code",
   "execution_count": 6,
   "metadata": {},
   "outputs": [],
   "source": [
    "#CC = Constraint Coefficient of selected set of node\n",
    "__all__ = ['constraint', 'local_constraint', 'effective_size']\n",
    "\n",
    "def mutual_weight(H, u, v, weight=None):\n",
    "    try:\n",
    "        a_uv = H[u][v].get(weight, 1)\n",
    "    except KeyError:\n",
    "        a_uv = 0\n",
    "    try:\n",
    "        a_vu = H[v][u].get(weight, 1)\n",
    "    except KeyError:\n",
    "        a_vu = 0\n",
    "    return a_uv + a_vu"
   ]
  },
  {
   "cell_type": "code",
   "execution_count": 7,
   "metadata": {},
   "outputs": [],
   "source": [
    "def normalized_mutual_weight(H, u, v, norm=sum, weight=None):\n",
    "    scale = norm(mutual_weight(H, u, w, weight)\n",
    "                 for w in set(nx.all_neighbors(H, u)))\n",
    "    return 0 if scale == 0 else mutual_weight(H, u, v, weight) / scale\n",
    "\n",
    "def constraint(H, nodes=None, weight=None):   \n",
    "    if nodes is None:\n",
    "        nodes = H\n",
    "    constraint = {}\n",
    "    for v in Selection_Algorithm.sel_subgraphs():\n",
    "        # Constraint is not defined for isolated nodes\n",
    "        if len(H[v]) == 0:\n",
    "            constraint[v] = float('nan')\n",
    "            continue\n",
    "        constraint[v] = sum(local_constraint(H, v, n, weight)\n",
    "        for n in set(nx.all_neighbors(H, v)))        \n",
    "        \n",
    "    return constraint\n",
    "\n",
    "def local_constraint(H, u, v, weight=None):\n",
    "    nmw = normalized_mutual_weight\n",
    "    direct = nmw(H, u, v, weight=weight)\n",
    "    indirect = sum(nmw(H, u, w, weight=weight) * nmw(H, w, v, weight=weight)\n",
    "                   for w in set(nx.all_neighbors(H, u)))\n",
    "    return (direct + indirect) ** 2"
   ]
  },
  {
   "cell_type": "code",
   "execution_count": 8,
   "metadata": {},
   "outputs": [],
   "source": [
    "#constraint(H, nodes=None, weight=None)"
   ]
  },
  {
   "cell_type": "code",
   "execution_count": 9,
   "metadata": {},
   "outputs": [],
   "source": [
    "def CC_of(i):\n",
    "    CC_of_i = constraint(H, nodes=None, weight=None).get(i)\n",
    "    return CC_of_i"
   ]
  },
  {
   "cell_type": "code",
   "execution_count": 10,
   "metadata": {},
   "outputs": [],
   "source": [
    "CC_of(1)"
   ]
  }
 ],
 "metadata": {
  "kernelspec": {
   "display_name": "Python 3",
   "language": "python",
   "name": "python3"
  },
  "language_info": {
   "codemirror_mode": {
    "name": "ipython",
    "version": 3
   },
   "file_extension": ".py",
   "mimetype": "text/x-python",
   "name": "python",
   "nbconvert_exporter": "python",
   "pygments_lexer": "ipython3",
   "version": "3.7.1"
  }
 },
 "nbformat": 4,
 "nbformat_minor": 2
}
