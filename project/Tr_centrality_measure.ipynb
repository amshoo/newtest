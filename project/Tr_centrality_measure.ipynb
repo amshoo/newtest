{
 "cells": [
  {
   "cell_type": "code",
   "execution_count": null,
   "metadata": {},
   "outputs": [],
   "source": [
    "import math\n",
    "#TR_i = tr-ceyntrality i subgraph\n",
    "def TC_of(i):\n",
    "    #degree of node i\n",
    "    sdeg_i = (subgraph_of(i).number_of_nodes()-1)\n",
    "    # number of nodes in G_i:\n",
    "    N_i = subgraph_of(i).number_of_nodes()\n",
    "    # number of triangles:\n",
    "    NT_i = nx.triangles(H,i)\n",
    "    #sumof_sdeg_i\n",
    "    sum_sdeg_i = (subgraph_of(i).number_of_edges()*2)\n",
    "    #equetion 3:Tr centrality value of TC_i\n",
    "    TC_i = (math.pi*(sdeg_i-1)-(2*(N_i)-NT_i))/sum_sdeg_i    \n",
    "    return  TC_i"
   ]
  },
  {
   "cell_type": "code",
   "execution_count": null,
   "metadata": {},
   "outputs": [],
   "source": [
    "#LOOP tr-ceyntrality of the selected Set Of Subgraph\n",
    "def loop_TC():\n",
    "    # main part of AL loop\n",
    "    i=0\n",
    "    TC_list=[]\n",
    "    for i in H.nodes: \n",
    "        subgraph = subgraph_of(i)\n",
    "        # degree of Ni:\n",
    "        N_i = subgraph.number_of_nodes()\n",
    "        # number of triangles: nodes\n",
    "        NT_i = nx.triangles(H,i)\n",
    "        # Extract the nodes of interest: nodes\n",
    "        nodes = [n for n, d in subgraph.nodes(data=True)]\n",
    "        # Create the set of nodes: nodeset\n",
    "        nodeset = set(nodes)\n",
    "        #equetion 1:selection constrain\n",
    "        if NT_i > 1:\n",
    "            if TC_constrain_of(i) != 0:\n",
    "                TR_i = round(TC_of(i), 4)\n",
    "                i+=1\n",
    "                TC = (i, TR_i)       \n",
    "                TC_list.append(TC)            \n",
    "    return  TC_list"
   ]
  }
 ],
 "metadata": {
  "kernelspec": {
   "display_name": "Python 3",
   "language": "python",
   "name": "python3"
  },
  "language_info": {
   "codemirror_mode": {
    "name": "ipython",
    "version": 3
   },
   "file_extension": ".py",
   "mimetype": "text/x-python",
   "name": "python",
   "nbconvert_exporter": "python",
   "pygments_lexer": "ipython3",
   "version": "3.6.5"
  }
 },
 "nbformat": 4,
 "nbformat_minor": 2
}
