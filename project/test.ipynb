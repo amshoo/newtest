{
 "cells": [
  {
   "cell_type": "code",
   "execution_count": 1,
   "metadata": {},
   "outputs": [],
   "source": [
    "import networkx as nx\n",
    "import numpy as np\n",
    "import matplotlib.pyplot as plt\n",
    "import pandas as pd\n",
    "import math"
   ]
  },
  {
   "cell_type": "code",
   "execution_count": 2,
   "metadata": {},
   "outputs": [],
   "source": [
    "import Tr_centrality_measure"
   ]
  },
  {
   "cell_type": "code",
   "execution_count": 3,
   "metadata": {},
   "outputs": [],
   "source": [
    "TC_table = pd.DataFrame(Tr_centrality_measure.TC_Rank, columns = ('TC','TC_i'))\n",
    "TC_table.index = TC_table.index + 1\n",
    "#Top_TC_table = pd.DataFrame(TC_table.loc[0:10])"
   ]
  },
  {
   "cell_type": "code",
   "execution_count": 11,
   "metadata": {},
   "outputs": [],
   "source": [
    "#TC_table\n",
    "#TC_table.to_csv('result/ns.csv')#save top three of(TC)"
   ]
  },
  {
   "cell_type": "code",
   "execution_count": 12,
   "metadata": {},
   "outputs": [
    {
     "name": "stdout",
     "output_type": "stream",
     "text": [
      "Rank Table\n"
     ]
    }
   ],
   "source": [
    "#concatinate all the Ranking together.\n",
    "cent = pd.read_csv('result/cent_ns.csv')\n",
    "tc = pd.read_csv('result/ns.csv')\n",
    "all_in = pd.concat([cent,tc], axis=1, sort=False)\n",
    "\n",
    "Top_all_table = all_in#pd.DataFrame(all_in.loc[0:17])\n",
    "ranking_table_all_in = pd.concat([Top_all_table['TR'], Top_all_table['BC'],Top_all_table['CNC'],\n",
    "                                  Top_all_table['DC'], Top_all_table['EC'],Top_all_table['PR'],\n",
    "                                  Top_all_table['TC']], \n",
    "                                 axis=1, sort=False)\n",
    "ranking_table_all_in.index = ranking_table_all_in.index + 1\n",
    "\n",
    "print(\"Rank Table\")\n",
    "\n",
    "#ranking_table_all_in"
   ]
  },
  {
   "cell_type": "code",
   "execution_count": 9,
   "metadata": {},
   "outputs": [],
   "source": [
    "#ranking_table_all_in.to_csv('result/ns_all.csv')#save top three of(all rank)"
   ]
  },
  {
   "cell_type": "markdown",
   "metadata": {},
   "source": [
    "## Kd correlation"
   ]
  },
  {
   "cell_type": "code",
   "execution_count": 10,
   "metadata": {},
   "outputs": [],
   "source": [
    "# calculate the kendall's correlation between variables\n",
    "kd = ranking_table_all_in.corr(method ='kendall')\n",
    "#kd.to_csv('result/kdcorr_matrix_ns.csv')\n",
    "#kd"
   ]
  },
  {
   "cell_type": "code",
   "execution_count": 13,
   "metadata": {},
   "outputs": [
    {
     "data": {
      "text/html": [
       "<div>\n",
       "<style scoped>\n",
       "    .dataframe tbody tr th:only-of-type {\n",
       "        vertical-align: middle;\n",
       "    }\n",
       "\n",
       "    .dataframe tbody tr th {\n",
       "        vertical-align: top;\n",
       "    }\n",
       "\n",
       "    .dataframe thead th {\n",
       "        text-align: right;\n",
       "    }\n",
       "</style>\n",
       "<table border=\"1\" class=\"dataframe\">\n",
       "  <thead>\n",
       "    <tr style=\"text-align: right;\">\n",
       "      <th></th>\n",
       "      <th>TR</th>\n",
       "      <th>BC</th>\n",
       "      <th>CNC</th>\n",
       "      <th>DC</th>\n",
       "      <th>EC</th>\n",
       "      <th>PR</th>\n",
       "      <th>TC</th>\n",
       "    </tr>\n",
       "  </thead>\n",
       "  <tbody>\n",
       "    <tr>\n",
       "      <th>0</th>\n",
       "      <td>1.000000</td>\n",
       "      <td>0.191288</td>\n",
       "      <td>0.034465</td>\n",
       "      <td>0.359457</td>\n",
       "      <td>0.050067</td>\n",
       "      <td>0.075396</td>\n",
       "      <td>0.518700</td>\n",
       "    </tr>\n",
       "    <tr>\n",
       "      <th>1</th>\n",
       "      <td>0.191288</td>\n",
       "      <td>1.000000</td>\n",
       "      <td>0.063584</td>\n",
       "      <td>0.193409</td>\n",
       "      <td>0.071752</td>\n",
       "      <td>0.165216</td>\n",
       "      <td>0.074258</td>\n",
       "    </tr>\n",
       "    <tr>\n",
       "      <th>2</th>\n",
       "      <td>0.034465</td>\n",
       "      <td>0.063584</td>\n",
       "      <td>1.000000</td>\n",
       "      <td>0.033263</td>\n",
       "      <td>0.168954</td>\n",
       "      <td>0.014207</td>\n",
       "      <td>0.109002</td>\n",
       "    </tr>\n",
       "    <tr>\n",
       "      <th>3</th>\n",
       "      <td>0.359457</td>\n",
       "      <td>0.193409</td>\n",
       "      <td>0.033263</td>\n",
       "      <td>1.000000</td>\n",
       "      <td>-0.002224</td>\n",
       "      <td>-0.010728</td>\n",
       "      <td>0.129348</td>\n",
       "    </tr>\n",
       "    <tr>\n",
       "      <th>4</th>\n",
       "      <td>0.050067</td>\n",
       "      <td>0.071752</td>\n",
       "      <td>0.168954</td>\n",
       "      <td>-0.002224</td>\n",
       "      <td>1.000000</td>\n",
       "      <td>-0.025980</td>\n",
       "      <td>0.033668</td>\n",
       "    </tr>\n",
       "    <tr>\n",
       "      <th>5</th>\n",
       "      <td>0.075396</td>\n",
       "      <td>0.165216</td>\n",
       "      <td>0.014207</td>\n",
       "      <td>-0.010728</td>\n",
       "      <td>-0.025980</td>\n",
       "      <td>1.000000</td>\n",
       "      <td>0.121322</td>\n",
       "    </tr>\n",
       "    <tr>\n",
       "      <th>6</th>\n",
       "      <td>0.518700</td>\n",
       "      <td>0.074258</td>\n",
       "      <td>0.109002</td>\n",
       "      <td>0.129348</td>\n",
       "      <td>0.033668</td>\n",
       "      <td>0.121322</td>\n",
       "      <td>1.000000</td>\n",
       "    </tr>\n",
       "  </tbody>\n",
       "</table>\n",
       "</div>"
      ],
      "text/plain": [
       "         TR        BC       CNC        DC        EC        PR        TC\n",
       "0  1.000000  0.191288  0.034465  0.359457  0.050067  0.075396  0.518700\n",
       "1  0.191288  1.000000  0.063584  0.193409  0.071752  0.165216  0.074258\n",
       "2  0.034465  0.063584  1.000000  0.033263  0.168954  0.014207  0.109002\n",
       "3  0.359457  0.193409  0.033263  1.000000 -0.002224 -0.010728  0.129348\n",
       "4  0.050067  0.071752  0.168954 -0.002224  1.000000 -0.025980  0.033668\n",
       "5  0.075396  0.165216  0.014207 -0.010728 -0.025980  1.000000  0.121322\n",
       "6  0.518700  0.074258  0.109002  0.129348  0.033668  0.121322  1.000000"
      ]
     },
     "execution_count": 13,
     "metadata": {},
     "output_type": "execute_result"
    }
   ],
   "source": [
    "#PLOT CORRELATION\n",
    "corr1 = pd.read_csv('result/kdcorr_matrix_ns.csv')\n",
    "corr = corr1.drop(['Unnamed: 0'], axis=1)\n",
    "corr "
   ]
  },
  {
   "cell_type": "code",
   "execution_count": null,
   "metadata": {},
   "outputs": [],
   "source": []
  }
 ],
 "metadata": {
  "kernelspec": {
   "display_name": "Python 3",
   "language": "python",
   "name": "python3"
  },
  "language_info": {
   "codemirror_mode": {
    "name": "ipython",
    "version": 3
   },
   "file_extension": ".py",
   "mimetype": "text/x-python",
   "name": "python",
   "nbconvert_exporter": "python",
   "pygments_lexer": "ipython3",
   "version": "3.7.1"
  }
 },
 "nbformat": 4,
 "nbformat_minor": 2
}
