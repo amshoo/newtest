{
 "cells": [
  {
   "cell_type": "code",
   "execution_count": 1,
   "metadata": {},
   "outputs": [],
   "source": [
    "import networkx as nx\n",
    "import ndlib.models.ModelConfig as mc\n",
    "from bokeh.io import show\n",
    "import ndlib.models.epidemics.SIModel as si\n",
    "from ndlib.viz.mpl.TrendComparison import DiffusionTrendComparison\n",
    "import json\n",
    "# Network topology\n",
    "#G = nx.karate_club_graph()\n",
    "fh=open(\"email.txt\", 'rb')\n",
    "G = nx.read_weighted_edgelist(fh,nodetype=None, encoding='utf-8')\n",
    "fh.close()\n",
    "H = nx.convert_node_labels_to_integers(G, first_label=0, ordering=\"default\", label_attribute = None)"
   ]
  },
  {
   "cell_type": "code",
   "execution_count": null,
   "metadata": {},
   "outputs": [],
   "source": [
    "from ndlib.utils import multi_runs\n",
    "import warnings\n",
    "warnings.filterwarnings(\"ignore\")\n",
    "nodes = nx.density(G)\n",
    "b = nodes\n",
    "it = 150\n",
    "i=104,2\n",
    "j=332\n",
    "#--------------------------------------------------------------\n",
    "model = si.SIModel(H)\n",
    "config = mc.Configuration()\n",
    "\n",
    "\n",
    "config.add_model_parameter('beta', b)\n",
    "\n",
    "\n",
    "infected_nodes = [i]\n",
    "config.add_model_initial_configuration(\"Infected\", infected_nodes)\n",
    "model.set_initial_status(config)\n",
    "\n",
    "#iterations = model.iteration_bunch(it)\n",
    "#trends = model.build_trends(iterations)\n",
    "trends = multi_runs(model, execution_number=5, iteration_number=it, nprocesses=4)\n",
    "#--------------------------------------------------------------\n",
    "model1 = si.SIModel(H)\n",
    "config = mc.Configuration()\n",
    "\n",
    "\n",
    "config.add_model_parameter('beta', b)\n",
    "\n",
    "infected_nodes1 = [j]\n",
    "config.add_model_initial_configuration(\"Infected\", infected_nodes1)\n",
    "model1.set_initial_status(config)\n",
    "\n",
    "#iterations = model1.iteration_bunch(it)\n",
    "#trends1 = model1.build_trends(iterations)\n",
    "trends1 = multi_runs(model, execution_number=5, iteration_number=it, nprocesses=4)\n",
    "#--------------------------------------------------------------"
   ]
  },
  {
   "cell_type": "code",
   "execution_count": null,
   "metadata": {},
   "outputs": [],
   "source": [
    "b"
   ]
  },
  {
   "cell_type": "code",
   "execution_count": null,
   "metadata": {},
   "outputs": [],
   "source": [
    "from ndlib.viz.mpl.TrendComparison import DiffusionTrendComparison\n",
    "viz = DiffusionTrendComparison([model,model1], [trends,trends1], statuses=['Infected'])\n",
    "viz.plot()\n",
    "#viz.plot(\"105_333.png\",percentile=90)"
   ]
  },
  {
   "cell_type": "code",
   "execution_count": null,
   "metadata": {},
   "outputs": [],
   "source": [
    "from ndlib.viz.mpl.PrevalenceComparison import DiffusionPrevalenceComparison\n",
    "viz = DiffusionPrevalenceComparison([model, model1], [trends, trends1], statuses=['Infected'])\n",
    "viz.plot()\n",
    "#viz.plot(\"105_333p.png\",percentile=90)"
   ]
  },
  {
   "cell_type": "code",
   "execution_count": null,
   "metadata": {},
   "outputs": [],
   "source": []
  }
 ],
 "metadata": {
  "kernelspec": {
   "display_name": "Python 3",
   "language": "python",
   "name": "python3"
  },
  "language_info": {
   "codemirror_mode": {
    "name": "ipython",
    "version": 3
   },
   "file_extension": ".py",
   "mimetype": "text/x-python",
   "name": "python",
   "nbconvert_exporter": "python",
   "pygments_lexer": "ipython3",
   "version": "3.6.5"
  }
 },
 "nbformat": 4,
 "nbformat_minor": 2
}
