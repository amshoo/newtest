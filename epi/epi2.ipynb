{
 "cells": [
  {
   "cell_type": "code",
   "execution_count": null,
   "metadata": {},
   "outputs": [],
   "source": [
    "import networkx as nx\n",
    "import ndlib.models.ModelConfig as mc\n",
    "from bokeh.io import show\n",
    "import ndlib.models.epidemics.SIModel as si\n",
    "from ndlib.viz.mpl.TrendComparison import DiffusionTrendComparison\n",
    "import json\n",
    "# Network topology\n",
    "#G = nx.karate_club_graph()\n",
    "fh=open(\"Power.txt\", 'rb')\n",
    "G = nx.read_weighted_edgelist(fh,nodetype=None, encoding='utf-8')\n",
    "fh.close()\n",
    "g = nx.convert_node_labels_to_integers(G, first_label=0, ordering=\"default\", label_attribute = None)\n",
    "\n",
    "from ndlib.utils import multi_runs\n",
    "import warnings\n",
    "warnings.filterwarnings(\"ignore\")\n",
    "#--------------------------------------------------------------\n",
    "model = si.SIModel(g)\n",
    "config = mc.Configuration()\n",
    "config.add_model_parameter('beta', 0.01)\n",
    "\n",
    "infected_nodes = [2582]\n",
    "config.add_model_initial_configuration(\"Infected\", infected_nodes)\n",
    "model.set_initial_status(config)\n",
    "\n",
    "#iterations = model.iteration_bunch(100)\n",
    "#trends = model.build_trends(iterations)\n",
    "trends = multi_runs(model, execution_number=10, iteration_number=50, nprocesses=4)\n",
    "#--------------------------------------------------------------\n",
    "model1 = si.SIModel(g)\n",
    "config = mc.Configuration()\n",
    "config.add_model_parameter('beta', 0.01)\n",
    "\n",
    "infected_nodes1 = [4326]\n",
    "config.add_model_initial_configuration(\"Infected\", infected_nodes1)\n",
    "model1.set_initial_status(config)\n",
    "\n",
    "#iterations = model1.iteration_bunch(100)\n",
    "#trends1 = model1.build_trends(iterations)\n",
    "trends1 = multi_runs(model, execution_number=10, iteration_number=50, nprocesses=4)\n",
    "#--------------------------------------------------------------"
   ]
  },
  {
   "cell_type": "code",
   "execution_count": null,
   "metadata": {},
   "outputs": [],
   "source": [
    "from ndlib.viz.mpl.TrendComparison import DiffusionTrendComparison\n",
    "viz = DiffusionTrendComparison([model,model1], [trends,trends1], statuses=['Infected'])\n",
    "viz.plot()\n",
    "#viz.plot(\"32_1312.png\",percentile=90)"
   ]
  },
  {
   "cell_type": "code",
   "execution_count": null,
   "metadata": {},
   "outputs": [],
   "source": [
    "from ndlib.viz.mpl.PrevalenceComparison import DiffusionPrevalenceComparison\n",
    "viz = DiffusionPrevalenceComparison([model, model1], [trends, trends1], statuses=['Infected'])\n",
    "viz.plot(percentile=90)\n",
    "#viz.plot(\"32_1312p.png\",percentile=90)"
   ]
  },
  {
   "cell_type": "code",
   "execution_count": null,
   "metadata": {},
   "outputs": [],
   "source": []
  },
  {
   "cell_type": "code",
   "execution_count": null,
   "metadata": {},
   "outputs": [],
   "source": []
  }
 ],
 "metadata": {
  "kernelspec": {
   "display_name": "Python 3",
   "language": "python",
   "name": "python3"
  },
  "language_info": {
   "codemirror_mode": {
    "name": "ipython",
    "version": 3
   },
   "file_extension": ".py",
   "mimetype": "text/x-python",
   "name": "python",
   "nbconvert_exporter": "python",
   "pygments_lexer": "ipython3",
   "version": "3.7.1"
  }
 },
 "nbformat": 4,
 "nbformat_minor": 2
}
