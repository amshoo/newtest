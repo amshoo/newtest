{
 "cells": [
  {
   "cell_type": "code",
   "execution_count": 1,
   "metadata": {},
   "outputs": [],
   "source": [
    "import networkx as nx\n",
    "import ndlib.models.ModelConfig as mc\n",
    "from bokeh.io import show\n",
    "import ndlib.models.epidemics.SIModel as si\n",
    "from ndlib.viz.mpl.TrendComparison import DiffusionTrendComparison\n",
    "import json\n",
    "# Network topology\n",
    "#H = nx.karate_club_graph()\n",
    "fh=open(\"blogs.txt\", 'rb')\n",
    "H = nx.read_weighted_edgelist(fh,nodetype=int, encoding='utf-8')\n",
    "fh.close()"
   ]
  },
  {
   "cell_type": "code",
   "execution_count": 2,
   "metadata": {},
   "outputs": [],
   "source": [
    "from ndlib.utils import multi_runs\n",
    "import warnings\n",
    "warnings.filterwarnings(\"ignore\")\n",
    "\n",
    "b=nx.density(H)*0.5\n",
    "it=30\n",
    "i=1\n",
    "j=33"
   ]
  },
  {
   "cell_type": "code",
   "execution_count": 3,
   "metadata": {},
   "outputs": [
    {
     "data": {
      "text/plain": [
       "0.034185971685971685"
      ]
     },
     "execution_count": 3,
     "metadata": {},
     "output_type": "execute_result"
    }
   ],
   "source": [
    "b"
   ]
  },
  {
   "cell_type": "code",
   "execution_count": 4,
   "metadata": {},
   "outputs": [
    {
     "ename": "NameError",
     "evalue": "name 'G' is not defined",
     "output_type": "error",
     "traceback": [
      "\u001b[1;31m---------------------------------------------------------------------------\u001b[0m",
      "\u001b[1;31mNameError\u001b[0m                                 Traceback (most recent call last)",
      "\u001b[1;32m<ipython-input-4-36ec66291eff>\u001b[0m in \u001b[0;36m<module>\u001b[1;34m\u001b[0m\n\u001b[0;32m      1\u001b[0m \u001b[1;31m#--------------------------------------------------------------\u001b[0m\u001b[1;33m\u001b[0m\u001b[1;33m\u001b[0m\u001b[1;33m\u001b[0m\u001b[0m\n\u001b[1;32m----> 2\u001b[1;33m \u001b[0mmodel\u001b[0m \u001b[1;33m=\u001b[0m \u001b[0msi\u001b[0m\u001b[1;33m.\u001b[0m\u001b[0mSIModel\u001b[0m\u001b[1;33m(\u001b[0m\u001b[0mG\u001b[0m\u001b[1;33m)\u001b[0m\u001b[1;33m\u001b[0m\u001b[1;33m\u001b[0m\u001b[0m\n\u001b[0m\u001b[0;32m      3\u001b[0m \u001b[0mconfig\u001b[0m \u001b[1;33m=\u001b[0m \u001b[0mmc\u001b[0m\u001b[1;33m.\u001b[0m\u001b[0mConfiguration\u001b[0m\u001b[1;33m(\u001b[0m\u001b[1;33m)\u001b[0m\u001b[1;33m\u001b[0m\u001b[1;33m\u001b[0m\u001b[0m\n\u001b[0;32m      4\u001b[0m \u001b[1;33m\u001b[0m\u001b[0m\n\u001b[0;32m      5\u001b[0m \u001b[0mconfig\u001b[0m\u001b[1;33m.\u001b[0m\u001b[0madd_model_parameter\u001b[0m\u001b[1;33m(\u001b[0m\u001b[1;34m'beta'\u001b[0m\u001b[1;33m,\u001b[0m \u001b[0mb\u001b[0m\u001b[1;33m)\u001b[0m\u001b[1;33m\u001b[0m\u001b[1;33m\u001b[0m\u001b[0m\n",
      "\u001b[1;31mNameError\u001b[0m: name 'G' is not defined"
     ]
    }
   ],
   "source": [
    "#--------------------------------------------------------------\n",
    "model = si.SIModel(G)\n",
    "config = mc.Configuration()\n",
    "\n",
    "config.add_model_parameter('beta', b)\n",
    "\n",
    "infected_nodes = [1,\n",
    "34,\n",
    "33,\n",
    "2,\n",
    "3]\n",
    "config.add_model_initial_configuration(\"Infected\", infected_nodes)\n",
    "model.set_initial_status(config)\n",
    "\n",
    "#iterations = model.iteration_bunch(it)\n",
    "#trends = model.build_trends(iterations)\n",
    "trends = multi_runs(model, execution_number=10, iteration_number=it, nprocesses=4)\n",
    "#--------------------------------------------------------------\n",
    "model1 = si.SIModel(G)\n",
    "config = mc.Configuration()\n",
    "\n",
    "config.add_model_parameter('beta', b)\n",
    "\n",
    "infected_nodes1 = [34,\n",
    "1,\n",
    "33,\n",
    "2,\n",
    "3]\n",
    "config.add_model_initial_configuration(\"Infected\", infected_nodes1)\n",
    "model1.set_initial_status(config)\n",
    "\n",
    "#iterations = model1.iteration_bunch(it)\n",
    "#trends1 = model1.build_trends(iterations)\n",
    "trends1 = multi_runs(model1, execution_number=10, iteration_number=it, nprocesses=4)\n",
    "#--------------------------------------------------------------"
   ]
  },
  {
   "cell_type": "code",
   "execution_count": null,
   "metadata": {
    "scrolled": true
   },
   "outputs": [],
   "source": [
    "from ndlib.viz.mpl.TrendComparison import DiffusionTrendComparison\n",
    "viz = DiffusionTrendComparison([model], [trends1], statuses=['Infected'])\n",
    "viz.plot()\n",
    "#viz.plot(\"PR_TC_KC.png\",percentile=90)"
   ]
  },
  {
   "cell_type": "code",
   "execution_count": null,
   "metadata": {},
   "outputs": [],
   "source": [
    "from ndlib.viz.mpl.PrevalenceComparison import DiffusionPrevalenceComparison\n",
    "viz = DiffusionPrevalenceComparison([model], [trends1], statuses=['Infected'])\n",
    "viz.plot()\n",
    "#viz.plot(\"PR_TC_KCp.png\",percentile=90)"
   ]
  },
  {
   "cell_type": "code",
   "execution_count": null,
   "metadata": {},
   "outputs": [],
   "source": []
  }
 ],
 "metadata": {
  "kernelspec": {
   "display_name": "Python 3",
   "language": "python",
   "name": "python3"
  },
  "language_info": {
   "codemirror_mode": {
    "name": "ipython",
    "version": 3
   },
   "file_extension": ".py",
   "mimetype": "text/x-python",
   "name": "python",
   "nbconvert_exporter": "python",
   "pygments_lexer": "ipython3",
   "version": "3.7.1"
  }
 },
 "nbformat": 4,
 "nbformat_minor": 2
}
