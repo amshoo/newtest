{
 "cells": [
  {
   "cell_type": "code",
   "execution_count": 4,
   "metadata": {},
   "outputs": [
    {
     "ename": "AttributeError",
     "evalue": "type object 'SIModel' has no attribute 'SIModel'",
     "output_type": "error",
     "traceback": [
      "\u001b[1;31m---------------------------------------------------------------------------\u001b[0m",
      "\u001b[1;31mAttributeError\u001b[0m                            Traceback (most recent call last)",
      "\u001b[1;32m<ipython-input-4-9c1ca3ab18b4>\u001b[0m in \u001b[0;36m<module>\u001b[1;34m\u001b[0m\n\u001b[0;32m     23\u001b[0m \u001b[1;31m#--------------------------------------------------------------\u001b[0m\u001b[1;33m\u001b[0m\u001b[1;33m\u001b[0m\u001b[0m\n\u001b[0;32m     24\u001b[0m \u001b[1;31m# Model selection\u001b[0m\u001b[1;33m\u001b[0m\u001b[1;33m\u001b[0m\u001b[0m\n\u001b[1;32m---> 25\u001b[1;33m \u001b[0mmodel\u001b[0m \u001b[1;33m=\u001b[0m \u001b[0msi\u001b[0m\u001b[1;33m.\u001b[0m\u001b[0mSIModel\u001b[0m\u001b[1;33m(\u001b[0m\u001b[0mH\u001b[0m\u001b[1;33m)\u001b[0m\u001b[1;33m\u001b[0m\u001b[0m\n\u001b[0m\u001b[0;32m     26\u001b[0m \u001b[1;33m\u001b[0m\u001b[0m\n\u001b[0;32m     27\u001b[0m \u001b[1;31m# Model Configuration\u001b[0m\u001b[1;33m\u001b[0m\u001b[1;33m\u001b[0m\u001b[0m\n",
      "\u001b[1;31mAttributeError\u001b[0m: type object 'SIModel' has no attribute 'SIModel'"
     ]
    }
   ],
   "source": [
    "import networkx as nx\n",
    "import ndlib.models.ModelConfig as mc\n",
    "import ndlib.models.epidemics.SIModel as si\n",
    "from ndlib.viz.mpl.TrendComparison import DiffusionTrendComparison\n",
    "import json\n",
    "\n",
    "from ndlib.utils import multi_runs\n",
    "import warnings\n",
    "warnings.filterwarnings(\"ignore\")\n",
    "\n",
    "# Network topology\n",
    "#H = nx.karate_club_graph()\n",
    "fh=open(\"DataSet/usair.txt\", 'rb')\n",
    "H = nx.read_weighted_edgelist(fh,nodetype=int, encoding='utf-8')\n",
    "fh.close()\n",
    "#H = nx.convert_node_labels_to_integers(G, first_label=0, ordering=\"default\", label_attribute = None)\n",
    "\n",
    "b=nx.density(H)\n",
    "#b=1\n",
    "ex=10\n",
    "it=10000\n",
    "#seed nodes\n",
    "#--------------------------------------------------------------\n",
    "# Model selection\n",
    "model = si.SIModel(H)\n",
    "\n",
    "# Model Configuration\n",
    "cfg = mc.Configuration()\n",
    "\n",
    "\n",
    "cfg.add_model_parameter('beta', b)\n",
    "\n",
    "\n",
    "infected_nodes1 = [4345]\n",
    "cfg.add_model_initial_configuration(\"Infected\", infected_nodes1)\n",
    "model.set_initial_status(cfg)\n",
    "\n",
    "# Simulation execution\n",
    "iterations = model.iteration_bunch(it)\n",
    "trends1 = model.build_trends(iterations)\n",
    "#trends1 = multi_runs(model, execution_number=ex, iteration_number=it, nprocesses=4)\n",
    "\n",
    "#--------------------------------------------------------------\n",
    "# 2° Model selection\n",
    "model1 = si.SIModel(H)\n",
    "\n",
    "# 2° Model Configuration\n",
    "cfg = mc.Configuration()\n",
    "\n",
    "\n",
    "cfg.add_model_parameter('beta', b)\n",
    "\n",
    "infected_nodes2 = [4384]\n",
    "cfg.add_model_initial_configuration(\"Infected\", infected_nodes2)\n",
    "model1.set_initial_status(cfg)\n",
    "\n",
    "# 3° Simulation execution\n",
    "iterations = model1.iteration_bunch(it)\n",
    "trends2 = model1.build_trends(iterations)\n",
    "#trends2  = multi_runs(model1, execution_number=ex, iteration_number=it, nprocesses=4)\n",
    "\n",
    "#--------------------------------------------------------------\n",
    "# 3° Model selection\n",
    "model2 = si.SIModel(H)\n",
    "\n",
    "# 3° Model Configuration\n",
    "cfg = mc.Configuration()\n",
    "\n",
    "\n",
    "cfg.add_model_parameter('beta', b)\n",
    "\n",
    "infected_nodes3 = [4164]\n",
    "cfg.add_model_initial_configuration(\"Infected\", infected_nodes3)\n",
    "model2.set_initial_status(cfg)\n",
    "\n",
    "# 3° Simulation execution\n",
    "iterations = model2.iteration_bunch(it)\n",
    "trends3 = model2.build_trends(iterations)\n",
    "#trends3 = multi_runs(model2, execution_number=ex, iteration_number=it, nprocesses=4)\n",
    "#--------------------------------------------------------------"
   ]
  },
  {
   "cell_type": "code",
   "execution_count": 5,
   "metadata": {},
   "outputs": [
    {
     "data": {
      "text/plain": [
       "0.0386925344884068"
      ]
     },
     "execution_count": 5,
     "metadata": {},
     "output_type": "execute_result"
    }
   ],
   "source": [
    "b"
   ]
  },
  {
   "cell_type": "code",
   "execution_count": 6,
   "metadata": {},
   "outputs": [
    {
     "ename": "NameError",
     "evalue": "name 'model' is not defined",
     "output_type": "error",
     "traceback": [
      "\u001b[1;31m---------------------------------------------------------------------------\u001b[0m",
      "\u001b[1;31mNameError\u001b[0m                                 Traceback (most recent call last)",
      "\u001b[1;32m<ipython-input-6-b5a3cb7630d9>\u001b[0m in \u001b[0;36m<module>\u001b[1;34m\u001b[0m\n\u001b[0;32m      1\u001b[0m \u001b[1;32mfrom\u001b[0m \u001b[0mndlib\u001b[0m\u001b[1;33m.\u001b[0m\u001b[0mviz\u001b[0m\u001b[1;33m.\u001b[0m\u001b[0mmpl\u001b[0m\u001b[1;33m.\u001b[0m\u001b[0mTrendComparison\u001b[0m \u001b[1;32mimport\u001b[0m \u001b[0mDiffusionTrendComparison\u001b[0m\u001b[1;33m\u001b[0m\u001b[0m\n\u001b[1;32m----> 2\u001b[1;33m \u001b[0mviz\u001b[0m \u001b[1;33m=\u001b[0m \u001b[0mDiffusionTrendComparison\u001b[0m\u001b[1;33m(\u001b[0m\u001b[1;33m[\u001b[0m\u001b[0mmodel\u001b[0m\u001b[1;33m,\u001b[0m \u001b[0mmodel1\u001b[0m\u001b[1;33m,\u001b[0m \u001b[0mmodel2\u001b[0m\u001b[1;33m]\u001b[0m\u001b[1;33m,\u001b[0m \u001b[1;33m[\u001b[0m\u001b[0mtrends1\u001b[0m\u001b[1;33m,\u001b[0m \u001b[0mtrends2\u001b[0m\u001b[1;33m,\u001b[0m \u001b[0mtrends3\u001b[0m\u001b[1;33m]\u001b[0m\u001b[1;33m,\u001b[0m \u001b[0mstatuses\u001b[0m\u001b[1;33m=\u001b[0m\u001b[1;33m[\u001b[0m\u001b[1;34m'Infected'\u001b[0m\u001b[1;33m]\u001b[0m\u001b[1;33m)\u001b[0m\u001b[1;33m\u001b[0m\u001b[0m\n\u001b[0m\u001b[0;32m      3\u001b[0m \u001b[0mviz\u001b[0m\u001b[1;33m.\u001b[0m\u001b[0mplot\u001b[0m\u001b[1;33m(\u001b[0m\u001b[0mpercentile\u001b[0m\u001b[1;33m=\u001b[0m\u001b[1;36m90\u001b[0m\u001b[1;33m)\u001b[0m\u001b[1;33m\u001b[0m\u001b[0m\n\u001b[0;32m      4\u001b[0m \u001b[1;31m#viz.plot(\"46_15_37.png\",percentile=90)\u001b[0m\u001b[1;33m\u001b[0m\u001b[1;33m\u001b[0m\u001b[0m\n",
      "\u001b[1;31mNameError\u001b[0m: name 'model' is not defined"
     ]
    }
   ],
   "source": [
    "from ndlib.viz.mpl.TrendComparison import DiffusionTrendComparison\n",
    "viz = DiffusionTrendComparison([model, model1, model2], [trends1, trends2, trends3], statuses=['Infected'])\n",
    "viz.plot(percentile=90)\n",
    "#viz.plot(\"46_15_37.png\",percentile=90)"
   ]
  },
  {
   "cell_type": "code",
   "execution_count": null,
   "metadata": {},
   "outputs": [],
   "source": [
    "from ndlib.viz.mpl.PrevalenceComparison import DiffusionPrevalenceComparison\n",
    "viz = DiffusionPrevalenceComparison([model, model1, model2], [trends1, trends2, trends3], statuses=['Infected'])\n",
    "viz.plot(percentile=90)\n",
    "#viz.plot(\"img2.png\",percentile=90)"
   ]
  },
  {
   "cell_type": "code",
   "execution_count": null,
   "metadata": {},
   "outputs": [],
   "source": []
  }
 ],
 "metadata": {
  "kernelspec": {
   "display_name": "Python 3",
   "language": "python",
   "name": "python3"
  },
  "language_info": {
   "codemirror_mode": {
    "name": "ipython",
    "version": 3
   },
   "file_extension": ".py",
   "mimetype": "text/x-python",
   "name": "python",
   "nbconvert_exporter": "python",
   "pygments_lexer": "ipython3",
   "version": "3.6.6"
  }
 },
 "nbformat": 4,
 "nbformat_minor": 2
}
