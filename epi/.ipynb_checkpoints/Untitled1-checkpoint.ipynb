{
 "cells": [
  {
   "cell_type": "code",
   "execution_count": 19,
   "metadata": {},
   "outputs": [],
   "source": [
    "import matplotlib.pyplot as plt\n",
    "\n",
    "G= nx.karate_club_graph()\n",
    "#N = 1000000"
   ]
  },
  {
   "cell_type": "code",
   "execution_count": 23,
   "metadata": {},
   "outputs": [
    {
     "data": {
      "image/png": "[encoded data removed]",
      "text/plain": [
       "<Figure size 432x288 with 2 Axes>"
      ]
     },
     "metadata": {},
     "output_type": "display_data"
    }
   ],
   "source": [
    "\n",
    "N = G.number_of_nodes()\n",
    "S = G.number_of_nodes() - 1\n",
    "I = 33\n",
    "beta = 0.6\n",
    "\n",
    "sus = [] # infected compartment\n",
    "inf = [] # susceptible compartment\n",
    "prob = [] # probability of infection at time t\n",
    "\n",
    "def infection(S, I, N):\n",
    "    t = 0\n",
    "    while (t < 100):\n",
    "        S = S - beta * ((S * I / N))\n",
    "        I = I + beta * ((S * I) / N)\n",
    "        p = beta * (I / N)\n",
    "\n",
    "        sus.append(S)\n",
    "        inf.append(I)\n",
    "        prob.append(p)\n",
    "        t = t + 1\n",
    "\n",
    "infection(S, I, N)\n",
    "figure = plt.figure()\n",
    "figure.canvas.set_window_title('SI model')\n",
    "\n",
    "figure.add_subplot(211)\n",
    "inf_line, =plt.plot(inf, label='I(t)')\n",
    "\n",
    "sus_line, = plt.plot(sus, label='S(t)')\n",
    "plt.legend(handles=[inf_line, sus_line])\n",
    "\n",
    "plt.ticklabel_format(style='sci', axis='y', scilimits=(0,0)) # use scientific notation\n",
    "\n",
    "ax = figure.add_subplot(212)\n",
    "prob_line = plt.plot(prob, label='p(t)')\n",
    "plt.legend(handles=prob_line)\n",
    "\n",
    "type(ax)  # matplotlib.axes._subplots.AxesSubplot\n",
    "\n",
    "# manipulate\n",
    "vals = ax.get_yticks()\n",
    "ax.set_yticklabels(['{:3.2f}%'.format(x*100) for x in vals])\n",
    "\n",
    "plt.xlabel('T')\n",
    "plt.ylabel('p')\n",
    "\n",
    "plt.show()"
   ]
  },
  {
   "cell_type": "code",
   "execution_count": null,
   "metadata": {},
   "outputs": [],
   "source": []
  },
  {
   "cell_type": "code",
   "execution_count": null,
   "metadata": {},
   "outputs": [],
   "source": []
  }
 ],
 "metadata": {
  "kernelspec": {
   "display_name": "Python 3",
   "language": "python",
   "name": "python3"
  },
  "language_info": {
   "codemirror_mode": {
    "name": "ipython",
    "version": 3
   },
   "file_extension": ".py",
   "mimetype": "text/x-python",
   "name": "python",
   "nbconvert_exporter": "python",
   "pygments_lexer": "ipython3",
   "version": "3.6.5"
  }
 },
 "nbformat": 4,
 "nbformat_minor": 2
}
