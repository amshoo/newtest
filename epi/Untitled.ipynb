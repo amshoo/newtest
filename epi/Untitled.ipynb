{
 "cells": [
  {
   "cell_type": "code",
   "execution_count": 6,
   "metadata": {},
   "outputs": [
    {
     "ename": "ImportError",
     "evalue": "cannot import name 'DiffusionPrevalence'",
     "output_type": "error",
     "traceback": [
      "\u001b[1;31m---------------------------------------------------------------------------\u001b[0m",
      "\u001b[1;31mImportError\u001b[0m                               Traceback (most recent call last)",
      "\u001b[1;32m<ipython-input-6-cac6ee9dcf31>\u001b[0m in \u001b[0;36m<module>\u001b[1;34m()\u001b[0m\n\u001b[0;32m      3\u001b[0m \u001b[1;32mimport\u001b[0m \u001b[0mndlib\u001b[0m\u001b[1;33m.\u001b[0m\u001b[0mmodels\u001b[0m\u001b[1;33m.\u001b[0m\u001b[0mModelConfig\u001b[0m \u001b[1;32mas\u001b[0m \u001b[0mmc\u001b[0m\u001b[1;33m\u001b[0m\u001b[0m\n\u001b[0;32m      4\u001b[0m \u001b[1;32mimport\u001b[0m \u001b[0mndlib\u001b[0m\u001b[1;33m.\u001b[0m\u001b[0mmodels\u001b[0m\u001b[1;33m.\u001b[0m\u001b[0mepidemics\u001b[0m\u001b[1;33m.\u001b[0m\u001b[0mSIRModel\u001b[0m \u001b[1;32mas\u001b[0m \u001b[0msir\u001b[0m\u001b[1;33m\u001b[0m\u001b[0m\n\u001b[1;32m----> 5\u001b[1;33m \u001b[1;32mfrom\u001b[0m \u001b[0mndlib\u001b[0m\u001b[1;33m.\u001b[0m\u001b[0mviz\u001b[0m\u001b[1;33m.\u001b[0m\u001b[0mmpl\u001b[0m\u001b[1;33m.\u001b[0m\u001b[0mDiffusionTrend\u001b[0m \u001b[1;32mimport\u001b[0m \u001b[0mDiffusionPrevalence\u001b[0m\u001b[1;33m\u001b[0m\u001b[0m\n\u001b[0m\u001b[0;32m      6\u001b[0m \u001b[1;33m\u001b[0m\u001b[0m\n\u001b[0;32m      7\u001b[0m \u001b[0mg\u001b[0m \u001b[1;33m=\u001b[0m \u001b[0mnx\u001b[0m\u001b[1;33m.\u001b[0m\u001b[0merdos_renyi_graph\u001b[0m\u001b[1;33m(\u001b[0m\u001b[1;36m1000\u001b[0m\u001b[1;33m,\u001b[0m \u001b[1;36m0.1\u001b[0m\u001b[1;33m)\u001b[0m\u001b[1;33m\u001b[0m\u001b[0m\n",
      "\u001b[1;31mImportError\u001b[0m: cannot import name 'DiffusionPrevalence'"
     ]
    }
   ],
   "source": [
    "import networkx as nx\n",
    "from bokeh.io import show\n",
    "import ndlib.models.ModelConfig as mc\n",
    "import ndlib.models.epidemics.SIRModel as sir\n",
    "from ndlib.viz.mpl.DiffusionTrend import DiffusionPrevalence\n",
    "\n",
    "g = nx.erdos_renyi_graph(1000, 0.1)\n",
    "model = sir.SIRModel(g)\n",
    "config = mc.Configuration()\n",
    "config.add_model_parameter('beta', 0.001)\n",
    "config.add_model_parameter('gamma', 0.01)\n",
    "config.add_model_parameter(\"percentage_infected\", 0.05)\n",
    "model.set_initial_status(config)\n",
    "iterations = model.iteration_bunch(200)\n",
    "viz = DiffusionPrevalence(model, iterations)\n",
    "p = viz.plot()\n",
    "show(p)"
   ]
  },
  {
   "cell_type": "code",
   "execution_count": null,
   "metadata": {},
   "outputs": [],
   "source": []
  }
 ],
 "metadata": {
  "kernelspec": {
   "display_name": "Python 3",
   "language": "python",
   "name": "python3"
  },
  "language_info": {
   "codemirror_mode": {
    "name": "ipython",
    "version": 3
   },
   "file_extension": ".py",
   "mimetype": "text/x-python",
   "name": "python",
   "nbconvert_exporter": "python",
   "pygments_lexer": "ipython3",
   "version": "3.6.5"
  }
 },
 "nbformat": 4,
 "nbformat_minor": 2
}
