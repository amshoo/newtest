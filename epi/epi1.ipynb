{
 "cells": [
  {
   "cell_type": "code",
   "execution_count": null,
   "metadata": {},
   "outputs": [],
   "source": [
    "import networkx as nx\n",
    "import ndlib.models.ModelConfig as mc\n",
    "import ndlib.models.epidemics.SIModel as si\n",
    "from ndlib.viz.mpl.TrendComparison import DiffusionTrendComparison\n",
    "import json\n",
    "\n",
    "from ndlib.utils import multi_runs\n",
    "import warnings\n",
    "warnings.filterwarnings(\"ignore\")\n",
    "\n",
    "# Network topology\n",
    "#G = nx.karate_club_graph()\n",
    "fh=open(\"NS.txt\", 'rb')\n",
    "G = nx.read_weighted_edgelist(fh,nodetype=None, encoding='utf-8')\n",
    "fh.close()\n",
    "g = nx.convert_node_labels_to_integers(G, first_label=0, ordering=\"default\", label_attribute = None)\n",
    "\n",
    "# Model selection\n",
    "model = si.SIModel(g)\n",
    "\n",
    "# Model Configuration\n",
    "cfg = mc.Configuration()\n",
    "cfg.add_model_parameter('beta', 0.001)\n",
    "\n",
    "\n",
    "infected_nodes1 = [74]\n",
    "cfg.add_model_initial_configuration(\"Infected\", infected_nodes1)\n",
    "model.set_initial_status(cfg)\n",
    "\n",
    "# Simulation execution\n",
    "#iterations = model.iteration_bunch(100)\n",
    "#trends1 = model.build_trends(iterations)\n",
    "trends1 = multi_runs(model, execution_number=10, iteration_number=1000, nprocesses=4)\n",
    "\n",
    "\n",
    "# 2° Model selection\n",
    "model1 = si.SIModel(g)\n",
    "\n",
    "# 2° Model Configuration\n",
    "cfg = mc.Configuration()\n",
    "cfg.add_model_parameter('beta', 0.001)\n",
    "\n",
    "infected_nodes2 = [1311]\n",
    "cfg.add_model_initial_configuration(\"Infected\", infected_nodes2)\n",
    "model1.set_initial_status(cfg)\n",
    "\n",
    "# 3° Simulation execution\n",
    "#iterations = model1.iteration_bunch(100)\n",
    "#trends2 = model1.build_trends(iterations)\n",
    "trends2  = multi_runs(model, execution_number=10, iteration_number=1000, nprocesses=4)\n",
    "\n",
    "\n",
    "# 3° Model selection\n",
    "model2 = si.SIModel(g)\n",
    "\n",
    "# 3° Model Configuration\n",
    "cfg = mc.Configuration()\n",
    "cfg.add_model_parameter('beta', 0.001)\n",
    "\n",
    "infected_nodes3 = [31]\n",
    "cfg.add_model_initial_configuration(\"Infected\", infected_nodes3)\n",
    "model2.set_initial_status(cfg)\n",
    "\n",
    "# 3° Simulation execution\n",
    "#iterations = model2.iteration_bunch(100)\n",
    "#trends3 = model2.build_trends(iterations)\n",
    "trends3 = multi_runs(model, execution_number=10, iteration_number=1000, nprocesses=4)"
   ]
  },
  {
   "cell_type": "code",
   "execution_count": null,
   "metadata": {},
   "outputs": [],
   "source": [
    "from ndlib.viz.mpl.TrendComparison import DiffusionTrendComparison\n",
    "viz = DiffusionTrendComparison([model, model1, model2], [trends1, trends2, trends3], statuses=['Infected'])\n",
    "viz.plot(percentile=90)\n",
    "#viz.plot(\"32_75_1312.png\",percentile=90)"
   ]
  },
  {
   "cell_type": "code",
   "execution_count": null,
   "metadata": {},
   "outputs": [],
   "source": [
    "from ndlib.viz.mpl.PrevalenceComparison import DiffusionPrevalenceComparison\n",
    "viz = DiffusionPrevalenceComparison([model, model1, model2], [trends1, trends2, trends3], statuses=['Infected'])\n",
    "viz.plot(percentile=90)\n",
    "#viz.plot(\"32_75_1312p.png\",percentile=90)"
   ]
  },
  {
   "cell_type": "code",
   "execution_count": null,
   "metadata": {},
   "outputs": [],
   "source": [
    "#\"KCPrevalence_comparison.png\""
   ]
  }
 ],
 "metadata": {
  "kernelspec": {
   "display_name": "Python 3",
   "language": "python",
   "name": "python3"
  },
  "language_info": {
   "codemirror_mode": {
    "name": "ipython",
    "version": 3
   },
   "file_extension": ".py",
   "mimetype": "text/x-python",
   "name": "python",
   "nbconvert_exporter": "python",
   "pygments_lexer": "ipython3",
   "version": "3.7.1"
  }
 },
 "nbformat": 4,
 "nbformat_minor": 2
}
