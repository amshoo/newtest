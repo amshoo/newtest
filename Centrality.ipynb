{
 "cells": [
  {
   "cell_type": "code",
   "execution_count": 1,
   "metadata": {},
   "outputs": [],
   "source": [
    "import networkx as nx\n",
    "import numpy as np\n",
    "import matplotlib.pyplot as plt\n",
    "import pandas as pd"
   ]
  },
  {
   "cell_type": "code",
   "execution_count": 2,
   "metadata": {},
   "outputs": [],
   "source": [
    "def graph():    \n",
    "    import graph\n",
    "    Graph = graph.H\n",
    "    return Graph\n",
    "G = graph()\n",
    "#G= nx.karate_club_graph()"
   ]
  },
  {
   "cell_type": "markdown",
   "metadata": {},
   "source": [
    "# 1-Degree Centrality\n",
    "#Ranking degree"
   ]
  },
  {
   "cell_type": "code",
   "execution_count": 3,
   "metadata": {},
   "outputs": [
    {
     "name": "stdout",
     "output_type": "stream",
     "text": [
      "   nodes_dc        DC\n",
      "1        24  0.097087\n",
      "2       108  0.058252\n",
      "3        40  0.052427\n",
      "4        57  0.050485\n",
      "5       222  0.050485\n"
     ]
    }
   ],
   "source": [
    "\n",
    "def Degree_Ranking( val ):\n",
    "      return val [1]\n",
    "degree = list(nx.degree_centrality(G).items())\n",
    "degree.sort(key=lambda elem: elem[1], reverse=True)\n",
    "\n",
    "#print('PI_Ranking', degree)\n",
    "#degree\n",
    "degree_table = pd.DataFrame(degree, columns = ('nodes_dc','DC'))\n",
    "Top_Five = pd.DataFrame(degree_table.loc[0:4])\n",
    "Top_Five.index = Top_Five.index + 1\n",
    "Top_Five.nodes_dc = Top_Five.nodes_dc + 1\n",
    "print(Top_Five)\n",
    "#Top_Five.to_csv('result/Top_FiveDC_Power_network.csv')\n",
    "#degree_table.to_csv('result/DC_NS_network.csv')\n",
    "#val = Top_Five.at[2,'DC']\n",
    "#val"
   ]
  },
  {
   "cell_type": "markdown",
   "metadata": {},
   "source": [
    "# 2-Betweeness Centrality\n",
    "#Ranking degree"
   ]
  },
  {
   "cell_type": "code",
   "execution_count": 4,
   "metadata": {},
   "outputs": [
    {
     "name": "stdout",
     "output_type": "stream",
     "text": [
      "   nodes_bc        BC\n",
      "1       186  0.469374\n",
      "2       281  0.409489\n",
      "3        85  0.278202\n",
      "4        41  0.237289\n",
      "5        65  0.200295\n"
     ]
    }
   ],
   "source": [
    "def Betweeness_Ranking( val ):\n",
    "      return val [1]\n",
    "Betweeness = list(nx.betweenness_centrality(G).items())\n",
    "Betweeness.sort(key=lambda elem: elem[1], reverse=True)\n",
    "\n",
    "#print('PI_Ranking', Betweeness)\n",
    "#Betweeness\n",
    "Betweeness_table = pd.DataFrame(Betweeness, columns = ('nodes_bc','BC'))\n",
    "Top_Five = pd.DataFrame(Betweeness_table.loc[0:4])\n",
    "Top_Five.index = Top_Five.index + 1\n",
    "Top_Five.nodes_bc = Top_Five.nodes_bc + 1\n",
    "print(Top_Five)\n",
    "#Betweeness_table.to_csv('result/BC_Power_network.csv')\n",
    "#Top_Five.to_csv('result/Top_FiveBC_NS_network.csv')"
   ]
  },
  {
   "cell_type": "markdown",
   "metadata": {},
   "source": [
    "# 3-closeness Centrality\n",
    "#Ranking closeness"
   ]
  },
  {
   "cell_type": "code",
   "execution_count": 5,
   "metadata": {},
   "outputs": [
    {
     "name": "stdout",
     "output_type": "stream",
     "text": [
      "   nodes_cnc       CnC\n",
      "1        281  0.251834\n",
      "2         85  0.250608\n",
      "3         41  0.247834\n",
      "4        186  0.234304\n",
      "5        173  0.231878\n"
     ]
    }
   ],
   "source": [
    "def closeness_Ranking( val ):\n",
    "      return val [1]\n",
    "closeness = list(nx.closeness_centrality(G).items())\n",
    "closeness.sort(key=lambda elem: elem[1], reverse=True)\n",
    "\n",
    "#print('PI_Ranking', closeness)\n",
    "#closeness\n",
    "closeness_table = pd.DataFrame(closeness, columns = ('nodes_cnc','CnC'))\n",
    "Top_Five = pd.DataFrame(closeness_table.loc[0:4])\n",
    "Top_Five.index = Top_Five.index + 1\n",
    "Top_Five.nodes_cnc = Top_Five.nodes_cnc + 1\n",
    "print(Top_Five)\n",
    "#Top_Five.to_csv('result/Top_FiveCnC_Power_network.csv')\n",
    "#closeness_table.to_csv('result/CnC_NS_network.csv')"
   ]
  },
  {
   "cell_type": "markdown",
   "metadata": {},
   "source": [
    "# 4-eigenvector Centrality\n",
    "#Ranking eigenvector"
   ]
  },
  {
   "cell_type": "code",
   "execution_count": 6,
   "metadata": {},
   "outputs": [
    {
     "name": "stdout",
     "output_type": "stream",
     "text": [
      "   nodes_ec        EC\n",
      "1        24  0.388888\n",
      "2       108  0.299689\n",
      "3        57  0.251684\n",
      "4       229  0.238732\n",
      "5       192  0.198388\n"
     ]
    }
   ],
   "source": [
    "def eigenvector_Ranking( val ):\n",
    "      return val [1]\n",
    "eigenvector = list(nx.eigenvector_centrality(G).items())\n",
    "eigenvector.sort(key=lambda elem: elem[1], reverse=True)\n",
    "\n",
    "#print('PI_Ranking', eigenvector)\n",
    "#eigenvector\n",
    "eigenvector_table = pd.DataFrame(eigenvector, columns = ('nodes_ec','EC'))\n",
    "Top_Five = pd.DataFrame(eigenvector_table.loc[0:4])\n",
    "Top_Five.index = Top_Five.index + 1\n",
    "Top_Five.nodes_ec = Top_Five.nodes_ec + 1\n",
    "print(Top_Five)\n",
    "#Top_Five.to_csv('result/Top_FiveEC_NS_network.csv')\n",
    "#eigenvector_table.to_csv('result/EC_NS_network.csv')"
   ]
  },
  {
   "cell_type": "markdown",
   "metadata": {},
   "source": [
    "# 4-Triangles Centrality\n",
    "#Ranking triangles"
   ]
  },
  {
   "cell_type": "code",
   "execution_count": 7,
   "metadata": {},
   "outputs": [
    {
     "name": "stdout",
     "output_type": "stream",
     "text": [
      "   nodes_tr   TR\n",
      "1        24  152\n",
      "2       108   97\n",
      "3        57   90\n",
      "4       229   74\n",
      "5        40   69\n"
     ]
    }
   ],
   "source": [
    "def triangles_Ranking( val ):\n",
    "      return val [1]\n",
    "triangles = list(nx.triangles(G, nodes=None).items())\n",
    "triangles.sort(key=lambda elem: elem[1], reverse=True)\n",
    "\n",
    "#print('PI_Ranking', triangles)\n",
    "#triangles\n",
    "triangles_table = pd.DataFrame(triangles, columns = ('nodes_tr','TR'))\n",
    "Top_Five = pd.DataFrame(triangles_table.loc[0:4])\n",
    "Top_Five.index = Top_Five.index + 1\n",
    "Top_Five.nodes_tr = Top_Five.nodes_tr + 1\n",
    "print(Top_Five)\n",
    "#triangles_table.to_csv('result/TR_NS_network.csv')\n",
    "#Top_Five.to_csv('result/Top_FiveTR_NS_network.csv')"
   ]
  },
  {
   "cell_type": "code",
   "execution_count": 8,
   "metadata": {},
   "outputs": [
    {
     "name": "stderr",
     "output_type": "stream",
     "text": [
      "E:\\Anaconda\\lib\\site-packages\\ipykernel_launcher.py:11: UserWarning: Pandas doesn't allow columns to be created via a new attribute name - see https://pandas.pydata.org/pandas-docs/stable/indexing.html#attribute-access\n",
      "  # This is added back by InteractiveShellApp.init_path()\n"
     ]
    }
   ],
   "source": [
    "def pagerank_Ranking( val ):\n",
    "      return val [1]\n",
    "pagerank = list(nx.pagerank(G, alpha=0.3).items())\n",
    "pagerank.sort(key=lambda elem: elem[1], reverse=True)\n",
    "\n",
    "#print('pagerank_Ranking', pagerank)\n",
    "\n",
    "pagerank_table = pd.DataFrame(pagerank, columns = ('nodes_ks','KS'))\n",
    "Top_Five = pd.DataFrame(pagerank_table.loc[0:4])\n",
    "Top_Five.index = Top_Five.index + 1\n",
    "Top_Five.nodes_tr = Top_Five.nodes_ks + 1\n",
    "#print(Top_Five)\n",
    "#triangles_table.to_csv('result/TR_NS_network.csv')\n",
    "#Top_Five.to_csv('result/Top_FiveTR_NS_network.csv')\n"
   ]
  },
  {
   "cell_type": "code",
   "execution_count": 15,
   "metadata": {},
   "outputs": [],
   "source": [
    "power_table = pd.concat([triangles_table, \n",
    "                         eigenvector_table, \n",
    "                         closeness_table, \n",
    "                         Betweeness_table, \n",
    "                         degree_table], \n",
    "                                 axis=1, sort=False)\n",
    "\n",
    "#power_table.to_csv('result/cent_bio_network.csv')\n"
   ]
  },
  {
   "cell_type": "code",
   "execution_count": 13,
   "metadata": {},
   "outputs": [],
   "source": [
    "# Importing required libraries\n",
    "import researchpy as rp\n",
    "from scipy import stats\n",
    "#The casewise method returns all information in 3 dataframes\n",
    "#corr_type, corr_matrix, corr_ps=>\n",
    "corr_type, corr_matrix, corr_ps = rp.corr_case(power_table[['nodes_tr', 'nodes_bc', 'nodes_cnc', 'nodes_dc', 'nodes_ec']])\n",
    "#PAIRWISEcorrelation\n",
    "corr_pair = rp.corr_pair(power_table[['nodes_tr', 'nodes_bc', 'nodes_cnc', 'nodes_dc', 'nodes_ec']])"
   ]
  },
  {
   "cell_type": "code",
   "execution_count": 14,
   "metadata": {},
   "outputs": [
    {
     "data": {
      "text/html": [
       "<div>\n",
       "<style scoped>\n",
       "    .dataframe tbody tr th:only-of-type {\n",
       "        vertical-align: middle;\n",
       "    }\n",
       "\n",
       "    .dataframe tbody tr th {\n",
       "        vertical-align: top;\n",
       "    }\n",
       "\n",
       "    .dataframe thead th {\n",
       "        text-align: right;\n",
       "    }\n",
       "</style>\n",
       "<table border=\"1\" class=\"dataframe\">\n",
       "  <thead>\n",
       "    <tr style=\"text-align: right;\">\n",
       "      <th></th>\n",
       "      <th>nodes_tr</th>\n",
       "      <th>nodes_bc</th>\n",
       "      <th>nodes_cnc</th>\n",
       "      <th>nodes_dc</th>\n",
       "      <th>nodes_ec</th>\n",
       "    </tr>\n",
       "  </thead>\n",
       "  <tbody>\n",
       "    <tr>\n",
       "      <th>nodes_tr</th>\n",
       "      <td>1</td>\n",
       "      <td>0.4181</td>\n",
       "      <td>0.0824</td>\n",
       "      <td>0.379</td>\n",
       "      <td>0.0099</td>\n",
       "    </tr>\n",
       "    <tr>\n",
       "      <th>nodes_bc</th>\n",
       "      <td>0.4181</td>\n",
       "      <td>1</td>\n",
       "      <td>-0.009</td>\n",
       "      <td>0.4568</td>\n",
       "      <td>0.1065</td>\n",
       "    </tr>\n",
       "    <tr>\n",
       "      <th>nodes_cnc</th>\n",
       "      <td>0.0824</td>\n",
       "      <td>-0.009</td>\n",
       "      <td>1</td>\n",
       "      <td>0.0408</td>\n",
       "      <td>-0.0113</td>\n",
       "    </tr>\n",
       "    <tr>\n",
       "      <th>nodes_dc</th>\n",
       "      <td>0.379</td>\n",
       "      <td>0.4568</td>\n",
       "      <td>0.0408</td>\n",
       "      <td>1</td>\n",
       "      <td>0.0405</td>\n",
       "    </tr>\n",
       "    <tr>\n",
       "      <th>nodes_ec</th>\n",
       "      <td>0.0099</td>\n",
       "      <td>0.1065</td>\n",
       "      <td>-0.0113</td>\n",
       "      <td>0.0405</td>\n",
       "      <td>1</td>\n",
       "    </tr>\n",
       "  </tbody>\n",
       "</table>\n",
       "</div>"
      ],
      "text/plain": [
       "          nodes_tr nodes_bc nodes_cnc nodes_dc nodes_ec\n",
       "nodes_tr         1   0.4181    0.0824    0.379   0.0099\n",
       "nodes_bc    0.4181        1    -0.009   0.4568   0.1065\n",
       "nodes_cnc   0.0824   -0.009         1   0.0408  -0.0113\n",
       "nodes_dc     0.379   0.4568    0.0408        1   0.0405\n",
       "nodes_ec    0.0099   0.1065   -0.0113   0.0405        1"
      ]
     },
     "execution_count": 14,
     "metadata": {},
     "output_type": "execute_result"
    }
   ],
   "source": [
    "corr_matrix"
   ]
  },
  {
   "cell_type": "code",
   "execution_count": null,
   "metadata": {},
   "outputs": [],
   "source": []
  }
 ],
 "metadata": {
  "kernelspec": {
   "display_name": "Python 3",
   "language": "python",
   "name": "python3"
  },
  "language_info": {
   "codemirror_mode": {
    "name": "ipython",
    "version": 3
   },
   "file_extension": ".py",
   "mimetype": "text/x-python",
   "name": "python",
   "nbconvert_exporter": "python",
   "pygments_lexer": "ipython3",
   "version": "3.7.1"
  }
 },
 "nbformat": 4,
 "nbformat_minor": 2
}
