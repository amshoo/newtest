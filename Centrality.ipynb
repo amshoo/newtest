{
 "cells": [
  {
   "cell_type": "code",
   "execution_count": 1,
   "metadata": {},
   "outputs": [],
   "source": [
    "import networkx as nx\n",
    "import numpy as np\n",
    "import matplotlib.pyplot as plt\n",
    "import pandas as pd"
   ]
  },
  {
   "cell_type": "code",
   "execution_count": 2,
   "metadata": {},
   "outputs": [],
   "source": [
    "def graph():    \n",
    "    import graph\n",
    "    Graph = graph.H\n",
    "    return Graph\n",
    "G = graph()\n",
    "#G= nx.karate_club_graph()"
   ]
  },
  {
   "cell_type": "markdown",
   "metadata": {},
   "source": [
    "## 1-Degree Centrality\n",
    "#Ranking degree"
   ]
  },
  {
   "cell_type": "code",
   "execution_count": 3,
   "metadata": {},
   "outputs": [],
   "source": [
    "def Degree_Ranking( val ):\n",
    "      return val [1]\n",
    "degree = list(nx.degree_centrality(G).items())\n",
    "degree.sort(key=lambda elem: elem[1], reverse=True)\n",
    "degree_table = pd.DataFrame(degree, columns = ('DC','DC_i')) "
   ]
  },
  {
   "cell_type": "markdown",
   "metadata": {},
   "source": [
    "## 2-Betweeness Centrality\n",
    "#Ranking degree"
   ]
  },
  {
   "cell_type": "code",
   "execution_count": 4,
   "metadata": {},
   "outputs": [],
   "source": [
    "def Betweeness_Ranking( val ):\n",
    "      return val [1]\n",
    "Betweeness = list(nx.betweenness_centrality(G).items())\n",
    "Betweeness.sort(key=lambda elem: elem[1], reverse=True)\n",
    "Betweeness_table = pd.DataFrame(Betweeness, columns = ('BC','BC_i'))"
   ]
  },
  {
   "cell_type": "markdown",
   "metadata": {},
   "source": [
    "## 3-closeness Centrality\n",
    "#Ranking closeness"
   ]
  },
  {
   "cell_type": "code",
   "execution_count": 5,
   "metadata": {},
   "outputs": [],
   "source": [
    "def closeness_Ranking( val ):\n",
    "      return val [1]\n",
    "closeness = list(nx.closeness_centrality(G).items())\n",
    "closeness.sort(key=lambda elem: elem[1], reverse=True)\n",
    "closeness_table = pd.DataFrame(closeness, columns = ('CNC','CNC_i'))"
   ]
  },
  {
   "cell_type": "markdown",
   "metadata": {},
   "source": [
    "## 4-eigenvector Centrality\n",
    "#Ranking eigenvector"
   ]
  },
  {
   "cell_type": "code",
   "execution_count": 6,
   "metadata": {},
   "outputs": [],
   "source": [
    "def eigenvector_Ranking( val ):\n",
    "      return val [1]\n",
    "eigenvector = list(nx.eigenvector_centrality(G).items())\n",
    "eigenvector.sort(key=lambda elem: elem[1], reverse=True)\n",
    "eigenvector_table = pd.DataFrame(eigenvector, columns = ('EC','EC_i'))"
   ]
  },
  {
   "cell_type": "markdown",
   "metadata": {},
   "source": [
    "## 5-Triangles Centrality\n",
    "#Ranking triangles"
   ]
  },
  {
   "cell_type": "code",
   "execution_count": 7,
   "metadata": {},
   "outputs": [],
   "source": [
    "def triangles_Ranking( val ):\n",
    "      return val [1]\n",
    "triangles = list(nx.triangles(G, nodes=None).items())\n",
    "triangles.sort(key=lambda elem: elem[1], reverse=True)\n",
    "triangles_table = pd.DataFrame(triangles, columns = ('TR','TR_i'))"
   ]
  },
  {
   "cell_type": "markdown",
   "metadata": {},
   "source": [
    "## 6- Pagerank Ranking\n",
    "#Ranking pagerank"
   ]
  },
  {
   "cell_type": "code",
   "execution_count": 8,
   "metadata": {},
   "outputs": [],
   "source": [
    "def pagerank_Ranking( val ):\n",
    "      return val [1]\n",
    "pagerank = list(nx.pagerank(G, alpha=0.3).items())\n",
    "pagerank.sort(key=lambda elem: elem[1], reverse=True)\n",
    "pagerank_table = pd.DataFrame(pagerank, columns = ('PR','PR_i'))"
   ]
  },
  {
   "cell_type": "code",
   "execution_count": 9,
   "metadata": {},
   "outputs": [],
   "source": [
    "power_table = pd.concat([triangles_table,eigenvector_table, \n",
    "                         closeness_table,Betweeness_table, \n",
    "                         degree_table,pagerank_table], \n",
    "                                 axis=1, sort=False)\n",
    "power_table.index = power_table.index + 1\n",
    "Top_ = pd.DataFrame(power_table.loc[0:10])"
   ]
  },
  {
   "cell_type": "code",
   "execution_count": 12,
   "metadata": {},
   "outputs": [],
   "source": [
    "#power_table.to_csv('result/power/cent/cent_power_network.csv')#save Classical Centrality rankings\n",
    "#Top_.to_csv('result/power/cent/Top_cent_power.csv')#save top three ranking of the Classical Centrality"
   ]
  },
  {
   "cell_type": "code",
   "execution_count": 11,
   "metadata": {},
   "outputs": [
    {
     "data": {
      "text/html": [
       "<div>\n",
       "<style scoped>\n",
       "    .dataframe tbody tr th:only-of-type {\n",
       "        vertical-align: middle;\n",
       "    }\n",
       "\n",
       "    .dataframe tbody tr th {\n",
       "        vertical-align: top;\n",
       "    }\n",
       "\n",
       "    .dataframe thead th {\n",
       "        text-align: right;\n",
       "    }\n",
       "</style>\n",
       "<table border=\"1\" class=\"dataframe\">\n",
       "  <thead>\n",
       "    <tr style=\"text-align: right;\">\n",
       "      <th></th>\n",
       "      <th>TR</th>\n",
       "      <th>TR_i</th>\n",
       "      <th>EC</th>\n",
       "      <th>EC_i</th>\n",
       "      <th>CNC</th>\n",
       "      <th>CNC_i</th>\n",
       "      <th>BC</th>\n",
       "      <th>BC_i</th>\n",
       "      <th>DC</th>\n",
       "      <th>DC_i</th>\n",
       "      <th>PR</th>\n",
       "      <th>PR_i</th>\n",
       "    </tr>\n",
       "  </thead>\n",
       "  <tbody>\n",
       "    <tr>\n",
       "      <th>1</th>\n",
       "      <td>4384</td>\n",
       "      <td>21</td>\n",
       "      <td>4381</td>\n",
       "      <td>0.286534</td>\n",
       "      <td>1308</td>\n",
       "      <td>0.081823</td>\n",
       "      <td>4164</td>\n",
       "      <td>0.288416</td>\n",
       "      <td>2553</td>\n",
       "      <td>0.003846</td>\n",
       "      <td>831</td>\n",
       "      <td>0.000660</td>\n",
       "    </tr>\n",
       "    <tr>\n",
       "      <th>2</th>\n",
       "      <td>4345</td>\n",
       "      <td>20</td>\n",
       "      <td>4345</td>\n",
       "      <td>0.274515</td>\n",
       "      <td>2594</td>\n",
       "      <td>0.080944</td>\n",
       "      <td>2543</td>\n",
       "      <td>0.281698</td>\n",
       "      <td>4458</td>\n",
       "      <td>0.003644</td>\n",
       "      <td>4458</td>\n",
       "      <td>0.000630</td>\n",
       "    </tr>\n",
       "    <tr>\n",
       "      <th>3</th>\n",
       "      <td>4352</td>\n",
       "      <td>19</td>\n",
       "      <td>4336</td>\n",
       "      <td>0.248221</td>\n",
       "      <td>2605</td>\n",
       "      <td>0.080358</td>\n",
       "      <td>1243</td>\n",
       "      <td>0.279695</td>\n",
       "      <td>831</td>\n",
       "      <td>0.002834</td>\n",
       "      <td>3468</td>\n",
       "      <td>0.000580</td>\n",
       "    </tr>\n",
       "    <tr>\n",
       "      <th>4</th>\n",
       "      <td>4381</td>\n",
       "      <td>18</td>\n",
       "      <td>4332</td>\n",
       "      <td>0.242905</td>\n",
       "      <td>1131</td>\n",
       "      <td>0.079872</td>\n",
       "      <td>4219</td>\n",
       "      <td>0.277650</td>\n",
       "      <td>3468</td>\n",
       "      <td>0.002834</td>\n",
       "      <td>2553</td>\n",
       "      <td>0.000523</td>\n",
       "    </tr>\n",
       "    <tr>\n",
       "      <th>5</th>\n",
       "      <td>4373</td>\n",
       "      <td>15</td>\n",
       "      <td>4352</td>\n",
       "      <td>0.236272</td>\n",
       "      <td>2606</td>\n",
       "      <td>0.079626</td>\n",
       "      <td>2528</td>\n",
       "      <td>0.267304</td>\n",
       "      <td>4345</td>\n",
       "      <td>0.002834</td>\n",
       "      <td>1224</td>\n",
       "      <td>0.000513</td>\n",
       "    </tr>\n",
       "    <tr>\n",
       "      <th>6</th>\n",
       "      <td>4395</td>\n",
       "      <td>15</td>\n",
       "      <td>4384</td>\n",
       "      <td>0.221308</td>\n",
       "      <td>1243</td>\n",
       "      <td>0.079327</td>\n",
       "      <td>1267</td>\n",
       "      <td>0.248271</td>\n",
       "      <td>2382</td>\n",
       "      <td>0.002632</td>\n",
       "      <td>597</td>\n",
       "      <td>0.000509</td>\n",
       "    </tr>\n",
       "    <tr>\n",
       "      <th>7</th>\n",
       "      <td>4332</td>\n",
       "      <td>14</td>\n",
       "      <td>4402</td>\n",
       "      <td>0.214757</td>\n",
       "      <td>1476</td>\n",
       "      <td>0.079186</td>\n",
       "      <td>1308</td>\n",
       "      <td>0.236517</td>\n",
       "      <td>2542</td>\n",
       "      <td>0.002632</td>\n",
       "      <td>2575</td>\n",
       "      <td>0.000492</td>\n",
       "    </tr>\n",
       "    <tr>\n",
       "      <th>8</th>\n",
       "      <td>4336</td>\n",
       "      <td>14</td>\n",
       "      <td>4347</td>\n",
       "      <td>0.214112</td>\n",
       "      <td>2557</td>\n",
       "      <td>0.079115</td>\n",
       "      <td>1244</td>\n",
       "      <td>0.205233</td>\n",
       "      <td>2575</td>\n",
       "      <td>0.002632</td>\n",
       "      <td>2439</td>\n",
       "      <td>0.000487</td>\n",
       "    </tr>\n",
       "    <tr>\n",
       "      <th>9</th>\n",
       "      <td>4347</td>\n",
       "      <td>14</td>\n",
       "      <td>4395</td>\n",
       "      <td>0.197830</td>\n",
       "      <td>2528</td>\n",
       "      <td>0.078773</td>\n",
       "      <td>426</td>\n",
       "      <td>0.204954</td>\n",
       "      <td>2585</td>\n",
       "      <td>0.002632</td>\n",
       "      <td>2382</td>\n",
       "      <td>0.000473</td>\n",
       "    </tr>\n",
       "    <tr>\n",
       "      <th>10</th>\n",
       "      <td>4361</td>\n",
       "      <td>13</td>\n",
       "      <td>4373</td>\n",
       "      <td>0.194789</td>\n",
       "      <td>2532</td>\n",
       "      <td>0.078031</td>\n",
       "      <td>2606</td>\n",
       "      <td>0.203116</td>\n",
       "      <td>3895</td>\n",
       "      <td>0.002632</td>\n",
       "      <td>2647</td>\n",
       "      <td>0.000463</td>\n",
       "    </tr>\n",
       "  </tbody>\n",
       "</table>\n",
       "</div>"
      ],
      "text/plain": [
       "      TR  TR_i    EC      EC_i   CNC     CNC_i    BC      BC_i    DC  \\\n",
       "1   4384    21  4381  0.286534  1308  0.081823  4164  0.288416  2553   \n",
       "2   4345    20  4345  0.274515  2594  0.080944  2543  0.281698  4458   \n",
       "3   4352    19  4336  0.248221  2605  0.080358  1243  0.279695   831   \n",
       "4   4381    18  4332  0.242905  1131  0.079872  4219  0.277650  3468   \n",
       "5   4373    15  4352  0.236272  2606  0.079626  2528  0.267304  4345   \n",
       "6   4395    15  4384  0.221308  1243  0.079327  1267  0.248271  2382   \n",
       "7   4332    14  4402  0.214757  1476  0.079186  1308  0.236517  2542   \n",
       "8   4336    14  4347  0.214112  2557  0.079115  1244  0.205233  2575   \n",
       "9   4347    14  4395  0.197830  2528  0.078773   426  0.204954  2585   \n",
       "10  4361    13  4373  0.194789  2532  0.078031  2606  0.203116  3895   \n",
       "\n",
       "        DC_i    PR      PR_i  \n",
       "1   0.003846   831  0.000660  \n",
       "2   0.003644  4458  0.000630  \n",
       "3   0.002834  3468  0.000580  \n",
       "4   0.002834  2553  0.000523  \n",
       "5   0.002834  1224  0.000513  \n",
       "6   0.002632   597  0.000509  \n",
       "7   0.002632  2575  0.000492  \n",
       "8   0.002632  2439  0.000487  \n",
       "9   0.002632  2382  0.000473  \n",
       "10  0.002632  2647  0.000463  "
      ]
     },
     "execution_count": 11,
     "metadata": {},
     "output_type": "execute_result"
    }
   ],
   "source": [
    "Top_ "
   ]
  },
  {
   "cell_type": "code",
   "execution_count": null,
   "metadata": {},
   "outputs": [],
   "source": []
  }
 ],
 "metadata": {
  "kernelspec": {
   "display_name": "Python 3",
   "language": "python",
   "name": "python3"
  },
  "language_info": {
   "codemirror_mode": {
    "name": "ipython",
    "version": 3
   },
   "file_extension": ".py",
   "mimetype": "text/x-python",
   "name": "python",
   "nbconvert_exporter": "python",
   "pygments_lexer": "ipython3",
   "version": "3.7.1"
  }
 },
 "nbformat": 4,
 "nbformat_minor": 2
}
