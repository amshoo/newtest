{
 "cells": [
  {
   "cell_type": "code",
   "execution_count": 1,
   "metadata": {},
   "outputs": [],
   "source": [
    "import networkx as nx\n",
    "import numpy as np\n",
    "import matplotlib.pyplot as plt\n",
    "import pandas as pd"
   ]
  },
  {
   "cell_type": "code",
   "execution_count": 2,
   "metadata": {},
   "outputs": [],
   "source": [
    "def graph():    \n",
    "    import graph\n",
    "    Graph = graph.H\n",
    "    return Graph\n",
    "G = graph()\n",
    "#G= nx.karate_club_graph()"
   ]
  },
  {
   "cell_type": "markdown",
   "metadata": {},
   "source": [
    "# 1-Degree Centrality\n",
    "#Ranking degree"
   ]
  },
  {
   "cell_type": "code",
   "execution_count": 3,
   "metadata": {},
   "outputs": [
    {
     "name": "stdout",
     "output_type": "stream",
     "text": [
      "   nodes_dc        DC\n",
      "1        24  0.097087\n",
      "2       108  0.058252\n",
      "3        40  0.052427\n",
      "4        57  0.050485\n",
      "5       222  0.050485\n"
     ]
    }
   ],
   "source": [
    "\n",
    "def Degree_Ranking( val ):\n",
    "      return val [1]\n",
    "degree = list(nx.degree_centrality(G).items())\n",
    "degree.sort(key=lambda elem: elem[1], reverse=True)\n",
    "\n",
    "#print('PI_Ranking', degree)\n",
    "#degree\n",
    "degree_table = pd.DataFrame(degree, columns = ('nodes_dc','DC'))\n",
    "Top_Five = pd.DataFrame(degree_table.loc[0:4])\n",
    "Top_Five.index = Top_Five.index + 1\n",
    "Top_Five.nodes_dc = Top_Five.nodes_dc + 1\n",
    "print(Top_Five)\n",
    "#Top_Five.to_csv('result/Top_FiveDC_Power_network.csv')\n",
    "#degree_table.to_csv('result/DC_NS_network.csv')\n",
    "#val = Top_Five.at[2,'DC']\n",
    "#val"
   ]
  },
  {
   "cell_type": "markdown",
   "metadata": {},
   "source": [
    "# 2-Betweeness Centrality\n",
    "#Ranking degree"
   ]
  },
  {
   "cell_type": "code",
   "execution_count": 4,
   "metadata": {},
   "outputs": [
    {
     "name": "stdout",
     "output_type": "stream",
     "text": [
      "   nodes_bc        BC\n",
      "1       186  0.469374\n",
      "2       281  0.409489\n",
      "3        85  0.278202\n",
      "4        41  0.237289\n",
      "5        65  0.200295\n"
     ]
    }
   ],
   "source": [
    "def Betweeness_Ranking( val ):\n",
    "      return val [1]\n",
    "Betweeness = list(nx.betweenness_centrality(G).items())\n",
    "Betweeness.sort(key=lambda elem: elem[1], reverse=True)\n",
    "\n",
    "#print('PI_Ranking', Betweeness)\n",
    "#Betweeness\n",
    "Betweeness_table = pd.DataFrame(Betweeness, columns = ('nodes_bc','BC'))\n",
    "Top_Five = pd.DataFrame(Betweeness_table.loc[0:4])\n",
    "Top_Five.index = Top_Five.index + 1\n",
    "Top_Five.nodes_bc = Top_Five.nodes_bc + 1\n",
    "print(Top_Five)\n",
    "#Betweeness_table.to_csv('result/BC_Power_network.csv')\n",
    "#Top_Five.to_csv('result/Top_FiveBC_NS_network.csv')"
   ]
  },
  {
   "cell_type": "markdown",
   "metadata": {},
   "source": [
    "# 3-closeness Centrality\n",
    "#Ranking closeness"
   ]
  },
  {
   "cell_type": "code",
   "execution_count": 5,
   "metadata": {},
   "outputs": [
    {
     "name": "stdout",
     "output_type": "stream",
     "text": [
      "   nodes_cnc       CnC\n",
      "1        281  0.251834\n",
      "2         85  0.250608\n",
      "3         41  0.247834\n",
      "4        186  0.234304\n",
      "5        173  0.231878\n"
     ]
    }
   ],
   "source": [
    "def closeness_Ranking( val ):\n",
    "      return val [1]\n",
    "closeness = list(nx.closeness_centrality(G).items())\n",
    "closeness.sort(key=lambda elem: elem[1], reverse=True)\n",
    "\n",
    "#print('PI_Ranking', closeness)\n",
    "#closeness\n",
    "closeness_table = pd.DataFrame(closeness, columns = ('nodes_cnc','CnC'))\n",
    "Top_Five = pd.DataFrame(closeness_table.loc[0:4])\n",
    "Top_Five.index = Top_Five.index + 1\n",
    "Top_Five.nodes_cnc = Top_Five.nodes_cnc + 1\n",
    "print(Top_Five)\n",
    "#Top_Five.to_csv('result/Top_FiveCnC_Power_network.csv')\n",
    "#closeness_table.to_csv('result/CnC_NS_network.csv')"
   ]
  },
  {
   "cell_type": "markdown",
   "metadata": {},
   "source": [
    "# 4-eigenvector Centrality\n",
    "#Ranking eigenvector"
   ]
  },
  {
   "cell_type": "code",
   "execution_count": 6,
   "metadata": {},
   "outputs": [
    {
     "name": "stdout",
     "output_type": "stream",
     "text": [
      "   nodes_ec        EC\n",
      "1        24  0.388888\n",
      "2       108  0.299689\n",
      "3        57  0.251684\n",
      "4       229  0.238732\n",
      "5       192  0.198388\n"
     ]
    }
   ],
   "source": [
    "def eigenvector_Ranking( val ):\n",
    "      return val [1]\n",
    "eigenvector = list(nx.eigenvector_centrality(G).items())\n",
    "eigenvector.sort(key=lambda elem: elem[1], reverse=True)\n",
    "\n",
    "#print('PI_Ranking', eigenvector)\n",
    "#eigenvector\n",
    "eigenvector_table = pd.DataFrame(eigenvector, columns = ('nodes_ec','EC'))\n",
    "Top_Five = pd.DataFrame(eigenvector_table.loc[0:4])\n",
    "Top_Five.index = Top_Five.index + 1\n",
    "Top_Five.nodes_ec = Top_Five.nodes_ec + 1\n",
    "print(Top_Five)\n",
    "#Top_Five.to_csv('result/Top_FiveEC_NS_network.csv')\n",
    "#eigenvector_table.to_csv('result/EC_NS_network.csv')"
   ]
  },
  {
   "cell_type": "markdown",
   "metadata": {},
   "source": [
    "# 4-Triangles Centrality\n",
    "#Ranking triangles"
   ]
  },
  {
   "cell_type": "code",
   "execution_count": 7,
   "metadata": {},
   "outputs": [
    {
     "name": "stdout",
     "output_type": "stream",
     "text": [
      "   nodes_tr   TR\n",
      "1        24  152\n",
      "2       108   97\n",
      "3        57   90\n",
      "4       229   74\n",
      "5        40   69\n"
     ]
    }
   ],
   "source": [
    "def triangles_Ranking( val ):\n",
    "      return val [1]\n",
    "triangles = list(nx.triangles(G, nodes=None).items())\n",
    "triangles.sort(key=lambda elem: elem[1], reverse=True)\n",
    "\n",
    "#print('PI_Ranking', triangles)\n",
    "#triangles\n",
    "triangles_table = pd.DataFrame(triangles, columns = ('nodes_tr','TR'))\n",
    "Top_Five = pd.DataFrame(triangles_table.loc[0:4])\n",
    "Top_Five.index = Top_Five.index + 1\n",
    "Top_Five.nodes_tr = Top_Five.nodes_tr + 1\n",
    "print(Top_Five)\n",
    "triangles_table.to_csv('result/TR_NS_network.csv')\n",
    "#Top_Five.to_csv('result/Top_FiveTR_NS_network.csv')"
   ]
  },
  {
   "cell_type": "code",
   "execution_count": 8,
   "metadata": {},
   "outputs": [],
   "source": [
    "power_table = pd.concat([triangles_table, \n",
    "                         eigenvector_table, \n",
    "                         closeness_table, \n",
    "                         Betweeness_table, \n",
    "                         degree_table], \n",
    "                                 axis=1, sort=False)\n",
    "\n",
    "#power_table.to_csv('result/cent_bio-celegans_network.csv')\n"
   ]
  }
 ],
 "metadata": {
  "kernelspec": {
   "display_name": "Python 3",
   "language": "python",
   "name": "python3"
  },
  "language_info": {
   "codemirror_mode": {
    "name": "ipython",
    "version": 3
   },
   "file_extension": ".py",
   "mimetype": "text/x-python",
   "name": "python",
   "nbconvert_exporter": "python",
   "pygments_lexer": "ipython3",
   "version": "3.6.5"
  }
 },
 "nbformat": 4,
 "nbformat_minor": 2
}
