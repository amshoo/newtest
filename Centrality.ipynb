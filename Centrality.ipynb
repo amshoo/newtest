{
 "cells": [
  {
   "cell_type": "code",
   "execution_count": 1,
   "metadata": {},
   "outputs": [],
   "source": [
    "import networkx as nx\n",
    "import numpy as np\n",
    "import matplotlib.pyplot as plt\n",
    "import pandas as pd"
   ]
  },
  {
   "cell_type": "code",
   "execution_count": 2,
   "metadata": {},
   "outputs": [],
   "source": [
    "def graph():    \n",
    "    import graph\n",
    "    Graph = graph.H\n",
    "    return Graph\n",
    "G = graph()\n",
    "#G= nx.karate_club_graph()"
   ]
  },
  {
   "cell_type": "code",
   "execution_count": 3,
   "metadata": {
    "scrolled": true
   },
   "outputs": [],
   "source": [
    "#MatrixAdjacency_Net,MaxNodeNum = pre.Init(filepath)"
   ]
  },
  {
   "cell_type": "code",
   "execution_count": 4,
   "metadata": {},
   "outputs": [],
   "source": [
    "#A = nx.adjacency_matrix(G)"
   ]
  },
  {
   "cell_type": "code",
   "execution_count": null,
   "metadata": {},
   "outputs": [],
   "source": [
    "from itertools import combinations\n",
    "def nodes_in_triangle(G, n):\n",
    "    \"\"\"\n",
    "    Returns the nodes in a graph `G` that are involved in a triangle relationship with the node `n`.\n",
    "    \"\"\"\n",
    "    triangle_nodes = set([n])\n",
    "\n",
    "    # Iterate over all possible triangle relationship combinations\n",
    "    for n1, n2 in combinations(G.neighbors(n), 2):\n",
    "\n",
    "        # Check if n1 and n2 have an edge between them\n",
    "        if G.has_edge(n1, n2):\n",
    "\n",
    "            # Add n1 to triangle_nodes\n",
    "            triangle_nodes.add(n1)\n",
    "\n",
    "            # Add n2 to triangle_nodes\n",
    "            triangle_nodes.add(n2)\n",
    "\n",
    "    return triangle_nodes"
   ]
  },
  {
   "cell_type": "code",
   "execution_count": null,
   "metadata": {},
   "outputs": [],
   "source": [
    "#return subgraphs\n",
    "def subgraph_of(i):\n",
    "    subgraph = G.subgraph(nodes_in_triangle(G, i))\n",
    "    return  subgraph  \n",
    "#all_members"
   ]
  },
  {
   "cell_type": "code",
   "execution_count": null,
   "metadata": {},
   "outputs": [],
   "source": [
    "# number of triangles:"
   ]
  },
  {
   "cell_type": "markdown",
   "metadata": {},
   "source": [
    "# def nodes():\n",
    "    n_name =[]\n",
    "    i = 1\n",
    "    for j in H.nodes: \n",
    "        E = (j, i)\n",
    "        i+=1\n",
    "        n_name.append(E)            \n",
    "    return  n_name\n",
    "n_name = pd.DataFrame(nodes(),columns = ('nodes_name','new_name'))"
   ]
  },
  {
   "cell_type": "code",
   "execution_count": null,
   "metadata": {},
   "outputs": [],
   "source": [
    "#n_name.to_csv('result/rt-retweet_dict.csv')"
   ]
  },
  {
   "cell_type": "markdown",
   "metadata": {},
   "source": [
    "# 1-Degree Centrality\n",
    "#Ranking degree"
   ]
  },
  {
   "cell_type": "code",
   "execution_count": null,
   "metadata": {},
   "outputs": [
    {
     "name": "stdout",
     "output_type": "stream",
     "text": [
      "   nodes        DC\n",
      "1   2682  0.003846\n",
      "2   4447  0.003644\n",
      "3    818  0.002834\n",
      "4   3413  0.002834\n",
      "5   4327  0.002834\n"
     ]
    }
   ],
   "source": [
    "\n",
    "def Degree_Ranking( val ):\n",
    "      return val [1]\n",
    "degree = list(nx.degree_centrality(G).items())\n",
    "degree.sort(key=lambda elem: elem[1], reverse=True)\n",
    "\n",
    "#print('PI_Ranking', degree)\n",
    "#degree\n",
    "degree_table = pd.DataFrame(degree, columns = ('nodes','DC'))\n",
    "Top_Five = pd.DataFrame(degree_table.loc[0:4])\n",
    "Top_Five.index = Top_Five.index + 1\n",
    "Top_Five.nodes = Top_Five.nodes + 1\n",
    "print(Top_Five)\n",
    "Top_Five.to_csv('result/Top_FiveDC_Power_network.csv')\n",
    "degree_table.to_csv('result/DC_Power_network.csv')"
   ]
  },
  {
   "cell_type": "markdown",
   "metadata": {},
   "source": [
    "# 2-Betweeness Centrality\n",
    "#Ranking degree"
   ]
  },
  {
   "cell_type": "code",
   "execution_count": null,
   "metadata": {},
   "outputs": [],
   "source": [
    "def Betweeness_Ranking( val ):\n",
    "      return val [1]\n",
    "Betweeness = list(nx.betweenness_centrality(G).items())\n",
    "Betweeness.sort(key=lambda elem: elem[1], reverse=True)\n",
    "\n",
    "#print('PI_Ranking', Betweeness)\n",
    "#Betweeness\n",
    "Betweeness_table = pd.DataFrame(Betweeness, columns = ('nodes','BC'))\n",
    "Top_Five = pd.DataFrame(Betweeness_table.loc[0:4])\n",
    "Top_Five.index = Top_Five.index + 1\n",
    "Top_Five.nodes = Top_Five.nodes + 1\n",
    "print(Top_Five)\n",
    "Betweeness_table.to_csv('result/BC_Power_network.csv')\n",
    "Top_Five.to_csv('result/Top_FiveBC_Power_network.csv')"
   ]
  },
  {
   "cell_type": "markdown",
   "metadata": {},
   "source": [
    "# 3-closeness Centrality\n",
    "#Ranking closeness"
   ]
  },
  {
   "cell_type": "code",
   "execution_count": null,
   "metadata": {},
   "outputs": [],
   "source": [
    "def closeness_Ranking( val ):\n",
    "      return val [1]\n",
    "closeness = list(nx.closeness_centrality(G).items())\n",
    "closeness.sort(key=lambda elem: elem[1], reverse=True)\n",
    "\n",
    "#print('PI_Ranking', closeness)\n",
    "#closeness\n",
    "closeness_table = pd.DataFrame(closeness, columns = ('nodes','CnC'))\n",
    "Top_Five = pd.DataFrame(closeness_table.loc[0:4])\n",
    "Top_Five.index = Top_Five.index + 1\n",
    "Top_Five.nodes = Top_Five.nodes + 1\n",
    "print(Top_Five)\n",
    "Top_Five.to_csv('result/Top_FiveCnC_Power_network.csv')\n",
    "closeness_table.to_csv('result/CnC_Power_network.csv')"
   ]
  },
  {
   "cell_type": "markdown",
   "metadata": {},
   "source": [
    "# 4-eigenvector Centrality\n",
    "#Ranking eigenvector"
   ]
  },
  {
   "cell_type": "code",
   "execution_count": null,
   "metadata": {},
   "outputs": [],
   "source": [
    "def eigenvector_Ranking( val ):\n",
    "      return val [1]\n",
    "eigenvector = list(nx.eigenvector_centrality(G).items())\n",
    "eigenvector.sort(key=lambda elem: elem[1], reverse=True)\n",
    "\n",
    "#print('PI_Ranking', eigenvector)\n",
    "#eigenvector\n",
    "eigenvector_table = pd.DataFrame(eigenvector, columns = ('nodes','EC'))\n",
    "Top_Five = pd.DataFrame(eigenvector_table.loc[0:4])\n",
    "Top_Five.index = Top_Five.index + 1\n",
    "Top_Five.nodes = Top_Five.nodes + 1\n",
    "print(Top_Five)\n",
    "Top_Five.to_csv('result/Top_FiveEC_Power_network.csv')\n",
    "eigenvector_table.to_csv('result/EC_Power_network.csv')"
   ]
  },
  {
   "cell_type": "markdown",
   "metadata": {},
   "source": [
    "# 4-Triangles Centrality\n",
    "#Ranking triangles"
   ]
  },
  {
   "cell_type": "code",
   "execution_count": null,
   "metadata": {},
   "outputs": [],
   "source": [
    "def triangles_Ranking( val ):\n",
    "      return val [1]\n",
    "triangles = list(nx.triangles(G, nodes=None).items())\n",
    "triangles.sort(key=lambda elem: elem[1], reverse=True)\n",
    "\n",
    "#print('PI_Ranking', triangles)\n",
    "#triangles\n",
    "triangles_table = pd.DataFrame(triangles, columns = ('nodes','TR'))\n",
    "Top_Five = pd.DataFrame(triangles_table.loc[0:4])\n",
    "Top_Five.index = Top_Five.index + 1\n",
    "Top_Five.nodes = Top_Five.nodes + 1\n",
    "print(Top_Five)\n",
    "triangles_table.to_csv('result/TR_Power_network.csv')\n",
    "Top_Five.to_csv('result/Top_FiveTR_Power_network.csv')"
   ]
  },
  {
   "cell_type": "code",
   "execution_count": null,
   "metadata": {},
   "outputs": [],
   "source": []
  },
  {
   "cell_type": "markdown",
   "metadata": {},
   "source": [
    "# plot graph\n",
    "#H = subgraph_of(0)\n",
    "#nx.draw(H, with_labels = True, data=True)\n",
    "#fig = plt.figure()\n",
    "#draw = plt.show()\n",
    "pos = nx.spring_layout(H)\n",
    "betCent = nx.betweenness_centrality(H, normalized=True, endpoints=True)\n",
    "node_color = [20000.0 * H.degree(v) for v in H]\n",
    "node_size =  [v * 10000 for v in betCent.values()]\n",
    "plt.figure(figsize=(20,20))\n",
    "nx.draw_networkx(H, pos=pos, with_labels = True,\n",
    "                 node_color=node_color,\n",
    "                 node_size=node_size )\n",
    "plt.axis('off')"
   ]
  },
  {
   "cell_type": "markdown",
   "metadata": {},
   "source": [
    "# plot line graph and save as pdf,png. \n",
    "import numpy as np \n",
    "y = [2,4,6,8,10,12,14,16,18,20]\n",
    "x = np.arange(10)\n",
    "fig = plt.figure()\n",
    "ax = plt.subplot(111)\n",
    "ax.plot(x, y, label='$y = numbers')\n",
    "plt.title('E')\n",
    "ax.legend()\n",
    "plt.show()\n",
    "fig.savefig('plot.pdf') \n",
    "fig.savefig('plot.png')"
   ]
  },
  {
   "cell_type": "markdown",
   "metadata": {},
   "source": [
    "# Filename to write\n",
    "filename = \"newfile.txt\" \n",
    "#Open the file with writing permission\n",
    "Table = open(filename, 'w') \n",
    "#Write a line to the file\n",
    "Table.write('Written with Python\\n')\n",
    " \n",
    "#Close the file\n",
    "Table.close()"
   ]
  },
  {
   "cell_type": "markdown",
   "metadata": {},
   "source": [
    "# Basic Subplot - Data for plotting\n",
    "x1 = X2\n",
    "x2 = X1\n",
    "\n",
    "y1 = Y2\n",
    "y2 = Y1\n",
    "\n",
    "# Create two subplots sharing y axis\n",
    "fig, (ax1, ax2) = plt.subplots(2,1)\n",
    "\n",
    "ax1.plot(x1, y1, 'ko-')\n",
    "ax1.set(title='A tale of 2 subplots', ylabel='Damped oscillation')\n",
    "\n",
    "ax2.plot(x2, y2, 'r.-')\n",
    "ax2.set(title='A tale of 2 subplots',xlabel='time (s)', ylabel='Undamped')\n",
    "\n",
    "plt.show()\n",
    "\n",
    "#adding constrained_layout=True automatically adjusts.\n",
    "#https://matplotlib.org"
   ]
  },
  {
   "cell_type": "markdown",
   "metadata": {},
   "source": [
    "# Output a DataFrame to CSV\n",
    "df.to_csv('myDataFrame.csv')\n",
    "# To delimit by a tab, use the sep argument:\n",
    "df.to_csv('myDataFrame.csv', sep='\\t')\n",
    "# To use a specific character encoding, you can use the encoding argument:\n",
    "df.to_csv('myDataFrame.csv', sep='\\t', encoding='utf-8')"
   ]
  }
 ],
 "metadata": {
  "kernelspec": {
   "display_name": "Python 3",
   "language": "python",
   "name": "python3"
  },
  "language_info": {
   "codemirror_mode": {
    "name": "ipython",
    "version": 3
   },
   "file_extension": ".py",
   "mimetype": "text/x-python",
   "name": "python",
   "nbconvert_exporter": "python",
   "pygments_lexer": "ipython3",
   "version": "3.7.1"
  }
 },
 "nbformat": 4,
 "nbformat_minor": 2
}
