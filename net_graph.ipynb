{
 "cells": [
  {
   "cell_type": "code",
   "execution_count": 1,
   "metadata": {},
   "outputs": [],
   "source": [
    "import networkx as nx\n",
    "import numpy as np\n",
    "import matplotlib.pyplot as plt\n",
    "import pandas as pd"
   ]
  },
  {
   "cell_type": "code",
   "execution_count": 21,
   "metadata": {},
   "outputs": [],
   "source": [
    "def net_graph():\n",
    "\n",
    "    all_members = set(range(11))\n",
    "    G = nx.Graph()\n",
    "    G.add_nodes_from(all_members)\n",
    "    G.name = \"asking for an opinion\"\n",
    "\n",
    "    netdat = \"\"\"\\\n",
    " 0 1 1 0 0 1 0 0 0 0 0\n",
    " 0 0 0 0 0 0 0 1 0 0 0\n",
    " 1 1 0 1 0 1 1 1 0 0 0\n",
    " 0 0 0 0 0 0 1 1 0 0 0\n",
    " 0 1 0 1 0 1 1 1 0 0 0\n",
    " 0 1 0 1 1 0 1 1 0 0 0\n",
    " 0 0 0 1 0 0 0 1 1 0 1\n",
    " 0 1 0 1 0 0 1 0 0 0 1\n",
    " 0 0 0 1 0 0 1 1 0 0 1\n",
    " 1 0 1 1 1 0 0 0 0 0 0\n",
    " 0 0 0 0 0 1 0 1 1 0 0\"\"\"\n",
    "\n",
    "    for row, line in enumerate(netdat.split('\\n')):\n",
    "        thisrow = [int(b) for b in line.split()]\n",
    "        for col, entry in enumerate(thisrow):\n",
    "            if entry == 1:\n",
    "                G.add_edge(row, col)\n",
    "    return G\n",
    "G = net_graph()"
   ]
  },
  {
   "cell_type": "code",
   "execution_count": 29,
   "metadata": {},
   "outputs": [],
   "source": [
    "#net_graph().nodes"
   ]
  }
 ],
 "metadata": {
  "kernelspec": {
   "display_name": "Python 3",
   "language": "python",
   "name": "python3"
  },
  "language_info": {
   "codemirror_mode": {
    "name": "ipython",
    "version": 3
   },
   "file_extension": ".py",
   "mimetype": "text/x-python",
   "name": "python",
   "nbconvert_exporter": "python",
   "pygments_lexer": "ipython3",
   "version": "3.6.5"
  }
 },
 "nbformat": 4,
 "nbformat_minor": 2
}
