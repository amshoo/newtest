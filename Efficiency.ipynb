{
 "cells": [
  {
   "cell_type": "code",
   "execution_count": 1,
   "metadata": {},
   "outputs": [],
   "source": [
    "from __future__ import division\n",
    "\n",
    "from itertools import permutations\n",
    "\n",
    "import networkx as nx\n",
    "import numpy as np\n",
    "import matplotlib.pyplot as plt\n",
    "import pandas as pd\n",
    "import networkx as nx\n",
    "from networkx.exception import NetworkXNoPath\n",
    "import Selection_Algorithm"
   ]
  },
  {
   "cell_type": "code",
   "execution_count": 2,
   "metadata": {},
   "outputs": [],
   "source": [
    "#G = nx.karate_club_graph()\n",
    "fh=open(\"DataSet/power.txt\", 'rb')\n",
    "G = nx.read_weighted_edgelist(fh,nodetype=None, encoding='utf-8')\n",
    "fh.close()\n",
    "\n",
    "G = nx.convert_node_labels_to_integers(G, first_label=0, ordering=\"default\", label_attribute = None)"
   ]
  },
  {
   "cell_type": "code",
   "execution_count": 3,
   "metadata": {},
   "outputs": [],
   "source": [
    "__all__ = ['efficiency', 'local_efficiency', 'global_efficiency']\n",
    "\n",
    "def efficiency(G, u, v):\n",
    "    try:\n",
    "        eff = 1 / nx.shortest_path_length(G, u, v)\n",
    "    except NetworkXNoPath:\n",
    "        eff = 0\n",
    "    return eff\n",
    "\n",
    "def global_efficiency(G):\n",
    "    n = len(G)\n",
    "    denom = n * (n - 1)\n",
    "    if denom != 0:\n",
    "        g_eff = sum(efficiency(G, u, v) for u, v in permutations(G, 2)) / denom\n",
    "    else:\n",
    "        g_eff = 0\n",
    "    # TODO This can be made more efficient by computing all pairs shortest\n",
    "    # path lengths in parallel.\n",
    "    #\n",
    "    # TODO This summation can be trivially parallelized.\n",
    "    return g_eff\n",
    "def local_efficiency(G):\n",
    "    # TODO This summation can be trivially parallelized.\n",
    "    efficiency_list = (global_efficiency(G.subgraph(G[v])) for v in G)\n",
    "    return sum(efficiency_list) / len(G)"
   ]
  },
  {
   "cell_type": "code",
   "execution_count": 4,
   "metadata": {},
   "outputs": [],
   "source": [
    "def number_of_nodes(G):\n",
    "    \"\"\"Return the number of nodes in the graph.\"\"\"\n",
    "    return G.number_of_nodes()\n",
    "\n",
    "\n",
    "def number_of_edges(G):\n",
    "    \"\"\"Return the number of edges in the graph. \"\"\"\n",
    "    return G.number_of_edges()\n",
    "def density1(G):\n",
    "    n=number_of_nodes(G)\n",
    "    m=number_of_edges(G)\n",
    "    if m==0 or n <= 1:\n",
    "        d=0.0\n",
    "    else:\n",
    "        if G.is_directed():\n",
    "            d=m/float(n*(n-1))\n",
    "        else:\n",
    "            d= m*2.0/float(n*(n-1))\n",
    "    return d\n"
   ]
  },
  {
   "cell_type": "code",
   "execution_count": 5,
   "metadata": {},
   "outputs": [],
   "source": [
    "def eff():\n",
    "    i=0\n",
    "    eff_list=[]\n",
    "    nodes =  G.nodes\n",
    "    if nodes!= 0:\n",
    "        \n",
    "        #H = nx.karate_club_graph()\n",
    "        for i in G:  \n",
    "            H = G.copy()\n",
    "            ebunch =list(Selection_Algorithm.subgraph_of(i).edges)\n",
    "            #H.remove_edges_from(ebunch)\n",
    "            H.remove_node(i)\n",
    "            efficiency = global_efficiency(H)\n",
    "            density = density1(H)\n",
    "            EF = (i, efficiency, density)       \n",
    "            eff_list.append(EF)\n",
    "            \n",
    "    return  eff_list"
   ]
  },
  {
   "cell_type": "code",
   "execution_count": null,
   "metadata": {},
   "outputs": [],
   "source": [
    "eff_table = pd.DataFrame(eff(), columns = ('nodes','Efficiency','Density'))\n",
    "eff_table.index = eff_table.index + 1\n",
    "eff_table.nodes = eff_table.nodes + 1\n",
    "print(eff_table)"
   ]
  },
  {
   "cell_type": "code",
   "execution_count": null,
   "metadata": {},
   "outputs": [],
   "source": [
    "#eff_table.to_csv('result/EFF1_email.csv')"
   ]
  },
  {
   "cell_type": "code",
   "execution_count": null,
   "metadata": {},
   "outputs": [],
   "source": [
    "#plt.plot(eff_table.Efficiency, 'r-o')\n",
    "plt.plot(eff_table.Density, 'r--')\n",
    "#plt.legend([\"Efficiency\"])\n",
    "plt.xlabel(\"Nodes\")\n",
    "plt.ylabel(\"Density\")\n",
    "#plt.savefig(\"result/email_eff1.png\")\n",
    "plt.show()"
   ]
  },
  {
   "cell_type": "code",
   "execution_count": null,
   "metadata": {},
   "outputs": [],
   "source": [
    "# Create two subplots sharing y axis\n",
    "fig, (ax1) = plt.subplots(1, sharex=True)\n",
    "\n",
    "ax1.set(title='Network Density', ylabel='Efficiency')\n",
    "ax1.grid()\n",
    "\n",
    "ax1.plot(eff_table.nodes, eff_table.Density, 'g')\n",
    "ax1.set(xlabel='Nodes', ylabel='Density')\n",
    "#plt.savefig(\"result/email_eff2.png\")\n",
    "plt.show()"
   ]
  },
  {
   "cell_type": "code",
   "execution_count": null,
   "metadata": {},
   "outputs": [],
   "source": []
  }
 ],
 "metadata": {
  "kernelspec": {
   "display_name": "Python 3",
   "language": "python",
   "name": "python3"
  },
  "language_info": {
   "codemirror_mode": {
    "name": "ipython",
    "version": 3
   },
   "file_extension": ".py",
   "mimetype": "text/x-python",
   "name": "python",
   "nbconvert_exporter": "python",
   "pygments_lexer": "ipython3",
   "version": "3.6.5"
  }
 },
 "nbformat": 4,
 "nbformat_minor": 2
}
